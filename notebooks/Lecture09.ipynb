{
 "metadata": {
  "name": "Lecture09"
 },
 "nbformat": 3,
 "nbformat_minor": 0,
 "worksheets": [
  {
   "cells": [
    {
     "cell_type": "code",
     "collapsed": false,
     "input": [
      "import glob\n",
      "from sklearn.tree import DecisionTreeClassifier\n",
      "import numpy as np\n",
      "from collections import Counter\n",
      "\n",
      "\n",
      "def load_data(symbol):\n",
      "    filepath = 'yahoo_data/{}_data.csv'.format(symbol)\n",
      "    data = open(filepath).read()\n",
      "    return data\n",
      "\n",
      "def organize_data(data, threshold):\n",
      "    data = data.split('\\n')\n",
      "    X = []\n",
      "    y = []\n",
      "    for d in data[1:]:\n",
      "        if d:\n",
      "            tmp = []\n",
      "            d = d.split(',')\n",
      "            #print('d: ', d)\n",
      "            tmp = [float(x) for x in [d[1], d[2], d[3], d[5]]]\n",
      "            X.append(tmp)\n",
      "            y.append(float(d[6]) >= threshold)\n",
      "    return np.array(X), np.array(y)\n",
      "\n",
      "def classify(X, y):\n",
      "    clf = DecisionTreeClassifier()\n",
      "    clf.fit(X, y)\n",
      "    preds = clf.predict(X)\n",
      "    return clf\n",
      "\n",
      "    fp = 0\n",
      "    tp = 0\n",
      "    fn = 0\n",
      "    tn = 0\n",
      "    for a in range(len(y)):\n",
      "        if y[a] == preds[a]:\n",
      "            if preds[a]==0:\n",
      "                tn += 1\n",
      "            elif preds[a]==1:\n",
      "                tp+= 1\n",
      "            elif preds[a]==1:\n",
      "                fp += 1\n",
      "            elif preds[a]==0:\n",
      "                fn += 1\n",
      "    print 'correct positives: {}'.format(tp)\n",
      "    print 'false positives:   {}'.format(fp)\n",
      "    print 'correct negatives: {}'.format(tn)\n",
      "    print 'false negatives:   {}'.format(fn)\n",
      "    print 'precision: {}'.format(float(tp)/(tp+fp))\n",
      "    print 'recal (tp)/(tp+fn): {}'.format(float(tp)/(tp+fn))\n",
      "    print 'false positive rate (fp)/(pf+tn):'\n",
      "    print 'false positive rate2 ('\n",
      "    \n",
      "def test_oos():\n",
      "    print('now test the inputs')\n",
      "\n",
      "\n",
      "\n",
      "symbol = 'BBSI'\n",
      "threshold = 28.0\n",
      "test_data = ['62.72', '69.4', '62.56', '105926']\n",
      "\n",
      "print 'loading data'\n",
      "data = load_data(symbol)\n",
      "print 'organizing'\n",
      "X, y = organize_data(data, threshold)\n",
      "print 'training'\n",
      "clf = classify(X, y)\n",
      "print 'testing oos data (open, high, low, volume): '\n",
      "test_oos()"
     ],
     "language": "python",
     "metadata": {},
     "outputs": [
      {
       "output_type": "stream",
       "stream": "stdout",
       "text": [
        "loading data\n",
        "organizing\n",
        "training\n",
        "testing oos data (open, high, low, volume): \n",
        "now test the inputs\n"
       ]
      }
     ],
     "prompt_number": 19
    },
    {
     "cell_type": "code",
     "collapsed": false,
     "input": [],
     "language": "python",
     "metadata": {},
     "outputs": []
    }
   ],
   "metadata": {}
  }
 ]
}