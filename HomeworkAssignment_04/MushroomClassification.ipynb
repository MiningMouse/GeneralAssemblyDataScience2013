{
 "metadata": {
  "name": "MushroomClassification"
 },
 "nbformat": 3,
 "nbformat_minor": 0,
 "worksheets": [
  {
   "cells": [
    {
     "cell_type": "heading",
     "level": 1,
     "metadata": {},
     "source": [
      "Mushroom Classification with Logistic Regression"
     ]
    },
    {
     "cell_type": "markdown",
     "metadata": {},
     "source": [
      "This iPython notebook is meant to help in exploratory programming and in demonstrating the key concepts with using logistic regression with Scikit-learn.  The majority of the functionality is in the python script mushroom_classification.py, but this notebook will serve as a guide through the script.\n",
      "\n",
      "The first step is to load our script as a module.  Here we use the iPython magic function autoreload to reload our script when any changes are detected."
     ]
    },
    {
     "cell_type": "code",
     "collapsed": false,
     "input": [
      "# reload imported modules when they change\n",
      "%load_ext autoreload\n",
      "%autoreload 2\n",
      "\n",
      "import mushroom_classification as mc\n",
      "import pandas as pd"
     ],
     "language": "python",
     "metadata": {},
     "outputs": [],
     "prompt_number": 2
    },
    {
     "cell_type": "markdown",
     "metadata": {},
     "source": [
      "Now let's get the data.  These are in the form of Pandas dataframes."
     ]
    },
    {
     "cell_type": "code",
     "collapsed": false,
     "input": [
      "column_names = mc.column_names\n",
      "data_filepath = mc.data_filepath\n",
      "X, y = mc.get_data(data_filepath, column_names)"
     ],
     "language": "python",
     "metadata": {},
     "outputs": [],
     "prompt_number": 3
    },
    {
     "cell_type": "markdown",
     "metadata": {},
     "source": [
      "Now that we have the dataframes, we can do some inspection.  For example, what is the break down of poisonous to edible mushrooms in our dataset?"
     ]
    },
    {
     "cell_type": "code",
     "collapsed": false,
     "input": [
      "y.value_counts()"
     ],
     "language": "python",
     "metadata": {},
     "outputs": [
      {
       "output_type": "pyout",
       "prompt_number": 4,
       "text": [
        "EDIBLE       4488\n",
        "POISONOUS    3928"
       ]
      }
     ],
     "prompt_number": 4
    },
    {
     "cell_type": "code",
     "collapsed": false,
     "input": [
      "X.to_records()"
     ],
     "language": "python",
     "metadata": {},
     "outputs": [
      {
       "output_type": "pyout",
       "prompt_number": 5,
       "text": [
        "rec.array([ (0, 'CONVEX', 'SMOOTH', 'WHITE', 'BRUISES', 'ALMOND', 'FREE', 'CROWDED', 'NARROW', 'WHITE', 'TAPERING', 'BULBOUS', 'SMOOTH', 'SMOOTH', 'WHITE', 'WHITE', 'PARTIAL', 'WHITE', 'ONE', 'PENDANT', 'PURPLE', 'SEVERAL', 'WOODS'),\n",
        "       (1, 'CONVEX', 'SMOOTH', 'WHITE', 'BRUISES', 'ALMOND', 'FREE', 'CROWDED', 'NARROW', 'WHITE', 'TAPERING', 'BULBOUS', 'SMOOTH', 'SMOOTH', 'WHITE', 'WHITE', 'PARTIAL', 'WHITE', 'ONE', 'PENDANT', 'BROWN', 'SEVERAL', 'WOODS'),\n",
        "       (2, 'CONVEX', 'SMOOTH', 'WHITE', 'BRUISES', 'ALMOND', 'FREE', 'CROWDED', 'NARROW', 'PINK', 'TAPERING', 'BULBOUS', 'SMOOTH', 'SMOOTH', 'WHITE', 'WHITE', 'PARTIAL', 'WHITE', 'ONE', 'PENDANT', 'PURPLE', 'SEVERAL', 'WOODS'),\n",
        "       ...,\n",
        "       (8413, 'KNOBBED', 'SMOOTH', 'BROWN', 'NO', 'NONE', 'ATTACHED', 'CLOSE', 'BROAD', 'BROWN', 'ENLARGING', '?', 'SMOOTH', 'SMOOTH', 'ORANGE', 'ORANGE', 'PARTIAL', 'BROWN', 'ONE', 'PENDANT', 'ORANGE', 'CLUSTERED', 'LEAVES'),\n",
        "       (8414, 'KNOBBED', 'SMOOTH', 'BROWN', 'NO', 'NONE', 'ATTACHED', 'CLOSE', 'BROAD', 'BROWN', 'ENLARGING', '?', 'SMOOTH', 'SMOOTH', 'ORANGE', 'ORANGE', 'PARTIAL', 'BROWN', 'ONE', 'PENDANT', 'BUFF', 'SEVERAL', 'LEAVES'),\n",
        "       (8415, 'KNOBBED', 'SMOOTH', 'BROWN', 'NO', 'NONE', 'ATTACHED', 'CLOSE', 'BROAD', 'BROWN', 'ENLARGING', '?', 'SMOOTH', 'SMOOTH', 'ORANGE', 'ORANGE', 'PARTIAL', 'BROWN', 'ONE', 'PENDANT', 'BUFF', 'CLUSTERED', 'LEAVES')], \n",
        "      dtype=[('index', '<i8'), ('cap_shape', 'O'), ('cap_surface', 'O'), ('cap_color', 'O'), ('bruises', 'O'), ('odor', 'O'), ('gill_attachment', 'O'), ('gill_spacing', 'O'), ('gill_size', 'O'), ('gill_color', 'O'), ('stalk_shape', 'O'), ('stalk_root', 'O'), ('stalk_surface_above_ring', 'O'), ('stalk_surface_below_ring', 'O'), ('stalk_color_above_ring', 'O'), ('stalk_color_below_ring', 'O'), ('veil_type', 'O'), ('veil_color', 'O'), ('ring_number', 'O'), ('ring_type', 'O'), ('spore_print_color', 'O'), ('population', 'O'), ('habitat', 'O')])"
       ]
      }
     ],
     "prompt_number": 5
    },
    {
     "cell_type": "heading",
     "level": 2,
     "metadata": {},
     "source": [
      "One-hot Encoding"
     ]
    },
    {
     "cell_type": "markdown",
     "metadata": {},
     "source": [
      "The dataset we are using has categorical variables for all features.  To use this with scikit-learn logistic regression, these need to be converted to numeric values, in particular, binary encoded by each feature-value.  Take for example the feature cap-surface which can take one of four values: fibrous, grooves, scaly, or smooth.  Converting these to 1, 2, 3, and 4 would imply some numeric relation between the values.  Instead, we use a one-hot encoding which expands the column to four columns with a 0 or 1 depending on the feature value."
     ]
    },
    {
     "cell_type": "code",
     "collapsed": false,
     "input": [
      "X, X_encoded, vectorizer = mc.one_hot_dataframe(X, column_names[1:])"
     ],
     "language": "python",
     "metadata": {},
     "outputs": [],
     "prompt_number": 6
    },
    {
     "cell_type": "code",
     "collapsed": false,
     "input": [
      "X_encoded.ix[0]"
     ],
     "language": "python",
     "metadata": {},
     "outputs": [
      {
       "output_type": "pyout",
       "prompt_number": 7,
       "text": [
        "bruises=BRUISES       1\n",
        "bruises=NO            0\n",
        "cap_color=BROWN       0\n",
        "cap_color=BUFF        0\n",
        "cap_color=CINNAMON    0\n",
        "cap_color=GRAY        0\n",
        "cap_color=GREEN       0\n",
        "cap_color=PINK        0\n",
        "cap_color=PURPLE      0\n",
        "cap_color=RED         0\n",
        "cap_color=WHITE       1\n",
        "cap_color=YELLOW      0\n",
        "cap_shape=BELL        0\n",
        "cap_shape=CONICAL     0\n",
        "cap_shape=CONVEX      1\n",
        "...\n",
        "stalk_shape=ENLARGING               0\n",
        "stalk_shape=TAPERING                1\n",
        "stalk_surface_above_ring=FIBROUS    0\n",
        "stalk_surface_above_ring=SCALY      0\n",
        "stalk_surface_above_ring=SILKY      0\n",
        "stalk_surface_above_ring=SMOOTH     1\n",
        "stalk_surface_below_ring=FIBROUS    0\n",
        "stalk_surface_below_ring=SCALY      0\n",
        "stalk_surface_below_ring=SILKY      0\n",
        "stalk_surface_below_ring=SMOOTH     1\n",
        "veil_color=BROWN                    0\n",
        "veil_color=ORANGE                   0\n",
        "veil_color=WHITE                    1\n",
        "veil_color=YELLOW                   0\n",
        "veil_type=PARTIAL                   1\n",
        "Name: 0, Length: 117"
       ]
      }
     ],
     "prompt_number": 7
    },
    {
     "cell_type": "heading",
     "level": 2,
     "metadata": {},
     "source": [
      "Creating and Evaluating a Model"
     ]
    },
    {
     "cell_type": "markdown",
     "metadata": {},
     "source": [
      "We use n-fold cross-validation to evaluation the LogisticRegression model.  In this example, we override the random_state so that there will be some random variability between runs.\n",
      "\n",
      "The confusion matrix is used here as the primary measure of accuracy, even though it is not a single scalar metric."
     ]
    },
    {
     "cell_type": "code",
     "collapsed": false,
     "input": [
      "confusion_matrix_df = mc.create_and_test_model(X_encoded, y, random_state=None)\n",
      "confusion_matrix_df"
     ],
     "language": "python",
     "metadata": {},
     "outputs": [
      {
       "output_type": "stream",
       "stream": "stdout",
       "text": [
        "run 1 of 10\n",
        "\tscore: 1.0"
       ]
      },
      {
       "output_type": "stream",
       "stream": "stdout",
       "text": [
        "\n",
        "\tPOISONOUS: 411\n",
        "\tEDIBLE:    431\n",
        "\tconfusion matrix:\n",
        "           predicted edible  predicted poisonous\n",
        "edible                  431                    0\n",
        "poisonous                 0                  411\n"
       ]
      },
      {
       "output_type": "stream",
       "stream": "stdout",
       "text": [
        "\n",
        "run 2 of 10\n",
        "\tscore: 1.0"
       ]
      },
      {
       "output_type": "stream",
       "stream": "stdout",
       "text": [
        "\n",
        "\tPOISONOUS: 380\n",
        "\tEDIBLE:    462\n",
        "\tconfusion matrix:\n",
        "           predicted edible  predicted poisonous\n",
        "edible                  462                    0\n",
        "poisonous                 0                  380\n"
       ]
      },
      {
       "output_type": "stream",
       "stream": "stdout",
       "text": [
        "\n",
        "run 3 of 10\n",
        "\tscore: 1.0"
       ]
      },
      {
       "output_type": "stream",
       "stream": "stdout",
       "text": [
        "\n",
        "\tPOISONOUS: 397\n",
        "\tEDIBLE:    445\n",
        "\tconfusion matrix:\n",
        "           predicted edible  predicted poisonous\n",
        "edible                  445                    0\n",
        "poisonous                 0                  397\n"
       ]
      },
      {
       "output_type": "stream",
       "stream": "stdout",
       "text": [
        "\n",
        "run 4 of 10\n",
        "\tscore: 1.0"
       ]
      },
      {
       "output_type": "stream",
       "stream": "stdout",
       "text": [
        "\n",
        "\tPOISONOUS: 370\n",
        "\tEDIBLE:    472\n",
        "\tconfusion matrix:\n",
        "           predicted edible  predicted poisonous\n",
        "edible                  472                    0\n",
        "poisonous                 0                  370\n",
        "\n",
        "run 5 of 10"
       ]
      },
      {
       "output_type": "stream",
       "stream": "stdout",
       "text": [
        "\n",
        "\tscore: 1.0"
       ]
      },
      {
       "output_type": "stream",
       "stream": "stdout",
       "text": [
        "\n",
        "\tPOISONOUS: 388\n",
        "\tEDIBLE:    454\n",
        "\tconfusion matrix:\n",
        "           predicted edible  predicted poisonous\n",
        "edible                  454                    0\n",
        "poisonous                 0                  388\n",
        "\n",
        "run 6 of 10\n",
        "\tscore: 1.0"
       ]
      },
      {
       "output_type": "stream",
       "stream": "stdout",
       "text": [
        "\n",
        "\tPOISONOUS: 412\n",
        "\tEDIBLE:    430\n",
        "\tconfusion matrix:\n",
        "           predicted edible  predicted poisonous\n",
        "edible                  430                    0\n",
        "poisonous                 0                  412\n",
        "\n",
        "run 7 of 10\n",
        "\tscore: 1.0"
       ]
      },
      {
       "output_type": "stream",
       "stream": "stdout",
       "text": [
        "\n",
        "\tPOISONOUS: 396\n",
        "\tEDIBLE:    446\n",
        "\tconfusion matrix:\n",
        "           predicted edible  predicted poisonous\n",
        "edible                  446                    0\n",
        "poisonous                 0                  396\n",
        "\n",
        "run 8 of 10\n",
        "\tscore: 1.0"
       ]
      },
      {
       "output_type": "stream",
       "stream": "stdout",
       "text": [
        "\n",
        "\tPOISONOUS: 409\n",
        "\tEDIBLE:    433\n",
        "\tconfusion matrix:\n",
        "           predicted edible  predicted poisonous\n",
        "edible                  433                    0\n",
        "poisonous                 0                  409\n",
        "\n",
        "run 9 of 10"
       ]
      },
      {
       "output_type": "stream",
       "stream": "stdout",
       "text": [
        "\n",
        "\tscore: 1.0"
       ]
      },
      {
       "output_type": "stream",
       "stream": "stdout",
       "text": [
        "\n",
        "\tPOISONOUS: 361\n",
        "\tEDIBLE:    481\n",
        "\tconfusion matrix:\n",
        "           predicted edible  predicted poisonous\n",
        "edible                  481                    0\n",
        "poisonous                 0                  361\n",
        "\n",
        "run 10 of 10\n",
        "\tscore: 1.0"
       ]
      },
      {
       "output_type": "stream",
       "stream": "stdout",
       "text": [
        "\n",
        "\tPOISONOUS: 399\n",
        "\tEDIBLE:    443\n",
        "\tconfusion matrix:\n",
        "           predicted edible  predicted poisonous\n",
        "edible                  443                    0\n",
        "poisonous                 0                  399\n",
        "\n",
        "combined confusion matrix:\n",
        "           predicted edible  predicted poisonous\n",
        "edible                 4497                    0\n",
        "poisonous                 0                 3923\n"
       ]
      },
      {
       "html": [
        "<div style=\"max-height:1000px;max-width:1500px;overflow:auto;\">\n",
        "<table border=\"1\" class=\"dataframe\">\n",
        "  <thead>\n",
        "    <tr style=\"text-align: right;\">\n",
        "      <th></th>\n",
        "      <th>predicted edible</th>\n",
        "      <th>predicted poisonous</th>\n",
        "    </tr>\n",
        "  </thead>\n",
        "  <tbody>\n",
        "    <tr>\n",
        "      <th>edible</th>\n",
        "      <td> 4497</td>\n",
        "      <td>    0</td>\n",
        "    </tr>\n",
        "    <tr>\n",
        "      <th>poisonous</th>\n",
        "      <td>    0</td>\n",
        "      <td> 3923</td>\n",
        "    </tr>\n",
        "  </tbody>\n",
        "</table>\n",
        "</div>"
       ],
       "output_type": "pyout",
       "prompt_number": 21,
       "text": [
        "           predicted edible  predicted poisonous\n",
        "edible                 4497                    0\n",
        "poisonous                 0                 3923"
       ]
      }
     ],
     "prompt_number": 21
    },
    {
     "cell_type": "code",
     "collapsed": false,
     "input": [],
     "language": "python",
     "metadata": {},
     "outputs": []
    }
   ],
   "metadata": {}
  }
 ]
}