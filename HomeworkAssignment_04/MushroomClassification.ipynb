{
 "metadata": {
  "name": "MushroomClassification"
 },
 "nbformat": 3,
 "nbformat_minor": 0,
 "worksheets": [
  {
   "cells": [
    {
     "cell_type": "heading",
     "level": 1,
     "metadata": {},
     "source": [
      "Mushroom Classification with Logistic Regression"
     ]
    },
    {
     "cell_type": "markdown",
     "metadata": {},
     "source": [
      "This iPython notebook is meant to help in exploratory programming and in demonstrating the key concepts with using logistic regression with Scikit-learn.  The majority of the functionality is in the python script mushroom_classification.py, but this notebook will serve as a guide through the script.\n",
      "\n",
      "The goal of this assignment is to use logistic regression with a data source of my choice.  We will be using a dataset on poisonous mushrooms from the UCI Machine Learning repository.\n",
      "http://archive.ics.uci.edu/ml/datasets/Mushroom\n",
      "\n",
      "The majority of the code is in the script mushroom_classification.py while this notebook will act as a driver to that code.\n",
      "\n",
      "The first step is to load our script as a module.  Here we use the iPython magic function autoreload to reload our script when any changes are detected."
     ]
    },
    {
     "cell_type": "code",
     "collapsed": false,
     "input": [
      "# reload imported modules when they change\n",
      "%load_ext autoreload\n",
      "%autoreload 2\n",
      "\n",
      "import mushroom_classification as mc\n",
      "import pandas as pd"
     ],
     "language": "python",
     "metadata": {},
     "outputs": [],
     "prompt_number": 26
    },
    {
     "cell_type": "markdown",
     "metadata": {},
     "source": [
      "Now let's get the data.  These are in the form of Pandas dataframes."
     ]
    },
    {
     "cell_type": "code",
     "collapsed": false,
     "input": [
      "data_filepath = mc.data_filepath\n",
      "X, y = mc.get_data(data_filepath, mc.csv_column_names)"
     ],
     "language": "python",
     "metadata": {},
     "outputs": [],
     "prompt_number": 27
    },
    {
     "cell_type": "markdown",
     "metadata": {},
     "source": [
      "Now that we have the dataframes, we can do some inspection.  For example, what is the break down of poisonous to edible mushrooms in our dataset?"
     ]
    },
    {
     "cell_type": "code",
     "collapsed": false,
     "input": [
      "y.value_counts()"
     ],
     "language": "python",
     "metadata": {},
     "outputs": [
      {
       "output_type": "pyout",
       "prompt_number": 28,
       "text": [
        "EDIBLE       4488\n",
        "POISONOUS    3928\n",
        "dtype: int64"
       ]
      }
     ],
     "prompt_number": 28
    },
    {
     "cell_type": "heading",
     "level": 2,
     "metadata": {},
     "source": [
      "One-hot Encoding"
     ]
    },
    {
     "cell_type": "markdown",
     "metadata": {},
     "source": [
      "The dataset we are using has categorical variables for all features.  To use this with scikit-learn logistic regression, these need to be converted to numeric values, in particular, binary encoded by each feature-value.  Take for example the feature cap-surface which can take one of four values: fibrous, grooves, scaly, or smooth.  Converting these to 1, 2, 3, and 4 would imply some numeric relation between the values.  Instead, we use a one-hot encoding which expands the column to four columns with a 0 or 1 depending on the feature value.\n",
      "\n",
      "Rather than coverting the feature values to integers with LabelEncoder, then using OneHotEncoder, we use DictVectorizer to convert categorical feature values to binary features."
     ]
    },
    {
     "cell_type": "code",
     "collapsed": false,
     "input": [
      "X, X_encoded, vectorizer = mc.one_hot_dataframe(X, mc.csv_column_names[1:])"
     ],
     "language": "python",
     "metadata": {},
     "outputs": [],
     "prompt_number": 29
    },
    {
     "cell_type": "code",
     "collapsed": false,
     "input": [
      "X_encoded.ix[0]"
     ],
     "language": "python",
     "metadata": {},
     "outputs": [
      {
       "output_type": "pyout",
       "prompt_number": 30,
       "text": [
        "bruises=BRUISES       1\n",
        "bruises=NO            0\n",
        "cap_color=BROWN       0\n",
        "cap_color=BUFF        0\n",
        "cap_color=CINNAMON    0\n",
        "cap_color=GRAY        0\n",
        "cap_color=GREEN       0\n",
        "cap_color=PINK        0\n",
        "cap_color=PURPLE      0\n",
        "cap_color=RED         0\n",
        "cap_color=WHITE       1\n",
        "cap_color=YELLOW      0\n",
        "cap_shape=BELL        0\n",
        "cap_shape=CONICAL     0\n",
        "cap_shape=CONVEX      1\n",
        "...\n",
        "stalk_shape=ENLARGING               0\n",
        "stalk_shape=TAPERING                1\n",
        "stalk_surface_above_ring=FIBROUS    0\n",
        "stalk_surface_above_ring=SCALY      0\n",
        "stalk_surface_above_ring=SILKY      0\n",
        "stalk_surface_above_ring=SMOOTH     1\n",
        "stalk_surface_below_ring=FIBROUS    0\n",
        "stalk_surface_below_ring=SCALY      0\n",
        "stalk_surface_below_ring=SILKY      0\n",
        "stalk_surface_below_ring=SMOOTH     1\n",
        "veil_color=BROWN                    0\n",
        "veil_color=ORANGE                   0\n",
        "veil_color=WHITE                    1\n",
        "veil_color=YELLOW                   0\n",
        "veil_type=PARTIAL                   1\n",
        "Name: 0, Length: 117, dtype: float64"
       ]
      }
     ],
     "prompt_number": 30
    },
    {
     "cell_type": "heading",
     "level": 2,
     "metadata": {},
     "source": [
      "Creating and Evaluating a Model"
     ]
    },
    {
     "cell_type": "markdown",
     "metadata": {},
     "source": [
      "We use n-fold cross-validation to evaluation the LogisticRegression model.  In this example, we override the random_state so that there will be some random variability between runs.\n",
      "\n",
      "The confusion matrix is used here as the primary measure of accuracy, even though it is not a single scalar metric."
     ]
    },
    {
     "cell_type": "code",
     "collapsed": false,
     "input": [
      "confusion_matrix_df = mc.create_and_test_model(X_encoded, y, random_state=None)\n",
      "confusion_matrix_df"
     ],
     "language": "python",
     "metadata": {},
     "outputs": [
      {
       "html": [
        "<div style=\"max-height:1000px;max-width:1500px;overflow:auto;\">\n",
        "<table border=\"1\" class=\"dataframe\">\n",
        "  <thead>\n",
        "    <tr style=\"text-align: right;\">\n",
        "      <th></th>\n",
        "      <th>predicted edible</th>\n",
        "      <th>predicted poisonous</th>\n",
        "    </tr>\n",
        "  </thead>\n",
        "  <tbody>\n",
        "    <tr>\n",
        "      <th>edible</th>\n",
        "      <td> 4597</td>\n",
        "      <td>    0</td>\n",
        "    </tr>\n",
        "    <tr>\n",
        "      <th>poisonous</th>\n",
        "      <td>    0</td>\n",
        "      <td> 3823</td>\n",
        "    </tr>\n",
        "  </tbody>\n",
        "</table>\n",
        "</div>"
       ],
       "output_type": "pyout",
       "prompt_number": 31,
       "text": [
        "           predicted edible  predicted poisonous\n",
        "edible                 4597                    0\n",
        "poisonous                 0                 3823"
       ]
      }
     ],
     "prompt_number": 31
    },
    {
     "cell_type": "heading",
     "level": 2,
     "metadata": {},
     "source": [
      "Feature Selection"
     ]
    },
    {
     "cell_type": "markdown",
     "metadata": {},
     "source": [
      "The complete model above has 22 features each with anywhere from 2 to 12 values, which expands to a total of 117 binary features.  We saw that using all of them does make a very good classifier for this train and test data.  But is there a smaller set of features that might give us some a good estimate to classifying mushrooms?  While scikit-learn provides some methods for feature selection, let's try to get an idea of the predictive value of each feature.\n",
      "\n",
      "First we will create the model considering one of the 22 feature variables separately."
     ]
    },
    {
     "cell_type": "code",
     "collapsed": false,
     "input": [
      "f1_confusion_matrix_dict = mc.test_n_features(X, y, mc.csv_column_names[1:], n_features=1)"
     ],
     "language": "python",
     "metadata": {},
     "outputs": [
      {
       "output_type": "stream",
       "stream": "stdout",
       "text": [
        "features: ['cap_shape']\n",
        "confusion matrix:\n",
        "           predicted edible  predicted poisonous\n",
        "edible                 4291                  220\n",
        "poisonous              3291                  618\n",
        "\n",
        "\n",
        "features: ['cap_surface']"
       ]
      },
      {
       "output_type": "stream",
       "stream": "stdout",
       "text": [
        "\n",
        "confusion matrix:\n",
        "           predicted edible  predicted poisonous\n",
        "edible                 1710                 2801\n",
        "poisonous               739                 3170\n",
        "\n",
        "\n",
        "features: ['cap_color']"
       ]
      },
      {
       "output_type": "stream",
       "stream": "stdout",
       "text": [
        "\n",
        "confusion matrix:\n",
        "           predicted edible  predicted poisonous\n",
        "edible                 3371                 1140\n",
        "poisonous              2164                 1745\n",
        "\n",
        "\n",
        "features: ['bruises']"
       ]
      },
      {
       "output_type": "stream",
       "stream": "stdout",
       "text": [
        "\n",
        "confusion matrix:\n",
        "           predicted edible  predicted poisonous\n",
        "edible                 2810                 1701\n",
        "poisonous               621                 3288\n",
        "\n",
        "\n",
        "features: ['odor']"
       ]
      },
      {
       "output_type": "stream",
       "stream": "stdout",
       "text": [
        "\n",
        "confusion matrix:\n",
        "           predicted edible  predicted poisonous\n",
        "edible                 4511                    0\n",
        "poisonous               135                 3774\n",
        "\n",
        "\n",
        "features: ['gill_attachment']"
       ]
      },
      {
       "output_type": "stream",
       "stream": "stdout",
       "text": [
        "\n",
        "confusion matrix:\n",
        "           predicted edible  predicted poisonous\n",
        "edible                 4511                    0\n",
        "poisonous              3909                    0\n",
        "\n",
        "\n",
        "features: ['gill_spacing']"
       ]
      },
      {
       "output_type": "stream",
       "stream": "stdout",
       "text": [
        "\n",
        "confusion matrix:\n",
        "           predicted edible  predicted poisonous\n",
        "edible                 1444                 3067\n",
        "poisonous               116                 3793\n",
        "\n",
        "\n",
        "features: ['gill_size']"
       ]
      },
      {
       "output_type": "stream",
       "stream": "stdout",
       "text": [
        "\n",
        "confusion matrix:\n",
        "           predicted edible  predicted poisonous\n",
        "edible                 4182                  329\n",
        "poisonous              1655                 2254\n",
        "\n",
        "\n",
        "features: ['gill_color']"
       ]
      },
      {
       "output_type": "stream",
       "stream": "stdout",
       "text": [
        "\n",
        "confusion matrix:\n",
        "           predicted edible  predicted poisonous\n",
        "edible                 4006                  505\n",
        "poisonous              1137                 2772\n",
        "\n",
        "\n",
        "features: ['stalk_shape']"
       ]
      },
      {
       "output_type": "stream",
       "stream": "stdout",
       "text": [
        "\n",
        "confusion matrix:\n",
        "           predicted edible  predicted poisonous\n",
        "edible                 2884                 1627\n",
        "poisonous              2019                 1890\n",
        "\n",
        "\n",
        "features: ['stalk_root']"
       ]
      },
      {
       "output_type": "stream",
       "stream": "stdout",
       "text": [
        "\n",
        "confusion matrix:\n",
        "           predicted edible  predicted poisonous\n",
        "edible                 3822                  689\n",
        "poisonous              2130                 1779\n",
        "\n",
        "\n",
        "features: ['stalk_surface_above_ring']"
       ]
      },
      {
       "output_type": "stream",
       "stream": "stdout",
       "text": [
        "\n",
        "confusion matrix:\n",
        "           predicted edible  predicted poisonous\n",
        "edible                 4381                  130\n",
        "poisonous              1685                 2224\n",
        "\n",
        "\n",
        "features: ['stalk_surface_below_ring']"
       ]
      },
      {
       "output_type": "stream",
       "stream": "stdout",
       "text": [
        "\n",
        "confusion matrix:\n",
        "           predicted edible  predicted poisonous\n",
        "edible                 4376                  135\n",
        "poisonous              1807                 2102\n",
        "\n",
        "\n",
        "features: ['stalk_color_above_ring']"
       ]
      },
      {
       "output_type": "stream",
       "stream": "stdout",
       "text": [
        "\n",
        "confusion matrix:\n",
        "           predicted edible  predicted poisonous\n",
        "edible                 3900                  611\n",
        "poisonous              1745                 2164\n",
        "\n",
        "\n",
        "features: ['stalk_color_below_ring']"
       ]
      },
      {
       "output_type": "stream",
       "stream": "stdout",
       "text": [
        "\n",
        "confusion matrix:\n",
        "           predicted edible  predicted poisonous\n",
        "edible                 3798                  713\n",
        "poisonous              1694                 2215\n",
        "\n",
        "\n",
        "features: ['veil_type']"
       ]
      },
      {
       "output_type": "stream",
       "stream": "stdout",
       "text": [
        "\n",
        "confusion matrix:\n",
        "           predicted edible  predicted poisonous\n",
        "edible                 4511                    0\n",
        "poisonous              3909                    0\n",
        "\n",
        "\n",
        "features: ['veil_color']"
       ]
      },
      {
       "output_type": "stream",
       "stream": "stdout",
       "text": [
        "\n",
        "confusion matrix:\n",
        "           predicted edible  predicted poisonous\n",
        "edible                 4511                    0\n",
        "poisonous              3898                   11\n",
        "\n",
        "\n",
        "features: ['ring_number']"
       ]
      },
      {
       "output_type": "stream",
       "stream": "stdout",
       "text": [
        "\n",
        "confusion matrix:\n",
        "           predicted edible  predicted poisonous\n",
        "edible                 4511                    0\n",
        "poisonous              3862                   47\n",
        "\n",
        "\n",
        "features: ['ring_type']"
       ]
      },
      {
       "output_type": "stream",
       "stream": "stdout",
       "text": [
        "\n",
        "confusion matrix:\n",
        "           predicted edible  predicted poisonous\n",
        "edible                 3238                 1273\n",
        "poisonous               819                 3090\n",
        "\n",
        "\n",
        "features: ['spore_print_color']"
       ]
      },
      {
       "output_type": "stream",
       "stream": "stdout",
       "text": [
        "\n",
        "confusion matrix:\n",
        "           predicted edible  predicted poisonous\n",
        "edible                 3881                  630\n",
        "poisonous               455                 3454\n",
        "\n",
        "\n",
        "features: ['population']"
       ]
      },
      {
       "output_type": "stream",
       "stream": "stdout",
       "text": [
        "\n",
        "confusion matrix:\n",
        "           predicted edible  predicted poisonous\n",
        "edible                 3273                 1238\n",
        "poisonous              1007                 2902\n",
        "\n",
        "\n",
        "features: ['habitat']"
       ]
      },
      {
       "output_type": "stream",
       "stream": "stdout",
       "text": [
        "\n",
        "confusion matrix:\n",
        "           predicted edible  predicted poisonous\n",
        "edible                 4003                  508\n",
        "poisonous              2043                 1866\n",
        "\n",
        "\n"
       ]
      }
     ],
     "prompt_number": 32
    },
    {
     "cell_type": "code",
     "collapsed": false,
     "input": [
      "mc.plot_confusion_matrix_dict(f1_confusion_matrix_dict)"
     ],
     "language": "python",
     "metadata": {},
     "outputs": [
      {
       "html": [
        "<div style=\"max-height:1000px;max-width:1500px;overflow:auto;\">\n",
        "<table border=\"1\" class=\"dataframe\">\n",
        "  <thead>\n",
        "    <tr style=\"text-align: right;\">\n",
        "      <th></th>\n",
        "      <th>feature</th>\n",
        "      <th>precision</th>\n",
        "      <th>recall</th>\n",
        "    </tr>\n",
        "  </thead>\n",
        "  <tbody>\n",
        "    <tr>\n",
        "      <th>0 </th>\n",
        "      <td>             gill_spacing</td>\n",
        "      <td> 0.925641</td>\n",
        "      <td> 0.320106</td>\n",
        "    </tr>\n",
        "    <tr>\n",
        "      <th>1 </th>\n",
        "      <td>                     odor</td>\n",
        "      <td> 0.970943</td>\n",
        "      <td> 1.000000</td>\n",
        "    </tr>\n",
        "    <tr>\n",
        "      <th>2 </th>\n",
        "      <td>                gill_size</td>\n",
        "      <td> 0.716464</td>\n",
        "      <td> 0.927067</td>\n",
        "    </tr>\n",
        "    <tr>\n",
        "      <th>3 </th>\n",
        "      <td>   stalk_color_below_ring</td>\n",
        "      <td> 0.691551</td>\n",
        "      <td> 0.841942</td>\n",
        "    </tr>\n",
        "    <tr>\n",
        "      <th>4 </th>\n",
        "      <td>               population</td>\n",
        "      <td> 0.764720</td>\n",
        "      <td> 0.725560</td>\n",
        "    </tr>\n",
        "    <tr>\n",
        "      <th>5 </th>\n",
        "      <td>                  bruises</td>\n",
        "      <td> 0.819003</td>\n",
        "      <td> 0.622922</td>\n",
        "    </tr>\n",
        "    <tr>\n",
        "      <th>6 </th>\n",
        "      <td> stalk_surface_above_ring</td>\n",
        "      <td> 0.722222</td>\n",
        "      <td> 0.971182</td>\n",
        "    </tr>\n",
        "    <tr>\n",
        "      <th>7 </th>\n",
        "      <td>                veil_type</td>\n",
        "      <td> 0.535748</td>\n",
        "      <td> 1.000000</td>\n",
        "    </tr>\n",
        "    <tr>\n",
        "      <th>8 </th>\n",
        "      <td>                  habitat</td>\n",
        "      <td> 0.662091</td>\n",
        "      <td> 0.887386</td>\n",
        "    </tr>\n",
        "    <tr>\n",
        "      <th>9 </th>\n",
        "      <td>                cap_shape</td>\n",
        "      <td> 0.565946</td>\n",
        "      <td> 0.951230</td>\n",
        "    </tr>\n",
        "    <tr>\n",
        "      <th>10</th>\n",
        "      <td>               veil_color</td>\n",
        "      <td> 0.536449</td>\n",
        "      <td> 1.000000</td>\n",
        "    </tr>\n",
        "    <tr>\n",
        "      <th>11</th>\n",
        "      <td>               gill_color</td>\n",
        "      <td> 0.778923</td>\n",
        "      <td> 0.888051</td>\n",
        "    </tr>\n",
        "    <tr>\n",
        "      <th>12</th>\n",
        "      <td> stalk_surface_below_ring</td>\n",
        "      <td> 0.707747</td>\n",
        "      <td> 0.970073</td>\n",
        "    </tr>\n",
        "    <tr>\n",
        "      <th>13</th>\n",
        "      <td>   stalk_color_above_ring</td>\n",
        "      <td> 0.690877</td>\n",
        "      <td> 0.864553</td>\n",
        "    </tr>\n",
        "    <tr>\n",
        "      <th>14</th>\n",
        "      <td>                cap_color</td>\n",
        "      <td> 0.609033</td>\n",
        "      <td> 0.747284</td>\n",
        "    </tr>\n",
        "    <tr>\n",
        "      <th>15</th>\n",
        "      <td>              cap_surface</td>\n",
        "      <td> 0.698244</td>\n",
        "      <td> 0.379073</td>\n",
        "    </tr>\n",
        "    <tr>\n",
        "      <th>16</th>\n",
        "      <td>          gill_attachment</td>\n",
        "      <td> 0.535748</td>\n",
        "      <td> 1.000000</td>\n",
        "    </tr>\n",
        "    <tr>\n",
        "      <th>17</th>\n",
        "      <td>              ring_number</td>\n",
        "      <td> 0.538756</td>\n",
        "      <td> 1.000000</td>\n",
        "    </tr>\n",
        "    <tr>\n",
        "      <th>18</th>\n",
        "      <td>              stalk_shape</td>\n",
        "      <td> 0.588211</td>\n",
        "      <td> 0.639326</td>\n",
        "    </tr>\n",
        "    <tr>\n",
        "      <th>19</th>\n",
        "      <td>               stalk_root</td>\n",
        "      <td> 0.642137</td>\n",
        "      <td> 0.847262</td>\n",
        "    </tr>\n",
        "    <tr>\n",
        "      <th>20</th>\n",
        "      <td>        spore_print_color</td>\n",
        "      <td> 0.895065</td>\n",
        "      <td> 0.860341</td>\n",
        "    </tr>\n",
        "    <tr>\n",
        "      <th>21</th>\n",
        "      <td>                ring_type</td>\n",
        "      <td> 0.798127</td>\n",
        "      <td> 0.717801</td>\n",
        "    </tr>\n",
        "  </tbody>\n",
        "</table>\n",
        "</div>"
       ],
       "output_type": "pyout",
       "prompt_number": 33,
       "text": [
        "                     feature  precision    recall\n",
        "0               gill_spacing   0.925641  0.320106\n",
        "1                       odor   0.970943  1.000000\n",
        "2                  gill_size   0.716464  0.927067\n",
        "3     stalk_color_below_ring   0.691551  0.841942\n",
        "4                 population   0.764720  0.725560\n",
        "5                    bruises   0.819003  0.622922\n",
        "6   stalk_surface_above_ring   0.722222  0.971182\n",
        "7                  veil_type   0.535748  1.000000\n",
        "8                    habitat   0.662091  0.887386\n",
        "9                  cap_shape   0.565946  0.951230\n",
        "10                veil_color   0.536449  1.000000\n",
        "11                gill_color   0.778923  0.888051\n",
        "12  stalk_surface_below_ring   0.707747  0.970073\n",
        "13    stalk_color_above_ring   0.690877  0.864553\n",
        "14                 cap_color   0.609033  0.747284\n",
        "15               cap_surface   0.698244  0.379073\n",
        "16           gill_attachment   0.535748  1.000000\n",
        "17               ring_number   0.538756  1.000000\n",
        "18               stalk_shape   0.588211  0.639326\n",
        "19                stalk_root   0.642137  0.847262\n",
        "20         spore_print_color   0.895065  0.860341\n",
        "21                 ring_type   0.798127  0.717801"
       ]
      },
      {
       "output_type": "display_data",
       "png": "[encoded data removed]"
      }
     ],
     "prompt_number": 33
    },
    {
     "cell_type": "markdown",
     "metadata": {},
     "source": [
      "Let's limit this graph to those points with precision and recall above 0.7.  Also, we'll keep the returned dataframe for future use."
     ]
    },
    {
     "cell_type": "code",
     "collapsed": false,
     "input": [
      "f1_df = mc.plot_confusion_matrix_dict(f1_confusion_matrix_dict, \n",
      "                                min_precision=0.7, \n",
      "                                min_recall=0.7, \n",
      "                                auto_scale=True)\n",
      "f1_df"
     ],
     "language": "python",
     "metadata": {},
     "outputs": [
      {
       "html": [
        "<div style=\"max-height:1000px;max-width:1500px;overflow:auto;\">\n",
        "<table border=\"1\" class=\"dataframe\">\n",
        "  <thead>\n",
        "    <tr style=\"text-align: right;\">\n",
        "      <th></th>\n",
        "      <th>feature</th>\n",
        "      <th>precision</th>\n",
        "      <th>recall</th>\n",
        "    </tr>\n",
        "  </thead>\n",
        "  <tbody>\n",
        "    <tr>\n",
        "      <th>1 </th>\n",
        "      <td>                     odor</td>\n",
        "      <td> 0.970943</td>\n",
        "      <td> 1.000000</td>\n",
        "    </tr>\n",
        "    <tr>\n",
        "      <th>2 </th>\n",
        "      <td>                gill_size</td>\n",
        "      <td> 0.716464</td>\n",
        "      <td> 0.927067</td>\n",
        "    </tr>\n",
        "    <tr>\n",
        "      <th>4 </th>\n",
        "      <td>               population</td>\n",
        "      <td> 0.764720</td>\n",
        "      <td> 0.725560</td>\n",
        "    </tr>\n",
        "    <tr>\n",
        "      <th>6 </th>\n",
        "      <td> stalk_surface_above_ring</td>\n",
        "      <td> 0.722222</td>\n",
        "      <td> 0.971182</td>\n",
        "    </tr>\n",
        "    <tr>\n",
        "      <th>11</th>\n",
        "      <td>               gill_color</td>\n",
        "      <td> 0.778923</td>\n",
        "      <td> 0.888051</td>\n",
        "    </tr>\n",
        "    <tr>\n",
        "      <th>12</th>\n",
        "      <td> stalk_surface_below_ring</td>\n",
        "      <td> 0.707747</td>\n",
        "      <td> 0.970073</td>\n",
        "    </tr>\n",
        "    <tr>\n",
        "      <th>20</th>\n",
        "      <td>        spore_print_color</td>\n",
        "      <td> 0.895065</td>\n",
        "      <td> 0.860341</td>\n",
        "    </tr>\n",
        "    <tr>\n",
        "      <th>21</th>\n",
        "      <td>                ring_type</td>\n",
        "      <td> 0.798127</td>\n",
        "      <td> 0.717801</td>\n",
        "    </tr>\n",
        "  </tbody>\n",
        "</table>\n",
        "</div>"
       ],
       "output_type": "pyout",
       "prompt_number": 34,
       "text": [
        "                     feature  precision    recall\n",
        "1                       odor   0.970943  1.000000\n",
        "2                  gill_size   0.716464  0.927067\n",
        "4                 population   0.764720  0.725560\n",
        "6   stalk_surface_above_ring   0.722222  0.971182\n",
        "11                gill_color   0.778923  0.888051\n",
        "12  stalk_surface_below_ring   0.707747  0.970073\n",
        "20         spore_print_color   0.895065  0.860341\n",
        "21                 ring_type   0.798127  0.717801"
       ]
      },
      {
       "output_type": "display_data",
       "png": "[encoded data removed]"
      }
     ],
     "prompt_number": 34
    },
    {
     "cell_type": "markdown",
     "metadata": {},
     "source": [
      "From this graph we can identify a few features that are pretty good at both precision _and_ recall.\n",
      "\n",
      "*Note:* Even for the best performing single feature 'odor', there are still 135 species predicted as edible that are in fact poisonous."
     ]
    },
    {
     "cell_type": "code",
     "collapsed": false,
     "input": [
      "f1_confusion_matrix_dict[('odor',)]"
     ],
     "language": "python",
     "metadata": {},
     "outputs": [
      {
       "html": [
        "<div style=\"max-height:1000px;max-width:1500px;overflow:auto;\">\n",
        "<table border=\"1\" class=\"dataframe\">\n",
        "  <thead>\n",
        "    <tr style=\"text-align: right;\">\n",
        "      <th></th>\n",
        "      <th>predicted edible</th>\n",
        "      <th>predicted poisonous</th>\n",
        "    </tr>\n",
        "  </thead>\n",
        "  <tbody>\n",
        "    <tr>\n",
        "      <th>edible</th>\n",
        "      <td> 4511</td>\n",
        "      <td>    0</td>\n",
        "    </tr>\n",
        "    <tr>\n",
        "      <th>poisonous</th>\n",
        "      <td>  135</td>\n",
        "      <td> 3774</td>\n",
        "    </tr>\n",
        "  </tbody>\n",
        "</table>\n",
        "</div>"
       ],
       "output_type": "pyout",
       "prompt_number": 35,
       "text": [
        "           predicted edible  predicted poisonous\n",
        "edible                 4511                    0\n",
        "poisonous               135                 3774"
       ]
      }
     ],
     "prompt_number": 35
    },
    {
     "cell_type": "markdown",
     "metadata": {},
     "source": [
      "Let's see what happens when we consider every two-feature combination.\n",
      "\n",
      "*WARNING:* There will be about 200 of these, so go get a cup of coffee if you are running this code."
     ]
    },
    {
     "cell_type": "code",
     "collapsed": false,
     "input": [
      "f2_confusion_matrix_dict = mc.test_n_features(X, y, mc.csv_column_names[1:], n_features=2)"
     ],
     "language": "python",
     "metadata": {},
     "outputs": [
      {
       "output_type": "stream",
       "stream": "stdout",
       "text": [
        "features: ['cap_shape', 'cap_surface']\n",
        "confusion matrix:\n",
        "           predicted edible  predicted poisonous\n",
        "edible                 2013                 2498\n",
        "poisonous               791                 3118\n",
        "\n",
        "\n",
        "features: ['cap_shape', 'cap_color']"
       ]
      },
      {
       "output_type": "stream",
       "stream": "stdout",
       "text": [
        "\n",
        "confusion matrix:\n",
        "           predicted edible  predicted poisonous\n",
        "edible                 3341                 1170\n",
        "poisonous              1898                 2011\n",
        "\n",
        "\n",
        "features: ['cap_shape', 'bruises']"
       ]
      },
      {
       "output_type": "stream",
       "stream": "stdout",
       "text": [
        "\n",
        "confusion matrix:\n",
        "           predicted edible  predicted poisonous\n",
        "edible                 2988                 1523\n",
        "poisonous               632                 3277\n",
        "\n",
        "\n",
        "features: ['cap_shape', 'odor']"
       ]
      },
      {
       "output_type": "stream",
       "stream": "stdout",
       "text": [
        "\n",
        "confusion matrix:\n",
        "           predicted edible  predicted poisonous\n",
        "edible                 4511                    0\n",
        "poisonous               135                 3774\n",
        "\n",
        "\n",
        "features: ['cap_shape', 'gill_attachment']"
       ]
      },
      {
       "output_type": "stream",
       "stream": "stdout",
       "text": [
        "\n",
        "confusion matrix:\n",
        "           predicted edible  predicted poisonous\n",
        "edible                 4337                  174\n",
        "poisonous              3299                  610\n",
        "\n",
        "\n",
        "features: ['cap_shape', 'gill_spacing']"
       ]
      },
      {
       "output_type": "stream",
       "stream": "stdout",
       "text": [
        "\n",
        "confusion matrix:\n",
        "           predicted edible  predicted poisonous\n",
        "edible                 1790                 2721\n",
        "poisonous               174                 3735\n",
        "\n",
        "\n",
        "features: ['cap_shape', 'gill_size']"
       ]
      },
      {
       "output_type": "stream",
       "stream": "stdout",
       "text": [
        "\n",
        "confusion matrix:\n",
        "           predicted edible  predicted poisonous\n",
        "edible                 4220                  291\n",
        "poisonous              1655                 2254\n",
        "\n",
        "\n",
        "features: ['cap_shape', 'gill_color']"
       ]
      },
      {
       "output_type": "stream",
       "stream": "stdout",
       "text": [
        "\n",
        "confusion matrix:\n",
        "           predicted edible  predicted poisonous\n",
        "edible                 4131                  380\n",
        "poisonous              1155                 2754\n",
        "\n",
        "\n",
        "features: ['cap_shape', 'stalk_shape']"
       ]
      },
      {
       "output_type": "stream",
       "stream": "stdout",
       "text": [
        "\n",
        "confusion matrix:\n",
        "           predicted edible  predicted poisonous\n",
        "edible                 3320                 1191\n",
        "poisonous              1498                 2411\n",
        "\n",
        "\n",
        "features: ['cap_shape', 'stalk_root']"
       ]
      },
      {
       "output_type": "stream",
       "stream": "stdout",
       "text": [
        "\n",
        "confusion matrix:\n",
        "           predicted edible  predicted poisonous\n",
        "edible                 3429                 1082\n",
        "poisonous              1759                 2150\n",
        "\n",
        "\n",
        "features: ['cap_shape', 'stalk_surface_above_ring']"
       ]
      },
      {
       "output_type": "stream",
       "stream": "stdout",
       "text": [
        "\n",
        "confusion matrix:\n",
        "           predicted edible  predicted poisonous\n",
        "edible                 4215                  296\n",
        "poisonous              1382                 2527\n",
        "\n",
        "\n",
        "features: ['cap_shape', 'stalk_surface_below_ring']"
       ]
      },
      {
       "output_type": "stream",
       "stream": "stdout",
       "text": [
        "\n",
        "confusion matrix:\n",
        "           predicted edible  predicted poisonous\n",
        "edible                 4220                  291\n",
        "poisonous              1484                 2425\n",
        "\n",
        "\n",
        "features: ['cap_shape', 'stalk_color_above_ring']"
       ]
      },
      {
       "output_type": "stream",
       "stream": "stdout",
       "text": [
        "\n",
        "confusion matrix:\n",
        "           predicted edible  predicted poisonous\n",
        "edible                 3753                  758\n",
        "poisonous              1418                 2491\n",
        "\n",
        "\n",
        "features: ['cap_shape', 'stalk_color_below_ring']"
       ]
      },
      {
       "output_type": "stream",
       "stream": "stdout",
       "text": [
        "\n",
        "confusion matrix:\n",
        "           predicted edible  predicted poisonous\n",
        "edible                 3689                  822\n",
        "poisonous              1404                 2505\n",
        "\n",
        "\n",
        "features: ['cap_shape', 'veil_type']"
       ]
      },
      {
       "output_type": "stream",
       "stream": "stdout",
       "text": [
        "\n",
        "confusion matrix:\n",
        "           predicted edible  predicted poisonous\n",
        "edible                 4291                  220\n",
        "poisonous              3291                  618\n",
        "\n",
        "\n",
        "features: ['cap_shape', 'veil_color']"
       ]
      },
      {
       "output_type": "stream",
       "stream": "stdout",
       "text": [
        "\n",
        "confusion matrix:\n",
        "           predicted edible  predicted poisonous\n",
        "edible                 4337                  174\n",
        "poisonous              3289                  620\n",
        "\n",
        "\n",
        "features: ['cap_shape', 'ring_number']"
       ]
      },
      {
       "output_type": "stream",
       "stream": "stdout",
       "text": [
        "\n",
        "confusion matrix:\n",
        "           predicted edible  predicted poisonous\n",
        "edible                 4436                   75\n",
        "poisonous              3257                  652\n",
        "\n",
        "\n",
        "features: ['cap_shape', 'ring_type']"
       ]
      },
      {
       "output_type": "stream",
       "stream": "stdout",
       "text": [
        "\n",
        "confusion matrix:\n",
        "           predicted edible  predicted poisonous\n",
        "edible                 3238                 1273\n",
        "poisonous               830                 3079\n",
        "\n",
        "\n",
        "features: ['cap_shape', 'spore_print_color']"
       ]
      },
      {
       "output_type": "stream",
       "stream": "stdout",
       "text": [
        "\n",
        "confusion matrix:\n",
        "           predicted edible  predicted poisonous\n",
        "edible                 3977                  534\n",
        "poisonous               468                 3441\n",
        "\n",
        "\n",
        "features: ['cap_shape', 'population']"
       ]
      },
      {
       "output_type": "stream",
       "stream": "stdout",
       "text": [
        "\n",
        "confusion matrix:\n",
        "           predicted edible  predicted poisonous\n",
        "edible                 3270                 1241\n",
        "poisonous              1065                 2844\n",
        "\n",
        "\n",
        "features: ['cap_shape', 'habitat']"
       ]
      },
      {
       "output_type": "stream",
       "stream": "stdout",
       "text": [
        "\n",
        "confusion matrix:\n",
        "           predicted edible  predicted poisonous\n",
        "edible                 4004                  507\n",
        "poisonous              1829                 2080\n",
        "\n",
        "\n",
        "features: ['cap_surface', 'cap_color']"
       ]
      },
      {
       "output_type": "stream",
       "stream": "stdout",
       "text": [
        "\n",
        "confusion matrix:\n",
        "           predicted edible  predicted poisonous\n",
        "edible                 3041                 1470\n",
        "poisonous              1879                 2030\n",
        "\n",
        "\n",
        "features: ['cap_surface', 'bruises']"
       ]
      },
      {
       "output_type": "stream",
       "stream": "stdout",
       "text": [
        "\n",
        "confusion matrix:\n",
        "           predicted edible  predicted poisonous\n",
        "edible                 3582                  929\n",
        "poisonous              1357                 2552\n",
        "\n",
        "\n",
        "features: ['cap_surface', 'odor']"
       ]
      },
      {
       "output_type": "stream",
       "stream": "stdout",
       "text": [
        "\n",
        "confusion matrix:\n",
        "           predicted edible  predicted poisonous\n",
        "edible                 4511                    0\n",
        "poisonous               135                 3774\n",
        "\n",
        "\n",
        "features: ['cap_surface', 'gill_attachment']"
       ]
      },
      {
       "output_type": "stream",
       "stream": "stdout",
       "text": [
        "\n",
        "confusion matrix:\n",
        "           predicted edible  predicted poisonous\n",
        "edible                 1893                 2618\n",
        "poisonous               765                 3144\n",
        "\n",
        "\n",
        "features: ['cap_surface', 'gill_spacing']"
       ]
      },
      {
       "output_type": "stream",
       "stream": "stdout",
       "text": [
        "\n",
        "confusion matrix:\n",
        "           predicted edible  predicted poisonous\n",
        "edible                 2442                 2069\n",
        "poisonous               806                 3103\n",
        "\n",
        "\n",
        "features: ['cap_surface', 'gill_size']"
       ]
      },
      {
       "output_type": "stream",
       "stream": "stdout",
       "text": [
        "\n",
        "confusion matrix:\n",
        "           predicted edible  predicted poisonous\n",
        "edible                 4182                  329\n",
        "poisonous              1655                 2254\n",
        "\n",
        "\n",
        "features: ['cap_surface', 'gill_color']"
       ]
      },
      {
       "output_type": "stream",
       "stream": "stdout",
       "text": [
        "\n",
        "confusion matrix:\n",
        "           predicted edible  predicted poisonous\n",
        "edible                 4006                  505\n",
        "poisonous              1134                 2775\n",
        "\n",
        "\n",
        "features: ['cap_surface', 'stalk_shape']"
       ]
      },
      {
       "output_type": "stream",
       "stream": "stdout",
       "text": [
        "\n",
        "confusion matrix:\n",
        "           predicted edible  predicted poisonous\n",
        "edible                 3172                 1339\n",
        "poisonous              2758                 1151\n",
        "\n",
        "\n",
        "features: ['cap_surface', 'stalk_root']"
       ]
      },
      {
       "output_type": "stream",
       "stream": "stdout",
       "text": [
        "\n",
        "confusion matrix:\n",
        "           predicted edible  predicted poisonous\n",
        "edible                 2813                 1698\n",
        "poisonous              1044                 2865\n",
        "\n",
        "\n",
        "features: ['cap_surface', 'stalk_surface_above_ring']"
       ]
      },
      {
       "output_type": "stream",
       "stream": "stdout",
       "text": [
        "\n",
        "confusion matrix:\n",
        "           predicted edible  predicted poisonous\n",
        "edible                 4381                  130\n",
        "poisonous              1680                 2229\n",
        "\n",
        "\n",
        "features: ['cap_surface', 'stalk_surface_below_ring']"
       ]
      },
      {
       "output_type": "stream",
       "stream": "stdout",
       "text": [
        "\n",
        "confusion matrix:\n",
        "           predicted edible  predicted poisonous\n",
        "edible                 4376                  135\n",
        "poisonous              1802                 2107\n",
        "\n",
        "\n",
        "features: ['cap_surface', 'stalk_color_above_ring']"
       ]
      },
      {
       "output_type": "stream",
       "stream": "stdout",
       "text": [
        "\n",
        "confusion matrix:\n",
        "           predicted edible  predicted poisonous\n",
        "edible                 3217                 1294\n",
        "poisonous               996                 2913\n",
        "\n",
        "\n",
        "features: ['cap_surface', 'stalk_color_below_ring']"
       ]
      },
      {
       "output_type": "stream",
       "stream": "stdout",
       "text": [
        "\n",
        "confusion matrix:\n",
        "           predicted edible  predicted poisonous\n",
        "edible                 3128                 1383\n",
        "poisonous               936                 2973\n",
        "\n",
        "\n",
        "features: ['cap_surface', 'veil_type']"
       ]
      },
      {
       "output_type": "stream",
       "stream": "stdout",
       "text": [
        "\n",
        "confusion matrix:\n",
        "           predicted edible  predicted poisonous\n",
        "edible                 1710                 2801\n",
        "poisonous               739                 3170\n",
        "\n",
        "\n",
        "features: ['cap_surface', 'veil_color']"
       ]
      },
      {
       "output_type": "stream",
       "stream": "stdout",
       "text": [
        "\n",
        "confusion matrix:\n",
        "           predicted edible  predicted poisonous\n",
        "edible                 1893                 2618\n",
        "poisonous               739                 3170\n",
        "\n",
        "\n",
        "features: ['cap_surface', 'ring_number']"
       ]
      },
      {
       "output_type": "stream",
       "stream": "stdout",
       "text": [
        "\n",
        "confusion matrix:\n",
        "           predicted edible  predicted poisonous\n",
        "edible                 2074                 2437\n",
        "poisonous               822                 3087\n",
        "\n",
        "\n",
        "features: ['cap_surface', 'ring_type']"
       ]
      },
      {
       "output_type": "stream",
       "stream": "stdout",
       "text": [
        "\n",
        "confusion matrix:\n",
        "           predicted edible  predicted poisonous\n",
        "edible                 3768                  743\n",
        "poisonous               834                 3075\n",
        "\n",
        "\n",
        "features: ['cap_surface', 'spore_print_color']"
       ]
      },
      {
       "output_type": "stream",
       "stream": "stdout",
       "text": [
        "\n",
        "confusion matrix:\n",
        "           predicted edible  predicted poisonous\n",
        "edible                 4062                  449\n",
        "poisonous               470                 3439\n",
        "\n",
        "\n",
        "features: ['cap_surface', 'population']"
       ]
      },
      {
       "output_type": "stream",
       "stream": "stdout",
       "text": [
        "\n",
        "confusion matrix:\n",
        "           predicted edible  predicted poisonous\n",
        "edible                 3265                 1246\n",
        "poisonous              1004                 2905\n",
        "\n",
        "\n",
        "features: ['cap_surface', 'habitat']"
       ]
      },
      {
       "output_type": "stream",
       "stream": "stdout",
       "text": [
        "\n",
        "confusion matrix:\n",
        "           predicted edible  predicted poisonous\n",
        "edible                 4002                  509\n",
        "poisonous              1678                 2231\n",
        "\n",
        "\n",
        "features: ['cap_color', 'bruises']"
       ]
      },
      {
       "output_type": "stream",
       "stream": "stdout",
       "text": [
        "\n",
        "confusion matrix:\n",
        "           predicted edible  predicted poisonous\n",
        "edible                 2814                 1697\n",
        "poisonous               519                 3390\n",
        "\n",
        "\n",
        "features: ['cap_color', 'odor']"
       ]
      },
      {
       "output_type": "stream",
       "stream": "stdout",
       "text": [
        "\n",
        "confusion matrix:\n",
        "           predicted edible  predicted poisonous\n",
        "edible                 4511                    0\n",
        "poisonous               135                 3774\n",
        "\n",
        "\n",
        "features: ['cap_color', 'gill_attachment']"
       ]
      },
      {
       "output_type": "stream",
       "stream": "stdout",
       "text": [
        "\n",
        "confusion matrix:\n",
        "           predicted edible  predicted poisonous\n",
        "edible                 3371                 1140\n",
        "poisonous              2173                 1736\n",
        "\n",
        "\n",
        "features: ['cap_color', 'gill_spacing']"
       ]
      },
      {
       "output_type": "stream",
       "stream": "stdout",
       "text": [
        "\n",
        "confusion matrix:\n",
        "           predicted edible  predicted poisonous\n",
        "edible                 1560                 2951\n",
        "poisonous               244                 3665\n",
        "\n",
        "\n",
        "features: ['cap_color', 'gill_size']"
       ]
      },
      {
       "output_type": "stream",
       "stream": "stdout",
       "text": [
        "\n",
        "confusion matrix:\n",
        "           predicted edible  predicted poisonous\n",
        "edible                 3808                  703\n",
        "poisonous               888                 3021\n",
        "\n",
        "\n",
        "features: ['cap_color', 'gill_color']"
       ]
      },
      {
       "output_type": "stream",
       "stream": "stdout",
       "text": [
        "\n",
        "confusion matrix:\n",
        "           predicted edible  predicted poisonous\n",
        "edible                 3986                  525\n",
        "poisonous               805                 3104\n",
        "\n",
        "\n",
        "features: ['cap_color', 'stalk_shape']"
       ]
      },
      {
       "output_type": "stream",
       "stream": "stdout",
       "text": [
        "\n",
        "confusion matrix:\n",
        "           predicted edible  predicted poisonous\n",
        "edible                 2931                 1580\n",
        "poisonous              1941                 1968\n",
        "\n",
        "\n",
        "features: ['cap_color', 'stalk_root']"
       ]
      },
      {
       "output_type": "stream",
       "stream": "stdout",
       "text": [
        "\n",
        "confusion matrix:\n",
        "           predicted edible  predicted poisonous\n",
        "edible                 3798                  713\n",
        "poisonous              1334                 2575\n",
        "\n",
        "\n",
        "features: ['cap_color', 'stalk_surface_above_ring']"
       ]
      },
      {
       "output_type": "stream",
       "stream": "stdout",
       "text": [
        "\n",
        "confusion matrix:\n",
        "           predicted edible  predicted poisonous\n",
        "edible                 4276                  235\n",
        "poisonous              1485                 2424\n",
        "\n",
        "\n",
        "features: ['cap_color', 'stalk_surface_below_ring']"
       ]
      },
      {
       "output_type": "stream",
       "stream": "stdout",
       "text": [
        "\n",
        "confusion matrix:\n",
        "           predicted edible  predicted poisonous\n",
        "edible                 4271                  240\n",
        "poisonous              1607                 2302\n",
        "\n",
        "\n",
        "features: ['cap_color', 'stalk_color_above_ring']"
       ]
      },
      {
       "output_type": "stream",
       "stream": "stdout",
       "text": [
        "\n",
        "confusion matrix:\n",
        "           predicted edible  predicted poisonous\n",
        "edible                 3830                  681\n",
        "poisonous              1297                 2612\n",
        "\n",
        "\n",
        "features: ['cap_color', 'stalk_color_below_ring']"
       ]
      },
      {
       "output_type": "stream",
       "stream": "stdout",
       "text": [
        "\n",
        "confusion matrix:\n",
        "           predicted edible  predicted poisonous\n",
        "edible                 3650                  861\n",
        "poisonous              1179                 2730\n",
        "\n",
        "\n",
        "features: ['cap_color', 'veil_type']"
       ]
      },
      {
       "output_type": "stream",
       "stream": "stdout",
       "text": [
        "\n",
        "confusion matrix:\n",
        "           predicted edible  predicted poisonous\n",
        "edible                 3371                 1140\n",
        "poisonous              2164                 1745\n",
        "\n",
        "\n",
        "features: ['cap_color', 'veil_color']"
       ]
      },
      {
       "output_type": "stream",
       "stream": "stdout",
       "text": [
        "\n",
        "confusion matrix:\n",
        "           predicted edible  predicted poisonous\n",
        "edible                 3371                 1140\n",
        "poisonous              2164                 1745\n",
        "\n",
        "\n",
        "features: ['cap_color', 'ring_number']"
       ]
      },
      {
       "output_type": "stream",
       "stream": "stdout",
       "text": [
        "\n",
        "confusion matrix:\n",
        "           predicted edible  predicted poisonous\n",
        "edible                 3521                  990\n",
        "poisonous              2189                 1720\n",
        "\n",
        "\n",
        "features: ['cap_color', 'ring_type']"
       ]
      },
      {
       "output_type": "stream",
       "stream": "stdout",
       "text": [
        "\n",
        "confusion matrix:\n",
        "           predicted edible  predicted poisonous\n",
        "edible                 3757                  754\n",
        "poisonous               718                 3191\n",
        "\n",
        "\n",
        "features: ['cap_color', 'spore_print_color']"
       ]
      },
      {
       "output_type": "stream",
       "stream": "stdout",
       "text": [
        "\n",
        "confusion matrix:\n",
        "           predicted edible  predicted poisonous\n",
        "edible                 4149                  362\n",
        "poisonous               482                 3427\n",
        "\n",
        "\n",
        "features: ['cap_color', 'population']"
       ]
      },
      {
       "output_type": "stream",
       "stream": "stdout",
       "text": [
        "\n",
        "confusion matrix:\n",
        "           predicted edible  predicted poisonous\n",
        "edible                 3265                 1246\n",
        "poisonous               661                 3248\n",
        "\n",
        "\n",
        "features: ['cap_color', 'habitat']"
       ]
      },
      {
       "output_type": "stream",
       "stream": "stdout",
       "text": [
        "\n",
        "confusion matrix:\n",
        "           predicted edible  predicted poisonous\n",
        "edible                 3803                  708\n",
        "poisonous              1452                 2457\n",
        "\n",
        "\n",
        "features: ['bruises', 'odor']"
       ]
      },
      {
       "output_type": "stream",
       "stream": "stdout",
       "text": [
        "\n",
        "confusion matrix:\n",
        "           predicted edible  predicted poisonous\n",
        "edible                 4511                    0\n",
        "poisonous               135                 3774\n",
        "\n",
        "\n",
        "features: ['bruises', 'gill_attachment']"
       ]
      },
      {
       "output_type": "stream",
       "stream": "stdout",
       "text": [
        "\n",
        "confusion matrix:\n",
        "           predicted edible  predicted poisonous\n",
        "edible                 2993                 1518\n",
        "poisonous               647                 3262\n",
        "\n",
        "\n",
        "features: ['bruises', 'gill_spacing']"
       ]
      },
      {
       "output_type": "stream",
       "stream": "stdout",
       "text": [
        "\n",
        "confusion matrix:\n",
        "           predicted edible  predicted poisonous\n",
        "edible                 4163                  348\n",
        "poisonous               728                 3181\n",
        "\n",
        "\n",
        "features: ['bruises', 'gill_size']"
       ]
      },
      {
       "output_type": "stream",
       "stream": "stdout",
       "text": [
        "\n",
        "confusion matrix:\n",
        "           predicted edible  predicted poisonous\n",
        "edible                 4182                  329\n",
        "poisonous              1655                 2254\n",
        "\n",
        "\n",
        "features: ['bruises', 'gill_color']"
       ]
      },
      {
       "output_type": "stream",
       "stream": "stdout",
       "text": [
        "\n",
        "confusion matrix:\n",
        "           predicted edible  predicted poisonous\n",
        "edible                 3756                  755\n",
        "poisonous               944                 2965\n",
        "\n",
        "\n",
        "features: ['bruises', 'stalk_shape']"
       ]
      },
      {
       "output_type": "stream",
       "stream": "stdout",
       "text": [
        "\n",
        "confusion matrix:\n",
        "           predicted edible  predicted poisonous\n",
        "edible                 2810                 1701\n",
        "poisonous               621                 3288\n",
        "\n",
        "\n",
        "features: ['bruises', 'stalk_root']"
       ]
      },
      {
       "output_type": "stream",
       "stream": "stdout",
       "text": [
        "\n",
        "confusion matrix:\n",
        "           predicted edible  predicted poisonous\n",
        "edible                 3915                  596\n",
        "poisonous               679                 3230\n",
        "\n",
        "\n",
        "features: ['bruises', 'stalk_surface_above_ring']"
       ]
      },
      {
       "output_type": "stream",
       "stream": "stdout",
       "text": [
        "\n",
        "confusion matrix:\n",
        "           predicted edible  predicted poisonous\n",
        "edible                 4381                  130\n",
        "poisonous              1685                 2224\n",
        "\n",
        "\n",
        "features: ['bruises', 'stalk_surface_below_ring']"
       ]
      },
      {
       "output_type": "stream",
       "stream": "stdout",
       "text": [
        "\n",
        "confusion matrix:\n",
        "           predicted edible  predicted poisonous\n",
        "edible                 4376                  135\n",
        "poisonous              1807                 2102\n",
        "\n",
        "\n",
        "features: ['bruises', 'stalk_color_above_ring']"
       ]
      },
      {
       "output_type": "stream",
       "stream": "stdout",
       "text": [
        "\n",
        "confusion matrix:\n",
        "           predicted edible  predicted poisonous\n",
        "edible                 2993                 1518\n",
        "poisonous               621                 3288\n",
        "\n",
        "\n",
        "features: ['bruises', 'stalk_color_below_ring']"
       ]
      },
      {
       "output_type": "stream",
       "stream": "stdout",
       "text": [
        "\n",
        "confusion matrix:\n",
        "           predicted edible  predicted poisonous\n",
        "edible                 2993                 1518\n",
        "poisonous               621                 3288\n",
        "\n",
        "\n",
        "features: ['bruises', 'veil_type']"
       ]
      },
      {
       "output_type": "stream",
       "stream": "stdout",
       "text": [
        "\n",
        "confusion matrix:\n",
        "           predicted edible  predicted poisonous\n",
        "edible                 2810                 1701\n",
        "poisonous               621                 3288\n",
        "\n",
        "\n",
        "features: ['bruises', 'veil_color']"
       ]
      },
      {
       "output_type": "stream",
       "stream": "stdout",
       "text": [
        "\n",
        "confusion matrix:\n",
        "           predicted edible  predicted poisonous\n",
        "edible                 2993                 1518\n",
        "poisonous               621                 3288\n",
        "\n",
        "\n",
        "features: ['bruises', 'ring_number']"
       ]
      },
      {
       "output_type": "stream",
       "stream": "stdout",
       "text": [
        "\n",
        "confusion matrix:\n",
        "           predicted edible  predicted poisonous\n",
        "edible                 3092                 1419\n",
        "poisonous               621                 3288\n",
        "\n",
        "\n",
        "features: ['bruises', 'ring_type']"
       ]
      },
      {
       "output_type": "stream",
       "stream": "stdout",
       "text": [
        "\n",
        "confusion matrix:\n",
        "           predicted edible  predicted poisonous\n",
        "edible                 3428                 1083\n",
        "poisonous               819                 3090\n",
        "\n",
        "\n",
        "features: ['bruises', 'spore_print_color']"
       ]
      },
      {
       "output_type": "stream",
       "stream": "stdout",
       "text": [
        "\n",
        "confusion matrix:\n",
        "           predicted edible  predicted poisonous\n",
        "edible                 4067                  444\n",
        "poisonous               464                 3445\n",
        "\n",
        "\n",
        "features: ['bruises', 'population']"
       ]
      },
      {
       "output_type": "stream",
       "stream": "stdout",
       "text": [
        "\n",
        "confusion matrix:\n",
        "           predicted edible  predicted poisonous\n",
        "edible                 4173                  338\n",
        "poisonous               765                 3144\n",
        "\n",
        "\n",
        "features: ['bruises', 'habitat']"
       ]
      },
      {
       "output_type": "stream",
       "stream": "stdout",
       "text": [
        "\n",
        "confusion matrix:\n",
        "           predicted edible  predicted poisonous\n",
        "edible                 4003                  508\n",
        "poisonous               783                 3126\n",
        "\n",
        "\n",
        "features: ['odor', 'gill_attachment']"
       ]
      },
      {
       "output_type": "stream",
       "stream": "stdout",
       "text": [
        "\n",
        "confusion matrix:\n",
        "           predicted edible  predicted poisonous\n",
        "edible                 4511                    0\n",
        "poisonous               135                 3774\n",
        "\n",
        "\n",
        "features: ['odor', 'gill_spacing']"
       ]
      },
      {
       "output_type": "stream",
       "stream": "stdout",
       "text": [
        "\n",
        "confusion matrix:\n",
        "           predicted edible  predicted poisonous\n",
        "edible                 4511                    0\n",
        "poisonous               135                 3774\n",
        "\n",
        "\n",
        "features: ['odor', 'gill_size']"
       ]
      },
      {
       "output_type": "stream",
       "stream": "stdout",
       "text": [
        "\n",
        "confusion matrix:\n",
        "           predicted edible  predicted poisonous\n",
        "edible                 4511                    0\n",
        "poisonous               135                 3774\n",
        "\n",
        "\n",
        "features: ['odor', 'gill_color']"
       ]
      },
      {
       "output_type": "stream",
       "stream": "stdout",
       "text": [
        "\n",
        "confusion matrix:\n",
        "           predicted edible  predicted poisonous\n",
        "edible                 4511                    0\n",
        "poisonous               107                 3802\n",
        "\n",
        "\n",
        "features: ['odor', 'stalk_shape']"
       ]
      },
      {
       "output_type": "stream",
       "stream": "stdout",
       "text": [
        "\n",
        "confusion matrix:\n",
        "           predicted edible  predicted poisonous\n",
        "edible                 4511                    0\n",
        "poisonous               135                 3774\n",
        "\n",
        "\n",
        "features: ['odor', 'stalk_root']"
       ]
      },
      {
       "output_type": "stream",
       "stream": "stdout",
       "text": [
        "\n",
        "confusion matrix:\n",
        "           predicted edible  predicted poisonous\n",
        "edible                 4511                    0\n",
        "poisonous               135                 3774\n",
        "\n",
        "\n",
        "features: ['odor', 'stalk_surface_above_ring']"
       ]
      },
      {
       "output_type": "stream",
       "stream": "stdout",
       "text": [
        "\n",
        "confusion matrix:\n",
        "           predicted edible  predicted poisonous\n",
        "edible                 4511                    0\n",
        "poisonous               135                 3774\n",
        "\n",
        "\n",
        "features: ['odor', 'stalk_surface_below_ring']"
       ]
      },
      {
       "output_type": "stream",
       "stream": "stdout",
       "text": [
        "\n",
        "confusion matrix:\n",
        "           predicted edible  predicted poisonous\n",
        "edible                 4511                    0\n",
        "poisonous               135                 3774\n",
        "\n",
        "\n",
        "features: ['odor', 'stalk_color_above_ring']"
       ]
      },
      {
       "output_type": "stream",
       "stream": "stdout",
       "text": [
        "\n",
        "confusion matrix:\n",
        "           predicted edible  predicted poisonous\n",
        "edible                 4511                    0\n",
        "poisonous               135                 3774\n",
        "\n",
        "\n",
        "features: ['odor', 'stalk_color_below_ring']"
       ]
      },
      {
       "output_type": "stream",
       "stream": "stdout",
       "text": [
        "\n",
        "confusion matrix:\n",
        "           predicted edible  predicted poisonous\n",
        "edible                 4511                    0\n",
        "poisonous               111                 3798\n",
        "\n",
        "\n",
        "features: ['odor', 'veil_type']"
       ]
      },
      {
       "output_type": "stream",
       "stream": "stdout",
       "text": [
        "\n",
        "confusion matrix:\n",
        "           predicted edible  predicted poisonous\n",
        "edible                 4511                    0\n",
        "poisonous               135                 3774\n",
        "\n",
        "\n",
        "features: ['odor', 'veil_color']"
       ]
      },
      {
       "output_type": "stream",
       "stream": "stdout",
       "text": [
        "\n",
        "confusion matrix:\n",
        "           predicted edible  predicted poisonous\n",
        "edible                 4511                    0\n",
        "poisonous               132                 3777\n",
        "\n",
        "\n",
        "features: ['odor', 'ring_number']"
       ]
      },
      {
       "output_type": "stream",
       "stream": "stdout",
       "text": [
        "\n",
        "confusion matrix:\n",
        "           predicted edible  predicted poisonous\n",
        "edible                 4511                    0\n",
        "poisonous               135                 3774\n",
        "\n",
        "\n",
        "features: ['odor', 'ring_type']"
       ]
      },
      {
       "output_type": "stream",
       "stream": "stdout",
       "text": [
        "\n",
        "confusion matrix:\n",
        "           predicted edible  predicted poisonous\n",
        "edible                 4511                    0\n",
        "poisonous               135                 3774\n",
        "\n",
        "\n",
        "features: ['odor', 'spore_print_color']"
       ]
      },
      {
       "output_type": "stream",
       "stream": "stdout",
       "text": [
        "\n",
        "confusion matrix:\n",
        "           predicted edible  predicted poisonous\n",
        "edible                 4511                    0\n",
        "poisonous                52                 3857\n",
        "\n",
        "\n",
        "features: ['odor', 'population']"
       ]
      },
      {
       "output_type": "stream",
       "stream": "stdout",
       "text": [
        "\n",
        "confusion matrix:\n",
        "           predicted edible  predicted poisonous\n",
        "edible                 4511                    0\n",
        "poisonous               135                 3774\n",
        "\n",
        "\n",
        "features: ['odor', 'habitat']"
       ]
      },
      {
       "output_type": "stream",
       "stream": "stdout",
       "text": [
        "\n",
        "confusion matrix:\n",
        "           predicted edible  predicted poisonous\n",
        "edible                 4511                    0\n",
        "poisonous               132                 3777\n",
        "\n",
        "\n",
        "features: ['gill_attachment', 'gill_spacing']"
       ]
      },
      {
       "output_type": "stream",
       "stream": "stdout",
       "text": [
        "\n",
        "confusion matrix:\n",
        "           predicted edible  predicted poisonous\n",
        "edible                 1627                 2884\n",
        "poisonous               142                 3767\n",
        "\n",
        "\n",
        "features: ['gill_attachment', 'gill_size']"
       ]
      },
      {
       "output_type": "stream",
       "stream": "stdout",
       "text": [
        "\n",
        "confusion matrix:\n",
        "           predicted edible  predicted poisonous\n",
        "edible                 4182                  329\n",
        "poisonous              1655                 2254\n",
        "\n",
        "\n",
        "features: ['gill_attachment', 'gill_color']"
       ]
      },
      {
       "output_type": "stream",
       "stream": "stdout",
       "text": [
        "\n",
        "confusion matrix:\n",
        "           predicted edible  predicted poisonous\n",
        "edible                 4006                  505\n",
        "poisonous              1126                 2783\n",
        "\n",
        "\n",
        "features: ['gill_attachment', 'stalk_shape']"
       ]
      },
      {
       "output_type": "stream",
       "stream": "stdout",
       "text": [
        "\n",
        "confusion matrix:\n",
        "           predicted edible  predicted poisonous\n",
        "edible                 3067                 1444\n",
        "poisonous              2045                 1864\n",
        "\n",
        "\n",
        "features: ['gill_attachment', 'stalk_root']"
       ]
      },
      {
       "output_type": "stream",
       "stream": "stdout",
       "text": [
        "\n",
        "confusion matrix:\n",
        "           predicted edible  predicted poisonous\n",
        "edible                 4005                  506\n",
        "poisonous              2130                 1779\n",
        "\n",
        "\n",
        "features: ['gill_attachment', 'stalk_surface_above_ring']"
       ]
      },
      {
       "output_type": "stream",
       "stream": "stdout",
       "text": [
        "\n",
        "confusion matrix:\n",
        "           predicted edible  predicted poisonous\n",
        "edible                 4381                  130\n",
        "poisonous              1685                 2224\n",
        "\n",
        "\n",
        "features: ['gill_attachment', 'stalk_surface_below_ring']"
       ]
      },
      {
       "output_type": "stream",
       "stream": "stdout",
       "text": [
        "\n",
        "confusion matrix:\n",
        "           predicted edible  predicted poisonous\n",
        "edible                 4376                  135\n",
        "poisonous              1807                 2102\n",
        "\n",
        "\n",
        "features: ['gill_attachment', 'stalk_color_above_ring']"
       ]
      },
      {
       "output_type": "stream",
       "stream": "stdout",
       "text": [
        "\n",
        "confusion matrix:\n",
        "           predicted edible  predicted poisonous\n",
        "edible                 3900                  611\n",
        "poisonous              1745                 2164\n",
        "\n",
        "\n",
        "features: ['gill_attachment', 'stalk_color_below_ring']"
       ]
      },
      {
       "output_type": "stream",
       "stream": "stdout",
       "text": [
        "\n",
        "confusion matrix:\n",
        "           predicted edible  predicted poisonous\n",
        "edible                 3798                  713\n",
        "poisonous              1694                 2215\n",
        "\n",
        "\n",
        "features: ['gill_attachment', 'veil_type']"
       ]
      },
      {
       "output_type": "stream",
       "stream": "stdout",
       "text": [
        "\n",
        "confusion matrix:\n",
        "           predicted edible  predicted poisonous\n",
        "edible                 4511                    0\n",
        "poisonous              3909                    0\n",
        "\n",
        "\n",
        "features: ['gill_attachment', 'veil_color']"
       ]
      },
      {
       "output_type": "stream",
       "stream": "stdout",
       "text": [
        "\n",
        "confusion matrix:\n",
        "           predicted edible  predicted poisonous\n",
        "edible                 4511                    0\n",
        "poisonous              3872                   37\n",
        "\n",
        "\n",
        "features: ['gill_attachment', 'ring_number']"
       ]
      },
      {
       "output_type": "stream",
       "stream": "stdout",
       "text": [
        "\n",
        "confusion matrix:\n",
        "           predicted edible  predicted poisonous\n",
        "edible                 1031                 3480\n",
        "poisonous               473                 3436\n",
        "\n",
        "\n",
        "features: ['gill_attachment', 'ring_type']"
       ]
      },
      {
       "output_type": "stream",
       "stream": "stdout",
       "text": [
        "\n",
        "confusion matrix:\n",
        "           predicted edible  predicted poisonous\n",
        "edible                 3238                 1273\n",
        "poisonous               819                 3090\n",
        "\n",
        "\n",
        "features: ['gill_attachment', 'spore_print_color']"
       ]
      },
      {
       "output_type": "stream",
       "stream": "stdout",
       "text": [
        "\n",
        "confusion matrix:\n",
        "           predicted edible  predicted poisonous\n",
        "edible                 3881                  630\n",
        "poisonous               455                 3454\n",
        "\n",
        "\n",
        "features: ['gill_attachment', 'population']"
       ]
      },
      {
       "output_type": "stream",
       "stream": "stdout",
       "text": [
        "\n",
        "confusion matrix:\n",
        "           predicted edible  predicted poisonous\n",
        "edible                 3361                 1150\n",
        "poisonous              1007                 2902\n",
        "\n",
        "\n",
        "features: ['gill_attachment', 'habitat']"
       ]
      },
      {
       "output_type": "stream",
       "stream": "stdout",
       "text": [
        "\n",
        "confusion matrix:\n",
        "           predicted edible  predicted poisonous\n",
        "edible                 4186                  325\n",
        "poisonous              2043                 1866\n",
        "\n",
        "\n",
        "features: ['gill_spacing', 'gill_size']"
       ]
      },
      {
       "output_type": "stream",
       "stream": "stdout",
       "text": [
        "\n",
        "confusion matrix:\n",
        "           predicted edible  predicted poisonous\n",
        "edible                 4358                  153\n",
        "poisonous              1771                 2138\n",
        "\n",
        "\n",
        "features: ['gill_spacing', 'gill_color']"
       ]
      },
      {
       "output_type": "stream",
       "stream": "stdout",
       "text": [
        "\n",
        "confusion matrix:\n",
        "           predicted edible  predicted poisonous\n",
        "edible                 3795                  716\n",
        "poisonous               574                 3335\n",
        "\n",
        "\n",
        "features: ['gill_spacing', 'stalk_shape']"
       ]
      },
      {
       "output_type": "stream",
       "stream": "stdout",
       "text": [
        "\n",
        "confusion matrix:\n",
        "           predicted edible  predicted poisonous\n",
        "edible                 1444                 3067\n",
        "poisonous               116                 3793\n",
        "\n",
        "\n",
        "features: ['gill_spacing', 'stalk_root']"
       ]
      },
      {
       "output_type": "stream",
       "stream": "stdout",
       "text": [
        "\n",
        "confusion matrix:\n",
        "           predicted edible  predicted poisonous\n",
        "edible                 2151                 2360\n",
        "poisonous               163                 3746\n",
        "\n",
        "\n",
        "features: ['gill_spacing', 'stalk_surface_above_ring']"
       ]
      },
      {
       "output_type": "stream",
       "stream": "stdout",
       "text": [
        "\n",
        "confusion matrix:\n",
        "           predicted edible  predicted poisonous\n",
        "edible                 4502                    9\n",
        "poisonous              1561                 2348\n",
        "\n",
        "\n",
        "features: ['gill_spacing', 'stalk_surface_below_ring']"
       ]
      },
      {
       "output_type": "stream",
       "stream": "stdout",
       "text": [
        "\n",
        "confusion matrix:\n",
        "           predicted edible  predicted poisonous\n",
        "edible                 4447                   64\n",
        "poisonous              1684                 2225\n",
        "\n",
        "\n",
        "features: ['gill_spacing', 'stalk_color_above_ring']"
       ]
      },
      {
       "output_type": "stream",
       "stream": "stdout",
       "text": [
        "\n",
        "confusion matrix:\n",
        "           predicted edible  predicted poisonous\n",
        "edible                 2328                 2183\n",
        "poisonous               105                 3804\n",
        "\n",
        "\n",
        "features: ['gill_spacing', 'stalk_color_below_ring']"
       ]
      },
      {
       "output_type": "stream",
       "stream": "stdout",
       "text": [
        "\n",
        "confusion matrix:\n",
        "           predicted edible  predicted poisonous\n",
        "edible                 2308                 2203\n",
        "poisonous               105                 3804\n",
        "\n",
        "\n",
        "features: ['gill_spacing', 'veil_type']"
       ]
      },
      {
       "output_type": "stream",
       "stream": "stdout",
       "text": [
        "\n",
        "confusion matrix:\n",
        "           predicted edible  predicted poisonous\n",
        "edible                 1444                 3067\n",
        "poisonous               116                 3793\n",
        "\n",
        "\n",
        "features: ['gill_spacing', 'veil_color']"
       ]
      },
      {
       "output_type": "stream",
       "stream": "stdout",
       "text": [
        "\n",
        "confusion matrix:\n",
        "           predicted edible  predicted poisonous\n",
        "edible                 1627                 2884\n",
        "poisonous               113                 3796\n",
        "\n",
        "\n",
        "features: ['gill_spacing', 'ring_number']"
       ]
      },
      {
       "output_type": "stream",
       "stream": "stdout",
       "text": [
        "\n",
        "confusion matrix:\n",
        "           predicted edible  predicted poisonous\n",
        "edible                 1673                 2838\n",
        "poisonous               199                 3710\n",
        "\n",
        "\n",
        "features: ['gill_spacing', 'ring_type']"
       ]
      },
      {
       "output_type": "stream",
       "stream": "stdout",
       "text": [
        "\n",
        "confusion matrix:\n",
        "           predicted edible  predicted poisonous\n",
        "edible                 4321                  190\n",
        "poisonous               830                 3079\n",
        "\n",
        "\n",
        "features: ['gill_spacing', 'spore_print_color']"
       ]
      },
      {
       "output_type": "stream",
       "stream": "stdout",
       "text": [
        "\n",
        "confusion matrix:\n",
        "           predicted edible  predicted poisonous\n",
        "edible                 4236                  275\n",
        "poisonous               475                 3434\n",
        "\n",
        "\n",
        "features: ['gill_spacing', 'population']"
       ]
      },
      {
       "output_type": "stream",
       "stream": "stdout",
       "text": [
        "\n",
        "confusion matrix:\n",
        "           predicted edible  predicted poisonous\n",
        "edible                 3449                 1062\n",
        "poisonous              1064                 2845\n",
        "\n",
        "\n",
        "features: ['gill_spacing', 'habitat']"
       ]
      },
      {
       "output_type": "stream",
       "stream": "stdout",
       "text": [
        "\n",
        "confusion matrix:\n",
        "           predicted edible  predicted poisonous\n",
        "edible                 3736                  775\n",
        "poisonous              1332                 2577\n",
        "\n",
        "\n",
        "features: ['gill_size', 'gill_color']"
       ]
      },
      {
       "output_type": "stream",
       "stream": "stdout",
       "text": [
        "\n",
        "confusion matrix:\n",
        "           predicted edible  predicted poisonous\n",
        "edible                 3820                  691\n",
        "poisonous               925                 2984\n",
        "\n",
        "\n",
        "features: ['gill_size', 'stalk_shape']"
       ]
      },
      {
       "output_type": "stream",
       "stream": "stdout",
       "text": [
        "\n",
        "confusion matrix:\n",
        "           predicted edible  predicted poisonous\n",
        "edible                 4182                  329\n",
        "poisonous              1655                 2254\n",
        "\n",
        "\n",
        "features: ['gill_size', 'stalk_root']"
       ]
      },
      {
       "output_type": "stream",
       "stream": "stdout",
       "text": [
        "\n",
        "confusion matrix:\n",
        "           predicted edible  predicted poisonous\n",
        "edible                 4182                  329\n",
        "poisonous              1655                 2254\n",
        "\n",
        "\n",
        "features: ['gill_size', 'stalk_surface_above_ring']"
       ]
      },
      {
       "output_type": "stream",
       "stream": "stdout",
       "text": [
        "\n",
        "confusion matrix:\n",
        "           predicted edible  predicted poisonous\n",
        "edible                 4052                  459\n",
        "poisonous               355                 3554\n",
        "\n",
        "\n",
        "features: ['gill_size', 'stalk_surface_below_ring']"
       ]
      },
      {
       "output_type": "stream",
       "stream": "stdout",
       "text": [
        "\n",
        "confusion matrix:\n",
        "           predicted edible  predicted poisonous\n",
        "edible                 4047                  464\n",
        "poisonous               402                 3507\n",
        "\n",
        "\n",
        "features: ['gill_size', 'stalk_color_above_ring']"
       ]
      },
      {
       "output_type": "stream",
       "stream": "stdout",
       "text": [
        "\n",
        "confusion matrix:\n",
        "           predicted edible  predicted poisonous\n",
        "edible                 4170                  341\n",
        "poisonous               777                 3132\n",
        "\n",
        "\n",
        "features: ['gill_size', 'stalk_color_below_ring']"
       ]
      },
      {
       "output_type": "stream",
       "stream": "stdout",
       "text": [
        "\n",
        "confusion matrix:\n",
        "           predicted edible  predicted poisonous\n",
        "edible                 4170                  341\n",
        "poisonous               779                 3130\n",
        "\n",
        "\n",
        "features: ['gill_size', 'veil_type']"
       ]
      },
      {
       "output_type": "stream",
       "stream": "stdout",
       "text": [
        "\n",
        "confusion matrix:\n",
        "           predicted edible  predicted poisonous\n",
        "edible                 4182                  329\n",
        "poisonous              1655                 2254\n",
        "\n",
        "\n",
        "features: ['gill_size', 'veil_color']"
       ]
      },
      {
       "output_type": "stream",
       "stream": "stdout",
       "text": [
        "\n",
        "confusion matrix:\n",
        "           predicted edible  predicted poisonous\n",
        "edible                 4182                  329\n",
        "poisonous              1655                 2254\n",
        "\n",
        "\n",
        "features: ['gill_size', 'ring_number']"
       ]
      },
      {
       "output_type": "stream",
       "stream": "stdout",
       "text": [
        "\n",
        "confusion matrix:\n",
        "           predicted edible  predicted poisonous\n",
        "edible                 4182                  329\n",
        "poisonous              1608                 2301\n",
        "\n",
        "\n",
        "features: ['gill_size', 'ring_type']"
       ]
      },
      {
       "output_type": "stream",
       "stream": "stdout",
       "text": [
        "\n",
        "confusion matrix:\n",
        "           predicted edible  predicted poisonous\n",
        "edible                 4228                  283\n",
        "poisonous               355                 3554\n",
        "\n",
        "\n",
        "features: ['gill_size', 'spore_print_color']"
       ]
      },
      {
       "output_type": "stream",
       "stream": "stdout",
       "text": [
        "\n",
        "confusion matrix:\n",
        "           predicted edible  predicted poisonous\n",
        "edible                 4234                  277\n",
        "poisonous                47                 3862\n",
        "\n",
        "\n",
        "features: ['gill_size', 'population']"
       ]
      },
      {
       "output_type": "stream",
       "stream": "stdout",
       "text": [
        "\n",
        "confusion matrix:\n",
        "           predicted edible  predicted poisonous\n",
        "edible                 4182                  329\n",
        "poisonous              1655                 2254\n",
        "\n",
        "\n",
        "features: ['gill_size', 'habitat']"
       ]
      },
      {
       "output_type": "stream",
       "stream": "stdout",
       "text": [
        "\n",
        "confusion matrix:\n",
        "           predicted edible  predicted poisonous\n",
        "edible                 4049                  462\n",
        "poisonous              1232                 2677\n",
        "\n",
        "\n",
        "features: ['gill_color', 'stalk_shape']"
       ]
      },
      {
       "output_type": "stream",
       "stream": "stdout",
       "text": [
        "\n",
        "confusion matrix:\n",
        "           predicted edible  predicted poisonous\n",
        "edible                 4050                  461\n",
        "poisonous               709                 3200\n",
        "\n",
        "\n",
        "features: ['gill_color', 'stalk_root']"
       ]
      },
      {
       "output_type": "stream",
       "stream": "stdout",
       "text": [
        "\n",
        "confusion matrix:\n",
        "           predicted edible  predicted poisonous\n",
        "edible                 4009                  502\n",
        "poisonous               580                 3329\n",
        "\n",
        "\n",
        "features: ['gill_color', 'stalk_surface_above_ring']"
       ]
      },
      {
       "output_type": "stream",
       "stream": "stdout",
       "text": [
        "\n",
        "confusion matrix:\n",
        "           predicted edible  predicted poisonous\n",
        "edible                 4381                  130\n",
        "poisonous               802                 3107\n",
        "\n",
        "\n",
        "features: ['gill_color', 'stalk_surface_below_ring']"
       ]
      },
      {
       "output_type": "stream",
       "stream": "stdout",
       "text": [
        "\n",
        "confusion matrix:\n",
        "           predicted edible  predicted poisonous\n",
        "edible                 4376                  135\n",
        "poisonous               881                 3028\n",
        "\n",
        "\n",
        "features: ['gill_color', 'stalk_color_above_ring']"
       ]
      },
      {
       "output_type": "stream",
       "stream": "stdout",
       "text": [
        "\n",
        "confusion matrix:\n",
        "           predicted edible  predicted poisonous\n",
        "edible                 4499                   12\n",
        "poisonous               959                 2950\n",
        "\n",
        "\n",
        "features: ['gill_color', 'stalk_color_below_ring']"
       ]
      },
      {
       "output_type": "stream",
       "stream": "stdout",
       "text": [
        "\n",
        "confusion matrix:\n",
        "           predicted edible  predicted poisonous\n",
        "edible                 4363                  148\n",
        "poisonous               900                 3009\n",
        "\n",
        "\n",
        "features: ['gill_color', 'veil_type']"
       ]
      },
      {
       "output_type": "stream",
       "stream": "stdout",
       "text": [
        "\n",
        "confusion matrix:\n",
        "           predicted edible  predicted poisonous\n",
        "edible                 4006                  505\n",
        "poisonous              1137                 2772\n",
        "\n",
        "\n",
        "features: ['gill_color', 'veil_color']"
       ]
      },
      {
       "output_type": "stream",
       "stream": "stdout",
       "text": [
        "\n",
        "confusion matrix:\n",
        "           predicted edible  predicted poisonous\n",
        "edible                 4006                  505\n",
        "poisonous              1106                 2803\n",
        "\n",
        "\n",
        "features: ['gill_color', 'ring_number']"
       ]
      },
      {
       "output_type": "stream",
       "stream": "stdout",
       "text": [
        "\n",
        "confusion matrix:\n",
        "           predicted edible  predicted poisonous\n",
        "edible                 4104                  407\n",
        "poisonous              1118                 2791\n",
        "\n",
        "\n",
        "features: ['gill_color', 'ring_type']"
       ]
      },
      {
       "output_type": "stream",
       "stream": "stdout",
       "text": [
        "\n",
        "confusion matrix:\n",
        "           predicted edible  predicted poisonous\n",
        "edible                 4511                    0\n",
        "poisonous               748                 3161\n",
        "\n",
        "\n",
        "features: ['gill_color', 'spore_print_color']"
       ]
      },
      {
       "output_type": "stream",
       "stream": "stdout",
       "text": [
        "\n",
        "confusion matrix:\n",
        "           predicted edible  predicted poisonous\n",
        "edible                 4465                   46\n",
        "poisonous               540                 3369\n",
        "\n",
        "\n",
        "features: ['gill_color', 'population']"
       ]
      },
      {
       "output_type": "stream",
       "stream": "stdout",
       "text": [
        "\n",
        "confusion matrix:\n",
        "           predicted edible  predicted poisonous\n",
        "edible                 3957                  554\n",
        "poisonous               819                 3090\n",
        "\n",
        "\n",
        "features: ['gill_color', 'habitat']"
       ]
      },
      {
       "output_type": "stream",
       "stream": "stdout",
       "text": [
        "\n",
        "confusion matrix:\n",
        "           predicted edible  predicted poisonous\n",
        "edible                 3929                  582\n",
        "poisonous               786                 3123\n",
        "\n",
        "\n",
        "features: ['stalk_shape', 'stalk_root']"
       ]
      },
      {
       "output_type": "stream",
       "stream": "stdout",
       "text": [
        "\n",
        "confusion matrix:\n",
        "           predicted edible  predicted poisonous\n",
        "edible                 3698                  813\n",
        "poisonous               587                 3322\n",
        "\n",
        "\n",
        "features: ['stalk_shape', 'stalk_surface_above_ring']"
       ]
      },
      {
       "output_type": "stream",
       "stream": "stdout",
       "text": [
        "\n",
        "confusion matrix:\n",
        "           predicted edible  predicted poisonous\n",
        "edible                 4381                  130\n",
        "poisonous              1685                 2224\n",
        "\n",
        "\n",
        "features: ['stalk_shape', 'stalk_surface_below_ring']"
       ]
      },
      {
       "output_type": "stream",
       "stream": "stdout",
       "text": [
        "\n",
        "confusion matrix:\n",
        "           predicted edible  predicted poisonous\n",
        "edible                 4376                  135\n",
        "poisonous              1807                 2102\n",
        "\n",
        "\n",
        "features: ['stalk_shape', 'stalk_color_above_ring']"
       ]
      },
      {
       "output_type": "stream",
       "stream": "stdout",
       "text": [
        "\n",
        "confusion matrix:\n",
        "           predicted edible  predicted poisonous\n",
        "edible                 3900                  611\n",
        "poisonous              1745                 2164\n",
        "\n",
        "\n",
        "features: ['stalk_shape', 'stalk_color_below_ring']"
       ]
      },
      {
       "output_type": "stream",
       "stream": "stdout",
       "text": [
        "\n",
        "confusion matrix:\n",
        "           predicted edible  predicted poisonous\n",
        "edible                 3798                  713\n",
        "poisonous              1694                 2215\n",
        "\n",
        "\n",
        "features: ['stalk_shape', 'veil_type']"
       ]
      },
      {
       "output_type": "stream",
       "stream": "stdout",
       "text": [
        "\n",
        "confusion matrix:\n",
        "           predicted edible  predicted poisonous\n",
        "edible                 2884                 1627\n",
        "poisonous              2019                 1890\n",
        "\n",
        "\n",
        "features: ['stalk_shape', 'veil_color']"
       ]
      },
      {
       "output_type": "stream",
       "stream": "stdout",
       "text": [
        "\n",
        "confusion matrix:\n",
        "           predicted edible  predicted poisonous\n",
        "edible                 3067                 1444\n",
        "poisonous              2019                 1890\n",
        "\n",
        "\n",
        "features: ['stalk_shape', 'ring_number']"
       ]
      },
      {
       "output_type": "stream",
       "stream": "stdout",
       "text": [
        "\n",
        "confusion matrix:\n",
        "           predicted edible  predicted poisonous\n",
        "edible                 3383                 1128\n",
        "poisonous              2102                 1807\n",
        "\n",
        "\n",
        "features: ['stalk_shape', 'ring_type']"
       ]
      },
      {
       "output_type": "stream",
       "stream": "stdout",
       "text": [
        "\n",
        "confusion matrix:\n",
        "           predicted edible  predicted poisonous\n",
        "edible                 3238                 1273\n",
        "poisonous               819                 3090\n",
        "\n",
        "\n",
        "features: ['stalk_shape', 'spore_print_color']"
       ]
      },
      {
       "output_type": "stream",
       "stream": "stdout",
       "text": [
        "\n",
        "confusion matrix:\n",
        "           predicted edible  predicted poisonous\n",
        "edible                 3881                  630\n",
        "poisonous               455                 3454\n",
        "\n",
        "\n",
        "features: ['stalk_shape', 'population']"
       ]
      },
      {
       "output_type": "stream",
       "stream": "stdout",
       "text": [
        "\n",
        "confusion matrix:\n",
        "           predicted edible  predicted poisonous\n",
        "edible                 3070                 1441\n",
        "poisonous               410                 3499\n",
        "\n",
        "\n",
        "features: ['stalk_shape', 'habitat']"
       ]
      },
      {
       "output_type": "stream",
       "stream": "stdout",
       "text": [
        "\n",
        "confusion matrix:\n",
        "           predicted edible  predicted poisonous\n",
        "edible                 3949                  562\n",
        "poisonous              1365                 2544\n",
        "\n",
        "\n",
        "features: ['stalk_root', 'stalk_surface_above_ring']"
       ]
      },
      {
       "output_type": "stream",
       "stream": "stdout",
       "text": [
        "\n",
        "confusion matrix:\n",
        "           predicted edible  predicted poisonous\n",
        "edible                 3820                  691\n",
        "poisonous               830                 3079\n",
        "\n",
        "\n",
        "features: ['stalk_root', 'stalk_surface_below_ring']"
       ]
      },
      {
       "output_type": "stream",
       "stream": "stdout",
       "text": [
        "\n",
        "confusion matrix:\n",
        "           predicted edible  predicted poisonous\n",
        "edible                 3856                  655\n",
        "poisonous               819                 3090\n",
        "\n",
        "\n",
        "features: ['stalk_root', 'stalk_color_above_ring']"
       ]
      },
      {
       "output_type": "stream",
       "stream": "stdout",
       "text": [
        "\n",
        "confusion matrix:\n",
        "           predicted edible  predicted poisonous\n",
        "edible                 3487                 1024\n",
        "poisonous               819                 3090\n",
        "\n",
        "\n",
        "features: ['stalk_root', 'stalk_color_below_ring']"
       ]
      },
      {
       "output_type": "stream",
       "stream": "stdout",
       "text": [
        "\n",
        "confusion matrix:\n",
        "           predicted edible  predicted poisonous\n",
        "edible                 3386                 1125\n",
        "poisonous               821                 3088\n",
        "\n",
        "\n",
        "features: ['stalk_root', 'veil_type']"
       ]
      },
      {
       "output_type": "stream",
       "stream": "stdout",
       "text": [
        "\n",
        "confusion matrix:\n",
        "           predicted edible  predicted poisonous\n",
        "edible                 3822                  689\n",
        "poisonous              2130                 1779\n",
        "\n",
        "\n",
        "features: ['stalk_root', 'veil_color']"
       ]
      },
      {
       "output_type": "stream",
       "stream": "stdout",
       "text": [
        "\n",
        "confusion matrix:\n",
        "           predicted edible  predicted poisonous\n",
        "edible                 4005                  506\n",
        "poisonous              2127                 1782\n",
        "\n",
        "\n",
        "features: ['stalk_root', 'ring_number']"
       ]
      },
      {
       "output_type": "stream",
       "stream": "stdout",
       "text": [
        "\n",
        "confusion matrix:\n",
        "           predicted edible  predicted poisonous\n",
        "edible                 2681                 1830\n",
        "poisonous               751                 3158\n",
        "\n",
        "\n",
        "features: ['stalk_root', 'ring_type']"
       ]
      },
      {
       "output_type": "stream",
       "stream": "stdout",
       "text": [
        "\n",
        "confusion matrix:\n",
        "           predicted edible  predicted poisonous\n",
        "edible                 3868                  643\n",
        "poisonous               830                 3079\n",
        "\n",
        "\n",
        "features: ['stalk_root', 'spore_print_color']"
       ]
      },
      {
       "output_type": "stream",
       "stream": "stdout",
       "text": [
        "\n",
        "confusion matrix:\n",
        "           predicted edible  predicted poisonous\n",
        "edible                 3881                  630\n",
        "poisonous               455                 3454\n",
        "\n",
        "\n",
        "features: ['stalk_root', 'population']"
       ]
      },
      {
       "output_type": "stream",
       "stream": "stdout",
       "text": [
        "\n",
        "confusion matrix:\n",
        "           predicted edible  predicted poisonous\n",
        "edible                 3131                 1380\n",
        "poisonous              1095                 2814\n",
        "\n",
        "\n",
        "features: ['stalk_root', 'habitat']"
       ]
      },
      {
       "output_type": "stream",
       "stream": "stdout",
       "text": [
        "\n",
        "confusion matrix:\n",
        "           predicted edible  predicted poisonous\n",
        "edible                 3874                  637\n",
        "poisonous               836                 3073\n",
        "\n",
        "\n",
        "features: ['stalk_surface_above_ring', 'stalk_surface_below_ring']"
       ]
      },
      {
       "output_type": "stream",
       "stream": "stdout",
       "text": [
        "\n",
        "confusion matrix:\n",
        "           predicted edible  predicted poisonous\n",
        "edible                 4311                  200\n",
        "poisonous              1282                 2627\n",
        "\n",
        "\n",
        "features: ['stalk_surface_above_ring', 'stalk_color_above_ring']"
       ]
      },
      {
       "output_type": "stream",
       "stream": "stdout",
       "text": [
        "\n",
        "confusion matrix:\n",
        "           predicted edible  predicted poisonous\n",
        "edible                 4381                  130\n",
        "poisonous              1674                 2235\n",
        "\n",
        "\n",
        "features: ['stalk_surface_above_ring', 'stalk_color_below_ring']"
       ]
      },
      {
       "output_type": "stream",
       "stream": "stdout",
       "text": [
        "\n",
        "confusion matrix:\n",
        "           predicted edible  predicted poisonous\n",
        "edible                 4381                  130\n",
        "poisonous              1674                 2235\n",
        "\n",
        "\n",
        "features: ['stalk_surface_above_ring', 'veil_type']"
       ]
      },
      {
       "output_type": "stream",
       "stream": "stdout",
       "text": [
        "\n",
        "confusion matrix:\n",
        "           predicted edible  predicted poisonous\n",
        "edible                 4381                  130\n",
        "poisonous              1685                 2224\n",
        "\n",
        "\n",
        "features: ['stalk_surface_above_ring', 'veil_color']"
       ]
      },
      {
       "output_type": "stream",
       "stream": "stdout",
       "text": [
        "\n",
        "confusion matrix:\n",
        "           predicted edible  predicted poisonous\n",
        "edible                 4381                  130\n",
        "poisonous              1674                 2235\n",
        "\n",
        "\n",
        "features: ['stalk_surface_above_ring', 'ring_number']"
       ]
      },
      {
       "output_type": "stream",
       "stream": "stdout",
       "text": [
        "\n",
        "confusion matrix:\n",
        "           predicted edible  predicted poisonous\n",
        "edible                 4493                   18\n",
        "poisonous              1674                 2235\n",
        "\n",
        "\n",
        "features: ['stalk_surface_above_ring', 'ring_type']"
       ]
      },
      {
       "output_type": "stream",
       "stream": "stdout",
       "text": [
        "\n",
        "confusion matrix:\n",
        "           predicted edible  predicted poisonous\n",
        "edible                 3637                  874\n",
        "poisonous               819                 3090\n",
        "\n",
        "\n",
        "features: ['stalk_surface_above_ring', 'spore_print_color']"
       ]
      },
      {
       "output_type": "stream",
       "stream": "stdout",
       "text": [
        "\n",
        "confusion matrix:\n",
        "           predicted edible  predicted poisonous\n",
        "edible                 3936                  575\n",
        "poisonous               466                 3443\n",
        "\n",
        "\n",
        "features: ['stalk_surface_above_ring', 'population']"
       ]
      },
      {
       "output_type": "stream",
       "stream": "stdout",
       "text": [
        "\n",
        "confusion matrix:\n",
        "           predicted edible  predicted poisonous\n",
        "edible                 3212                 1299\n",
        "poisonous               363                 3546\n",
        "\n",
        "\n",
        "features: ['stalk_surface_above_ring', 'habitat']"
       ]
      },
      {
       "output_type": "stream",
       "stream": "stdout",
       "text": [
        "\n",
        "confusion matrix:\n",
        "           predicted edible  predicted poisonous\n",
        "edible                 3873                  638\n",
        "poisonous               860                 3049\n",
        "\n",
        "\n",
        "features: ['stalk_surface_below_ring', 'stalk_color_above_ring']"
       ]
      },
      {
       "output_type": "stream",
       "stream": "stdout",
       "text": [
        "\n",
        "confusion matrix:\n",
        "           predicted edible  predicted poisonous\n",
        "edible                 4365                  146\n",
        "poisonous              1749                 2160\n",
        "\n",
        "\n",
        "features: ['stalk_surface_below_ring', 'stalk_color_below_ring']"
       ]
      },
      {
       "output_type": "stream",
       "stream": "stdout",
       "text": [
        "\n",
        "confusion matrix:\n",
        "           predicted edible  predicted poisonous\n",
        "edible                 4339                  172\n",
        "poisonous              1736                 2173\n",
        "\n",
        "\n",
        "features: ['stalk_surface_below_ring', 'veil_type']"
       ]
      },
      {
       "output_type": "stream",
       "stream": "stdout",
       "text": [
        "\n",
        "confusion matrix:\n",
        "           predicted edible  predicted poisonous\n",
        "edible                 4376                  135\n",
        "poisonous              1807                 2102\n",
        "\n",
        "\n",
        "features: ['stalk_surface_below_ring', 'veil_color']"
       ]
      },
      {
       "output_type": "stream",
       "stream": "stdout",
       "text": [
        "\n",
        "confusion matrix:\n",
        "           predicted edible  predicted poisonous\n",
        "edible                 4376                  135\n",
        "poisonous              1796                 2113\n",
        "\n",
        "\n",
        "features: ['stalk_surface_below_ring', 'ring_number']"
       ]
      },
      {
       "output_type": "stream",
       "stream": "stdout",
       "text": [
        "\n",
        "confusion matrix:\n",
        "           predicted edible  predicted poisonous\n",
        "edible                 4493                   18\n",
        "poisonous              1760                 2149\n",
        "\n",
        "\n",
        "features: ['stalk_surface_below_ring', 'ring_type']"
       ]
      },
      {
       "output_type": "stream",
       "stream": "stdout",
       "text": [
        "\n",
        "confusion matrix:\n",
        "           predicted edible  predicted poisonous\n",
        "edible                 3639                  872\n",
        "poisonous               862                 3047\n",
        "\n",
        "\n",
        "features: ['stalk_surface_below_ring', 'spore_print_color']"
       ]
      },
      {
       "output_type": "stream",
       "stream": "stdout",
       "text": [
        "\n",
        "confusion matrix:\n",
        "           predicted edible  predicted poisonous\n",
        "edible                 3929                  582\n",
        "poisonous               455                 3454\n",
        "\n",
        "\n",
        "features: ['stalk_surface_below_ring', 'population']"
       ]
      },
      {
       "output_type": "stream",
       "stream": "stdout",
       "text": [
        "\n",
        "confusion matrix:\n",
        "           predicted edible  predicted poisonous\n",
        "edible                 3200                 1311\n",
        "poisonous               410                 3499\n",
        "\n",
        "\n",
        "features: ['stalk_surface_below_ring', 'habitat']"
       ]
      },
      {
       "output_type": "stream",
       "stream": "stdout",
       "text": [
        "\n",
        "confusion matrix:\n",
        "           predicted edible  predicted poisonous\n",
        "edible                 3901                  610\n",
        "poisonous               953                 2956\n",
        "\n",
        "\n",
        "features: ['stalk_color_above_ring', 'stalk_color_below_ring']"
       ]
      },
      {
       "output_type": "stream",
       "stream": "stdout",
       "text": [
        "\n",
        "confusion matrix:\n",
        "           predicted edible  predicted poisonous\n",
        "edible                 3831                  680\n",
        "poisonous              1279                 2630\n",
        "\n",
        "\n",
        "features: ['stalk_color_above_ring', 'veil_type']"
       ]
      },
      {
       "output_type": "stream",
       "stream": "stdout",
       "text": [
        "\n",
        "confusion matrix:\n",
        "           predicted edible  predicted poisonous\n",
        "edible                 3900                  611\n",
        "poisonous              1745                 2164\n",
        "\n",
        "\n",
        "features: ['stalk_color_above_ring', 'veil_color']"
       ]
      },
      {
       "output_type": "stream",
       "stream": "stdout",
       "text": [
        "\n",
        "confusion matrix:\n",
        "           predicted edible  predicted poisonous\n",
        "edible                 3900                  611\n",
        "poisonous              1745                 2164\n",
        "\n",
        "\n",
        "features: ['stalk_color_above_ring', 'ring_number']"
       ]
      },
      {
       "output_type": "stream",
       "stream": "stdout",
       "text": [
        "\n",
        "confusion matrix:\n",
        "           predicted edible  predicted poisonous\n",
        "edible                 3900                  611\n",
        "poisonous              1745                 2164\n",
        "\n",
        "\n",
        "features: ['stalk_color_above_ring', 'ring_type']"
       ]
      },
      {
       "output_type": "stream",
       "stream": "stdout",
       "text": [
        "\n",
        "confusion matrix:\n",
        "           predicted edible  predicted poisonous\n",
        "edible                 3331                 1180\n",
        "poisonous               819                 3090\n",
        "\n",
        "\n",
        "features: ['stalk_color_above_ring', 'spore_print_color']"
       ]
      },
      {
       "output_type": "stream",
       "stream": "stdout",
       "text": [
        "\n",
        "confusion matrix:\n",
        "           predicted edible  predicted poisonous\n",
        "edible                 3974                  537\n",
        "poisonous               455                 3454\n",
        "\n",
        "\n",
        "features: ['stalk_color_above_ring', 'population']"
       ]
      },
      {
       "output_type": "stream",
       "stream": "stdout",
       "text": [
        "\n",
        "confusion matrix:\n",
        "           predicted edible  predicted poisonous\n",
        "edible                 3639                  872\n",
        "poisonous               555                 3354\n",
        "\n",
        "\n",
        "features: ['stalk_color_above_ring', 'habitat']"
       ]
      },
      {
       "output_type": "stream",
       "stream": "stdout",
       "text": [
        "\n",
        "confusion matrix:\n",
        "           predicted edible  predicted poisonous\n",
        "edible                 3579                  932\n",
        "poisonous              1035                 2874\n",
        "\n",
        "\n",
        "features: ['stalk_color_below_ring', 'veil_type']"
       ]
      },
      {
       "output_type": "stream",
       "stream": "stdout",
       "text": [
        "\n",
        "confusion matrix:\n",
        "           predicted edible  predicted poisonous\n",
        "edible                 3798                  713\n",
        "poisonous              1694                 2215\n",
        "\n",
        "\n",
        "features: ['stalk_color_below_ring', 'veil_color']"
       ]
      },
      {
       "output_type": "stream",
       "stream": "stdout",
       "text": [
        "\n",
        "confusion matrix:\n",
        "           predicted edible  predicted poisonous\n",
        "edible                 3798                  713\n",
        "poisonous              1694                 2215\n",
        "\n",
        "\n",
        "features: ['stalk_color_below_ring', 'ring_number']"
       ]
      },
      {
       "output_type": "stream",
       "stream": "stdout",
       "text": [
        "\n",
        "confusion matrix:\n",
        "           predicted edible  predicted poisonous\n",
        "edible                 3798                  713\n",
        "poisonous              1694                 2215\n",
        "\n",
        "\n",
        "features: ['stalk_color_below_ring', 'ring_type']"
       ]
      },
      {
       "output_type": "stream",
       "stream": "stdout",
       "text": [
        "\n",
        "confusion matrix:\n",
        "           predicted edible  predicted poisonous\n",
        "edible                 3417                 1094\n",
        "poisonous               838                 3071\n",
        "\n",
        "\n",
        "features: ['stalk_color_below_ring', 'spore_print_color']"
       ]
      },
      {
       "output_type": "stream",
       "stream": "stdout",
       "text": [
        "\n",
        "confusion matrix:\n",
        "           predicted edible  predicted poisonous\n",
        "edible                 4047                  464\n",
        "poisonous               469                 3440\n",
        "\n",
        "\n",
        "features: ['stalk_color_below_ring', 'population']"
       ]
      },
      {
       "output_type": "stream",
       "stream": "stdout",
       "text": [
        "\n",
        "confusion matrix:\n",
        "           predicted edible  predicted poisonous\n",
        "edible                 3633                  878\n",
        "poisonous               547                 3362\n",
        "\n",
        "\n",
        "features: ['stalk_color_below_ring', 'habitat']"
       ]
      },
      {
       "output_type": "stream",
       "stream": "stdout",
       "text": [
        "\n",
        "confusion matrix:\n",
        "           predicted edible  predicted poisonous\n",
        "edible                 3562                  949\n",
        "poisonous               974                 2935\n",
        "\n",
        "\n",
        "features: ['veil_type', 'veil_color']"
       ]
      },
      {
       "output_type": "stream",
       "stream": "stdout",
       "text": [
        "\n",
        "confusion matrix:\n",
        "           predicted edible  predicted poisonous\n",
        "edible                 4511                    0\n",
        "poisonous              3898                   11\n",
        "\n",
        "\n",
        "features: ['veil_type', 'ring_number']"
       ]
      },
      {
       "output_type": "stream",
       "stream": "stdout",
       "text": [
        "\n",
        "confusion matrix:\n",
        "           predicted edible  predicted poisonous\n",
        "edible                 4511                    0\n",
        "poisonous              3862                   47\n",
        "\n",
        "\n",
        "features: ['veil_type', 'ring_type']"
       ]
      },
      {
       "output_type": "stream",
       "stream": "stdout",
       "text": [
        "\n",
        "confusion matrix:\n",
        "           predicted edible  predicted poisonous\n",
        "edible                 3238                 1273\n",
        "poisonous               819                 3090\n",
        "\n",
        "\n",
        "features: ['veil_type', 'spore_print_color']"
       ]
      },
      {
       "output_type": "stream",
       "stream": "stdout",
       "text": [
        "\n",
        "confusion matrix:\n",
        "           predicted edible  predicted poisonous\n",
        "edible                 3881                  630\n",
        "poisonous               455                 3454\n",
        "\n",
        "\n",
        "features: ['veil_type', 'population']"
       ]
      },
      {
       "output_type": "stream",
       "stream": "stdout",
       "text": [
        "\n",
        "confusion matrix:\n",
        "           predicted edible  predicted poisonous\n",
        "edible                 3273                 1238\n",
        "poisonous              1007                 2902\n",
        "\n",
        "\n",
        "features: ['veil_type', 'habitat']"
       ]
      },
      {
       "output_type": "stream",
       "stream": "stdout",
       "text": [
        "\n",
        "confusion matrix:\n",
        "           predicted edible  predicted poisonous\n",
        "edible                 4003                  508\n",
        "poisonous              2043                 1866\n",
        "\n",
        "\n",
        "features: ['veil_color', 'ring_number']"
       ]
      },
      {
       "output_type": "stream",
       "stream": "stdout",
       "text": [
        "\n",
        "confusion matrix:\n",
        "           predicted edible  predicted poisonous\n",
        "edible                 1031                 3480\n",
        "poisonous               473                 3436\n",
        "\n",
        "\n",
        "features: ['veil_color', 'ring_type']"
       ]
      },
      {
       "output_type": "stream",
       "stream": "stdout",
       "text": [
        "\n",
        "confusion matrix:\n",
        "           predicted edible  predicted poisonous\n",
        "edible                 3238                 1273\n",
        "poisonous               819                 3090\n",
        "\n",
        "\n",
        "features: ['veil_color', 'spore_print_color']"
       ]
      },
      {
       "output_type": "stream",
       "stream": "stdout",
       "text": [
        "\n",
        "confusion matrix:\n",
        "           predicted edible  predicted poisonous\n",
        "edible                 3881                  630\n",
        "poisonous               455                 3454\n",
        "\n",
        "\n",
        "features: ['veil_color', 'population']"
       ]
      },
      {
       "output_type": "stream",
       "stream": "stdout",
       "text": [
        "\n",
        "confusion matrix:\n",
        "           predicted edible  predicted poisonous\n",
        "edible                 3361                 1150\n",
        "poisonous               996                 2913\n",
        "\n",
        "\n",
        "features: ['veil_color', 'habitat']"
       ]
      },
      {
       "output_type": "stream",
       "stream": "stdout",
       "text": [
        "\n",
        "confusion matrix:\n",
        "           predicted edible  predicted poisonous\n",
        "edible                 4186                  325\n",
        "poisonous              2043                 1866\n",
        "\n",
        "\n",
        "features: ['ring_number', 'ring_type']"
       ]
      },
      {
       "output_type": "stream",
       "stream": "stdout",
       "text": [
        "\n",
        "confusion matrix:\n",
        "           predicted edible  predicted poisonous\n",
        "edible                 3428                 1083\n",
        "poisonous               819                 3090\n",
        "\n",
        "\n",
        "features: ['ring_number', 'spore_print_color']"
       ]
      },
      {
       "output_type": "stream",
       "stream": "stdout",
       "text": [
        "\n",
        "confusion matrix:\n",
        "           predicted edible  predicted poisonous\n",
        "edible                 4380                  131\n",
        "poisonous               455                 3454\n",
        "\n",
        "\n",
        "features: ['ring_number', 'population']"
       ]
      },
      {
       "output_type": "stream",
       "stream": "stdout",
       "text": [
        "\n",
        "confusion matrix:\n",
        "           predicted edible  predicted poisonous\n",
        "edible                 3290                 1221\n",
        "poisonous              1043                 2866\n",
        "\n",
        "\n",
        "features: ['ring_number', 'habitat']"
       ]
      },
      {
       "output_type": "stream",
       "stream": "stdout",
       "text": [
        "\n",
        "confusion matrix:\n",
        "           predicted edible  predicted poisonous\n",
        "edible                 4003                  508\n",
        "poisonous              1996                 1913\n",
        "\n",
        "\n",
        "features: ['ring_type', 'spore_print_color']"
       ]
      },
      {
       "output_type": "stream",
       "stream": "stdout",
       "text": [
        "\n",
        "confusion matrix:\n",
        "           predicted edible  predicted poisonous\n",
        "edible                 3927                  584\n",
        "poisonous               455                 3454\n",
        "\n",
        "\n",
        "features: ['ring_type', 'population']"
       ]
      },
      {
       "output_type": "stream",
       "stream": "stdout",
       "text": [
        "\n",
        "confusion matrix:\n",
        "           predicted edible  predicted poisonous\n",
        "edible                 4426                   85\n",
        "poisonous               830                 3079\n",
        "\n",
        "\n",
        "features: ['ring_type', 'habitat']"
       ]
      },
      {
       "output_type": "stream",
       "stream": "stdout",
       "text": [
        "\n",
        "confusion matrix:\n",
        "           predicted edible  predicted poisonous\n",
        "edible                 4319                  192\n",
        "poisonous               552                 3357\n",
        "\n",
        "\n",
        "features: ['spore_print_color', 'population']"
       ]
      },
      {
       "output_type": "stream",
       "stream": "stdout",
       "text": [
        "\n",
        "confusion matrix:\n",
        "           predicted edible  predicted poisonous\n",
        "edible                 4223                  288\n",
        "poisonous               522                 3387\n",
        "\n",
        "\n",
        "features: ['spore_print_color', 'habitat']"
       ]
      },
      {
       "output_type": "stream",
       "stream": "stdout",
       "text": [
        "\n",
        "confusion matrix:\n",
        "           predicted edible  predicted poisonous\n",
        "edible                 4234                  277\n",
        "poisonous               325                 3584\n",
        "\n",
        "\n",
        "features: ['population', 'habitat']"
       ]
      },
      {
       "output_type": "stream",
       "stream": "stdout",
       "text": [
        "\n",
        "confusion matrix:\n",
        "           predicted edible  predicted poisonous\n",
        "edible                 3065                 1446\n",
        "poisonous               597                 3312\n",
        "\n",
        "\n"
       ]
      }
     ],
     "prompt_number": 36
    },
    {
     "cell_type": "code",
     "collapsed": false,
     "input": [
      "mc.plot_confusion_matrix_dict(f2_confusion_matrix_dict)"
     ],
     "language": "python",
     "metadata": {},
     "outputs": [
      {
       "html": [
        "<pre>\n",
        "&lt;class 'pandas.core.frame.DataFrame'&gt;\n",
        "Int64Index: 231 entries, 0 to 230\n",
        "Data columns (total 3 columns):\n",
        "feature      231  non-null values\n",
        "precision    231  non-null values\n",
        "recall       231  non-null values\n",
        "dtypes: float64(2), object(1)\n",
        "</pre>"
       ],
       "output_type": "pyout",
       "prompt_number": 37,
       "text": [
        "<class 'pandas.core.frame.DataFrame'>\n",
        "Int64Index: 231 entries, 0 to 230\n",
        "Data columns (total 3 columns):\n",
        "feature      231  non-null values\n",
        "precision    231  non-null values\n",
        "recall       231  non-null values\n",
        "dtypes: float64(2), object(1)"
       ]
      },
      {
       "output_type": "display_data",
       "png": "[encoded data removed]"
      }
     ],
     "prompt_number": 37
    },
    {
     "cell_type": "markdown",
     "metadata": {},
     "source": [
      "That's a mess!  Let's filter out feature pair with less than 0.9 precision and recall."
     ]
    },
    {
     "cell_type": "code",
     "collapsed": false,
     "input": [
      "mc.plot_confusion_matrix_dict(f2_confusion_matrix_dict, \n",
      "                                min_precision=0.9, \n",
      "                                min_recall=0.9, \n",
      "                                auto_scale=True)"
     ],
     "language": "python",
     "metadata": {},
     "outputs": [
      {
       "html": [
        "<div style=\"max-height:1000px;max-width:1500px;overflow:auto;\">\n",
        "<table border=\"1\" class=\"dataframe\">\n",
        "  <thead>\n",
        "    <tr style=\"text-align: right;\">\n",
        "      <th></th>\n",
        "      <th>feature</th>\n",
        "      <th>precision</th>\n",
        "      <th>recall</th>\n",
        "    </tr>\n",
        "  </thead>\n",
        "  <tbody>\n",
        "    <tr>\n",
        "      <th>5  </th>\n",
        "      <td>                odor,veil_type</td>\n",
        "      <td> 0.970943</td>\n",
        "      <td> 1.000000</td>\n",
        "    </tr>\n",
        "    <tr>\n",
        "      <th>27 </th>\n",
        "      <td>     spore_print_color,habitat</td>\n",
        "      <td> 0.928712</td>\n",
        "      <td> 0.938595</td>\n",
        "    </tr>\n",
        "    <tr>\n",
        "      <th>34 </th>\n",
        "      <td>               odor,stalk_root</td>\n",
        "      <td> 0.970943</td>\n",
        "      <td> 1.000000</td>\n",
        "    </tr>\n",
        "    <tr>\n",
        "      <th>35 </th>\n",
        "      <td>              cap_surface,odor</td>\n",
        "      <td> 0.970943</td>\n",
        "      <td> 1.000000</td>\n",
        "    </tr>\n",
        "    <tr>\n",
        "      <th>37 </th>\n",
        "      <td>        odor,spore_print_color</td>\n",
        "      <td> 0.988604</td>\n",
        "      <td> 1.000000</td>\n",
        "    </tr>\n",
        "    <tr>\n",
        "      <th>39 </th>\n",
        "      <td>              odor,ring_number</td>\n",
        "      <td> 0.970943</td>\n",
        "      <td> 1.000000</td>\n",
        "    </tr>\n",
        "    <tr>\n",
        "      <th>42 </th>\n",
        "      <td>             odor,gill_spacing</td>\n",
        "      <td> 0.970943</td>\n",
        "      <td> 1.000000</td>\n",
        "    </tr>\n",
        "    <tr>\n",
        "      <th>51 </th>\n",
        "      <td>          odor,gill_attachment</td>\n",
        "      <td> 0.970943</td>\n",
        "      <td> 1.000000</td>\n",
        "    </tr>\n",
        "    <tr>\n",
        "      <th>52 </th>\n",
        "      <td>                odor,ring_type</td>\n",
        "      <td> 0.970943</td>\n",
        "      <td> 1.000000</td>\n",
        "    </tr>\n",
        "    <tr>\n",
        "      <th>83 </th>\n",
        "      <td>                  odor,habitat</td>\n",
        "      <td> 0.971570</td>\n",
        "      <td> 1.000000</td>\n",
        "    </tr>\n",
        "    <tr>\n",
        "      <th>84 </th>\n",
        "      <td> ring_number,spore_print_color</td>\n",
        "      <td> 0.905895</td>\n",
        "      <td> 0.970960</td>\n",
        "    </tr>\n",
        "    <tr>\n",
        "      <th>94 </th>\n",
        "      <td> odor,stalk_surface_below_ring</td>\n",
        "      <td> 0.970943</td>\n",
        "      <td> 1.000000</td>\n",
        "    </tr>\n",
        "    <tr>\n",
        "      <th>110</th>\n",
        "      <td>               odor,gill_color</td>\n",
        "      <td> 0.976830</td>\n",
        "      <td> 1.000000</td>\n",
        "    </tr>\n",
        "    <tr>\n",
        "      <th>122</th>\n",
        "      <td>               odor,veil_color</td>\n",
        "      <td> 0.971570</td>\n",
        "      <td> 1.000000</td>\n",
        "    </tr>\n",
        "    <tr>\n",
        "      <th>127</th>\n",
        "      <td>   odor,stalk_color_above_ring</td>\n",
        "      <td> 0.970943</td>\n",
        "      <td> 1.000000</td>\n",
        "    </tr>\n",
        "    <tr>\n",
        "      <th>128</th>\n",
        "      <td> odor,stalk_surface_above_ring</td>\n",
        "      <td> 0.970943</td>\n",
        "      <td> 1.000000</td>\n",
        "    </tr>\n",
        "    <tr>\n",
        "      <th>141</th>\n",
        "      <td>               odor,population</td>\n",
        "      <td> 0.970943</td>\n",
        "      <td> 1.000000</td>\n",
        "    </tr>\n",
        "    <tr>\n",
        "      <th>144</th>\n",
        "      <td>           gill_size,ring_type</td>\n",
        "      <td> 0.922540</td>\n",
        "      <td> 0.937264</td>\n",
        "    </tr>\n",
        "    <tr>\n",
        "      <th>148</th>\n",
        "      <td>                cap_shape,odor</td>\n",
        "      <td> 0.970943</td>\n",
        "      <td> 1.000000</td>\n",
        "    </tr>\n",
        "    <tr>\n",
        "      <th>159</th>\n",
        "      <td>                cap_color,odor</td>\n",
        "      <td> 0.970943</td>\n",
        "      <td> 1.000000</td>\n",
        "    </tr>\n",
        "    <tr>\n",
        "      <th>170</th>\n",
        "      <td>   gill_size,spore_print_color</td>\n",
        "      <td> 0.989021</td>\n",
        "      <td> 0.938595</td>\n",
        "    </tr>\n",
        "    <tr>\n",
        "      <th>173</th>\n",
        "      <td>              odor,stalk_shape</td>\n",
        "      <td> 0.970943</td>\n",
        "      <td> 1.000000</td>\n",
        "    </tr>\n",
        "    <tr>\n",
        "      <th>177</th>\n",
        "      <td>                  bruises,odor</td>\n",
        "      <td> 0.970943</td>\n",
        "      <td> 1.000000</td>\n",
        "    </tr>\n",
        "    <tr>\n",
        "      <th>221</th>\n",
        "      <td>                odor,gill_size</td>\n",
        "      <td> 0.970943</td>\n",
        "      <td> 1.000000</td>\n",
        "    </tr>\n",
        "    <tr>\n",
        "      <th>226</th>\n",
        "      <td>   odor,stalk_color_below_ring</td>\n",
        "      <td> 0.975984</td>\n",
        "      <td> 1.000000</td>\n",
        "    </tr>\n",
        "  </tbody>\n",
        "</table>\n",
        "</div>"
       ],
       "output_type": "pyout",
       "prompt_number": 38,
       "text": [
        "                           feature  precision    recall\n",
        "5                   odor,veil_type   0.970943  1.000000\n",
        "27       spore_print_color,habitat   0.928712  0.938595\n",
        "34                 odor,stalk_root   0.970943  1.000000\n",
        "35                cap_surface,odor   0.970943  1.000000\n",
        "37          odor,spore_print_color   0.988604  1.000000\n",
        "39                odor,ring_number   0.970943  1.000000\n",
        "42               odor,gill_spacing   0.970943  1.000000\n",
        "51            odor,gill_attachment   0.970943  1.000000\n",
        "52                  odor,ring_type   0.970943  1.000000\n",
        "83                    odor,habitat   0.971570  1.000000\n",
        "84   ring_number,spore_print_color   0.905895  0.970960\n",
        "94   odor,stalk_surface_below_ring   0.970943  1.000000\n",
        "110                odor,gill_color   0.976830  1.000000\n",
        "122                odor,veil_color   0.971570  1.000000\n",
        "127    odor,stalk_color_above_ring   0.970943  1.000000\n",
        "128  odor,stalk_surface_above_ring   0.970943  1.000000\n",
        "141                odor,population   0.970943  1.000000\n",
        "144            gill_size,ring_type   0.922540  0.937264\n",
        "148                 cap_shape,odor   0.970943  1.000000\n",
        "159                 cap_color,odor   0.970943  1.000000\n",
        "170    gill_size,spore_print_color   0.989021  0.938595\n",
        "173               odor,stalk_shape   0.970943  1.000000\n",
        "177                   bruises,odor   0.970943  1.000000\n",
        "221                 odor,gill_size   0.970943  1.000000\n",
        "226    odor,stalk_color_below_ring   0.975984  1.000000"
       ]
      },
      {
       "output_type": "display_data",
       "png": "[encoded data removed]"
      }
     ],
     "prompt_number": 38
    },
    {
     "cell_type": "markdown",
     "metadata": {},
     "source": [
      "The graph above is still too crowded to tell what is going on, but we see at least that there are a lot of feature pairs clustered at recall=1.0 and precision>0.97.\n",
      "\n",
      "Here's a look at the best performing pair."
     ]
    },
    {
     "cell_type": "code",
     "collapsed": false,
     "input": [
      "f2_confusion_matrix_dict[('odor','spore_print_color')]"
     ],
     "language": "python",
     "metadata": {},
     "outputs": [
      {
       "html": [
        "<div style=\"max-height:1000px;max-width:1500px;overflow:auto;\">\n",
        "<table border=\"1\" class=\"dataframe\">\n",
        "  <thead>\n",
        "    <tr style=\"text-align: right;\">\n",
        "      <th></th>\n",
        "      <th>predicted edible</th>\n",
        "      <th>predicted poisonous</th>\n",
        "    </tr>\n",
        "  </thead>\n",
        "  <tbody>\n",
        "    <tr>\n",
        "      <th>edible</th>\n",
        "      <td> 4511</td>\n",
        "      <td>    0</td>\n",
        "    </tr>\n",
        "    <tr>\n",
        "      <th>poisonous</th>\n",
        "      <td>   52</td>\n",
        "      <td> 3857</td>\n",
        "    </tr>\n",
        "  </tbody>\n",
        "</table>\n",
        "</div>"
       ],
       "output_type": "pyout",
       "prompt_number": 39,
       "text": [
        "           predicted edible  predicted poisonous\n",
        "edible                 4511                    0\n",
        "poisonous                52                 3857"
       ]
      }
     ],
     "prompt_number": 39
    },
    {
     "cell_type": "markdown",
     "metadata": {},
     "source": [
      "Now let's take our best performing features based on the single feature analysis and combine these into combinations of 3 or 4.  There are 56 combinations of 3 items from a set of 8, and 70 combinations of 4 items from a set of 8, so the size here is not an issue.\n",
      "\n",
      "We saved the dataframe for the single features with precision and recall above 0.7 as the variable f1_df."
     ]
    },
    {
     "cell_type": "code",
     "collapsed": false,
     "input": [
      "f1_df['feature'].tolist()"
     ],
     "language": "python",
     "metadata": {},
     "outputs": [
      {
       "output_type": "pyout",
       "prompt_number": 40,
       "text": [
        "['odor',\n",
        " 'gill_size',\n",
        " 'population',\n",
        " 'stalk_surface_above_ring',\n",
        " 'gill_color',\n",
        " 'stalk_surface_below_ring',\n",
        " 'spore_print_color',\n",
        " 'ring_type']"
       ]
      }
     ],
     "prompt_number": 40
    },
    {
     "cell_type": "code",
     "collapsed": false,
     "input": [
      "f3_confusion_matrix_dict = mc.test_n_features(X, y, f1_df['feature'].tolist(), n_features=3)"
     ],
     "language": "python",
     "metadata": {},
     "outputs": [
      {
       "output_type": "stream",
       "stream": "stdout",
       "text": [
        "features: ['odor', 'gill_size', 'population']\n",
        "confusion matrix:\n",
        "           predicted edible  predicted poisonous\n",
        "edible                 4511                    0\n",
        "poisonous               135                 3774\n",
        "\n",
        "\n",
        "features: ['odor', 'gill_size', 'stalk_surface_above_ring']"
       ]
      },
      {
       "output_type": "stream",
       "stream": "stdout",
       "text": [
        "\n",
        "confusion matrix:\n",
        "           predicted edible  predicted poisonous\n",
        "edible                 4511                    0\n",
        "poisonous                92                 3817\n",
        "\n",
        "\n",
        "features: ['odor', 'gill_size', 'gill_color']"
       ]
      },
      {
       "output_type": "stream",
       "stream": "stdout",
       "text": [
        "\n",
        "confusion matrix:\n",
        "           predicted edible  predicted poisonous\n",
        "edible                 4511                    0\n",
        "poisonous               107                 3802\n",
        "\n",
        "\n",
        "features: ['odor', 'gill_size', 'stalk_surface_below_ring']"
       ]
      },
      {
       "output_type": "stream",
       "stream": "stdout",
       "text": [
        "\n",
        "confusion matrix:\n",
        "           predicted edible  predicted poisonous\n",
        "edible                 4511                    0\n",
        "poisonous                92                 3817\n",
        "\n",
        "\n",
        "features: ['odor', 'gill_size', 'spore_print_color']"
       ]
      },
      {
       "output_type": "stream",
       "stream": "stdout",
       "text": [
        "\n",
        "confusion matrix:\n",
        "           predicted edible  predicted poisonous\n",
        "edible                 4511                    0\n",
        "poisonous                52                 3857\n",
        "\n",
        "\n",
        "features: ['odor', 'gill_size', 'ring_type']"
       ]
      },
      {
       "output_type": "stream",
       "stream": "stdout",
       "text": [
        "\n",
        "confusion matrix:\n",
        "           predicted edible  predicted poisonous\n",
        "edible                 4511                    0\n",
        "poisonous               135                 3774\n",
        "\n",
        "\n",
        "features: ['odor', 'population', 'stalk_surface_above_ring']"
       ]
      },
      {
       "output_type": "stream",
       "stream": "stdout",
       "text": [
        "\n",
        "confusion matrix:\n",
        "           predicted edible  predicted poisonous\n",
        "edible                 4511                    0\n",
        "poisonous                92                 3817\n",
        "\n",
        "\n",
        "features: ['odor', 'population', 'gill_color']"
       ]
      },
      {
       "output_type": "stream",
       "stream": "stdout",
       "text": [
        "\n",
        "confusion matrix:\n",
        "           predicted edible  predicted poisonous\n",
        "edible                 4511                    0\n",
        "poisonous               107                 3802\n",
        "\n",
        "\n",
        "features: ['odor', 'population', 'stalk_surface_below_ring']"
       ]
      },
      {
       "output_type": "stream",
       "stream": "stdout",
       "text": [
        "\n",
        "confusion matrix:\n",
        "           predicted edible  predicted poisonous\n",
        "edible                 4511                    0\n",
        "poisonous                92                 3817\n",
        "\n",
        "\n",
        "features: ['odor', 'population', 'spore_print_color']"
       ]
      },
      {
       "output_type": "stream",
       "stream": "stdout",
       "text": [
        "\n",
        "confusion matrix:\n",
        "           predicted edible  predicted poisonous\n",
        "edible                 4511                    0\n",
        "poisonous                52                 3857\n",
        "\n",
        "\n",
        "features: ['odor', 'population', 'ring_type']"
       ]
      },
      {
       "output_type": "stream",
       "stream": "stdout",
       "text": [
        "\n",
        "confusion matrix:\n",
        "           predicted edible  predicted poisonous\n",
        "edible                 4511                    0\n",
        "poisonous               135                 3774\n",
        "\n",
        "\n",
        "features: ['odor', 'stalk_surface_above_ring', 'gill_color']"
       ]
      },
      {
       "output_type": "stream",
       "stream": "stdout",
       "text": [
        "\n",
        "confusion matrix:\n",
        "           predicted edible  predicted poisonous\n",
        "edible                 4511                    0\n",
        "poisonous               107                 3802\n",
        "\n",
        "\n",
        "features: ['odor', 'stalk_surface_above_ring', 'stalk_surface_below_ring']"
       ]
      },
      {
       "output_type": "stream",
       "stream": "stdout",
       "text": [
        "\n",
        "confusion matrix:\n",
        "           predicted edible  predicted poisonous\n",
        "edible                 4511                    0\n",
        "poisonous               103                 3806\n",
        "\n",
        "\n",
        "features: ['odor', 'stalk_surface_above_ring', 'spore_print_color']"
       ]
      },
      {
       "output_type": "stream",
       "stream": "stdout",
       "text": [
        "\n",
        "confusion matrix:\n",
        "           predicted edible  predicted poisonous\n",
        "edible                 4511                    0\n",
        "poisonous                52                 3857\n",
        "\n",
        "\n",
        "features: ['odor', 'stalk_surface_above_ring', 'ring_type']"
       ]
      },
      {
       "output_type": "stream",
       "stream": "stdout",
       "text": [
        "\n",
        "confusion matrix:\n",
        "           predicted edible  predicted poisonous\n",
        "edible                 4511                    0\n",
        "poisonous               135                 3774\n",
        "\n",
        "\n",
        "features: ['odor', 'gill_color', 'stalk_surface_below_ring']"
       ]
      },
      {
       "output_type": "stream",
       "stream": "stdout",
       "text": [
        "\n",
        "confusion matrix:\n",
        "           predicted edible  predicted poisonous\n",
        "edible                 4504                    7\n",
        "poisonous                99                 3810\n",
        "\n",
        "\n",
        "features: ['odor', 'gill_color', 'spore_print_color']"
       ]
      },
      {
       "output_type": "stream",
       "stream": "stdout",
       "text": [
        "\n",
        "confusion matrix:\n",
        "           predicted edible  predicted poisonous\n",
        "edible                 4511                    0\n",
        "poisonous                52                 3857\n",
        "\n",
        "\n",
        "features: ['odor', 'gill_color', 'ring_type']"
       ]
      },
      {
       "output_type": "stream",
       "stream": "stdout",
       "text": [
        "\n",
        "confusion matrix:\n",
        "           predicted edible  predicted poisonous\n",
        "edible                 4511                    0\n",
        "poisonous               107                 3802\n",
        "\n",
        "\n",
        "features: ['odor', 'stalk_surface_below_ring', 'spore_print_color']"
       ]
      },
      {
       "output_type": "stream",
       "stream": "stdout",
       "text": [
        "\n",
        "confusion matrix:\n",
        "           predicted edible  predicted poisonous\n",
        "edible                 4508                    3\n",
        "poisonous                48                 3861\n",
        "\n",
        "\n",
        "features: ['odor', 'stalk_surface_below_ring', 'ring_type']"
       ]
      },
      {
       "output_type": "stream",
       "stream": "stdout",
       "text": [
        "\n",
        "confusion matrix:\n",
        "           predicted edible  predicted poisonous\n",
        "edible                 4511                    0\n",
        "poisonous               135                 3774\n",
        "\n",
        "\n",
        "features: ['odor', 'spore_print_color', 'ring_type']"
       ]
      },
      {
       "output_type": "stream",
       "stream": "stdout",
       "text": [
        "\n",
        "confusion matrix:\n",
        "           predicted edible  predicted poisonous\n",
        "edible                 4511                    0\n",
        "poisonous                52                 3857\n",
        "\n",
        "\n",
        "features: ['gill_size', 'population', 'stalk_surface_above_ring']"
       ]
      },
      {
       "output_type": "stream",
       "stream": "stdout",
       "text": [
        "\n",
        "confusion matrix:\n",
        "           predicted edible  predicted poisonous\n",
        "edible                 4205                  306\n",
        "poisonous               363                 3546\n",
        "\n",
        "\n",
        "features: ['gill_size', 'population', 'gill_color']"
       ]
      },
      {
       "output_type": "stream",
       "stream": "stdout",
       "text": [
        "\n",
        "confusion matrix:\n",
        "           predicted edible  predicted poisonous\n",
        "edible                 3960                  551\n",
        "poisonous               879                 3030\n",
        "\n",
        "\n",
        "features: ['gill_size', 'population', 'stalk_surface_below_ring']"
       ]
      },
      {
       "output_type": "stream",
       "stream": "stdout",
       "text": [
        "\n",
        "confusion matrix:\n",
        "           predicted edible  predicted poisonous\n",
        "edible                 4169                  342\n",
        "poisonous               402                 3507\n",
        "\n",
        "\n",
        "features: ['gill_size', 'population', 'spore_print_color']"
       ]
      },
      {
       "output_type": "stream",
       "stream": "stdout",
       "text": [
        "\n",
        "confusion matrix:\n",
        "           predicted edible  predicted poisonous\n",
        "edible                 4294                  217\n",
        "poisonous                47                 3862\n",
        "\n",
        "\n",
        "features: ['gill_size', 'population', 'ring_type']"
       ]
      },
      {
       "output_type": "stream",
       "stream": "stdout",
       "text": [
        "\n",
        "confusion matrix:\n",
        "           predicted edible  predicted poisonous\n",
        "edible                 4288                  223\n",
        "poisonous               355                 3554\n",
        "\n",
        "\n",
        "features: ['gill_size', 'stalk_surface_above_ring', 'gill_color']"
       ]
      },
      {
       "output_type": "stream",
       "stream": "stdout",
       "text": [
        "\n",
        "confusion matrix:\n",
        "           predicted edible  predicted poisonous\n",
        "edible                 4122                  389\n",
        "poisonous               474                 3435\n",
        "\n",
        "\n",
        "features: ['gill_size', 'stalk_surface_above_ring', 'stalk_surface_below_ring']"
       ]
      },
      {
       "output_type": "stream",
       "stream": "stdout",
       "text": [
        "\n",
        "confusion matrix:\n",
        "           predicted edible  predicted poisonous\n",
        "edible                 4052                  459\n",
        "poisonous               355                 3554\n",
        "\n",
        "\n",
        "features: ['gill_size', 'stalk_surface_above_ring', 'spore_print_color']"
       ]
      },
      {
       "output_type": "stream",
       "stream": "stdout",
       "text": [
        "\n",
        "confusion matrix:\n",
        "           predicted edible  predicted poisonous\n",
        "edible                 4234                  277\n",
        "poisonous                47                 3862\n",
        "\n",
        "\n",
        "features: ['gill_size', 'stalk_surface_above_ring', 'ring_type']"
       ]
      },
      {
       "output_type": "stream",
       "stream": "stdout",
       "text": [
        "\n",
        "confusion matrix:\n",
        "           predicted edible  predicted poisonous\n",
        "edible                 4228                  283\n",
        "poisonous               355                 3554\n",
        "\n",
        "\n",
        "features: ['gill_size', 'gill_color', 'stalk_surface_below_ring']"
       ]
      },
      {
       "output_type": "stream",
       "stream": "stdout",
       "text": [
        "\n",
        "confusion matrix:\n",
        "           predicted edible  predicted poisonous\n",
        "edible                 4112                  399\n",
        "poisonous               507                 3402\n",
        "\n",
        "\n",
        "features: ['gill_size', 'gill_color', 'spore_print_color']"
       ]
      },
      {
       "output_type": "stream",
       "stream": "stdout",
       "text": [
        "\n",
        "confusion matrix:\n",
        "           predicted edible  predicted poisonous\n",
        "edible                 4242                  269\n",
        "poisonous                75                 3834\n",
        "\n",
        "\n",
        "features: ['gill_size', 'gill_color', 'ring_type']"
       ]
      },
      {
       "output_type": "stream",
       "stream": "stdout",
       "text": [
        "\n",
        "confusion matrix:\n",
        "           predicted edible  predicted poisonous\n",
        "edible                 4313                  198\n",
        "poisonous               284                 3625\n",
        "\n",
        "\n",
        "features: ['gill_size', 'stalk_surface_below_ring', 'spore_print_color']"
       ]
      },
      {
       "output_type": "stream",
       "stream": "stdout",
       "text": [
        "\n",
        "confusion matrix:\n",
        "           predicted edible  predicted poisonous\n",
        "edible                 4282                  229\n",
        "poisonous                47                 3862\n",
        "\n",
        "\n",
        "features: ['gill_size', 'stalk_surface_below_ring', 'ring_type']"
       ]
      },
      {
       "output_type": "stream",
       "stream": "stdout",
       "text": [
        "\n",
        "confusion matrix:\n",
        "           predicted edible  predicted poisonous\n",
        "edible                 4228                  283\n",
        "poisonous               355                 3554\n",
        "\n",
        "\n",
        "features: ['gill_size', 'spore_print_color', 'ring_type']"
       ]
      },
      {
       "output_type": "stream",
       "stream": "stdout",
       "text": [
        "\n",
        "confusion matrix:\n",
        "           predicted edible  predicted poisonous\n",
        "edible                 4280                  231\n",
        "poisonous                 0                 3909\n",
        "\n",
        "\n",
        "features: ['population', 'stalk_surface_above_ring', 'gill_color']"
       ]
      },
      {
       "output_type": "stream",
       "stream": "stdout",
       "text": [
        "\n",
        "confusion matrix:\n",
        "           predicted edible  predicted poisonous\n",
        "edible                 4437                   74\n",
        "poisonous               752                 3157\n",
        "\n",
        "\n",
        "features: ['population', 'stalk_surface_above_ring', 'stalk_surface_below_ring']"
       ]
      },
      {
       "output_type": "stream",
       "stream": "stdout",
       "text": [
        "\n",
        "confusion matrix:\n",
        "           predicted edible  predicted poisonous\n",
        "edible                 4364                  147\n",
        "poisonous              1215                 2694\n",
        "\n",
        "\n",
        "features: ['population', 'stalk_surface_above_ring', 'spore_print_color']"
       ]
      },
      {
       "output_type": "stream",
       "stream": "stdout",
       "text": [
        "\n",
        "confusion matrix:\n",
        "           predicted edible  predicted poisonous\n",
        "edible                 4266                  245\n",
        "poisonous               475                 3434\n",
        "\n",
        "\n",
        "features: ['population', 'stalk_surface_above_ring', 'ring_type']"
       ]
      },
      {
       "output_type": "stream",
       "stream": "stdout",
       "text": [
        "\n",
        "confusion matrix:\n",
        "           predicted edible  predicted poisonous\n",
        "edible                 4365                  146\n",
        "poisonous               819                 3090\n",
        "\n",
        "\n",
        "features: ['population', 'gill_color', 'stalk_surface_below_ring']"
       ]
      },
      {
       "output_type": "stream",
       "stream": "stdout",
       "text": [
        "\n",
        "confusion matrix:\n",
        "           predicted edible  predicted poisonous\n",
        "edible                 4429                   82\n",
        "poisonous               796                 3113\n",
        "\n",
        "\n",
        "features: ['population', 'gill_color', 'spore_print_color']"
       ]
      },
      {
       "output_type": "stream",
       "stream": "stdout",
       "text": [
        "\n",
        "confusion matrix:\n",
        "           predicted edible  predicted poisonous\n",
        "edible                 4462                   49\n",
        "poisonous               523                 3386\n",
        "\n",
        "\n",
        "features: ['population', 'gill_color', 'ring_type']"
       ]
      },
      {
       "output_type": "stream",
       "stream": "stdout",
       "text": [
        "\n",
        "confusion matrix:\n",
        "           predicted edible  predicted poisonous\n",
        "edible                 4511                    0\n",
        "poisonous               748                 3161\n",
        "\n",
        "\n",
        "features: ['population', 'stalk_surface_below_ring', 'spore_print_color']"
       ]
      },
      {
       "output_type": "stream",
       "stream": "stdout",
       "text": [
        "\n",
        "confusion matrix:\n",
        "           predicted edible  predicted poisonous\n",
        "edible                 4295                  216\n",
        "poisonous               522                 3387\n",
        "\n",
        "\n",
        "features: ['population', 'stalk_surface_below_ring', 'ring_type']"
       ]
      },
      {
       "output_type": "stream",
       "stream": "stdout",
       "text": [
        "\n",
        "confusion matrix:\n",
        "           predicted edible  predicted poisonous\n",
        "edible                 4353                  158\n",
        "poisonous               830                 3079\n",
        "\n",
        "\n",
        "features: ['population', 'spore_print_color', 'ring_type']"
       ]
      },
      {
       "output_type": "stream",
       "stream": "stdout",
       "text": [
        "\n",
        "confusion matrix:\n",
        "           predicted edible  predicted poisonous\n",
        "edible                 4269                  242\n",
        "poisonous               475                 3434\n",
        "\n",
        "\n",
        "features: ['stalk_surface_above_ring', 'gill_color', 'stalk_surface_below_ring']"
       ]
      },
      {
       "output_type": "stream",
       "stream": "stdout",
       "text": [
        "\n",
        "confusion matrix:\n",
        "           predicted edible  predicted poisonous\n",
        "edible                 4381                  130\n",
        "poisonous               802                 3107\n",
        "\n",
        "\n",
        "features: ['stalk_surface_above_ring', 'gill_color', 'spore_print_color']"
       ]
      },
      {
       "output_type": "stream",
       "stream": "stdout",
       "text": [
        "\n",
        "confusion matrix:\n",
        "           predicted edible  predicted poisonous\n",
        "edible                 4465                   46\n",
        "poisonous               526                 3383\n",
        "\n",
        "\n",
        "features: ['stalk_surface_above_ring', 'gill_color', 'ring_type']"
       ]
      },
      {
       "output_type": "stream",
       "stream": "stdout",
       "text": [
        "\n",
        "confusion matrix:\n",
        "           predicted edible  predicted poisonous\n",
        "edible                 4509                    2\n",
        "poisonous               658                 3251\n",
        "\n",
        "\n",
        "features: ['stalk_surface_above_ring', 'stalk_surface_below_ring', 'spore_print_color']"
       ]
      },
      {
       "output_type": "stream",
       "stream": "stdout",
       "text": [
        "\n",
        "confusion matrix:\n",
        "           predicted edible  predicted poisonous\n",
        "edible                 3961                  550\n",
        "poisonous               466                 3443\n",
        "\n",
        "\n",
        "features: ['stalk_surface_above_ring', 'stalk_surface_below_ring', 'ring_type']"
       ]
      },
      {
       "output_type": "stream",
       "stream": "stdout",
       "text": [
        "\n",
        "confusion matrix:\n",
        "           predicted edible  predicted poisonous\n",
        "edible                 4311                  200\n",
        "poisonous              1282                 2627\n",
        "\n",
        "\n",
        "features: ['stalk_surface_above_ring', 'spore_print_color', 'ring_type']"
       ]
      },
      {
       "output_type": "stream",
       "stream": "stdout",
       "text": [
        "\n",
        "confusion matrix:\n",
        "           predicted edible  predicted poisonous\n",
        "edible                 4149                  362\n",
        "poisonous               464                 3445\n",
        "\n",
        "\n",
        "features: ['gill_color', 'stalk_surface_below_ring', 'spore_print_color']"
       ]
      },
      {
       "output_type": "stream",
       "stream": "stdout",
       "text": [
        "\n",
        "confusion matrix:\n",
        "           predicted edible  predicted poisonous\n",
        "edible                 4465                   46\n",
        "poisonous               523                 3386\n",
        "\n",
        "\n",
        "features: ['gill_color', 'stalk_surface_below_ring', 'ring_type']"
       ]
      },
      {
       "output_type": "stream",
       "stream": "stdout",
       "text": [
        "\n",
        "confusion matrix:\n",
        "           predicted edible  predicted poisonous\n",
        "edible                 4511                    0\n",
        "poisonous               665                 3244\n",
        "\n",
        "\n",
        "features: ['gill_color', 'spore_print_color', 'ring_type']"
       ]
      },
      {
       "output_type": "stream",
       "stream": "stdout",
       "text": [
        "\n",
        "confusion matrix:\n",
        "           predicted edible  predicted poisonous\n",
        "edible                 4511                    0\n",
        "poisonous               507                 3402\n",
        "\n",
        "\n",
        "features: ['stalk_surface_below_ring', 'spore_print_color', 'ring_type']"
       ]
      },
      {
       "output_type": "stream",
       "stream": "stdout",
       "text": [
        "\n",
        "confusion matrix:\n",
        "           predicted edible  predicted poisonous\n",
        "edible                 4149                  362\n",
        "poisonous               464                 3445\n",
        "\n",
        "\n"
       ]
      }
     ],
     "prompt_number": 41
    },
    {
     "cell_type": "code",
     "collapsed": false,
     "input": [
      "f3_df = mc.plot_confusion_matrix_dict(f3_confusion_matrix_dict, auto_scale=True)\n",
      "f3_df.sort(columns=['recall', 'precision'], ascending=False)"
     ],
     "language": "python",
     "metadata": {},
     "outputs": [
      {
       "html": [
        "<div style=\"max-height:1000px;max-width:1500px;overflow:auto;\">\n",
        "<table border=\"1\" class=\"dataframe\">\n",
        "  <thead>\n",
        "    <tr style=\"text-align: right;\">\n",
        "      <th></th>\n",
        "      <th>feature</th>\n",
        "      <th>precision</th>\n",
        "      <th>recall</th>\n",
        "    </tr>\n",
        "  </thead>\n",
        "  <tbody>\n",
        "    <tr>\n",
        "      <th>19</th>\n",
        "      <td>                 odor,population,spore_print_color</td>\n",
        "      <td> 0.988604</td>\n",
        "      <td> 1.000000</td>\n",
        "    </tr>\n",
        "    <tr>\n",
        "      <th>24</th>\n",
        "      <td>                  odor,spore_print_color,ring_type</td>\n",
        "      <td> 0.988604</td>\n",
        "      <td> 1.000000</td>\n",
        "    </tr>\n",
        "    <tr>\n",
        "      <th>28</th>\n",
        "      <td>                 odor,gill_color,spore_print_color</td>\n",
        "      <td> 0.988604</td>\n",
        "      <td> 1.000000</td>\n",
        "    </tr>\n",
        "    <tr>\n",
        "      <th>39</th>\n",
        "      <td>                  odor,gill_size,spore_print_color</td>\n",
        "      <td> 0.988604</td>\n",
        "      <td> 1.000000</td>\n",
        "    </tr>\n",
        "    <tr>\n",
        "      <th>48</th>\n",
        "      <td>   odor,stalk_surface_above_ring,spore_print_color</td>\n",
        "      <td> 0.988604</td>\n",
        "      <td> 1.000000</td>\n",
        "    </tr>\n",
        "    <tr>\n",
        "      <th>6 </th>\n",
        "      <td>          odor,population,stalk_surface_above_ring</td>\n",
        "      <td> 0.980013</td>\n",
        "      <td> 1.000000</td>\n",
        "    </tr>\n",
        "    <tr>\n",
        "      <th>9 </th>\n",
        "      <td>          odor,population,stalk_surface_below_ring</td>\n",
        "      <td> 0.980013</td>\n",
        "      <td> 1.000000</td>\n",
        "    </tr>\n",
        "    <tr>\n",
        "      <th>41</th>\n",
        "      <td>           odor,gill_size,stalk_surface_above_ring</td>\n",
        "      <td> 0.980013</td>\n",
        "      <td> 1.000000</td>\n",
        "    </tr>\n",
        "    <tr>\n",
        "      <th>49</th>\n",
        "      <td>           odor,gill_size,stalk_surface_below_ring</td>\n",
        "      <td> 0.980013</td>\n",
        "      <td> 1.000000</td>\n",
        "    </tr>\n",
        "    <tr>\n",
        "      <th>45</th>\n",
        "      <td> odor,stalk_surface_above_ring,stalk_surface_be...</td>\n",
        "      <td> 0.977677</td>\n",
        "      <td> 1.000000</td>\n",
        "    </tr>\n",
        "    <tr>\n",
        "      <th>12</th>\n",
        "      <td>                        odor,population,gill_color</td>\n",
        "      <td> 0.976830</td>\n",
        "      <td> 1.000000</td>\n",
        "    </tr>\n",
        "    <tr>\n",
        "      <th>17</th>\n",
        "      <td>                         odor,gill_color,ring_type</td>\n",
        "      <td> 0.976830</td>\n",
        "      <td> 1.000000</td>\n",
        "    </tr>\n",
        "    <tr>\n",
        "      <th>32</th>\n",
        "      <td>                         odor,gill_size,gill_color</td>\n",
        "      <td> 0.976830</td>\n",
        "      <td> 1.000000</td>\n",
        "    </tr>\n",
        "    <tr>\n",
        "      <th>42</th>\n",
        "      <td>          odor,stalk_surface_above_ring,gill_color</td>\n",
        "      <td> 0.976830</td>\n",
        "      <td> 1.000000</td>\n",
        "    </tr>\n",
        "    <tr>\n",
        "      <th>0 </th>\n",
        "      <td>                          odor,gill_size,ring_type</td>\n",
        "      <td> 0.970943</td>\n",
        "      <td> 1.000000</td>\n",
        "    </tr>\n",
        "    <tr>\n",
        "      <th>21</th>\n",
        "      <td>                         odor,gill_size,population</td>\n",
        "      <td> 0.970943</td>\n",
        "      <td> 1.000000</td>\n",
        "    </tr>\n",
        "    <tr>\n",
        "      <th>30</th>\n",
        "      <td>           odor,stalk_surface_below_ring,ring_type</td>\n",
        "      <td> 0.970943</td>\n",
        "      <td> 1.000000</td>\n",
        "    </tr>\n",
        "    <tr>\n",
        "      <th>44</th>\n",
        "      <td>                         odor,population,ring_type</td>\n",
        "      <td> 0.970943</td>\n",
        "      <td> 1.000000</td>\n",
        "    </tr>\n",
        "    <tr>\n",
        "      <th>53</th>\n",
        "      <td>           odor,stalk_surface_above_ring,ring_type</td>\n",
        "      <td> 0.970943</td>\n",
        "      <td> 1.000000</td>\n",
        "    </tr>\n",
        "    <tr>\n",
        "      <th>33</th>\n",
        "      <td>            gill_color,spore_print_color,ring_type</td>\n",
        "      <td> 0.898964</td>\n",
        "      <td> 1.000000</td>\n",
        "    </tr>\n",
        "    <tr>\n",
        "      <th>1 </th>\n",
        "      <td>     gill_color,stalk_surface_below_ring,ring_type</td>\n",
        "      <td> 0.871522</td>\n",
        "      <td> 1.000000</td>\n",
        "    </tr>\n",
        "    <tr>\n",
        "      <th>25</th>\n",
        "      <td>                   population,gill_color,ring_type</td>\n",
        "      <td> 0.857768</td>\n",
        "      <td> 1.000000</td>\n",
        "    </tr>\n",
        "    <tr>\n",
        "      <th>43</th>\n",
        "      <td>     stalk_surface_above_ring,gill_color,ring_type</td>\n",
        "      <td> 0.872653</td>\n",
        "      <td> 0.999557</td>\n",
        "    </tr>\n",
        "    <tr>\n",
        "      <th>40</th>\n",
        "      <td>   odor,stalk_surface_below_ring,spore_print_color</td>\n",
        "      <td> 0.989464</td>\n",
        "      <td> 0.999335</td>\n",
        "    </tr>\n",
        "    <tr>\n",
        "      <th>37</th>\n",
        "      <td>          odor,gill_color,stalk_surface_below_ring</td>\n",
        "      <td> 0.978492</td>\n",
        "      <td> 0.998448</td>\n",
        "    </tr>\n",
        "    <tr>\n",
        "      <th>55</th>\n",
        "      <td> gill_color,stalk_surface_below_ring,spore_prin...</td>\n",
        "      <td> 0.895148</td>\n",
        "      <td> 0.989803</td>\n",
        "    </tr>\n",
        "    <tr>\n",
        "      <th>11</th>\n",
        "      <td> stalk_surface_above_ring,gill_color,spore_prin...</td>\n",
        "      <td> 0.894610</td>\n",
        "      <td> 0.989803</td>\n",
        "    </tr>\n",
        "    <tr>\n",
        "      <th>23</th>\n",
        "      <td>           population,gill_color,spore_print_color</td>\n",
        "      <td> 0.895085</td>\n",
        "      <td> 0.989138</td>\n",
        "    </tr>\n",
        "    <tr>\n",
        "      <th>10</th>\n",
        "      <td>    population,stalk_surface_above_ring,gill_color</td>\n",
        "      <td> 0.855078</td>\n",
        "      <td> 0.983596</td>\n",
        "    </tr>\n",
        "    <tr>\n",
        "      <th>38</th>\n",
        "      <td>    population,gill_color,stalk_surface_below_ring</td>\n",
        "      <td> 0.847656</td>\n",
        "      <td> 0.981822</td>\n",
        "    </tr>\n",
        "    <tr>\n",
        "      <th>52</th>\n",
        "      <td> stalk_surface_above_ring,gill_color,stalk_surf...</td>\n",
        "      <td> 0.845263</td>\n",
        "      <td> 0.971182</td>\n",
        "    </tr>\n",
        "    <tr>\n",
        "      <th>20</th>\n",
        "      <td>     population,stalk_surface_above_ring,ring_type</td>\n",
        "      <td> 0.842014</td>\n",
        "      <td> 0.967635</td>\n",
        "    </tr>\n",
        "    <tr>\n",
        "      <th>34</th>\n",
        "      <td> population,stalk_surface_above_ring,stalk_surf...</td>\n",
        "      <td> 0.782219</td>\n",
        "      <td> 0.967413</td>\n",
        "    </tr>\n",
        "    <tr>\n",
        "      <th>26</th>\n",
        "      <td>     population,stalk_surface_below_ring,ring_type</td>\n",
        "      <td> 0.839861</td>\n",
        "      <td> 0.964975</td>\n",
        "    </tr>\n",
        "    <tr>\n",
        "      <th>22</th>\n",
        "      <td>                    gill_size,gill_color,ring_type</td>\n",
        "      <td> 0.938221</td>\n",
        "      <td> 0.956107</td>\n",
        "    </tr>\n",
        "    <tr>\n",
        "      <th>46</th>\n",
        "      <td> stalk_surface_above_ring,stalk_surface_below_r...</td>\n",
        "      <td> 0.770785</td>\n",
        "      <td> 0.955664</td>\n",
        "    </tr>\n",
        "    <tr>\n",
        "      <th>36</th>\n",
        "      <td> population,stalk_surface_below_ring,spore_prin...</td>\n",
        "      <td> 0.891634</td>\n",
        "      <td> 0.952117</td>\n",
        "    </tr>\n",
        "    <tr>\n",
        "      <th>54</th>\n",
        "      <td>            gill_size,population,spore_print_color</td>\n",
        "      <td> 0.989173</td>\n",
        "      <td> 0.951895</td>\n",
        "    </tr>\n",
        "    <tr>\n",
        "      <th>15</th>\n",
        "      <td>                    gill_size,population,ring_type</td>\n",
        "      <td> 0.923541</td>\n",
        "      <td> 0.950565</td>\n",
        "    </tr>\n",
        "    <tr>\n",
        "      <th>35</th>\n",
        "      <td> gill_size,stalk_surface_below_ring,spore_print...</td>\n",
        "      <td> 0.989143</td>\n",
        "      <td> 0.949235</td>\n",
        "    </tr>\n",
        "    <tr>\n",
        "      <th>29</th>\n",
        "      <td>             gill_size,spore_print_color,ring_type</td>\n",
        "      <td> 1.000000</td>\n",
        "      <td> 0.948792</td>\n",
        "    </tr>\n",
        "    <tr>\n",
        "      <th>2 </th>\n",
        "      <td>            population,spore_print_color,ring_type</td>\n",
        "      <td> 0.899874</td>\n",
        "      <td> 0.946353</td>\n",
        "    </tr>\n",
        "    <tr>\n",
        "      <th>50</th>\n",
        "      <td> population,stalk_surface_above_ring,spore_prin...</td>\n",
        "      <td> 0.899810</td>\n",
        "      <td> 0.945688</td>\n",
        "    </tr>\n",
        "    <tr>\n",
        "      <th>18</th>\n",
        "      <td>            gill_size,gill_color,spore_print_color</td>\n",
        "      <td> 0.982627</td>\n",
        "      <td> 0.940368</td>\n",
        "    </tr>\n",
        "    <tr>\n",
        "      <th>13</th>\n",
        "      <td> gill_size,stalk_surface_above_ring,spore_print...</td>\n",
        "      <td> 0.989021</td>\n",
        "      <td> 0.938595</td>\n",
        "    </tr>\n",
        "    <tr>\n",
        "      <th>4 </th>\n",
        "      <td>      gill_size,stalk_surface_below_ring,ring_type</td>\n",
        "      <td> 0.922540</td>\n",
        "      <td> 0.937264</td>\n",
        "    </tr>\n",
        "    <tr>\n",
        "      <th>51</th>\n",
        "      <td>      gill_size,stalk_surface_above_ring,ring_type</td>\n",
        "      <td> 0.922540</td>\n",
        "      <td> 0.937264</td>\n",
        "    </tr>\n",
        "    <tr>\n",
        "      <th>31</th>\n",
        "      <td>     gill_size,population,stalk_surface_above_ring</td>\n",
        "      <td> 0.920534</td>\n",
        "      <td> 0.932166</td>\n",
        "    </tr>\n",
        "    <tr>\n",
        "      <th>8 </th>\n",
        "      <td>     gill_size,population,stalk_surface_below_ring</td>\n",
        "      <td> 0.912054</td>\n",
        "      <td> 0.924185</td>\n",
        "    </tr>\n",
        "    <tr>\n",
        "      <th>3 </th>\n",
        "      <td> stalk_surface_below_ring,spore_print_color,rin...</td>\n",
        "      <td> 0.899415</td>\n",
        "      <td> 0.919752</td>\n",
        "    </tr>\n",
        "    <tr>\n",
        "      <th>5 </th>\n",
        "      <td> stalk_surface_above_ring,spore_print_color,rin...</td>\n",
        "      <td> 0.899415</td>\n",
        "      <td> 0.919752</td>\n",
        "    </tr>\n",
        "    <tr>\n",
        "      <th>7 </th>\n",
        "      <td>     gill_size,stalk_surface_above_ring,gill_color</td>\n",
        "      <td> 0.896867</td>\n",
        "      <td> 0.913766</td>\n",
        "    </tr>\n",
        "    <tr>\n",
        "      <th>14</th>\n",
        "      <td>     gill_size,gill_color,stalk_surface_below_ring</td>\n",
        "      <td> 0.890236</td>\n",
        "      <td> 0.911550</td>\n",
        "    </tr>\n",
        "    <tr>\n",
        "      <th>16</th>\n",
        "      <td> gill_size,stalk_surface_above_ring,stalk_surfa...</td>\n",
        "      <td> 0.919446</td>\n",
        "      <td> 0.898249</td>\n",
        "    </tr>\n",
        "    <tr>\n",
        "      <th>27</th>\n",
        "      <td> stalk_surface_above_ring,stalk_surface_below_r...</td>\n",
        "      <td> 0.894737</td>\n",
        "      <td> 0.878076</td>\n",
        "    </tr>\n",
        "    <tr>\n",
        "      <th>47</th>\n",
        "      <td>                   gill_size,population,gill_color</td>\n",
        "      <td> 0.818351</td>\n",
        "      <td> 0.877854</td>\n",
        "    </tr>\n",
        "  </tbody>\n",
        "</table>\n",
        "</div>"
       ],
       "output_type": "pyout",
       "prompt_number": 42,
       "text": [
        "                                              feature  precision    recall\n",
        "19                  odor,population,spore_print_color   0.988604  1.000000\n",
        "24                   odor,spore_print_color,ring_type   0.988604  1.000000\n",
        "28                  odor,gill_color,spore_print_color   0.988604  1.000000\n",
        "39                   odor,gill_size,spore_print_color   0.988604  1.000000\n",
        "48    odor,stalk_surface_above_ring,spore_print_color   0.988604  1.000000\n",
        "6            odor,population,stalk_surface_above_ring   0.980013  1.000000\n",
        "9            odor,population,stalk_surface_below_ring   0.980013  1.000000\n",
        "41            odor,gill_size,stalk_surface_above_ring   0.980013  1.000000\n",
        "49            odor,gill_size,stalk_surface_below_ring   0.980013  1.000000\n",
        "45  odor,stalk_surface_above_ring,stalk_surface_be...   0.977677  1.000000\n",
        "12                         odor,population,gill_color   0.976830  1.000000\n",
        "17                          odor,gill_color,ring_type   0.976830  1.000000\n",
        "32                          odor,gill_size,gill_color   0.976830  1.000000\n",
        "42           odor,stalk_surface_above_ring,gill_color   0.976830  1.000000\n",
        "0                            odor,gill_size,ring_type   0.970943  1.000000\n",
        "21                          odor,gill_size,population   0.970943  1.000000\n",
        "30            odor,stalk_surface_below_ring,ring_type   0.970943  1.000000\n",
        "44                          odor,population,ring_type   0.970943  1.000000\n",
        "53            odor,stalk_surface_above_ring,ring_type   0.970943  1.000000\n",
        "33             gill_color,spore_print_color,ring_type   0.898964  1.000000\n",
        "1       gill_color,stalk_surface_below_ring,ring_type   0.871522  1.000000\n",
        "25                    population,gill_color,ring_type   0.857768  1.000000\n",
        "43      stalk_surface_above_ring,gill_color,ring_type   0.872653  0.999557\n",
        "40    odor,stalk_surface_below_ring,spore_print_color   0.989464  0.999335\n",
        "37           odor,gill_color,stalk_surface_below_ring   0.978492  0.998448\n",
        "55  gill_color,stalk_surface_below_ring,spore_prin...   0.895148  0.989803\n",
        "11  stalk_surface_above_ring,gill_color,spore_prin...   0.894610  0.989803\n",
        "23            population,gill_color,spore_print_color   0.895085  0.989138\n",
        "10     population,stalk_surface_above_ring,gill_color   0.855078  0.983596\n",
        "38     population,gill_color,stalk_surface_below_ring   0.847656  0.981822\n",
        "52  stalk_surface_above_ring,gill_color,stalk_surf...   0.845263  0.971182\n",
        "20      population,stalk_surface_above_ring,ring_type   0.842014  0.967635\n",
        "34  population,stalk_surface_above_ring,stalk_surf...   0.782219  0.967413\n",
        "26      population,stalk_surface_below_ring,ring_type   0.839861  0.964975\n",
        "22                     gill_size,gill_color,ring_type   0.938221  0.956107\n",
        "46  stalk_surface_above_ring,stalk_surface_below_r...   0.770785  0.955664\n",
        "36  population,stalk_surface_below_ring,spore_prin...   0.891634  0.952117\n",
        "54             gill_size,population,spore_print_color   0.989173  0.951895\n",
        "15                     gill_size,population,ring_type   0.923541  0.950565\n",
        "35  gill_size,stalk_surface_below_ring,spore_print...   0.989143  0.949235\n",
        "29              gill_size,spore_print_color,ring_type   1.000000  0.948792\n",
        "2              population,spore_print_color,ring_type   0.899874  0.946353\n",
        "50  population,stalk_surface_above_ring,spore_prin...   0.899810  0.945688\n",
        "18             gill_size,gill_color,spore_print_color   0.982627  0.940368\n",
        "13  gill_size,stalk_surface_above_ring,spore_print...   0.989021  0.938595\n",
        "4        gill_size,stalk_surface_below_ring,ring_type   0.922540  0.937264\n",
        "51       gill_size,stalk_surface_above_ring,ring_type   0.922540  0.937264\n",
        "31      gill_size,population,stalk_surface_above_ring   0.920534  0.932166\n",
        "8       gill_size,population,stalk_surface_below_ring   0.912054  0.924185\n",
        "3   stalk_surface_below_ring,spore_print_color,rin...   0.899415  0.919752\n",
        "5   stalk_surface_above_ring,spore_print_color,rin...   0.899415  0.919752\n",
        "7       gill_size,stalk_surface_above_ring,gill_color   0.896867  0.913766\n",
        "14      gill_size,gill_color,stalk_surface_below_ring   0.890236  0.911550\n",
        "16  gill_size,stalk_surface_above_ring,stalk_surfa...   0.919446  0.898249\n",
        "27  stalk_surface_above_ring,stalk_surface_below_r...   0.894737  0.878076\n",
        "47                    gill_size,population,gill_color   0.818351  0.877854"
       ]
      },
      {
       "output_type": "display_data",
       "png": "[encoded data removed]"
      }
     ],
     "prompt_number": 42
    },
    {
     "cell_type": "code",
     "collapsed": false,
     "input": [
      "f3_df = mc.plot_confusion_matrix_dict(f3_confusion_matrix_dict, \n",
      "                                min_precision=0.95, \n",
      "                                min_recall=0.95, \n",
      "                                auto_scale=True)\n",
      "f3_df.sort(columns=['recall', 'precision'], ascending=False)"
     ],
     "language": "python",
     "metadata": {},
     "outputs": [
      {
       "html": [
        "<div style=\"max-height:1000px;max-width:1500px;overflow:auto;\">\n",
        "<table border=\"1\" class=\"dataframe\">\n",
        "  <thead>\n",
        "    <tr style=\"text-align: right;\">\n",
        "      <th></th>\n",
        "      <th>feature</th>\n",
        "      <th>precision</th>\n",
        "      <th>recall</th>\n",
        "    </tr>\n",
        "  </thead>\n",
        "  <tbody>\n",
        "    <tr>\n",
        "      <th>19</th>\n",
        "      <td>                 odor,population,spore_print_color</td>\n",
        "      <td> 0.988604</td>\n",
        "      <td> 1.000000</td>\n",
        "    </tr>\n",
        "    <tr>\n",
        "      <th>24</th>\n",
        "      <td>                  odor,spore_print_color,ring_type</td>\n",
        "      <td> 0.988604</td>\n",
        "      <td> 1.000000</td>\n",
        "    </tr>\n",
        "    <tr>\n",
        "      <th>28</th>\n",
        "      <td>                 odor,gill_color,spore_print_color</td>\n",
        "      <td> 0.988604</td>\n",
        "      <td> 1.000000</td>\n",
        "    </tr>\n",
        "    <tr>\n",
        "      <th>39</th>\n",
        "      <td>                  odor,gill_size,spore_print_color</td>\n",
        "      <td> 0.988604</td>\n",
        "      <td> 1.000000</td>\n",
        "    </tr>\n",
        "    <tr>\n",
        "      <th>48</th>\n",
        "      <td>   odor,stalk_surface_above_ring,spore_print_color</td>\n",
        "      <td> 0.988604</td>\n",
        "      <td> 1.000000</td>\n",
        "    </tr>\n",
        "    <tr>\n",
        "      <th>6 </th>\n",
        "      <td>          odor,population,stalk_surface_above_ring</td>\n",
        "      <td> 0.980013</td>\n",
        "      <td> 1.000000</td>\n",
        "    </tr>\n",
        "    <tr>\n",
        "      <th>9 </th>\n",
        "      <td>          odor,population,stalk_surface_below_ring</td>\n",
        "      <td> 0.980013</td>\n",
        "      <td> 1.000000</td>\n",
        "    </tr>\n",
        "    <tr>\n",
        "      <th>41</th>\n",
        "      <td>           odor,gill_size,stalk_surface_above_ring</td>\n",
        "      <td> 0.980013</td>\n",
        "      <td> 1.000000</td>\n",
        "    </tr>\n",
        "    <tr>\n",
        "      <th>49</th>\n",
        "      <td>           odor,gill_size,stalk_surface_below_ring</td>\n",
        "      <td> 0.980013</td>\n",
        "      <td> 1.000000</td>\n",
        "    </tr>\n",
        "    <tr>\n",
        "      <th>45</th>\n",
        "      <td> odor,stalk_surface_above_ring,stalk_surface_be...</td>\n",
        "      <td> 0.977677</td>\n",
        "      <td> 1.000000</td>\n",
        "    </tr>\n",
        "    <tr>\n",
        "      <th>12</th>\n",
        "      <td>                        odor,population,gill_color</td>\n",
        "      <td> 0.976830</td>\n",
        "      <td> 1.000000</td>\n",
        "    </tr>\n",
        "    <tr>\n",
        "      <th>17</th>\n",
        "      <td>                         odor,gill_color,ring_type</td>\n",
        "      <td> 0.976830</td>\n",
        "      <td> 1.000000</td>\n",
        "    </tr>\n",
        "    <tr>\n",
        "      <th>32</th>\n",
        "      <td>                         odor,gill_size,gill_color</td>\n",
        "      <td> 0.976830</td>\n",
        "      <td> 1.000000</td>\n",
        "    </tr>\n",
        "    <tr>\n",
        "      <th>42</th>\n",
        "      <td>          odor,stalk_surface_above_ring,gill_color</td>\n",
        "      <td> 0.976830</td>\n",
        "      <td> 1.000000</td>\n",
        "    </tr>\n",
        "    <tr>\n",
        "      <th>0 </th>\n",
        "      <td>                          odor,gill_size,ring_type</td>\n",
        "      <td> 0.970943</td>\n",
        "      <td> 1.000000</td>\n",
        "    </tr>\n",
        "    <tr>\n",
        "      <th>21</th>\n",
        "      <td>                         odor,gill_size,population</td>\n",
        "      <td> 0.970943</td>\n",
        "      <td> 1.000000</td>\n",
        "    </tr>\n",
        "    <tr>\n",
        "      <th>30</th>\n",
        "      <td>           odor,stalk_surface_below_ring,ring_type</td>\n",
        "      <td> 0.970943</td>\n",
        "      <td> 1.000000</td>\n",
        "    </tr>\n",
        "    <tr>\n",
        "      <th>44</th>\n",
        "      <td>                         odor,population,ring_type</td>\n",
        "      <td> 0.970943</td>\n",
        "      <td> 1.000000</td>\n",
        "    </tr>\n",
        "    <tr>\n",
        "      <th>53</th>\n",
        "      <td>           odor,stalk_surface_above_ring,ring_type</td>\n",
        "      <td> 0.970943</td>\n",
        "      <td> 1.000000</td>\n",
        "    </tr>\n",
        "    <tr>\n",
        "      <th>40</th>\n",
        "      <td>   odor,stalk_surface_below_ring,spore_print_color</td>\n",
        "      <td> 0.989464</td>\n",
        "      <td> 0.999335</td>\n",
        "    </tr>\n",
        "    <tr>\n",
        "      <th>37</th>\n",
        "      <td>          odor,gill_color,stalk_surface_below_ring</td>\n",
        "      <td> 0.978492</td>\n",
        "      <td> 0.998448</td>\n",
        "    </tr>\n",
        "    <tr>\n",
        "      <th>54</th>\n",
        "      <td>            gill_size,population,spore_print_color</td>\n",
        "      <td> 0.989173</td>\n",
        "      <td> 0.951895</td>\n",
        "    </tr>\n",
        "  </tbody>\n",
        "</table>\n",
        "</div>"
       ],
       "output_type": "pyout",
       "prompt_number": 43,
       "text": [
        "                                              feature  precision    recall\n",
        "19                  odor,population,spore_print_color   0.988604  1.000000\n",
        "24                   odor,spore_print_color,ring_type   0.988604  1.000000\n",
        "28                  odor,gill_color,spore_print_color   0.988604  1.000000\n",
        "39                   odor,gill_size,spore_print_color   0.988604  1.000000\n",
        "48    odor,stalk_surface_above_ring,spore_print_color   0.988604  1.000000\n",
        "6            odor,population,stalk_surface_above_ring   0.980013  1.000000\n",
        "9            odor,population,stalk_surface_below_ring   0.980013  1.000000\n",
        "41            odor,gill_size,stalk_surface_above_ring   0.980013  1.000000\n",
        "49            odor,gill_size,stalk_surface_below_ring   0.980013  1.000000\n",
        "45  odor,stalk_surface_above_ring,stalk_surface_be...   0.977677  1.000000\n",
        "12                         odor,population,gill_color   0.976830  1.000000\n",
        "17                          odor,gill_color,ring_type   0.976830  1.000000\n",
        "32                          odor,gill_size,gill_color   0.976830  1.000000\n",
        "42           odor,stalk_surface_above_ring,gill_color   0.976830  1.000000\n",
        "0                            odor,gill_size,ring_type   0.970943  1.000000\n",
        "21                          odor,gill_size,population   0.970943  1.000000\n",
        "30            odor,stalk_surface_below_ring,ring_type   0.970943  1.000000\n",
        "44                          odor,population,ring_type   0.970943  1.000000\n",
        "53            odor,stalk_surface_above_ring,ring_type   0.970943  1.000000\n",
        "40    odor,stalk_surface_below_ring,spore_print_color   0.989464  0.999335\n",
        "37           odor,gill_color,stalk_surface_below_ring   0.978492  0.998448\n",
        "54             gill_size,population,spore_print_color   0.989173  0.951895"
       ]
      },
      {
       "output_type": "display_data",
       "png": "[encoded data removed]"
      }
     ],
     "prompt_number": 43
    },
    {
     "cell_type": "markdown",
     "metadata": {},
     "source": [
      "We can see that this is now getting 100% recall for a number of 3-feature combinations, and precion above 98% for about ten combinations."
     ]
    },
    {
     "cell_type": "code",
     "collapsed": false,
     "input": [
      "f3_confusion_matrix_dict[('odor','stalk_surface_above_ring','spore_print_color')]"
     ],
     "language": "python",
     "metadata": {},
     "outputs": [
      {
       "html": [
        "<div style=\"max-height:1000px;max-width:1500px;overflow:auto;\">\n",
        "<table border=\"1\" class=\"dataframe\">\n",
        "  <thead>\n",
        "    <tr style=\"text-align: right;\">\n",
        "      <th></th>\n",
        "      <th>predicted edible</th>\n",
        "      <th>predicted poisonous</th>\n",
        "    </tr>\n",
        "  </thead>\n",
        "  <tbody>\n",
        "    <tr>\n",
        "      <th>edible</th>\n",
        "      <td> 4511</td>\n",
        "      <td>    0</td>\n",
        "    </tr>\n",
        "    <tr>\n",
        "      <th>poisonous</th>\n",
        "      <td>   52</td>\n",
        "      <td> 3857</td>\n",
        "    </tr>\n",
        "  </tbody>\n",
        "</table>\n",
        "</div>"
       ],
       "output_type": "pyout",
       "prompt_number": 44,
       "text": [
        "           predicted edible  predicted poisonous\n",
        "edible                 4511                    0\n",
        "poisonous                52                 3857"
       ]
      }
     ],
     "prompt_number": 44
    },
    {
     "cell_type": "code",
     "collapsed": false,
     "input": [
      "f3_confusion_matrix_dict[('odor','stalk_surface_below_ring','spore_print_color')]"
     ],
     "language": "python",
     "metadata": {},
     "outputs": [
      {
       "html": [
        "<div style=\"max-height:1000px;max-width:1500px;overflow:auto;\">\n",
        "<table border=\"1\" class=\"dataframe\">\n",
        "  <thead>\n",
        "    <tr style=\"text-align: right;\">\n",
        "      <th></th>\n",
        "      <th>predicted edible</th>\n",
        "      <th>predicted poisonous</th>\n",
        "    </tr>\n",
        "  </thead>\n",
        "  <tbody>\n",
        "    <tr>\n",
        "      <th>edible</th>\n",
        "      <td> 4508</td>\n",
        "      <td>    3</td>\n",
        "    </tr>\n",
        "    <tr>\n",
        "      <th>poisonous</th>\n",
        "      <td>   48</td>\n",
        "      <td> 3861</td>\n",
        "    </tr>\n",
        "  </tbody>\n",
        "</table>\n",
        "</div>"
       ],
       "output_type": "pyout",
       "prompt_number": 45,
       "text": [
        "           predicted edible  predicted poisonous\n",
        "edible                 4508                    3\n",
        "poisonous                48                 3861"
       ]
      }
     ],
     "prompt_number": 45
    },
    {
     "cell_type": "markdown",
     "metadata": {},
     "source": [
      "Let's repeat this procedure with 4 features this time."
     ]
    },
    {
     "cell_type": "code",
     "collapsed": false,
     "input": [
      "f4_confusion_matrix_dict = mc.test_n_features(X, y, f1_df['feature'].tolist(), n_features=4)"
     ],
     "language": "python",
     "metadata": {},
     "outputs": [
      {
       "output_type": "stream",
       "stream": "stdout",
       "text": [
        "features: ['odor', 'gill_size', 'population', 'stalk_surface_above_ring']\n",
        "confusion matrix:\n",
        "           predicted edible  predicted poisonous\n",
        "edible                 4511                    0\n",
        "poisonous                92                 3817\n",
        "\n",
        "\n",
        "features: ['odor', 'gill_size', 'population', 'gill_color']"
       ]
      },
      {
       "output_type": "stream",
       "stream": "stdout",
       "text": [
        "\n",
        "confusion matrix:\n",
        "           predicted edible  predicted poisonous\n",
        "edible                 4500                   11\n",
        "poisonous               107                 3802\n",
        "\n",
        "\n",
        "features: ['odor', 'gill_size', 'population', 'stalk_surface_below_ring']"
       ]
      },
      {
       "output_type": "stream",
       "stream": "stdout",
       "text": [
        "\n",
        "confusion matrix:\n",
        "           predicted edible  predicted poisonous\n",
        "edible                 4511                    0\n",
        "poisonous                92                 3817\n",
        "\n",
        "\n",
        "features: ['odor', 'gill_size', 'population', 'spore_print_color']"
       ]
      },
      {
       "output_type": "stream",
       "stream": "stdout",
       "text": [
        "\n",
        "confusion matrix:\n",
        "           predicted edible  predicted poisonous\n",
        "edible                 4511                    0\n",
        "poisonous                52                 3857\n",
        "\n",
        "\n",
        "features: ['odor', 'gill_size', 'population', 'ring_type']"
       ]
      },
      {
       "output_type": "stream",
       "stream": "stdout",
       "text": [
        "\n",
        "confusion matrix:\n",
        "           predicted edible  predicted poisonous\n",
        "edible                 4511                    0\n",
        "poisonous               135                 3774\n",
        "\n",
        "\n",
        "features: ['odor', 'gill_size', 'stalk_surface_above_ring', 'gill_color']"
       ]
      },
      {
       "output_type": "stream",
       "stream": "stdout",
       "text": [
        "\n",
        "confusion matrix:\n",
        "           predicted edible  predicted poisonous\n",
        "edible                 4511                    0\n",
        "poisonous                66                 3843\n",
        "\n",
        "\n",
        "features: ['odor', 'gill_size', 'stalk_surface_above_ring', 'stalk_surface_below_ring']"
       ]
      },
      {
       "output_type": "stream",
       "stream": "stdout",
       "text": [
        "\n",
        "confusion matrix:\n",
        "           predicted edible  predicted poisonous\n",
        "edible                 4511                    0\n",
        "poisonous                92                 3817\n",
        "\n",
        "\n",
        "features: ['odor', 'gill_size', 'stalk_surface_above_ring', 'spore_print_color']"
       ]
      },
      {
       "output_type": "stream",
       "stream": "stdout",
       "text": [
        "\n",
        "confusion matrix:\n",
        "           predicted edible  predicted poisonous\n",
        "edible                 4511                    0\n",
        "poisonous                 9                 3900\n",
        "\n",
        "\n",
        "features: ['odor', 'gill_size', 'stalk_surface_above_ring', 'ring_type']"
       ]
      },
      {
       "output_type": "stream",
       "stream": "stdout",
       "text": [
        "\n",
        "confusion matrix:\n",
        "           predicted edible  predicted poisonous\n",
        "edible                 4511                    0\n",
        "poisonous                92                 3817\n",
        "\n",
        "\n",
        "features: ['odor', 'gill_size', 'gill_color', 'stalk_surface_below_ring']"
       ]
      },
      {
       "output_type": "stream",
       "stream": "stdout",
       "text": [
        "\n",
        "confusion matrix:\n",
        "           predicted edible  predicted poisonous\n",
        "edible                 4511                    0\n",
        "poisonous                64                 3845\n",
        "\n",
        "\n",
        "features: ['odor', 'gill_size', 'gill_color', 'spore_print_color']"
       ]
      },
      {
       "output_type": "stream",
       "stream": "stdout",
       "text": [
        "\n",
        "confusion matrix:\n",
        "           predicted edible  predicted poisonous\n",
        "edible                 4511                    0\n",
        "poisonous                44                 3865\n",
        "\n",
        "\n",
        "features: ['odor', 'gill_size', 'gill_color', 'ring_type']"
       ]
      },
      {
       "output_type": "stream",
       "stream": "stdout",
       "text": [
        "\n",
        "confusion matrix:\n",
        "           predicted edible  predicted poisonous\n",
        "edible                 4511                    0\n",
        "poisonous               107                 3802\n",
        "\n",
        "\n",
        "features: ['odor', 'gill_size', 'stalk_surface_below_ring', 'spore_print_color']"
       ]
      },
      {
       "output_type": "stream",
       "stream": "stdout",
       "text": [
        "\n",
        "confusion matrix:\n",
        "           predicted edible  predicted poisonous\n",
        "edible                 4511                    0\n",
        "poisonous                 9                 3900\n",
        "\n",
        "\n",
        "features: ['odor', 'gill_size', 'stalk_surface_below_ring', 'ring_type']"
       ]
      },
      {
       "output_type": "stream",
       "stream": "stdout",
       "text": [
        "\n",
        "confusion matrix:\n",
        "           predicted edible  predicted poisonous\n",
        "edible                 4511                    0\n",
        "poisonous                92                 3817\n",
        "\n",
        "\n",
        "features: ['odor', 'gill_size', 'spore_print_color', 'ring_type']"
       ]
      },
      {
       "output_type": "stream",
       "stream": "stdout",
       "text": [
        "\n",
        "confusion matrix:\n",
        "           predicted edible  predicted poisonous\n",
        "edible                 4511                    0\n",
        "poisonous                52                 3857\n",
        "\n",
        "\n",
        "features: ['odor', 'population', 'stalk_surface_above_ring', 'gill_color']"
       ]
      },
      {
       "output_type": "stream",
       "stream": "stdout",
       "text": [
        "\n",
        "confusion matrix:\n",
        "           predicted edible  predicted poisonous\n",
        "edible                 4511                    0\n",
        "poisonous                72                 3837\n",
        "\n",
        "\n",
        "features: ['odor', 'population', 'stalk_surface_above_ring', 'stalk_surface_below_ring']"
       ]
      },
      {
       "output_type": "stream",
       "stream": "stdout",
       "text": [
        "\n",
        "confusion matrix:\n",
        "           predicted edible  predicted poisonous\n",
        "edible                 4511                    0\n",
        "poisonous                92                 3817\n",
        "\n",
        "\n",
        "features: ['odor', 'population', 'stalk_surface_above_ring', 'spore_print_color']"
       ]
      },
      {
       "output_type": "stream",
       "stream": "stdout",
       "text": [
        "\n",
        "confusion matrix:\n",
        "           predicted edible  predicted poisonous\n",
        "edible                 4511                    0\n",
        "poisonous                 9                 3900\n",
        "\n",
        "\n",
        "features: ['odor', 'population', 'stalk_surface_above_ring', 'ring_type']"
       ]
      },
      {
       "output_type": "stream",
       "stream": "stdout",
       "text": [
        "\n",
        "confusion matrix:\n",
        "           predicted edible  predicted poisonous\n",
        "edible                 4511                    0\n",
        "poisonous                92                 3817\n",
        "\n",
        "\n",
        "features: ['odor', 'population', 'gill_color', 'stalk_surface_below_ring']"
       ]
      },
      {
       "output_type": "stream",
       "stream": "stdout",
       "text": [
        "\n",
        "confusion matrix:\n",
        "           predicted edible  predicted poisonous\n",
        "edible                 4511                    0\n",
        "poisonous                72                 3837\n",
        "\n",
        "\n",
        "features: ['odor', 'population', 'gill_color', 'spore_print_color']"
       ]
      },
      {
       "output_type": "stream",
       "stream": "stdout",
       "text": [
        "\n",
        "confusion matrix:\n",
        "           predicted edible  predicted poisonous\n",
        "edible                 4511                    0\n",
        "poisonous                52                 3857\n",
        "\n",
        "\n",
        "features: ['odor', 'population', 'gill_color', 'ring_type']"
       ]
      },
      {
       "output_type": "stream",
       "stream": "stdout",
       "text": [
        "\n",
        "confusion matrix:\n",
        "           predicted edible  predicted poisonous\n",
        "edible                 4511                    0\n",
        "poisonous               107                 3802\n",
        "\n",
        "\n",
        "features: ['odor', 'population', 'stalk_surface_below_ring', 'spore_print_color']"
       ]
      },
      {
       "output_type": "stream",
       "stream": "stdout",
       "text": [
        "\n",
        "confusion matrix:\n",
        "           predicted edible  predicted poisonous\n",
        "edible                 4511                    0\n",
        "poisonous                 9                 3900\n",
        "\n",
        "\n",
        "features: ['odor', 'population', 'stalk_surface_below_ring', 'ring_type']"
       ]
      },
      {
       "output_type": "stream",
       "stream": "stdout",
       "text": [
        "\n",
        "confusion matrix:\n",
        "           predicted edible  predicted poisonous\n",
        "edible                 4511                    0\n",
        "poisonous                92                 3817\n",
        "\n",
        "\n",
        "features: ['odor', 'population', 'spore_print_color', 'ring_type']"
       ]
      },
      {
       "output_type": "stream",
       "stream": "stdout",
       "text": [
        "\n",
        "confusion matrix:\n",
        "           predicted edible  predicted poisonous\n",
        "edible                 4511                    0\n",
        "poisonous                52                 3857\n",
        "\n",
        "\n",
        "features: ['odor', 'stalk_surface_above_ring', 'gill_color', 'stalk_surface_below_ring']"
       ]
      },
      {
       "output_type": "stream",
       "stream": "stdout",
       "text": [
        "\n",
        "confusion matrix:\n",
        "           predicted edible  predicted poisonous\n",
        "edible                 4511                    0\n",
        "poisonous                75                 3834\n",
        "\n",
        "\n",
        "features: ['odor', 'stalk_surface_above_ring', 'gill_color', 'spore_print_color']"
       ]
      },
      {
       "output_type": "stream",
       "stream": "stdout",
       "text": [
        "\n",
        "confusion matrix:\n",
        "           predicted edible  predicted poisonous\n",
        "edible                 4511                    0\n",
        "poisonous                52                 3857\n",
        "\n",
        "\n",
        "features: ['odor', 'stalk_surface_above_ring', 'gill_color', 'ring_type']"
       ]
      },
      {
       "output_type": "stream",
       "stream": "stdout",
       "text": [
        "\n",
        "confusion matrix:\n",
        "           predicted edible  predicted poisonous\n",
        "edible                 4511                    0\n",
        "poisonous               107                 3802\n",
        "\n",
        "\n",
        "features: ['odor', 'stalk_surface_above_ring', 'stalk_surface_below_ring', 'spore_print_color']"
       ]
      },
      {
       "output_type": "stream",
       "stream": "stdout",
       "text": [
        "\n",
        "confusion matrix:\n",
        "           predicted edible  predicted poisonous\n",
        "edible                 4511                    0\n",
        "poisonous                20                 3889\n",
        "\n",
        "\n",
        "features: ['odor', 'stalk_surface_above_ring', 'stalk_surface_below_ring', 'ring_type']"
       ]
      },
      {
       "output_type": "stream",
       "stream": "stdout",
       "text": [
        "\n",
        "confusion matrix:\n",
        "           predicted edible  predicted poisonous\n",
        "edible                 4511                    0\n",
        "poisonous               103                 3806\n",
        "\n",
        "\n",
        "features: ['odor', 'stalk_surface_above_ring', 'spore_print_color', 'ring_type']"
       ]
      },
      {
       "output_type": "stream",
       "stream": "stdout",
       "text": [
        "\n",
        "confusion matrix:\n",
        "           predicted edible  predicted poisonous\n",
        "edible                 4511                    0\n",
        "poisonous                31                 3878\n",
        "\n",
        "\n",
        "features: ['odor', 'gill_color', 'stalk_surface_below_ring', 'spore_print_color']"
       ]
      },
      {
       "output_type": "stream",
       "stream": "stdout",
       "text": [
        "\n",
        "confusion matrix:\n",
        "           predicted edible  predicted poisonous\n",
        "edible                 4502                    9\n",
        "poisonous                29                 3880\n",
        "\n",
        "\n",
        "features: ['odor', 'gill_color', 'stalk_surface_below_ring', 'ring_type']"
       ]
      },
      {
       "output_type": "stream",
       "stream": "stdout",
       "text": [
        "\n",
        "confusion matrix:\n",
        "           predicted edible  predicted poisonous\n",
        "edible                 4511                    0\n",
        "poisonous                72                 3837\n",
        "\n",
        "\n",
        "features: ['odor', 'gill_color', 'spore_print_color', 'ring_type']"
       ]
      },
      {
       "output_type": "stream",
       "stream": "stdout",
       "text": [
        "\n",
        "confusion matrix:\n",
        "           predicted edible  predicted poisonous\n",
        "edible                 4511                    0\n",
        "poisonous                52                 3857\n",
        "\n",
        "\n",
        "features: ['odor', 'stalk_surface_below_ring', 'spore_print_color', 'ring_type']"
       ]
      },
      {
       "output_type": "stream",
       "stream": "stdout",
       "text": [
        "\n",
        "confusion matrix:\n",
        "           predicted edible  predicted poisonous\n",
        "edible                 4511                    0\n",
        "poisonous                 9                 3900\n",
        "\n",
        "\n",
        "features: ['gill_size', 'population', 'stalk_surface_above_ring', 'gill_color']"
       ]
      },
      {
       "output_type": "stream",
       "stream": "stdout",
       "text": [
        "\n",
        "confusion matrix:\n",
        "           predicted edible  predicted poisonous\n",
        "edible                 4124                  387\n",
        "poisonous               374                 3535\n",
        "\n",
        "\n",
        "features: ['gill_size', 'population', 'stalk_surface_above_ring', 'stalk_surface_below_ring']"
       ]
      },
      {
       "output_type": "stream",
       "stream": "stdout",
       "text": [
        "\n",
        "confusion matrix:\n",
        "           predicted edible  predicted poisonous\n",
        "edible                 4162                  349\n",
        "poisonous               355                 3554\n",
        "\n",
        "\n",
        "features: ['gill_size', 'population', 'stalk_surface_above_ring', 'spore_print_color']"
       ]
      },
      {
       "output_type": "stream",
       "stream": "stdout",
       "text": [
        "\n",
        "confusion matrix:\n",
        "           predicted edible  predicted poisonous\n",
        "edible                 4233                  278\n",
        "poisonous                 0                 3909\n",
        "\n",
        "\n",
        "features: ['gill_size', 'population', 'stalk_surface_above_ring', 'ring_type']"
       ]
      },
      {
       "output_type": "stream",
       "stream": "stdout",
       "text": [
        "\n",
        "confusion matrix:\n",
        "           predicted edible  predicted poisonous\n",
        "edible                 4288                  223\n",
        "poisonous               355                 3554\n",
        "\n",
        "\n",
        "features: ['gill_size', 'population', 'gill_color', 'stalk_surface_below_ring']"
       ]
      },
      {
       "output_type": "stream",
       "stream": "stdout",
       "text": [
        "\n",
        "confusion matrix:\n",
        "           predicted edible  predicted poisonous\n",
        "edible                 4184                  327\n",
        "poisonous               444                 3465\n",
        "\n",
        "\n",
        "features: ['gill_size', 'population', 'gill_color', 'spore_print_color']"
       ]
      },
      {
       "output_type": "stream",
       "stream": "stdout",
       "text": [
        "\n",
        "confusion matrix:\n",
        "           predicted edible  predicted poisonous\n",
        "edible                 4387                  124\n",
        "poisonous                85                 3824\n",
        "\n",
        "\n",
        "features: ['gill_size', 'population', 'gill_color', 'ring_type']"
       ]
      },
      {
       "output_type": "stream",
       "stream": "stdout",
       "text": [
        "\n",
        "confusion matrix:\n",
        "           predicted edible  predicted poisonous\n",
        "edible                 4368                  143\n",
        "poisonous               284                 3625\n",
        "\n",
        "\n",
        "features: ['gill_size', 'population', 'stalk_surface_below_ring', 'spore_print_color']"
       ]
      },
      {
       "output_type": "stream",
       "stream": "stdout",
       "text": [
        "\n",
        "confusion matrix:\n",
        "           predicted edible  predicted poisonous\n",
        "edible                 4342                  169\n",
        "poisonous                 0                 3909\n",
        "\n",
        "\n",
        "features: ['gill_size', 'population', 'stalk_surface_below_ring', 'ring_type']"
       ]
      },
      {
       "output_type": "stream",
       "stream": "stdout",
       "text": [
        "\n",
        "confusion matrix:\n",
        "           predicted edible  predicted poisonous\n",
        "edible                 4288                  223\n",
        "poisonous               355                 3554\n",
        "\n",
        "\n",
        "features: ['gill_size', 'population', 'spore_print_color', 'ring_type']"
       ]
      },
      {
       "output_type": "stream",
       "stream": "stdout",
       "text": [
        "\n",
        "confusion matrix:\n",
        "           predicted edible  predicted poisonous\n",
        "edible                 4340                  171\n",
        "poisonous                 0                 3909\n",
        "\n",
        "\n",
        "features: ['gill_size', 'stalk_surface_above_ring', 'gill_color', 'stalk_surface_below_ring']"
       ]
      },
      {
       "output_type": "stream",
       "stream": "stdout",
       "text": [
        "\n",
        "confusion matrix:\n",
        "           predicted edible  predicted poisonous\n",
        "edible                 4139                  372\n",
        "poisonous               454                 3455\n",
        "\n",
        "\n",
        "features: ['gill_size', 'stalk_surface_above_ring', 'gill_color', 'spore_print_color']"
       ]
      },
      {
       "output_type": "stream",
       "stream": "stdout",
       "text": [
        "\n",
        "confusion matrix:\n",
        "           predicted edible  predicted poisonous\n",
        "edible                 4319                  192\n",
        "poisonous                33                 3876\n",
        "\n",
        "\n",
        "features: ['gill_size', 'stalk_surface_above_ring', 'gill_color', 'ring_type']"
       ]
      },
      {
       "output_type": "stream",
       "stream": "stdout",
       "text": [
        "\n",
        "confusion matrix:\n",
        "           predicted edible  predicted poisonous\n",
        "edible                 4296                  215\n",
        "poisonous               238                 3671\n",
        "\n",
        "\n",
        "features: ['gill_size', 'stalk_surface_above_ring', 'stalk_surface_below_ring', 'spore_print_color']"
       ]
      },
      {
       "output_type": "stream",
       "stream": "stdout",
       "text": [
        "\n",
        "confusion matrix:\n",
        "           predicted edible  predicted poisonous\n",
        "edible                 4282                  229\n",
        "poisonous                 0                 3909\n",
        "\n",
        "\n",
        "features: ['gill_size', 'stalk_surface_above_ring', 'stalk_surface_below_ring', 'ring_type']"
       ]
      },
      {
       "output_type": "stream",
       "stream": "stdout",
       "text": [
        "\n",
        "confusion matrix:\n",
        "           predicted edible  predicted poisonous\n",
        "edible                 4228                  283\n",
        "poisonous               355                 3554\n",
        "\n",
        "\n",
        "features: ['gill_size', 'stalk_surface_above_ring', 'spore_print_color', 'ring_type']"
       ]
      },
      {
       "output_type": "stream",
       "stream": "stdout",
       "text": [
        "\n",
        "confusion matrix:\n",
        "           predicted edible  predicted poisonous\n",
        "edible                 4280                  231\n",
        "poisonous                 0                 3909\n",
        "\n",
        "\n",
        "features: ['gill_size', 'gill_color', 'stalk_surface_below_ring', 'spore_print_color']"
       ]
      },
      {
       "output_type": "stream",
       "stream": "stdout",
       "text": [
        "\n",
        "confusion matrix:\n",
        "           predicted edible  predicted poisonous\n",
        "edible                 4282                  229\n",
        "poisonous                24                 3885\n",
        "\n",
        "\n",
        "features: ['gill_size', 'gill_color', 'stalk_surface_below_ring', 'ring_type']"
       ]
      },
      {
       "output_type": "stream",
       "stream": "stdout",
       "text": [
        "\n",
        "confusion matrix:\n",
        "           predicted edible  predicted poisonous\n",
        "edible                 4291                  220\n",
        "poisonous               269                 3640\n",
        "\n",
        "\n",
        "features: ['gill_size', 'gill_color', 'spore_print_color', 'ring_type']"
       ]
      },
      {
       "output_type": "stream",
       "stream": "stdout",
       "text": [
        "\n",
        "confusion matrix:\n",
        "           predicted edible  predicted poisonous\n",
        "edible                 4365                  146\n",
        "poisonous                35                 3874\n",
        "\n",
        "\n",
        "features: ['gill_size', 'stalk_surface_below_ring', 'spore_print_color', 'ring_type']"
       ]
      },
      {
       "output_type": "stream",
       "stream": "stdout",
       "text": [
        "\n",
        "confusion matrix:\n",
        "           predicted edible  predicted poisonous\n",
        "edible                 4328                  183\n",
        "poisonous                 0                 3909\n",
        "\n",
        "\n",
        "features: ['population', 'stalk_surface_above_ring', 'gill_color', 'stalk_surface_below_ring']"
       ]
      },
      {
       "output_type": "stream",
       "stream": "stdout",
       "text": [
        "\n",
        "confusion matrix:\n",
        "           predicted edible  predicted poisonous\n",
        "edible                 4417                   94\n",
        "poisonous               755                 3154\n",
        "\n",
        "\n",
        "features: ['population', 'stalk_surface_above_ring', 'gill_color', 'spore_print_color']"
       ]
      },
      {
       "output_type": "stream",
       "stream": "stdout",
       "text": [
        "\n",
        "confusion matrix:\n",
        "           predicted edible  predicted poisonous\n",
        "edible                 4442                   69\n",
        "poisonous               492                 3417\n",
        "\n",
        "\n",
        "features: ['population', 'stalk_surface_above_ring', 'gill_color', 'ring_type']"
       ]
      },
      {
       "output_type": "stream",
       "stream": "stdout",
       "text": [
        "\n",
        "confusion matrix:\n",
        "           predicted edible  predicted poisonous\n",
        "edible                 4450                   61\n",
        "poisonous               658                 3251\n",
        "\n",
        "\n",
        "features: ['population', 'stalk_surface_above_ring', 'stalk_surface_below_ring', 'spore_print_color']"
       ]
      },
      {
       "output_type": "stream",
       "stream": "stdout",
       "text": [
        "\n",
        "confusion matrix:\n",
        "           predicted edible  predicted poisonous\n",
        "edible                 4295                  216\n",
        "poisonous               466                 3443\n",
        "\n",
        "\n",
        "features: ['population', 'stalk_surface_above_ring', 'stalk_surface_below_ring', 'ring_type']"
       ]
      },
      {
       "output_type": "stream",
       "stream": "stdout",
       "text": [
        "\n",
        "confusion matrix:\n",
        "           predicted edible  predicted poisonous\n",
        "edible                 4328                  183\n",
        "poisonous               823                 3086\n",
        "\n",
        "\n",
        "features: ['population', 'stalk_surface_above_ring', 'spore_print_color', 'ring_type']"
       ]
      },
      {
       "output_type": "stream",
       "stream": "stdout",
       "text": [
        "\n",
        "confusion matrix:\n",
        "           predicted edible  predicted poisonous\n",
        "edible                 4391                  120\n",
        "poisonous               475                 3434\n",
        "\n",
        "\n",
        "features: ['population', 'gill_color', 'stalk_surface_below_ring', 'spore_print_color']"
       ]
      },
      {
       "output_type": "stream",
       "stream": "stdout",
       "text": [
        "\n",
        "confusion matrix:\n",
        "           predicted edible  predicted poisonous\n",
        "edible                 4484                   27\n",
        "poisonous               523                 3386\n",
        "\n",
        "\n",
        "features: ['population', 'gill_color', 'stalk_surface_below_ring', 'ring_type']"
       ]
      },
      {
       "output_type": "stream",
       "stream": "stdout",
       "text": [
        "\n",
        "confusion matrix:\n",
        "           predicted edible  predicted poisonous\n",
        "edible                 4511                    0\n",
        "poisonous               665                 3244\n",
        "\n",
        "\n",
        "features: ['population', 'gill_color', 'spore_print_color', 'ring_type']"
       ]
      },
      {
       "output_type": "stream",
       "stream": "stdout",
       "text": [
        "\n",
        "confusion matrix:\n",
        "           predicted edible  predicted poisonous\n",
        "edible                 4511                    0\n",
        "poisonous               507                 3402\n",
        "\n",
        "\n",
        "features: ['population', 'stalk_surface_below_ring', 'spore_print_color', 'ring_type']"
       ]
      },
      {
       "output_type": "stream",
       "stream": "stdout",
       "text": [
        "\n",
        "confusion matrix:\n",
        "           predicted edible  predicted poisonous\n",
        "edible                 4365                  146\n",
        "poisonous               475                 3434\n",
        "\n",
        "\n",
        "features: ['stalk_surface_above_ring', 'gill_color', 'stalk_surface_below_ring', 'spore_print_color']"
       ]
      },
      {
       "output_type": "stream",
       "stream": "stdout",
       "text": [
        "\n",
        "confusion matrix:\n",
        "           predicted edible  predicted poisonous\n",
        "edible                 4465                   46\n",
        "poisonous               527                 3382\n",
        "\n",
        "\n",
        "features: ['stalk_surface_above_ring', 'gill_color', 'stalk_surface_below_ring', 'ring_type']"
       ]
      },
      {
       "output_type": "stream",
       "stream": "stdout",
       "text": [
        "\n",
        "confusion matrix:\n",
        "           predicted edible  predicted poisonous\n",
        "edible                 4509                    2\n",
        "poisonous               708                 3201\n",
        "\n",
        "\n",
        "features: ['stalk_surface_above_ring', 'gill_color', 'spore_print_color', 'ring_type']"
       ]
      },
      {
       "output_type": "stream",
       "stream": "stdout",
       "text": [
        "\n",
        "confusion matrix:\n",
        "           predicted edible  predicted poisonous\n",
        "edible                 4511                    0\n",
        "poisonous               507                 3402\n",
        "\n",
        "\n",
        "features: ['stalk_surface_above_ring', 'stalk_surface_below_ring', 'spore_print_color', 'ring_type']"
       ]
      },
      {
       "output_type": "stream",
       "stream": "stdout",
       "text": [
        "\n",
        "confusion matrix:\n",
        "           predicted edible  predicted poisonous\n",
        "edible                 4221                  290\n",
        "poisonous               464                 3445\n",
        "\n",
        "\n",
        "features: ['gill_color', 'stalk_surface_below_ring', 'spore_print_color', 'ring_type']"
       ]
      },
      {
       "output_type": "stream",
       "stream": "stdout",
       "text": [
        "\n",
        "confusion matrix:\n",
        "           predicted edible  predicted poisonous\n",
        "edible                 4511                    0\n",
        "poisonous               507                 3402\n",
        "\n",
        "\n"
       ]
      }
     ],
     "prompt_number": 46
    },
    {
     "cell_type": "code",
     "collapsed": false,
     "input": [
      "f4_df = mc.plot_confusion_matrix_dict(f4_confusion_matrix_dict, \n",
      "                                min_precision=0.99, \n",
      "                                min_recall=0.99, \n",
      "                                auto_scale=True)\n",
      "f4_df.sort(columns=['recall', 'precision'], ascending=False)"
     ],
     "language": "python",
     "metadata": {},
     "outputs": [
      {
       "html": [
        "<div style=\"max-height:1000px;max-width:1500px;overflow:auto;\">\n",
        "<table border=\"1\" class=\"dataframe\">\n",
        "  <thead>\n",
        "    <tr style=\"text-align: right;\">\n",
        "      <th></th>\n",
        "      <th>feature</th>\n",
        "      <th>precision</th>\n",
        "      <th>recall</th>\n",
        "    </tr>\n",
        "  </thead>\n",
        "  <tbody>\n",
        "    <tr>\n",
        "      <th>6 </th>\n",
        "      <td> odor,population,stalk_surface_above_ring,spore...</td>\n",
        "      <td> 0.998009</td>\n",
        "      <td> 1.000000</td>\n",
        "    </tr>\n",
        "    <tr>\n",
        "      <th>13</th>\n",
        "      <td> odor,gill_size,stalk_surface_below_ring,spore_...</td>\n",
        "      <td> 0.998009</td>\n",
        "      <td> 1.000000</td>\n",
        "    </tr>\n",
        "    <tr>\n",
        "      <th>17</th>\n",
        "      <td> odor,gill_size,stalk_surface_above_ring,spore_...</td>\n",
        "      <td> 0.998009</td>\n",
        "      <td> 1.000000</td>\n",
        "    </tr>\n",
        "    <tr>\n",
        "      <th>37</th>\n",
        "      <td> odor,stalk_surface_below_ring,spore_print_colo...</td>\n",
        "      <td> 0.998009</td>\n",
        "      <td> 1.000000</td>\n",
        "    </tr>\n",
        "    <tr>\n",
        "      <th>60</th>\n",
        "      <td> odor,population,stalk_surface_below_ring,spore...</td>\n",
        "      <td> 0.998009</td>\n",
        "      <td> 1.000000</td>\n",
        "    </tr>\n",
        "    <tr>\n",
        "      <th>22</th>\n",
        "      <td> odor,stalk_surface_above_ring,stalk_surface_be...</td>\n",
        "      <td> 0.995586</td>\n",
        "      <td> 1.000000</td>\n",
        "    </tr>\n",
        "    <tr>\n",
        "      <th>67</th>\n",
        "      <td> odor,stalk_surface_above_ring,spore_print_colo...</td>\n",
        "      <td> 0.993175</td>\n",
        "      <td> 1.000000</td>\n",
        "    </tr>\n",
        "    <tr>\n",
        "      <th>40</th>\n",
        "      <td>       odor,gill_size,gill_color,spore_print_color</td>\n",
        "      <td> 0.990340</td>\n",
        "      <td> 1.000000</td>\n",
        "    </tr>\n",
        "    <tr>\n",
        "      <th>66</th>\n",
        "      <td> odor,gill_color,stalk_surface_below_ring,spore...</td>\n",
        "      <td> 0.993600</td>\n",
        "      <td> 0.998005</td>\n",
        "    </tr>\n",
        "  </tbody>\n",
        "</table>\n",
        "</div>"
       ],
       "output_type": "pyout",
       "prompt_number": 47,
       "text": [
        "                                              feature  precision    recall\n",
        "6   odor,population,stalk_surface_above_ring,spore...   0.998009  1.000000\n",
        "13  odor,gill_size,stalk_surface_below_ring,spore_...   0.998009  1.000000\n",
        "17  odor,gill_size,stalk_surface_above_ring,spore_...   0.998009  1.000000\n",
        "37  odor,stalk_surface_below_ring,spore_print_colo...   0.998009  1.000000\n",
        "60  odor,population,stalk_surface_below_ring,spore...   0.998009  1.000000\n",
        "22  odor,stalk_surface_above_ring,stalk_surface_be...   0.995586  1.000000\n",
        "67  odor,stalk_surface_above_ring,spore_print_colo...   0.993175  1.000000\n",
        "40        odor,gill_size,gill_color,spore_print_color   0.990340  1.000000\n",
        "66  odor,gill_color,stalk_surface_below_ring,spore...   0.993600  0.998005"
       ]
      },
      {
       "output_type": "display_data",
       "png": "[encoded data removed]"
      }
     ],
     "prompt_number": 47
    },
    {
     "cell_type": "code",
     "collapsed": false,
     "input": [
      "f4_confusion_matrix_dict[('odor', 'stalk_surface_below_ring', 'spore_print_color', 'ring_type')]"
     ],
     "language": "python",
     "metadata": {},
     "outputs": [
      {
       "html": [
        "<div style=\"max-height:1000px;max-width:1500px;overflow:auto;\">\n",
        "<table border=\"1\" class=\"dataframe\">\n",
        "  <thead>\n",
        "    <tr style=\"text-align: right;\">\n",
        "      <th></th>\n",
        "      <th>predicted edible</th>\n",
        "      <th>predicted poisonous</th>\n",
        "    </tr>\n",
        "  </thead>\n",
        "  <tbody>\n",
        "    <tr>\n",
        "      <th>edible</th>\n",
        "      <td> 4511</td>\n",
        "      <td>    0</td>\n",
        "    </tr>\n",
        "    <tr>\n",
        "      <th>poisonous</th>\n",
        "      <td>    9</td>\n",
        "      <td> 3900</td>\n",
        "    </tr>\n",
        "  </tbody>\n",
        "</table>\n",
        "</div>"
       ],
       "output_type": "pyout",
       "prompt_number": 48,
       "text": [
        "           predicted edible  predicted poisonous\n",
        "edible                 4511                    0\n",
        "poisonous                 9                 3900"
       ]
      }
     ],
     "prompt_number": 48
    },
    {
     "cell_type": "heading",
     "level": 2,
     "metadata": {},
     "source": [
      "Feature Selection with SelectKBest"
     ]
    },
    {
     "cell_type": "markdown",
     "metadata": {},
     "source": [
      "The above feature selection is very exploratory and brute force.  A better option is provided by SelectKBest.  Given a set of predictor variables and classifications, SelectKBest will select the k best features for prediction.\n",
      "\n",
      "In the above context we were dealing with a feature to mean all values that feature could take on.  For example, the feature 'odor' meant 'odor=NONE', 'odor=FOUL', 'odor=MUSTY', etc.  Now we are really dealing with the expanded feature categories, treating 'odor=NONE' as features.\n",
      "\n",
      "Here we use a helper function to use SelectKBest with values in a range of 1 to 10."
     ]
    },
    {
     "cell_type": "code",
     "collapsed": false,
     "input": [
      "features_to_cm_map = mc.test_top_features_in_range(X, y, mc.csv_column_names[1:], min_features=1, max_features=10, verbose=True)"
     ],
     "language": "python",
     "metadata": {},
     "outputs": [
      {
       "output_type": "stream",
       "stream": "stdout",
       "text": [
        "Using features: ('odor=NONE',)\n",
        "           predicted edible  predicted poisonous\n",
        "edible                 1470                  337\n",
        "poisonous                45                 1515\n",
        "Using features: ('odor=FOUL', 'odor=NONE')"
       ]
      },
      {
       "output_type": "stream",
       "stream": "stdout",
       "text": [
        "\n",
        "           predicted edible  predicted poisonous\n",
        "edible                 1470                  337\n",
        "poisonous                45                 1515\n",
        "Using features: ('odor=FOUL', 'odor=NONE', 'stalk_surface_above_ring=SILKY')"
       ]
      },
      {
       "output_type": "stream",
       "stream": "stdout",
       "text": [
        "\n",
        "           predicted edible  predicted poisonous\n",
        "edible                 1470                  337\n",
        "poisonous                45                 1515\n",
        "Using features: ('odor=FOUL', 'odor=NONE', 'stalk_surface_above_ring=SILKY', 'stalk_surface_below_ring=SILKY')"
       ]
      },
      {
       "output_type": "stream",
       "stream": "stdout",
       "text": [
        "\n",
        "           predicted edible  predicted poisonous\n",
        "edible                 1440                  367\n",
        "poisonous                45                 1515\n",
        "Using features: ('gill_size=NARROW', 'odor=FOUL', 'odor=NONE', 'stalk_surface_above_ring=SILKY', 'stalk_surface_below_ring=SILKY')"
       ]
      },
      {
       "output_type": "stream",
       "stream": "stdout",
       "text": [
        "\n",
        "           predicted edible  predicted poisonous\n",
        "edible                 1765                   42\n",
        "poisonous                35                 1525\n",
        "Using features: ('gill_size=BROAD', 'gill_size=NARROW', 'odor=FOUL', 'odor=NONE', 'stalk_surface_above_ring=SILKY', 'stalk_surface_below_ring=SILKY')"
       ]
      },
      {
       "output_type": "stream",
       "stream": "stdout",
       "text": [
        "\n",
        "           predicted edible  predicted poisonous\n",
        "edible                 1765                   42\n",
        "poisonous                35                 1525\n",
        "Using features: ('gill_color=BUFF', 'gill_size=BROAD', 'gill_size=NARROW', 'odor=FOUL', 'odor=NONE', 'stalk_surface_above_ring=SILKY', 'stalk_surface_below_ring=SILKY')"
       ]
      },
      {
       "output_type": "stream",
       "stream": "stdout",
       "text": [
        "\n",
        "           predicted edible  predicted poisonous\n",
        "edible                 1765                   42\n",
        "poisonous                35                 1525\n",
        "Using features: ('gill_color=BUFF', 'gill_size=BROAD', 'gill_size=NARROW', 'odor=FOUL', 'odor=NONE', 'ring_type=PENDANT', 'stalk_surface_above_ring=SILKY', 'stalk_surface_below_ring=SILKY')"
       ]
      },
      {
       "output_type": "stream",
       "stream": "stdout",
       "text": [
        "\n",
        "           predicted edible  predicted poisonous\n",
        "edible                 1765                   42\n",
        "poisonous                35                 1525\n",
        "Using features: ('gill_color=BUFF', 'gill_size=BROAD', 'gill_size=NARROW', 'odor=FOUL', 'odor=NONE', 'ring_type=PENDANT', 'spore_print_color=CHOCOLATE', 'stalk_surface_above_ring=SILKY', 'stalk_surface_below_ring=SILKY')"
       ]
      },
      {
       "output_type": "stream",
       "stream": "stdout",
       "text": [
        "\n",
        "           predicted edible  predicted poisonous\n",
        "edible                 1765                   42\n",
        "poisonous                35                 1525\n",
        "Using features: ('gill_color=BUFF', 'gill_size=BROAD', 'gill_size=NARROW', 'odor=FOUL', 'odor=NONE', 'ring_type=PENDANT', 'spore_print_color=CHOCOLATE', 'stalk_surface_above_ring=SILKY', 'stalk_surface_above_ring=SMOOTH', 'stalk_surface_below_ring=SILKY')"
       ]
      },
      {
       "output_type": "stream",
       "stream": "stdout",
       "text": [
        "\n",
        "           predicted edible  predicted poisonous\n",
        "edible                 1765                   42\n",
        "poisonous                35                 1525\n"
       ]
      }
     ],
     "prompt_number": 52
    },
    {
     "cell_type": "markdown",
     "metadata": {},
     "source": [
      "We see several plateaus in the accuracy here.  This is possibly due to ties in features.  More investigation needed here.\n",
      "\n",
      "Let's make a chart."
     ]
    },
    {
     "cell_type": "code",
     "collapsed": false,
     "input": [
      "features_to_cm_map = mc.test_top_features_in_range(X, y, mc.csv_column_names[1:], min_features=1, max_features=50, verbose=False)\n",
      "mc.plot_top_features_dict(features_to_cm_map)"
     ],
     "language": "python",
     "metadata": {},
     "outputs": [
      {
       "output_type": "stream",
       "stream": "stdout",
       "text": [
        "    precision    recall\n",
        "1    0.970297  0.813503\n",
        "2    0.970297  0.813503\n",
        "3    0.970297  0.813503\n",
        "4    0.969697  0.796901\n",
        "5    0.980556  0.976757\n",
        "6    0.980556  0.976757\n",
        "7    0.980556  0.976757\n",
        "8    0.980556  0.976757\n",
        "9    0.980556  0.976757\n",
        "10   0.980556  0.976757\n",
        "11   0.980556  0.976757\n",
        "12   0.980556  0.976757\n",
        "13   0.980556  0.976757\n",
        "14   0.980556  0.976757\n",
        "15   0.980556  0.976757\n",
        "16   0.980556  0.976757\n",
        "17   0.980556  0.976757\n",
        "18   0.971785  0.991146\n",
        "19   0.971785  0.991146\n",
        "20   0.971785  0.991146\n",
        "21   0.971507  0.981184\n",
        "22   0.971507  0.981184\n",
        "23   0.971507  0.981184\n",
        "24   0.970011  0.984505\n",
        "25   0.970011  0.984505\n",
        "26   0.970011  0.984505\n",
        "27   0.970011  0.984505\n",
        "28   0.970011  0.984505\n",
        "29   0.970011  0.984505\n",
        "30   0.970011  0.984505\n",
        "31   0.970011  0.984505\n",
        "32   0.970011  0.984505\n",
        "33   0.970011  0.984505\n",
        "34   0.970011  0.984505\n",
        "35   0.970011  0.984505\n",
        "36   0.970011  0.984505\n",
        "37   0.970011  0.984505\n",
        "38   0.970125  0.988379\n",
        "39   0.974429  0.991146\n",
        "40   0.974429  0.991146\n",
        "41   0.996691  1.000000\n",
        "42   0.993949  1.000000\n",
        "43   0.996691  1.000000\n",
        "44   0.996691  1.000000\n",
        "45   0.996691  1.000000\n",
        "46   0.996691  1.000000\n",
        "47   0.997241  1.000000\n",
        "48   0.997241  1.000000\n",
        "49   0.997241  1.000000\n",
        "50   0.997241  1.000000\n"
       ]
      },
      {
       "output_type": "display_data",
       "png": "[encoded data removed]"
      }
     ],
     "prompt_number": 64
    },
    {
     "cell_type": "heading",
     "level": 2,
     "metadata": {},
     "source": [
      "Next Steps"
     ]
    },
    {
     "cell_type": "markdown",
     "metadata": {},
     "source": [
      "If I were to continue with this, here are a few avenues I would like to explore.\n",
      "\n",
      "* Use scikit-learn to determine the optimal minimal features.\n",
      "* (Mostly done.)  With a one-hot encoded dataset, determine the feature-values most significant for classification.  That is, instead of just identifying the feature 'odor' as significant, determine that 'odor=almond' is a strong predictor.\n",
      "* Using scikit-learn LogisticRegression, experiment with L1 and L2 regularization and values of C for regulariation.\n",
      "* Compare this overall approach with classification using NaiveBayes or decision trees.\n",
      "* Review some of the articles referenced from the UCI ML page for this dataset and attempt to reproduce some of the techniques described."
     ]
    },
    {
     "cell_type": "code",
     "collapsed": false,
     "input": [],
     "language": "python",
     "metadata": {},
     "outputs": []
    }
   ],
   "metadata": {}
  }
 ]
}