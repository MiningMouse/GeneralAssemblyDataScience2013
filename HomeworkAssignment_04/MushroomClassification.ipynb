{
 "metadata": {
  "name": "MushroomClassification"
 },
 "nbformat": 3,
 "nbformat_minor": 0,
 "worksheets": [
  {
   "cells": [
    {
     "cell_type": "code",
     "collapsed": false,
     "input": [
      "# reload imported modules when they change\n",
      "%load_ext autoreload\n",
      "%autoreload 2\n",
      "\n",
      "from mushroom_classification import (get_attribute_dict, get_attributes_from_dict, get_dataframe, data_filepath)\n",
      "import pandas as pd"
     ],
     "language": "python",
     "metadata": {},
     "outputs": [],
     "prompt_number": 10
    },
    {
     "cell_type": "code",
     "collapsed": false,
     "input": [
      "attribute_dict = get_attribute_dict()\n",
      "column_names = get_attributes_from_dict(attribute_dict)\n",
      "df = get_dataframe(data_filepath, column_names)\n",
      "df"
     ],
     "language": "python",
     "metadata": {},
     "outputs": [
      {
       "html": [
        "<pre>\n",
        "&ltclass 'pandas.core.frame.DataFrame'&gt\n",
        "Int64Index: 8124 entries, 0 to 8123\n",
        "Data columns (total 23 columns):\n",
        "classification              8124  non-null values\n",
        "cap_shape                   8124  non-null values\n",
        "cap_surface                 8124  non-null values\n",
        "cap_color                   8124  non-null values\n",
        "bruises                     8124  non-null values\n",
        "odor                        8124  non-null values\n",
        "gill_attachment             8124  non-null values\n",
        "gill_spacing                8124  non-null values\n",
        "gill_size                   8124  non-null values\n",
        "gill_color                  8124  non-null values\n",
        "stalk_shape                 8124  non-null values\n",
        "stalk_root                  8124  non-null values\n",
        "stalk_surface_above_ring    8124  non-null values\n",
        "stalk_surface_below_ring    8124  non-null values\n",
        "stalk_color_above_ring      8124  non-null values\n",
        "stalk_color_below_ring      8124  non-null values\n",
        "veil_type                   8124  non-null values\n",
        "veil_color                  8124  non-null values\n",
        "ring_number                 8124  non-null values\n",
        "ring_type                   8124  non-null values\n",
        "spore_print_color           8124  non-null values\n",
        "population                  8124  non-null values\n",
        "habitat                     8124  non-null values\n",
        "dtypes: object(23)\n",
        "</pre>"
       ],
       "output_type": "pyout",
       "prompt_number": 11,
       "text": [
        "<class 'pandas.core.frame.DataFrame'>\n",
        "Int64Index: 8124 entries, 0 to 8123\n",
        "Data columns (total 23 columns):\n",
        "classification              8124  non-null values\n",
        "cap_shape                   8124  non-null values\n",
        "cap_surface                 8124  non-null values\n",
        "cap_color                   8124  non-null values\n",
        "bruises                     8124  non-null values\n",
        "odor                        8124  non-null values\n",
        "gill_attachment             8124  non-null values\n",
        "gill_spacing                8124  non-null values\n",
        "gill_size                   8124  non-null values\n",
        "gill_color                  8124  non-null values\n",
        "stalk_shape                 8124  non-null values\n",
        "stalk_root                  8124  non-null values\n",
        "stalk_surface_above_ring    8124  non-null values\n",
        "stalk_surface_below_ring    8124  non-null values\n",
        "stalk_color_above_ring      8124  non-null values\n",
        "stalk_color_below_ring      8124  non-null values\n",
        "veil_type                   8124  non-null values\n",
        "veil_color                  8124  non-null values\n",
        "ring_number                 8124  non-null values\n",
        "ring_type                   8124  non-null values\n",
        "spore_print_color           8124  non-null values\n",
        "population                  8124  non-null values\n",
        "habitat                     8124  non-null values\n",
        "dtypes: object(23)"
       ]
      }
     ],
     "prompt_number": 11
    },
    {
     "cell_type": "code",
     "collapsed": false,
     "input": [
      "columns_X = column_names[1:]\n",
      "df_X = pd.DataFrame(df, columns=columns_X)\n",
      "df_X"
     ],
     "language": "python",
     "metadata": {},
     "outputs": [
      {
       "html": [
        "<pre>\n",
        "&ltclass 'pandas.core.frame.DataFrame'&gt\n",
        "Int64Index: 8124 entries, 0 to 8123\n",
        "Data columns (total 22 columns):\n",
        "cap_shape                   8124  non-null values\n",
        "cap_surface                 8124  non-null values\n",
        "cap_color                   8124  non-null values\n",
        "bruises                     8124  non-null values\n",
        "odor                        8124  non-null values\n",
        "gill_attachment             8124  non-null values\n",
        "gill_spacing                8124  non-null values\n",
        "gill_size                   8124  non-null values\n",
        "gill_color                  8124  non-null values\n",
        "stalk_shape                 8124  non-null values\n",
        "stalk_root                  8124  non-null values\n",
        "stalk_surface_above_ring    8124  non-null values\n",
        "stalk_surface_below_ring    8124  non-null values\n",
        "stalk_color_above_ring      8124  non-null values\n",
        "stalk_color_below_ring      8124  non-null values\n",
        "veil_type                   8124  non-null values\n",
        "veil_color                  8124  non-null values\n",
        "ring_number                 8124  non-null values\n",
        "ring_type                   8124  non-null values\n",
        "spore_print_color           8124  non-null values\n",
        "population                  8124  non-null values\n",
        "habitat                     8124  non-null values\n",
        "dtypes: object(22)\n",
        "</pre>"
       ],
       "output_type": "pyout",
       "prompt_number": 12,
       "text": [
        "<class 'pandas.core.frame.DataFrame'>\n",
        "Int64Index: 8124 entries, 0 to 8123\n",
        "Data columns (total 22 columns):\n",
        "cap_shape                   8124  non-null values\n",
        "cap_surface                 8124  non-null values\n",
        "cap_color                   8124  non-null values\n",
        "bruises                     8124  non-null values\n",
        "odor                        8124  non-null values\n",
        "gill_attachment             8124  non-null values\n",
        "gill_spacing                8124  non-null values\n",
        "gill_size                   8124  non-null values\n",
        "gill_color                  8124  non-null values\n",
        "stalk_shape                 8124  non-null values\n",
        "stalk_root                  8124  non-null values\n",
        "stalk_surface_above_ring    8124  non-null values\n",
        "stalk_surface_below_ring    8124  non-null values\n",
        "stalk_color_above_ring      8124  non-null values\n",
        "stalk_color_below_ring      8124  non-null values\n",
        "veil_type                   8124  non-null values\n",
        "veil_color                  8124  non-null values\n",
        "ring_number                 8124  non-null values\n",
        "ring_type                   8124  non-null values\n",
        "spore_print_color           8124  non-null values\n",
        "population                  8124  non-null values\n",
        "habitat                     8124  non-null values\n",
        "dtypes: object(22)"
       ]
      }
     ],
     "prompt_number": 12
    },
    {
     "cell_type": "code",
     "collapsed": false,
     "input": [
      "df_Y = df['classification']\n",
      "df_Y"
     ],
     "language": "python",
     "metadata": {},
     "outputs": [
      {
       "output_type": "pyout",
       "prompt_number": 13,
       "text": [
        "0     p\n",
        "1     e\n",
        "2     e\n",
        "3     p\n",
        "4     e\n",
        "5     e\n",
        "6     e\n",
        "7     e\n",
        "8     p\n",
        "9     e\n",
        "10    e\n",
        "11    e\n",
        "12    e\n",
        "13    p\n",
        "14    e\n",
        "...\n",
        "8109    e\n",
        "8110    e\n",
        "8111    e\n",
        "8112    e\n",
        "8113    p\n",
        "8114    p\n",
        "8115    e\n",
        "8116    p\n",
        "8117    p\n",
        "8118    p\n",
        "8119    e\n",
        "8120    e\n",
        "8121    e\n",
        "8122    p\n",
        "8123    e\n",
        "Name: classification, Length: 8124, dtype: object"
       ]
      }
     ],
     "prompt_number": 13
    },
    {
     "cell_type": "code",
     "collapsed": false,
     "input": [
      "8124.0/23"
     ],
     "language": "python",
     "metadata": {},
     "outputs": [
      {
       "output_type": "pyout",
       "prompt_number": 14,
       "text": [
        "353.2173913043478"
       ]
      }
     ],
     "prompt_number": 14
    },
    {
     "cell_type": "code",
     "collapsed": false,
     "input": [],
     "language": "python",
     "metadata": {},
     "outputs": []
    }
   ],
   "metadata": {}
  }
 ]
}