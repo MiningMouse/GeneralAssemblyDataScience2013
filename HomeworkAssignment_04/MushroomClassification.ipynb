{
 "metadata": {
  "name": "MushroomClassification"
 },
 "nbformat": 3,
 "nbformat_minor": 0,
 "worksheets": [
  {
   "cells": [
    {
     "cell_type": "heading",
     "level": 1,
     "metadata": {},
     "source": [
      "Mushroom Classification with Logistic Regression"
     ]
    },
    {
     "cell_type": "markdown",
     "metadata": {},
     "source": [
      "This iPython notebook is meant to help in exploratory programming and in demonstrating the key concepts with using logistic regression with Scikit-learn.  The majority of the functionality is in the python script mushroom_classification.py, but this notebook will serve as a guide through the script.\n",
      "\n",
      "The first step is to load our script as a module.  Here we use the iPython magic function autoreload to reload our script when any changes are detected."
     ]
    },
    {
     "cell_type": "code",
     "collapsed": false,
     "input": [
      "# reload imported modules when they change\n",
      "%load_ext autoreload\n",
      "%autoreload 2\n",
      "\n",
      "import mushroom_classification as mc\n",
      "import pandas as pd"
     ],
     "language": "python",
     "metadata": {},
     "outputs": [],
     "prompt_number": 25
    },
    {
     "cell_type": "markdown",
     "metadata": {},
     "source": [
      "Now let's get the data.  These are in the form of Pandas dataframes."
     ]
    },
    {
     "cell_type": "code",
     "collapsed": false,
     "input": [
      "column_names = mc.column_names\n",
      "data_filepath = mc.data_filepath\n",
      "X, y = mc.get_data(data_filepath, column_names)"
     ],
     "language": "python",
     "metadata": {},
     "outputs": [],
     "prompt_number": 26
    },
    {
     "cell_type": "markdown",
     "metadata": {},
     "source": [
      "Now that we have the dataframes, we can do some inspection.  For example, what is the break down of poisonous to edible mushrooms in our dataset?"
     ]
    },
    {
     "cell_type": "code",
     "collapsed": false,
     "input": [
      "y.value_counts()"
     ],
     "language": "python",
     "metadata": {},
     "outputs": [
      {
       "output_type": "pyout",
       "prompt_number": 27,
       "text": [
        "EDIBLE       4488\n",
        "POISONOUS    3928\n",
        "dtype: int64"
       ]
      }
     ],
     "prompt_number": 27
    },
    {
     "cell_type": "code",
     "collapsed": false,
     "input": [
      "X.to_records()"
     ],
     "language": "python",
     "metadata": {},
     "outputs": [
      {
       "output_type": "pyout",
       "prompt_number": 28,
       "text": [
        "rec.array([ (0, 'CONVEX', 'SMOOTH', 'WHITE', 'BRUISES', 'ALMOND', 'FREE', 'CROWDED', 'NARROW', 'WHITE', 'TAPERING', 'BULBOUS', 'SMOOTH', 'SMOOTH', 'WHITE', 'WHITE', 'PARTIAL', 'WHITE', 'ONE', 'PENDANT', 'PURPLE', 'SEVERAL', 'WOODS'),\n",
        "       (1, 'CONVEX', 'SMOOTH', 'WHITE', 'BRUISES', 'ALMOND', 'FREE', 'CROWDED', 'NARROW', 'WHITE', 'TAPERING', 'BULBOUS', 'SMOOTH', 'SMOOTH', 'WHITE', 'WHITE', 'PARTIAL', 'WHITE', 'ONE', 'PENDANT', 'BROWN', 'SEVERAL', 'WOODS'),\n",
        "       (2, 'CONVEX', 'SMOOTH', 'WHITE', 'BRUISES', 'ALMOND', 'FREE', 'CROWDED', 'NARROW', 'PINK', 'TAPERING', 'BULBOUS', 'SMOOTH', 'SMOOTH', 'WHITE', 'WHITE', 'PARTIAL', 'WHITE', 'ONE', 'PENDANT', 'PURPLE', 'SEVERAL', 'WOODS'),\n",
        "       ...,\n",
        "       (8413, 'KNOBBED', 'SMOOTH', 'BROWN', 'NO', 'NONE', 'ATTACHED', 'CLOSE', 'BROAD', 'BROWN', 'ENLARGING', '?', 'SMOOTH', 'SMOOTH', 'ORANGE', 'ORANGE', 'PARTIAL', 'BROWN', 'ONE', 'PENDANT', 'ORANGE', 'CLUSTERED', 'LEAVES'),\n",
        "       (8414, 'KNOBBED', 'SMOOTH', 'BROWN', 'NO', 'NONE', 'ATTACHED', 'CLOSE', 'BROAD', 'BROWN', 'ENLARGING', '?', 'SMOOTH', 'SMOOTH', 'ORANGE', 'ORANGE', 'PARTIAL', 'BROWN', 'ONE', 'PENDANT', 'BUFF', 'SEVERAL', 'LEAVES'),\n",
        "       (8415, 'KNOBBED', 'SMOOTH', 'BROWN', 'NO', 'NONE', 'ATTACHED', 'CLOSE', 'BROAD', 'BROWN', 'ENLARGING', '?', 'SMOOTH', 'SMOOTH', 'ORANGE', 'ORANGE', 'PARTIAL', 'BROWN', 'ONE', 'PENDANT', 'BUFF', 'CLUSTERED', 'LEAVES')], \n",
        "      dtype=[('index', '<i8'), ('cap_shape', 'O'), ('cap_surface', 'O'), ('cap_color', 'O'), ('bruises', 'O'), ('odor', 'O'), ('gill_attachment', 'O'), ('gill_spacing', 'O'), ('gill_size', 'O'), ('gill_color', 'O'), ('stalk_shape', 'O'), ('stalk_root', 'O'), ('stalk_surface_above_ring', 'O'), ('stalk_surface_below_ring', 'O'), ('stalk_color_above_ring', 'O'), ('stalk_color_below_ring', 'O'), ('veil_type', 'O'), ('veil_color', 'O'), ('ring_number', 'O'), ('ring_type', 'O'), ('spore_print_color', 'O'), ('population', 'O'), ('habitat', 'O')])"
       ]
      }
     ],
     "prompt_number": 28
    },
    {
     "cell_type": "heading",
     "level": 2,
     "metadata": {},
     "source": [
      "One-hot Encoding"
     ]
    },
    {
     "cell_type": "markdown",
     "metadata": {},
     "source": [
      "The dataset we are using has categorical variables for all features.  To use this with scikit-learn logistic regression, these need to be converted to numeric values, in particular, binary encoded by each feature-value.  Take for example the feature cap-surface which can take one of four values: fibrous, grooves, scaly, or smooth.  Converting these to 1, 2, 3, and 4 would imply some numeric relation between the values.  Instead, we use a one-hot encoding which expands the column to four columns with a 0 or 1 depending on the feature value."
     ]
    },
    {
     "cell_type": "code",
     "collapsed": false,
     "input": [
      "X, X_encoded, vectorizer = mc.one_hot_dataframe(X, column_names[1:])"
     ],
     "language": "python",
     "metadata": {},
     "outputs": [],
     "prompt_number": 29
    },
    {
     "cell_type": "code",
     "collapsed": false,
     "input": [
      "X_encoded.ix[0]"
     ],
     "language": "python",
     "metadata": {},
     "outputs": [
      {
       "output_type": "pyout",
       "prompt_number": 30,
       "text": [
        "bruises=BRUISES       1\n",
        "bruises=NO            0\n",
        "cap_color=BROWN       0\n",
        "cap_color=BUFF        0\n",
        "cap_color=CINNAMON    0\n",
        "cap_color=GRAY        0\n",
        "cap_color=GREEN       0\n",
        "cap_color=PINK        0\n",
        "cap_color=PURPLE      0\n",
        "cap_color=RED         0\n",
        "cap_color=WHITE       1\n",
        "cap_color=YELLOW      0\n",
        "cap_shape=BELL        0\n",
        "cap_shape=CONICAL     0\n",
        "cap_shape=CONVEX      1\n",
        "...\n",
        "stalk_shape=ENLARGING               0\n",
        "stalk_shape=TAPERING                1\n",
        "stalk_surface_above_ring=FIBROUS    0\n",
        "stalk_surface_above_ring=SCALY      0\n",
        "stalk_surface_above_ring=SILKY      0\n",
        "stalk_surface_above_ring=SMOOTH     1\n",
        "stalk_surface_below_ring=FIBROUS    0\n",
        "stalk_surface_below_ring=SCALY      0\n",
        "stalk_surface_below_ring=SILKY      0\n",
        "stalk_surface_below_ring=SMOOTH     1\n",
        "veil_color=BROWN                    0\n",
        "veil_color=ORANGE                   0\n",
        "veil_color=WHITE                    1\n",
        "veil_color=YELLOW                   0\n",
        "veil_type=PARTIAL                   1\n",
        "Name: 0, Length: 117, dtype: float64"
       ]
      }
     ],
     "prompt_number": 30
    },
    {
     "cell_type": "code",
     "collapsed": false,
     "input": [],
     "language": "python",
     "metadata": {},
     "outputs": []
    }
   ],
   "metadata": {}
  }
 ]
}