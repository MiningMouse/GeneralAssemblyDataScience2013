{
 "metadata": {
  "name": ""
 },
 "nbformat": 3,
 "nbformat_minor": 0,
 "worksheets": [
  {
   "cells": [
    {
     "cell_type": "heading",
     "level": 1,
     "metadata": {},
     "source": [
      "Facebook Likes Analysis"
     ]
    },
    {
     "cell_type": "markdown",
     "metadata": {},
     "source": [
      "For players of our game who are connected via Facebook, it is possible to retrieve their individual likes via the Facebook Graph API.  There are automated jobs in place to retrieve this data for all Facebook players who installed on the previous day, as well as for historical days in the past.  Does this data have predictive power with respect to any of the KPIs in our game?  Are certain likes highly predictive of a player monetizing in our game?  The goal of this analysis is to answer these questions."
     ]
    },
    {
     "cell_type": "heading",
     "level": 2,
     "metadata": {},
     "source": [
      "Code Section"
     ]
    },
    {
     "cell_type": "markdown",
     "metadata": {},
     "source": [
      "This section contains all the functions used in the following sections.  You can skip to the next section if you are just interested in the analysis."
     ]
    },
    {
     "cell_type": "code",
     "collapsed": false,
     "input": [
      "%load_ext autoreload\n",
      "%autoreload 2"
     ],
     "language": "python",
     "metadata": {},
     "outputs": [],
     "prompt_number": 1
    },
    {
     "cell_type": "code",
     "collapsed": false,
     "input": [
      "import sys\n",
      "sys.path.append('../reporting/ml/')\n",
      "\n",
      "from datetime import (datetime, timedelta)\n",
      "import locale\n",
      "import numpy as np\n",
      "import pandas as pd\n",
      "from IPython.display import HTML\n",
      "\n",
      "import facebook_likes\n",
      "import project_queries\n",
      "\n",
      "locale.setlocale(locale.LC_ALL, 'en_US')"
     ],
     "language": "python",
     "metadata": {},
     "outputs": [
      {
       "metadata": {},
       "output_type": "pyout",
       "prompt_number": 2,
       "text": [
        "'en_US'"
       ]
      }
     ],
     "prompt_number": 2
    },
    {
     "cell_type": "heading",
     "level": 2,
     "metadata": {},
     "source": [
      "Exploring the Data"
     ]
    },
    {
     "cell_type": "markdown",
     "metadata": {},
     "source": [
      "First we will set the start and end dates for player installs that will be used for all calls using install date start and install date end.  This covers the first 21 days in July 2013."
     ]
    },
    {
     "cell_type": "code",
     "collapsed": false,
     "input": [
      "install_date_start = '2013-07-01'\n",
      "install_date_end = '2013-07-21'"
     ],
     "language": "python",
     "metadata": {},
     "outputs": [],
     "prompt_number": 3
    },
    {
     "cell_type": "markdown",
     "metadata": {},
     "source": [
      "And for any calculation that needs to use a number of days to extend a search, let's calculate the maximum range now.  (We trim off one day just to account for details of the ETL system.)"
     ]
    },
    {
     "cell_type": "code",
     "collapsed": false,
     "input": [
      "max_days_from_install = (datetime.utcnow() - datetime.strptime(install_date_end, '%Y-%m-%d') - timedelta(days=1)).days\n",
      "max_days_from_install"
     ],
     "language": "python",
     "metadata": {},
     "outputs": [
      {
       "metadata": {},
       "output_type": "pyout",
       "prompt_number": 4,
       "text": [
        "50"
       ]
      }
     ],
     "prompt_number": 4
    },
    {
     "cell_type": "markdown",
     "metadata": {},
     "source": [
      "Get a dataframe that has one row for each (facebook_id, like_id) value.  Then let's look at a few summary statistics and histograms to get an understanding of the data."
     ]
    },
    {
     "cell_type": "code",
     "collapsed": false,
     "input": [
      "likes_df = project_queries.get_like_df(install_date_start, install_date_end)\n",
      "likes_df"
     ],
     "language": "python",
     "metadata": {},
     "outputs": [
      {
       "html": [
        "<pre>\n",
        "&lt;class 'pandas.core.frame.DataFrame'&gt;\n",
        "Int64Index: 10861572 entries, 0 to 10861571\n",
        "Columns: 2 entries, facebook_id to like_id\n",
        "dtypes: int64(2)\n",
        "</pre>"
       ],
       "metadata": {},
       "output_type": "pyout",
       "prompt_number": 5,
       "text": [
        "<class 'pandas.core.frame.DataFrame'>\n",
        "Int64Index: 10861572 entries, 0 to 10861571\n",
        "Columns: 2 entries, facebook_id to like_id\n",
        "dtypes: int64(2)"
       ]
      }
     ],
     "prompt_number": 5
    },
    {
     "cell_type": "code",
     "collapsed": false,
     "input": [
      "likes_df.head()"
     ],
     "language": "python",
     "metadata": {},
     "outputs": [
      {
       "html": [
        "<div style=\"max-height:1000px;max-width:1500px;overflow:auto;\">\n",
        "<table border=\"1\" class=\"dataframe\">\n",
        "  <thead>\n",
        "    <tr style=\"text-align: right;\">\n",
        "      <th></th>\n",
        "      <th>facebook_id</th>\n",
        "      <th>like_id</th>\n",
        "    </tr>\n",
        "  </thead>\n",
        "  <tbody>\n",
        "    <tr>\n",
        "      <th>0</th>\n",
        "      <td> 5729872</td>\n",
        "      <td>     92774416228</td>\n",
        "    </tr>\n",
        "    <tr>\n",
        "      <th>1</th>\n",
        "      <td> 5729872</td>\n",
        "      <td>    131043201847</td>\n",
        "    </tr>\n",
        "    <tr>\n",
        "      <th>2</th>\n",
        "      <td> 5729872</td>\n",
        "      <td> 113766635300708</td>\n",
        "    </tr>\n",
        "    <tr>\n",
        "      <th>3</th>\n",
        "      <td> 5729872</td>\n",
        "      <td> 192835407411118</td>\n",
        "    </tr>\n",
        "    <tr>\n",
        "      <th>4</th>\n",
        "      <td> 9603776</td>\n",
        "      <td>      5295171251</td>\n",
        "    </tr>\n",
        "  </tbody>\n",
        "</table>\n",
        "</div>"
       ],
       "metadata": {},
       "output_type": "pyout",
       "prompt_number": 6,
       "text": [
        "   facebook_id          like_id\n",
        "0      5729872      92774416228\n",
        "1      5729872     131043201847\n",
        "2      5729872  113766635300708\n",
        "3      5729872  192835407411118\n",
        "4      9603776       5295171251"
       ]
      }
     ],
     "prompt_number": 6
    },
    {
     "cell_type": "code",
     "collapsed": false,
     "input": [
      "HTML(\"\"\"<table>\n",
      "<tr><th>Category</th><th>Count</th>\n",
      "<tr><td>Number of player likes</td><td>{player_like_count}</td></tr>\n",
      "<tr><td>Distinct count of like_id</td><td>{like_count}</td></tr>\n",
      "<tr><td>Distinct count of facebook_id</td><td>{player_count}</td></tr>\n",
      "</table>\"\"\".format(player_like_count=locale.format(\"%d\", len(likes_df), grouping=True), \n",
      "                   player_count=locale.format(\"%d\", likes_df['facebook_id'].unique().size, grouping=True), \n",
      "                   like_count=locale.format(\"%d\", likes_df['like_id'].unique().size), grouping=True))"
     ],
     "language": "python",
     "metadata": {},
     "outputs": [
      {
       "html": [
        "<table>\n",
        "<tr><th>Category</th><th>Count</th>\n",
        "<tr><td>Number of player likes</td><td>10,861,572</td></tr>\n",
        "<tr><td>Distinct count of like_id</td><td>2786788</td></tr>\n",
        "<tr><td>Distinct count of facebook_id</td><td>91,616</td></tr>\n",
        "</table>"
       ],
       "metadata": {},
       "output_type": "pyout",
       "prompt_number": 7,
       "text": [
        "<IPython.core.display.HTML at 0x10a6cc690>"
       ]
      }
     ],
     "prompt_number": 7
    },
    {
     "cell_type": "markdown",
     "metadata": {},
     "source": [
      "To get an idea of the distribution of the number of likes per player:"
     ]
    },
    {
     "cell_type": "code",
     "collapsed": false,
     "input": [
      "likes_df['facebook_id'].value_counts().describe()"
     ],
     "language": "python",
     "metadata": {},
     "outputs": [
      {
       "metadata": {},
       "output_type": "pyout",
       "prompt_number": 8,
       "text": [
        "count    91616.000000\n",
        "mean       118.555405\n",
        "std        227.667377\n",
        "min          1.000000\n",
        "25%         16.000000\n",
        "50%         47.000000\n",
        "75%        124.000000\n",
        "max       4578.000000\n",
        "dtype: float64"
       ]
      }
     ],
     "prompt_number": 8
    },
    {
     "cell_type": "markdown",
     "metadata": {},
     "source": [
      "And similarly, the distribution of the number of players per like_id:"
     ]
    },
    {
     "cell_type": "code",
     "collapsed": false,
     "input": [
      "likes_df['like_id'].value_counts().describe()"
     ],
     "language": "python",
     "metadata": {},
     "outputs": [
      {
       "metadata": {},
       "output_type": "pyout",
       "prompt_number": 9,
       "text": [
        "count    2786788.000000\n",
        "mean           3.897524\n",
        "std           46.234146\n",
        "min            1.000000\n",
        "25%            1.000000\n",
        "50%            1.000000\n",
        "75%            2.000000\n",
        "max        20727.000000\n",
        "dtype: float64"
       ]
      }
     ],
     "prompt_number": 9
    },
    {
     "cell_type": "markdown",
     "metadata": {},
     "source": [
      "We can see from the summary statistics above that the median and mean are quite far apart, and the standard deviation is quite large compared to the mean.  This suggests a skewed distribution, with few players have very large numbers of likes.  Here are a few views of the histogram of this distribution."
     ]
    },
    {
     "cell_type": "code",
     "collapsed": false,
     "input": [
      "fig = facebook_likes.plot_like_count_by_player_hist(likes_df, n_top=20)"
     ],
     "language": "python",
     "metadata": {},
     "outputs": [
      {
       "output_type": "stream",
       "stream": "stdout",
       "text": [
        "100003643315094    4578\n",
        "100001592509051    4547\n",
        "100003737179684    4337\n",
        "100001862414703    4299\n",
        "100003525025195    4073\n",
        "100001200916157    3904\n",
        "1695450888         3849\n",
        "100001955377419    3830\n",
        "100002649814069    3772\n",
        "100000272825331    3761\n",
        "100004710543834    3679\n",
        "100002987191940    3671\n",
        "100002772942275    3657\n",
        "100006166898863    3622\n",
        "100005675702497    3613\n",
        "100003443248164    3555\n",
        "100005029809639    3520\n",
        "100001586155311    3507\n",
        "100001547029343    3467\n",
        "100001550308406    3443\n",
        "dtype: int64\n"
       ]
      },
      {
       "metadata": {},
       "output_type": "display_data",
       "png": "[encoded data removed]",
       "text": [
        "<matplotlib.figure.Figure at 0x10646dcd0>"
       ]
      }
     ],
     "prompt_number": 10
    },
    {
     "cell_type": "code",
     "collapsed": false,
     "input": [
      "facebook_likes.plot_player_count_by_like_hist(likes_df, 50)"
     ],
     "language": "python",
     "metadata": {},
     "outputs": [
      {
       "output_type": "stream",
       "stream": "stdout",
       "text": [
        "Texas HoldEm Poker            20741\n",
        "Eminem                        11775\n",
        "Family Guy                    10702\n",
        "Walmart                       10608\n",
        "The Simpsons                   9887\n",
        "Facebook                       9758\n",
        "Candy Crush Saga               9551\n",
        "Samsung Mobile USA             8956\n",
        "Megan Fox                      8918\n",
        "Adam Sandler                   8851\n",
        "YouTube                        8669\n",
        "Lil Wayne                      7729\n",
        "Facebook for Every Phone       7552\n",
        "Slotomania - Slot Machines     7347\n",
        "Subway                         7204\n",
        "South Park                     6892\n",
        "Michael Jackson                6853\n",
        "Vin Diesel                     6727\n",
        "The Hangover                   6628\n",
        "Coca-Cola                      6597\n",
        "Rihanna                        6558\n",
        "Will Smith                     6553\n",
        "Linkin Park                    6548\n",
        "Bob Marley                     6510\n",
        "Amazon.com                     6416\n",
        "Harry Potter                   6030\n",
        "Fast & Furious                 5934\n",
        "Transformers                   5648\n",
        "Two and a Half Men             5626\n",
        "Red Bull                       5525\n",
        "Target                         5495\n",
        "Starbucks                      5436\n",
        "Metallica                      5316\n",
        "House                          5307\n",
        "Barack Obama                   5228\n",
        "PlayStation                    5188\n",
        "\u6210\u9f8d Jackie Chan                 5145\n",
        "Jackass                        5094\n",
        "iTunes                         5057\n",
        "Buffalo Wild Wings             5037\n",
        "Mafia Wars                     5028\n",
        "Shakira                        4954\n",
        "AKON                           4925\n",
        "Call of Duty: Black Ops        4909\n",
        "Usher                          4894\n",
        "Music                          4883\n",
        "Drake                          4834\n",
        "Katy Perry                     4812\n",
        "Lady Gaga                      4808\n",
        "Fresh Deck Poker               4777\n",
        "dtype: int64\n"
       ]
      },
      {
       "metadata": {},
       "output_type": "display_data",
       "png": "[encoded data removed]",
       "text": [
        "<matplotlib.figure.Figure at 0x163817990>"
       ]
      }
     ],
     "prompt_number": 11
    },
    {
     "cell_type": "markdown",
     "metadata": {},
     "source": [
      "For the curious, compare this list with the most popular liked pages on Facebook.<br>\n",
      "http://www.pagedatapro.com/pages/leaderboard/fc/fan_count"
     ]
    },
    {
     "cell_type": "code",
     "collapsed": false,
     "input": [
      "HTML('<iframe src=http://www.pagedatapro.com/pages/leaderboard/fc/fan_count width=100% height=350></iframe>')"
     ],
     "language": "python",
     "metadata": {},
     "outputs": [
      {
       "html": [
        "<iframe src=http://www.pagedatapro.com/pages/leaderboard/fc/fan_count width=100% height=350></iframe>"
       ],
       "metadata": {},
       "output_type": "pyout",
       "prompt_number": 12,
       "text": [
        "<IPython.core.display.HTML at 0x1633c6e50>"
       ]
      }
     ],
     "prompt_number": 12
    },
    {
     "cell_type": "heading",
     "level": 2,
     "metadata": {},
     "source": [
      "Target Variables"
     ]
    },
    {
     "cell_type": "markdown",
     "metadata": {},
     "source": [
      "There are a number of behaviors in our game that could serve as target variables.\n",
      "\n",
      "| Target | Type | Description | pros | cons |\n",
      "|--------|------|-------------|------|------|\n",
      "| Conversion | Categorical | True if the player monitized within N days of install. | Predicting monetizers is a good thing. | Monetizers are very rare in free-to-play games. |\n",
      "| Revenue    | Real        | Dollar amount the player spent within N days of install. | Predicting the amount a player might spend is a really good thing. | Rare events, and highly skewed distribution. |\n",
      "| Hands Played | Integer   | Number of hands played within N days of install. | Very common event.  Predicting engagement might be easier than predicting monetization. | Engagement is less ideal than monetization. |\n",
      "| Hands Played > Median | Categorical | True if the player played more than some threshold number of hands with N days of install. | We can define a threshold that roughly splits players into equal buckets, providing more training examples for positive and negative cases. | ? |\n",
      "\n",
      "For the categorical target variables, we will use logistic regression or decision tree classifiers, while for the numerical target variables, we will use linear regression models."
     ]
    },
    {
     "cell_type": "code",
     "collapsed": false,
     "input": [
      "converted_df = project_queries.get_converted_df(install_date_start, install_date_end, days_from_install=max_days_from_install)\n",
      "converted_df['converted'].value_counts() * 1.0 / converted_df['converted'].size"
     ],
     "language": "python",
     "metadata": {},
     "outputs": [
      {
       "metadata": {},
       "output_type": "pyout",
       "prompt_number": 13,
       "text": [
        "0    0.961006\n",
        "1    0.038994\n",
        "dtype: float64"
       ]
      }
     ],
     "prompt_number": 13
    },
    {
     "cell_type": "code",
     "collapsed": false,
     "input": [
      "revenue_df = project_queries.get_revenue_df(install_date_start, install_date_end, days_from_install=30)\n",
      "revenue_df['net_revenue'].hist(color='k', alpha=0.5, bins=40, log=True)"
     ],
     "language": "python",
     "metadata": {},
     "outputs": [
      {
       "metadata": {},
       "output_type": "pyout",
       "prompt_number": 14,
       "text": [
        "<matplotlib.axes.AxesSubplot at 0x19afbd250>"
       ]
      },
      {
       "metadata": {},
       "output_type": "display_data",
       "png": "[encoded data removed]",
       "text": [
        "<matplotlib.figure.Figure at 0x10c8b4250>"
       ]
      }
     ],
     "prompt_number": 14
    },
    {
     "cell_type": "code",
     "collapsed": false,
     "input": [
      "hands_played_df = project_queries.get_hands_played_df(install_date_start, install_date_end, days_from_install=1)\n",
      "hands_played_df['hands_played'].hist(color='k', alpha=0.5, bins=40, log=True)"
     ],
     "language": "python",
     "metadata": {},
     "outputs": [
      {
       "metadata": {},
       "output_type": "pyout",
       "prompt_number": 15,
       "text": [
        "<matplotlib.axes.AxesSubplot at 0x1636487d0>"
       ]
      },
      {
       "metadata": {},
       "output_type": "display_data",
       "png": "[encoded data removed]",
       "text": [
        "<matplotlib.figure.Figure at 0x16318d910>"
       ]
      }
     ],
     "prompt_number": 15
    },
    {
     "cell_type": "code",
     "collapsed": false,
     "input": [
      "hands_played_df['hands_played'].describe()"
     ],
     "language": "python",
     "metadata": {},
     "outputs": [
      {
       "metadata": {},
       "output_type": "pyout",
       "prompt_number": 16,
       "text": [
        "count    138046.000000\n",
        "mean         57.091614\n",
        "std         112.980778\n",
        "min           0.000000\n",
        "25%           5.000000\n",
        "50%          15.000000\n",
        "75%          55.000000\n",
        "max        2766.000000\n",
        "dtype: float64"
       ]
      }
     ],
     "prompt_number": 16
    },
    {
     "cell_type": "code",
     "collapsed": false,
     "input": [
      "hands_played_gte_median_df = project_queries.get_hands_played_gte_median_df(hands_played_df)\n",
      "hands_played_gte_median_df['gte_median'].value_counts()"
     ],
     "language": "python",
     "metadata": {},
     "outputs": [
      {
       "metadata": {},
       "output_type": "pyout",
       "prompt_number": 17,
       "text": [
        "True     69066\n",
        "False    68980\n",
        "dtype: int64"
       ]
      }
     ],
     "prompt_number": 17
    },
    {
     "cell_type": "heading",
     "level": 3,
     "metadata": {},
     "source": [
      "Dealing with Outliers"
     ]
    },
    {
     "cell_type": "markdown",
     "metadata": {},
     "source": [
      "Before we get too deep in the analysis, let's talk about outliers.  All the distributions we have seen are highly skewed, and with a distribution at least exponential, perhaps power law.  Some of these extreme values we care about and others not so much.\n",
      "\n",
      "* For pages that are liked, there are some few with a huge number of people liking them.  But the fact that one of these is the leading game in the space suggests that this is significant.\n",
      "* There are some players who like a lot of pages.  How much value is added to our models by including these players?  The cost might be high if the pages these players like are only liked by them and so many hundreds of category columns are included because of them.  This seems like a candidate for trimming.\n",
      "* Both revenue and hands played have some extreme outliers.  Removing these players from the sample might help.\n",
      "\n",
      "Here's a Pandas one-liner to plot the number of likes a player has to the revenue for that player.  There does not seem to be an obvious correlation which suggests that trimming those players with very high like counts will not impact the models severely."
     ]
    },
    {
     "cell_type": "code",
     "collapsed": false,
     "input": [
      "revenue_df.set_index('facebook_id').join(pd.DataFrame({'likes_count': likes_df['facebook_id'].value_counts()})).plot(x='likes_count', y='net_revenue', style='.', alpha=0.1)"
     ],
     "language": "python",
     "metadata": {},
     "outputs": [
      {
       "metadata": {},
       "output_type": "pyout",
       "prompt_number": 18,
       "text": [
        "<matplotlib.axes.AxesSubplot at 0x18c8ed0d0>"
       ]
      },
      {
       "metadata": {},
       "output_type": "display_data",
       "png": "[encoded data removed]",
       "text": [
        "<matplotlib.figure.Figure at 0x18c8eaf50>"
       ]
      }
     ],
     "prompt_number": 18
    },
    {
     "cell_type": "heading",
     "level": 3,
     "metadata": {},
     "source": [
      "Baseline Comparisons for Accuracy"
     ]
    },
    {
     "cell_type": "markdown",
     "metadata": {},
     "source": [
      "It is helpful to have in mind a baseline to compare accuracy for a given distribution.  For the dichotomous target variables, we can think of a model that randomly guessed a sample was positive at the same rate as the training data suggested.  If the overall positive rate was p and there were N samples, random guessing would produce the following confusion matrix:\n",
      "\n",
      "|          | predicted negative   | predicted positive |\n",
      "|----------|----------------------|--------------------|\n",
      "| negative | (1-p) \\* (1-p) \\* N  | (1-p) \\* p \\* N    |\n",
      "| positive | (1-p) \\* p \\* N      | p \\* p \\* N        |\n"
     ]
    },
    {
     "cell_type": "code",
     "collapsed": false,
     "input": [
      "facebook_likes.get_confusion_matrix_random_guessing(converted_df['converted'].mean())"
     ],
     "language": "python",
     "metadata": {},
     "outputs": [
      {
       "output_type": "stream",
       "stream": "stdout",
       "text": [
        "precision: 0.0389938488576\n",
        "recall:    0.0389938488576\n"
       ]
      },
      {
       "html": [
        "<div style=\"max-height:1000px;max-width:1500px;overflow:auto;\">\n",
        "<table border=\"1\" class=\"dataframe\">\n",
        "  <thead>\n",
        "    <tr style=\"text-align: right;\">\n",
        "      <th></th>\n",
        "      <th>predicted negative</th>\n",
        "      <th>predicted positive</th>\n",
        "    </tr>\n",
        "  </thead>\n",
        "  <tbody>\n",
        "    <tr>\n",
        "      <th>negative</th>\n",
        "      <td> 0.923533</td>\n",
        "      <td> 0.037473</td>\n",
        "    </tr>\n",
        "    <tr>\n",
        "      <th>positive</th>\n",
        "      <td> 0.037473</td>\n",
        "      <td> 0.001521</td>\n",
        "    </tr>\n",
        "  </tbody>\n",
        "</table>\n",
        "</div>"
       ],
       "metadata": {},
       "output_type": "pyout",
       "prompt_number": 19,
       "text": [
        "          predicted negative  predicted positive\n",
        "negative            0.923533            0.037473\n",
        "positive            0.037473            0.001521"
       ]
      }
     ],
     "prompt_number": 19
    },
    {
     "cell_type": "code",
     "collapsed": false,
     "input": [
      "facebook_likes.get_confusion_matrix_random_guessing(hands_played_gte_median_df['gte_median'].mean())"
     ],
     "language": "python",
     "metadata": {},
     "outputs": [
      {
       "output_type": "stream",
       "stream": "stdout",
       "text": [
        "precision: 0.500311490373\n",
        "recall:    0.500311490373\n"
       ]
      },
      {
       "html": [
        "<div style=\"max-height:1000px;max-width:1500px;overflow:auto;\">\n",
        "<table border=\"1\" class=\"dataframe\">\n",
        "  <thead>\n",
        "    <tr style=\"text-align: right;\">\n",
        "      <th></th>\n",
        "      <th>predicted negative</th>\n",
        "      <th>predicted positive</th>\n",
        "    </tr>\n",
        "  </thead>\n",
        "  <tbody>\n",
        "    <tr>\n",
        "      <th>negative</th>\n",
        "      <td> 0.249689</td>\n",
        "      <td> 0.250000</td>\n",
        "    </tr>\n",
        "    <tr>\n",
        "      <th>positive</th>\n",
        "      <td> 0.250000</td>\n",
        "      <td> 0.250312</td>\n",
        "    </tr>\n",
        "  </tbody>\n",
        "</table>\n",
        "</div>"
       ],
       "metadata": {},
       "output_type": "pyout",
       "prompt_number": 20,
       "text": [
        "          predicted negative  predicted positive\n",
        "negative            0.249689            0.250000\n",
        "positive            0.250000            0.250312"
       ]
      }
     ],
     "prompt_number": 20
    },
    {
     "cell_type": "markdown",
     "metadata": {},
     "source": [
      "Another strategy would be to always guess the most likely category and never deviate.  We will call `pp` the probability of predicting positive, given `p` the overall probability that any sample is positive.\n",
      "\n",
      "pp = 1 if p >= 0.5, 0 otherwise.\n",
      "\n",
      "|          | predicted negative   | predicted positive |\n",
      "|----------|----------------------|--------------------|\n",
      "| negative | (1-pp) \\* (1-p) \\* N | pp \\* (1-p) \\* N   |\n",
      "| positive | (1-pp) \\* p \\* N     | pp \\* p \\* N       |"
     ]
    },
    {
     "cell_type": "code",
     "collapsed": false,
     "input": [
      "facebook_likes.get_confusion_matrix_max_guessing(converted_df['converted'].mean())"
     ],
     "language": "python",
     "metadata": {},
     "outputs": [
      {
       "output_type": "stream",
       "stream": "stdout",
       "text": [
        "precision: nan\n",
        "recall:    0.0\n"
       ]
      },
      {
       "html": [
        "<div style=\"max-height:1000px;max-width:1500px;overflow:auto;\">\n",
        "<table border=\"1\" class=\"dataframe\">\n",
        "  <thead>\n",
        "    <tr style=\"text-align: right;\">\n",
        "      <th></th>\n",
        "      <th>predicted negative</th>\n",
        "      <th>predicted positive</th>\n",
        "    </tr>\n",
        "  </thead>\n",
        "  <tbody>\n",
        "    <tr>\n",
        "      <th>negative</th>\n",
        "      <td> 0.961006</td>\n",
        "      <td> 0</td>\n",
        "    </tr>\n",
        "    <tr>\n",
        "      <th>positive</th>\n",
        "      <td> 0.038994</td>\n",
        "      <td> 0</td>\n",
        "    </tr>\n",
        "  </tbody>\n",
        "</table>\n",
        "</div>"
       ],
       "metadata": {},
       "output_type": "pyout",
       "prompt_number": 21,
       "text": [
        "          predicted negative  predicted positive\n",
        "negative            0.961006                   0\n",
        "positive            0.038994                   0"
       ]
      }
     ],
     "prompt_number": 21
    },
    {
     "cell_type": "code",
     "collapsed": false,
     "input": [
      "facebook_likes.get_confusion_matrix_max_guessing(hands_played_gte_median_df['gte_median'].mean())"
     ],
     "language": "python",
     "metadata": {},
     "outputs": [
      {
       "output_type": "stream",
       "stream": "stdout",
       "text": [
        "precision: 0.500311490373\n",
        "recall:    1.0\n"
       ]
      },
      {
       "html": [
        "<div style=\"max-height:1000px;max-width:1500px;overflow:auto;\">\n",
        "<table border=\"1\" class=\"dataframe\">\n",
        "  <thead>\n",
        "    <tr style=\"text-align: right;\">\n",
        "      <th></th>\n",
        "      <th>predicted negative</th>\n",
        "      <th>predicted positive</th>\n",
        "    </tr>\n",
        "  </thead>\n",
        "  <tbody>\n",
        "    <tr>\n",
        "      <th>negative</th>\n",
        "      <td> 0</td>\n",
        "      <td> 0.499689</td>\n",
        "    </tr>\n",
        "    <tr>\n",
        "      <th>positive</th>\n",
        "      <td> 0</td>\n",
        "      <td> 0.500311</td>\n",
        "    </tr>\n",
        "  </tbody>\n",
        "</table>\n",
        "</div>"
       ],
       "metadata": {},
       "output_type": "pyout",
       "prompt_number": 22,
       "text": [
        "          predicted negative  predicted positive\n",
        "negative                   0            0.499689\n",
        "positive                   0            0.500311"
       ]
      }
     ],
     "prompt_number": 22
    },
    {
     "cell_type": "heading",
     "level": 2,
     "metadata": {},
     "source": [
      "Logistic Regression and Classification with Dense Matrices"
     ]
    },
    {
     "cell_type": "markdown",
     "metadata": {},
     "source": [
      "Dealing with dense matrices is nice because all the algorithms in scikit-learn work with this format.  The problem is that it all has to fit into memory and for the size of the matrices we are dealing with (tens of thousands of players, millions of like categories) this is prohibitive.  One way to deal with this is to set minimum thresholds so that we eliminate players with fewer than n_likes_threshold likes and eliminate like categories with fewer than n_players_threshold players liking the category.\n",
      "\n",
      "We can get an idea of what the total memory footprint will be by plotting the size of the matrix versus n_likes_threshold and n_players_threshold."
     ]
    },
    {
     "cell_type": "markdown",
     "metadata": {},
     "source": [
      "The following chart shows the resulting matrix size versus n_likes_threshold.  As you can see, increasing the threshold of the minimum number of likes per player has a moderate effect on the the resulting matrix size."
     ]
    },
    {
     "cell_type": "code",
     "collapsed": false,
     "input": [
      "facebook_likes.plot_matix_size_by_likes_threshold(likes_df, np.arange(1, 100, 4))"
     ],
     "language": "python",
     "metadata": {},
     "outputs": [
      {
       "metadata": {},
       "output_type": "display_data",
       "png": "[encoded data removed]",
       "text": [
        "<matplotlib.figure.Figure at 0x163829850>"
       ]
      }
     ],
     "prompt_number": 23
    },
    {
     "cell_type": "markdown",
     "metadata": {},
     "source": [
      "The following plot looks at the resulting matrix size versus the n_players_threshold value.  The fact that this shows such a steep decline initially is due to the fact that there are many like pages with very few players.  This can also be seen above in the chart 'Facebook Likes Distribution by Like Category'.  The distribution is close to a power law distribution.\n",
      "\n",
      "Increasing the threshold for the minimum players per like can have a big effect on the matrix size by greatly reducing the number of feature columns while leaving most of the player rows intact."
     ]
    },
    {
     "cell_type": "code",
     "collapsed": false,
     "input": [
      "facebook_likes.plot_matrix_size_by_players_threshold(likes_df, np.arange(1, 300, 4))"
     ],
     "language": "python",
     "metadata": {},
     "outputs": [
      {
       "metadata": {},
       "output_type": "display_data",
       "png": "[encoded data removed]",
       "text": [
        "<matplotlib.figure.Figure at 0x10c91fbd0>"
       ]
      }
     ],
     "prompt_number": 24
    },
    {
     "cell_type": "markdown",
     "metadata": {},
     "source": [
      "And if we trim the high extreme outliers from either distribution, we see a potential savings in the case of likes per player, and not so much of a savings for players per like.  So removing players who have a number of likes that are above some number of standard deviations from the mean could save some space."
     ]
    },
    {
     "cell_type": "code",
     "collapsed": false,
     "input": [
      "facebook_likes.plot_matrix_size_by_likes_outliers(likes_df, np.arange(1, 10, 1))"
     ],
     "language": "python",
     "metadata": {},
     "outputs": [
      {
       "metadata": {},
       "output_type": "display_data",
       "png": "[encoded data removed]",
       "text": [
        "<matplotlib.figure.Figure at 0x18c8ed290>"
       ]
      }
     ],
     "prompt_number": 25
    },
    {
     "cell_type": "code",
     "collapsed": false,
     "input": [
      "facebook_likes.plot_matrix_size_by_players_outliers(likes_df, np.arange(0.0, 5.0, 0.5))"
     ],
     "language": "python",
     "metadata": {},
     "outputs": [
      {
       "metadata": {},
       "output_type": "display_data",
       "png": "[encoded data removed]",
       "text": [
        "<matplotlib.figure.Figure at 0x10c91fdd0>"
       ]
      }
     ],
     "prompt_number": 26
    },
    {
     "cell_type": "heading",
     "level": 4,
     "metadata": {},
     "source": [
      "Player Engagement"
     ]
    },
    {
     "cell_type": "markdown",
     "metadata": {},
     "source": [
      "We will use the number of hands played on the first day as a metric for player engagement.  To treat this integer variable as a class, the median number of hands played is calculated for all players, then players are assigned 1 if they played the median number of hands or above, or 0 if they played less than that.  This has the nice feature that our players are roughly divided into half."
     ]
    },
    {
     "cell_type": "code",
     "collapsed": false,
     "input": [
      "X, y = facebook_likes.convert_to_dense_matrix_and_target(likes_df, hands_played_gte_median_df,\n",
      "                                                                             n_players_threshold=300,\n",
      "                                                                             n_likes_threshold=10)"
     ],
     "language": "python",
     "metadata": {},
     "outputs": [],
     "prompt_number": 27
    },
    {
     "cell_type": "code",
     "collapsed": false,
     "input": [
      "X.shape, y.shape, X.shape[0]*X.shape[1]"
     ],
     "language": "python",
     "metadata": {},
     "outputs": [
      {
       "metadata": {},
       "output_type": "pyout",
       "prompt_number": 28,
       "text": [
        "((68313, 3042), (68313,), 207808146)"
       ]
      }
     ],
     "prompt_number": 28
    },
    {
     "cell_type": "markdown",
     "metadata": {},
     "source": [
      "Now that we've filtered out players and categories, let's calculate the expected confusion matrix based on a random model."
     ]
    },
    {
     "cell_type": "code",
     "collapsed": false,
     "input": [
      "facebook_likes.get_confusion_matrix_random_guessing(y.mean())"
     ],
     "language": "python",
     "metadata": {},
     "outputs": [
      {
       "output_type": "stream",
       "stream": "stdout",
       "text": [
        "precision: 0.550114912242\n",
        "recall:    0.550114912242\n"
       ]
      },
      {
       "html": [
        "<div style=\"max-height:1000px;max-width:1500px;overflow:auto;\">\n",
        "<table border=\"1\" class=\"dataframe\">\n",
        "  <thead>\n",
        "    <tr style=\"text-align: right;\">\n",
        "      <th></th>\n",
        "      <th>predicted negative</th>\n",
        "      <th>predicted positive</th>\n",
        "    </tr>\n",
        "  </thead>\n",
        "  <tbody>\n",
        "    <tr>\n",
        "      <th>negative</th>\n",
        "      <td> 0.202397</td>\n",
        "      <td> 0.247488</td>\n",
        "    </tr>\n",
        "    <tr>\n",
        "      <th>positive</th>\n",
        "      <td> 0.247488</td>\n",
        "      <td> 0.302626</td>\n",
        "    </tr>\n",
        "  </tbody>\n",
        "</table>\n",
        "</div>"
       ],
       "metadata": {},
       "output_type": "pyout",
       "prompt_number": 29,
       "text": [
        "          predicted negative  predicted positive\n",
        "negative            0.202397            0.247488\n",
        "positive            0.247488            0.302626"
       ]
      }
     ],
     "prompt_number": 29
    },
    {
     "cell_type": "code",
     "collapsed": false,
     "input": [
      "facebook_likes.get_confusion_matrix_max_guessing(y.mean())"
     ],
     "language": "python",
     "metadata": {},
     "outputs": [
      {
       "output_type": "stream",
       "stream": "stdout",
       "text": [
        "precision: 0.550114912242\n",
        "recall:    1.0\n"
       ]
      },
      {
       "html": [
        "<div style=\"max-height:1000px;max-width:1500px;overflow:auto;\">\n",
        "<table border=\"1\" class=\"dataframe\">\n",
        "  <thead>\n",
        "    <tr style=\"text-align: right;\">\n",
        "      <th></th>\n",
        "      <th>predicted negative</th>\n",
        "      <th>predicted positive</th>\n",
        "    </tr>\n",
        "  </thead>\n",
        "  <tbody>\n",
        "    <tr>\n",
        "      <th>negative</th>\n",
        "      <td> 0</td>\n",
        "      <td> 0.449885</td>\n",
        "    </tr>\n",
        "    <tr>\n",
        "      <th>positive</th>\n",
        "      <td> 0</td>\n",
        "      <td> 0.550115</td>\n",
        "    </tr>\n",
        "  </tbody>\n",
        "</table>\n",
        "</div>"
       ],
       "metadata": {},
       "output_type": "pyout",
       "prompt_number": 30,
       "text": [
        "          predicted negative  predicted positive\n",
        "negative                   0            0.449885\n",
        "positive                   0            0.550115"
       ]
      }
     ],
     "prompt_number": 30
    },
    {
     "cell_type": "code",
     "collapsed": false,
     "input": [
      "feature_importances, cm_df = facebook_likes.train_test_extratrees(X, y, n_estimators=100, verbose=True)\n",
      "cm_df"
     ],
     "language": "python",
     "metadata": {},
     "outputs": [
      {
       "output_type": "stream",
       "stream": "stdout",
       "text": [
        "run 1 of 10\n",
        "train precision: 0.993758668516"
       ]
      },
      {
       "output_type": "stream",
       "stream": "stdout",
       "text": [
        "\n",
        "train recall:    0.99143161256\n",
        "test precision: 0.599044539883\n",
        "test recall:    0.660670569452\n",
        "  feature importances: [  1.27302153e-03   2.23657181e-04   2.93621374e-04 ...,   4.47474744e-04\n",
        "   4.44587791e-05   4.66421703e-04]\n",
        "run 2 of 10"
       ]
      },
      {
       "output_type": "stream",
       "stream": "stdout",
       "text": [
        "\n",
        "train precision: 0.994278074866"
       ]
      },
      {
       "output_type": "stream",
       "stream": "stdout",
       "text": [
        "\n",
        "train recall:    0.990411761572\n",
        "test precision: 0.599980216628\n",
        "test recall:    0.64502578827\n",
        "  feature importances: [  1.31413242e-03   3.33169819e-04   2.89790886e-04 ...,   5.60139136e-04\n",
        "   7.08287017e-05   4.61691481e-04]\n",
        "run 3 of 10"
       ]
      },
      {
       "output_type": "stream",
       "stream": "stdout",
       "text": [
        "\n",
        "train precision: 0.994377811094"
       ]
      },
      {
       "output_type": "stream",
       "stream": "stdout",
       "text": [
        "\n",
        "train recall:    0.990453333333\n",
        "test precision: 0.60056404928\n",
        "test recall:    0.644609665428\n",
        "  feature importances: [  1.18786514e-03   2.85079388e-04   2.19669367e-04 ...,   4.63521254e-04\n",
        "   5.57764872e-05   3.39466639e-04]\n",
        "run 4 of 10"
       ]
      },
      {
       "output_type": "stream",
       "stream": "stdout",
       "text": [
        "\n",
        "train precision: 0.994308510638"
       ]
      },
      {
       "output_type": "stream",
       "stream": "stdout",
       "text": [
        "\n",
        "train recall:    0.990357615894\n",
        "test precision: 0.596236845934\n",
        "test recall:    0.657310879444\n",
        "  feature importances: [  1.26688957e-03   1.87332050e-04   2.67864771e-04 ...,   4.50783288e-04\n",
        "   9.36212656e-05   3.99506583e-04]\n",
        "run 5 of 10"
       ]
      },
      {
       "output_type": "stream",
       "stream": "stdout",
       "text": [
        "\n",
        "train precision: 0.996243829148"
       ]
      },
      {
       "output_type": "stream",
       "stream": "stdout",
       "text": [
        "\n",
        "train recall:    0.987815908486\n",
        "test precision: 0.598698160659\n",
        "test recall:    0.646313548044\n",
        "  feature importances: [  1.26120326e-03   2.87677530e-04   2.71474077e-04 ...,   3.87430128e-04\n",
        "   5.45276033e-05   4.03443162e-04]\n",
        "run 6 of 10"
       ]
      },
      {
       "output_type": "stream",
       "stream": "stdout",
       "text": [
        "\n",
        "train precision: 0.994365298745"
       ]
      },
      {
       "output_type": "stream",
       "stream": "stdout",
       "text": [
        "\n",
        "train recall:    0.991046357616\n",
        "test precision: 0.596903389665\n",
        "test recall:    0.65335471799\n",
        "  feature importances: [  1.16576111e-03   2.55555347e-04   3.24109130e-04 ...,   3.48334472e-04\n",
        "   6.86301083e-05   4.41990255e-04]\n",
        "run 7 of 10"
       ]
      },
      {
       "output_type": "stream",
       "stream": "stdout",
       "text": [
        "\n",
        "train precision: 0.995057923265"
       ]
      },
      {
       "output_type": "stream",
       "stream": "stdout",
       "text": [
        "\n",
        "train recall:    0.990321557013\n",
        "test precision: 0.593136320305\n",
        "test recall:    0.666452442159\n",
        "  feature importances: [  1.17750919e-03   2.75324554e-04   2.82565273e-04 ...,   3.87687201e-04\n",
        "   5.69901174e-05   3.80517280e-04]\n",
        "run 8 of 10"
       ]
      },
      {
       "output_type": "stream",
       "stream": "stdout",
       "text": [
        "\n",
        "train precision: 0.994100611391"
       ]
      },
      {
       "output_type": "stream",
       "stream": "stdout",
       "text": [
        "\n",
        "train recall:    0.989219767318\n",
        "test precision: 0.603083227632\n",
        "test recall:    0.656087464176\n",
        "  feature importances: [  1.13100321e-03   2.80738608e-04   1.94361909e-04 ...,   5.34877606e-04\n",
        "   4.18992724e-05   3.84120490e-04]\n",
        "run 9 of 10"
       ]
      },
      {
       "output_type": "stream",
       "stream": "stdout",
       "text": [
        "\n",
        "train precision: 0.995013404826"
       ]
      },
      {
       "output_type": "stream",
       "stream": "stdout",
       "text": [
        "\n",
        "train recall:    0.990446199829\n",
        "test precision: 0.60223266745\n",
        "test recall:    0.652727658671\n",
        "  feature importances: [  1.24714306e-03   3.12459096e-04   3.18924292e-04 ...,   5.33138024e-04\n",
        "   6.86551132e-05   3.68112226e-04]\n",
        "run 10 of 10"
       ]
      },
      {
       "output_type": "stream",
       "stream": "stdout",
       "text": [
        "\n",
        "train precision: 0.997066666667"
       ]
      },
      {
       "output_type": "stream",
       "stream": "stdout",
       "text": [
        "\n",
        "train recall:    0.98784676354\n",
        "test precision: 0.595857903063\n",
        "test recall:    0.666255695524\n",
        "  feature importances: [  1.15576243e-03   2.62322199e-04   2.63681782e-04 ...,   4.66097731e-04\n",
        "   8.33409960e-05   5.13958729e-04]\n",
        "precision: 0.598549355052"
       ]
      },
      {
       "output_type": "stream",
       "stream": "stdout",
       "text": [
        "\n",
        "recall:    0.654861832814\n"
       ]
      },
      {
       "html": [
        "<div style=\"max-height:1000px;max-width:1500px;overflow:auto;\">\n",
        "<table border=\"1\" class=\"dataframe\">\n",
        "  <thead>\n",
        "    <tr style=\"text-align: right;\">\n",
        "      <th></th>\n",
        "      <th>predicted negative</th>\n",
        "      <th>predicted positive</th>\n",
        "    </tr>\n",
        "  </thead>\n",
        "  <tbody>\n",
        "    <tr>\n",
        "      <th>negative</th>\n",
        "      <td> 71522</td>\n",
        "      <td>  82413</td>\n",
        "    </tr>\n",
        "    <tr>\n",
        "      <th>positive</th>\n",
        "      <td> 64760</td>\n",
        "      <td> 122875</td>\n",
        "    </tr>\n",
        "  </tbody>\n",
        "</table>\n",
        "</div>"
       ],
       "metadata": {},
       "output_type": "pyout",
       "prompt_number": 31,
       "text": [
        "          predicted negative  predicted positive\n",
        "negative               71522               82413\n",
        "positive               64760              122875"
       ]
      }
     ],
     "prompt_number": 31
    },
    {
     "cell_type": "code",
     "collapsed": false,
     "input": [
      "top_df = facebook_likes.get_like_names_from_indices(X.columns, feature_importances, 100)\n",
      "top_df"
     ],
     "language": "python",
     "metadata": {},
     "outputs": [
      {
       "html": [
        "<pre>\n",
        "&lt;class 'pandas.core.frame.DataFrame'&gt;\n",
        "Int64Index: 101 entries, 0 to 100\n",
        "Data columns (total 6 columns):\n",
        "rank                           101  non-null values\n",
        "like_id                        101  non-null values\n",
        "relative_feature_importance    101  non-null values\n",
        "feature_importance             101  non-null values\n",
        "like_name                      101  non-null values\n",
        "like_category                  101  non-null values\n",
        "dtypes: float64(2), int64(2), object(2)\n",
        "</pre>"
       ],
       "metadata": {},
       "output_type": "pyout",
       "prompt_number": 32,
       "text": [
        "<class 'pandas.core.frame.DataFrame'>\n",
        "Int64Index: 101 entries, 0 to 100\n",
        "Data columns (total 6 columns):\n",
        "rank                           101  non-null values\n",
        "like_id                        101  non-null values\n",
        "relative_feature_importance    101  non-null values\n",
        "feature_importance             101  non-null values\n",
        "like_name                      101  non-null values\n",
        "like_category                  101  non-null values\n",
        "dtypes: float64(2), int64(2), object(2)"
       ]
      }
     ],
     "prompt_number": 32
    },
    {
     "cell_type": "code",
     "collapsed": false,
     "input": [
      "top_df.head(50)"
     ],
     "language": "python",
     "metadata": {},
     "outputs": [
      {
       "html": [
        "<div style=\"max-height:1000px;max-width:1500px;overflow:auto;\">\n",
        "<table border=\"1\" class=\"dataframe\">\n",
        "  <thead>\n",
        "    <tr style=\"text-align: right;\">\n",
        "      <th></th>\n",
        "      <th>rank</th>\n",
        "      <th>like_id</th>\n",
        "      <th>relative_feature_importance</th>\n",
        "      <th>feature_importance</th>\n",
        "      <th>like_name</th>\n",
        "      <th>like_category</th>\n",
        "    </tr>\n",
        "  </thead>\n",
        "  <tbody>\n",
        "    <tr>\n",
        "      <th>0 </th>\n",
        "      <td>  1</td>\n",
        "      <td> 335222406564087</td>\n",
        "      <td> 25.298536</td>\n",
        "      <td> 0.008319</td>\n",
        "      <td>                   Fresh Deck Poker</td>\n",
        "      <td>                        App page</td>\n",
        "    </tr>\n",
        "    <tr>\n",
        "      <th>1 </th>\n",
        "      <td>  2</td>\n",
        "      <td>     56531631380</td>\n",
        "      <td> 13.217133</td>\n",
        "      <td> 0.004346</td>\n",
        "      <td>                 Texas HoldEm Poker</td>\n",
        "      <td>                        App page</td>\n",
        "    </tr>\n",
        "    <tr>\n",
        "      <th>2 </th>\n",
        "      <td>  3</td>\n",
        "      <td> 244944385603396</td>\n",
        "      <td> 11.071775</td>\n",
        "      <td> 0.003641</td>\n",
        "      <td>                   Candy Crush Saga</td>\n",
        "      <td>                        App page</td>\n",
        "    </tr>\n",
        "    <tr>\n",
        "      <th>3 </th>\n",
        "      <td>  4</td>\n",
        "      <td> 331288023558058</td>\n",
        "      <td> 10.471078</td>\n",
        "      <td> 0.003443</td>\n",
        "      <td>           Facebook for Every Phone</td>\n",
        "      <td>                        App page</td>\n",
        "    </tr>\n",
        "    <tr>\n",
        "      <th>4 </th>\n",
        "      <td>  5</td>\n",
        "      <td> 128874350565152</td>\n",
        "      <td>  9.122772</td>\n",
        "      <td> 0.003000</td>\n",
        "      <td>         Slotomania - Slot Machines</td>\n",
        "      <td>                        App page</td>\n",
        "    </tr>\n",
        "    <tr>\n",
        "      <th>5 </th>\n",
        "      <td>  6</td>\n",
        "      <td>      7224956785</td>\n",
        "      <td>  7.869295</td>\n",
        "      <td> 0.002588</td>\n",
        "      <td>                 Samsung Mobile USA</td>\n",
        "      <td>                 Product/service</td>\n",
        "    </tr>\n",
        "    <tr>\n",
        "      <th>6 </th>\n",
        "      <td>  7</td>\n",
        "      <td>    159616034235</td>\n",
        "      <td>  7.811904</td>\n",
        "      <td> 0.002569</td>\n",
        "      <td>                            Walmart</td>\n",
        "      <td> Retail and consumer merchandise</td>\n",
        "    </tr>\n",
        "    <tr>\n",
        "      <th>7 </th>\n",
        "      <td>  8</td>\n",
        "      <td>      7174672354</td>\n",
        "      <td>  7.048628</td>\n",
        "      <td> 0.002318</td>\n",
        "      <td>                           Heineken</td>\n",
        "      <td>                  Food/beverages</td>\n",
        "    </tr>\n",
        "    <tr>\n",
        "      <th>8 </th>\n",
        "      <td>  9</td>\n",
        "      <td> 190607374290130</td>\n",
        "      <td>  6.792338</td>\n",
        "      <td> 0.002234</td>\n",
        "      <td>               Grand Poker Fan Page</td>\n",
        "      <td>                 Product/service</td>\n",
        "    </tr>\n",
        "    <tr>\n",
        "      <th>9 </th>\n",
        "      <td> 10</td>\n",
        "      <td>     45309870078</td>\n",
        "      <td>  6.679546</td>\n",
        "      <td> 0.002196</td>\n",
        "      <td>                             Eminem</td>\n",
        "      <td>                   Musician/band</td>\n",
        "    </tr>\n",
        "    <tr>\n",
        "      <th>10</th>\n",
        "      <td> 11</td>\n",
        "      <td> 129079313911235</td>\n",
        "      <td>  6.647314</td>\n",
        "      <td> 0.002186</td>\n",
        "      <td>                      Criminal Case</td>\n",
        "      <td>                        App page</td>\n",
        "    </tr>\n",
        "    <tr>\n",
        "      <th>11</th>\n",
        "      <td> 12</td>\n",
        "      <td>     20531316728</td>\n",
        "      <td>  6.271851</td>\n",
        "      <td> 0.002062</td>\n",
        "      <td>                           Facebook</td>\n",
        "      <td>                 Product/service</td>\n",
        "    </tr>\n",
        "    <tr>\n",
        "      <th>12</th>\n",
        "      <td> 13</td>\n",
        "      <td>      9465008123</td>\n",
        "      <td>  5.753928</td>\n",
        "      <td> 0.001892</td>\n",
        "      <td>                         Amazon.com</td>\n",
        "      <td> Retail and consumer merchandise</td>\n",
        "    </tr>\n",
        "    <tr>\n",
        "      <th>13</th>\n",
        "      <td> 14</td>\n",
        "      <td> 208633805894647</td>\n",
        "      <td>  5.587659</td>\n",
        "      <td> 0.001837</td>\n",
        "      <td>                          FarmVille</td>\n",
        "      <td>                        App page</td>\n",
        "    </tr>\n",
        "    <tr>\n",
        "      <th>14</th>\n",
        "      <td> 15</td>\n",
        "      <td>    314467614927</td>\n",
        "      <td>  5.579639</td>\n",
        "      <td> 0.001835</td>\n",
        "      <td>                        Angry Birds</td>\n",
        "      <td>                        App page</td>\n",
        "    </tr>\n",
        "    <tr>\n",
        "      <th>15</th>\n",
        "      <td> 16</td>\n",
        "      <td>     26748225422</td>\n",
        "      <td>  5.480089</td>\n",
        "      <td> 0.001802</td>\n",
        "      <td>                          Megan Fox</td>\n",
        "      <td>                  Actor/director</td>\n",
        "    </tr>\n",
        "    <tr>\n",
        "      <th>16</th>\n",
        "      <td> 17</td>\n",
        "      <td> 104019549633137</td>\n",
        "      <td>  5.347414</td>\n",
        "      <td> 0.001758</td>\n",
        "      <td>                           Football</td>\n",
        "      <td>                           Sport</td>\n",
        "    </tr>\n",
        "    <tr>\n",
        "      <th>17</th>\n",
        "      <td> 18</td>\n",
        "      <td>     89562268312</td>\n",
        "      <td>  5.331715</td>\n",
        "      <td> 0.001753</td>\n",
        "      <td>                         Vin Diesel</td>\n",
        "      <td>                  Actor/director</td>\n",
        "    </tr>\n",
        "    <tr>\n",
        "      <th>18</th>\n",
        "      <td> 19</td>\n",
        "      <td> 362774807070711</td>\n",
        "      <td>  5.275316</td>\n",
        "      <td> 0.001735</td>\n",
        "      <td>    DoubleDown Casino Slots &amp; Poker</td>\n",
        "      <td>                        App page</td>\n",
        "    </tr>\n",
        "    <tr>\n",
        "      <th>19</th>\n",
        "      <td> 20</td>\n",
        "      <td> 225280124217752</td>\n",
        "      <td>  5.258397</td>\n",
        "      <td> 0.001729</td>\n",
        "      <td>                     Caesars Casino</td>\n",
        "      <td>                        App page</td>\n",
        "    </tr>\n",
        "    <tr>\n",
        "      <th>20</th>\n",
        "      <td> 21</td>\n",
        "      <td> 220864284666911</td>\n",
        "      <td>  5.254910</td>\n",
        "      <td> 0.001728</td>\n",
        "      <td>   Lucky Slots - Free Slot Machines</td>\n",
        "      <td>                        App page</td>\n",
        "    </tr>\n",
        "    <tr>\n",
        "      <th>21</th>\n",
        "      <td> 22</td>\n",
        "      <td>     71775107787</td>\n",
        "      <td>  5.235250</td>\n",
        "      <td> 0.001722</td>\n",
        "      <td>                         Mafia Wars</td>\n",
        "      <td>                        App page</td>\n",
        "    </tr>\n",
        "    <tr>\n",
        "      <th>22</th>\n",
        "      <td> 23</td>\n",
        "      <td>      6815841748</td>\n",
        "      <td>  5.177918</td>\n",
        "      <td> 0.001703</td>\n",
        "      <td>                       Barack Obama</td>\n",
        "      <td>                      Politician</td>\n",
        "    </tr>\n",
        "    <tr>\n",
        "      <th>23</th>\n",
        "      <td> 24</td>\n",
        "      <td>    117533210756</td>\n",
        "      <td>  5.170197</td>\n",
        "      <td> 0.001700</td>\n",
        "      <td>                         Bob Marley</td>\n",
        "      <td>                   Musician/band</td>\n",
        "    </tr>\n",
        "    <tr>\n",
        "      <th>24</th>\n",
        "      <td> 25</td>\n",
        "      <td>      7724542745</td>\n",
        "      <td>  5.154253</td>\n",
        "      <td> 0.001695</td>\n",
        "      <td>                  Manchester United</td>\n",
        "      <td>        Professional sports team</td>\n",
        "    </tr>\n",
        "    <tr>\n",
        "      <th>25</th>\n",
        "      <td> 26</td>\n",
        "      <td>      7270241753</td>\n",
        "      <td>  5.136908</td>\n",
        "      <td> 0.001689</td>\n",
        "      <td>                            YouTube</td>\n",
        "      <td>                 Product/service</td>\n",
        "    </tr>\n",
        "    <tr>\n",
        "      <th>26</th>\n",
        "      <td> 27</td>\n",
        "      <td> 424908557519491</td>\n",
        "      <td>  5.136279</td>\n",
        "      <td> 0.001689</td>\n",
        "      <td>    CSR Racing - Official Community</td>\n",
        "      <td>                      Games/toys</td>\n",
        "    </tr>\n",
        "    <tr>\n",
        "      <th>27</th>\n",
        "      <td> 28</td>\n",
        "      <td>     13065625020</td>\n",
        "      <td>  5.116020</td>\n",
        "      <td> 0.001682</td>\n",
        "      <td>                              Zoosk</td>\n",
        "      <td>                        App page</td>\n",
        "    </tr>\n",
        "    <tr>\n",
        "      <th>28</th>\n",
        "      <td> 29</td>\n",
        "      <td>     24609282673</td>\n",
        "      <td>  4.991014</td>\n",
        "      <td> 0.001641</td>\n",
        "      <td>                         Family Guy</td>\n",
        "      <td>                         Tv show</td>\n",
        "    </tr>\n",
        "    <tr>\n",
        "      <th>29</th>\n",
        "      <td> 30</td>\n",
        "      <td> 200425390001211</td>\n",
        "      <td>  4.962914</td>\n",
        "      <td> 0.001632</td>\n",
        "      <td>                             Tapjoy</td>\n",
        "      <td>                      Games/toys</td>\n",
        "    </tr>\n",
        "    <tr>\n",
        "      <th>30</th>\n",
        "      <td> 31</td>\n",
        "      <td>     40796308305</td>\n",
        "      <td>  4.926819</td>\n",
        "      <td> 0.001620</td>\n",
        "      <td>                          Coca-Cola</td>\n",
        "      <td>                  Food/beverages</td>\n",
        "    </tr>\n",
        "    <tr>\n",
        "      <th>31</th>\n",
        "      <td> 32</td>\n",
        "      <td> 132279126867549</td>\n",
        "      <td>  4.800052</td>\n",
        "      <td> 0.001578</td>\n",
        "      <td> Top Eleven - Be a Football Manager</td>\n",
        "      <td>                        App page</td>\n",
        "    </tr>\n",
        "    <tr>\n",
        "      <th>32</th>\n",
        "      <td> 33</td>\n",
        "      <td> 107586089295409</td>\n",
        "      <td>  4.770560</td>\n",
        "      <td> 0.001569</td>\n",
        "      <td>             Live Hold'em Poker Pro</td>\n",
        "      <td>                        App page</td>\n",
        "    </tr>\n",
        "    <tr>\n",
        "      <th>33</th>\n",
        "      <td> 33</td>\n",
        "      <td> 107586089295409</td>\n",
        "      <td>  4.770560</td>\n",
        "      <td> 0.001569</td>\n",
        "      <td>                   Dragonplay Poker</td>\n",
        "      <td>                        App page</td>\n",
        "    </tr>\n",
        "    <tr>\n",
        "      <th>34</th>\n",
        "      <td> 34</td>\n",
        "      <td>     19691681472</td>\n",
        "      <td>  4.769778</td>\n",
        "      <td> 0.001568</td>\n",
        "      <td>                    Michael Jackson</td>\n",
        "      <td>                   Musician/band</td>\n",
        "    </tr>\n",
        "    <tr>\n",
        "      <th>35</th>\n",
        "      <td> 35</td>\n",
        "      <td> 170901143077174</td>\n",
        "      <td>  4.621960</td>\n",
        "      <td> 0.001520</td>\n",
        "      <td>                         Best Vines</td>\n",
        "      <td>                       Community</td>\n",
        "    </tr>\n",
        "    <tr>\n",
        "      <th>36</th>\n",
        "      <td> 36</td>\n",
        "      <td>     14226545351</td>\n",
        "      <td>  4.598250</td>\n",
        "      <td> 0.001512</td>\n",
        "      <td>                           Red Bull</td>\n",
        "      <td>                  Food/beverages</td>\n",
        "    </tr>\n",
        "    <tr>\n",
        "      <th>37</th>\n",
        "      <td> 37</td>\n",
        "      <td>      9098498615</td>\n",
        "      <td>  4.541324</td>\n",
        "      <td> 0.001493</td>\n",
        "      <td>                       Adam Sandler</td>\n",
        "      <td>                     Entertainer</td>\n",
        "    </tr>\n",
        "    <tr>\n",
        "      <th>38</th>\n",
        "      <td> 38</td>\n",
        "      <td>     24098842630</td>\n",
        "      <td>  4.536824</td>\n",
        "      <td> 0.001492</td>\n",
        "      <td>                     Fast &amp; Furious</td>\n",
        "      <td>                           Movie</td>\n",
        "    </tr>\n",
        "    <tr>\n",
        "      <th>39</th>\n",
        "      <td> 39</td>\n",
        "      <td> 215459165171017</td>\n",
        "      <td>  4.529329</td>\n",
        "      <td> 0.001489</td>\n",
        "      <td>                         Temple Run</td>\n",
        "      <td>                      Games/toys</td>\n",
        "    </tr>\n",
        "    <tr>\n",
        "      <th>40</th>\n",
        "      <td> 40</td>\n",
        "      <td>      6885814958</td>\n",
        "      <td>  4.525934</td>\n",
        "      <td> 0.001488</td>\n",
        "      <td>                          Lil Wayne</td>\n",
        "      <td>                   Musician/band</td>\n",
        "    </tr>\n",
        "    <tr>\n",
        "      <th>41</th>\n",
        "      <td> 41</td>\n",
        "      <td> 361406703886881</td>\n",
        "      <td>  4.494652</td>\n",
        "      <td> 0.001478</td>\n",
        "      <td>                        Grand Poker</td>\n",
        "      <td>                        App page</td>\n",
        "    </tr>\n",
        "    <tr>\n",
        "      <th>42</th>\n",
        "      <td> 42</td>\n",
        "      <td> 205254879607280</td>\n",
        "      <td>  4.418782</td>\n",
        "      <td> 0.001453</td>\n",
        "      <td>                    Pet Rescue Saga</td>\n",
        "      <td>                        App page</td>\n",
        "    </tr>\n",
        "    <tr>\n",
        "      <th>43</th>\n",
        "      <td> 43</td>\n",
        "      <td>     81221197163</td>\n",
        "      <td>  4.380556</td>\n",
        "      <td> 0.001440</td>\n",
        "      <td>                  Cristiano Ronaldo</td>\n",
        "      <td>                         Athlete</td>\n",
        "    </tr>\n",
        "    <tr>\n",
        "      <th>44</th>\n",
        "      <td> 44</td>\n",
        "      <td> 168232079864416</td>\n",
        "      <td>  4.369094</td>\n",
        "      <td> 0.001437</td>\n",
        "      <td>                          CityVille</td>\n",
        "      <td>                        App page</td>\n",
        "    </tr>\n",
        "    <tr>\n",
        "      <th>45</th>\n",
        "      <td> 45</td>\n",
        "      <td>      8210451787</td>\n",
        "      <td>  4.350774</td>\n",
        "      <td> 0.001431</td>\n",
        "      <td>                        Linkin Park</td>\n",
        "      <td>                   Musician/band</td>\n",
        "    </tr>\n",
        "    <tr>\n",
        "      <th>46</th>\n",
        "      <td> 46</td>\n",
        "      <td>     29534858696</td>\n",
        "      <td>  4.343916</td>\n",
        "      <td> 0.001428</td>\n",
        "      <td>                       The Simpsons</td>\n",
        "      <td>                         Tv show</td>\n",
        "    </tr>\n",
        "    <tr>\n",
        "      <th>47</th>\n",
        "      <td> 47</td>\n",
        "      <td>      8103318119</td>\n",
        "      <td>  4.333035</td>\n",
        "      <td> 0.001425</td>\n",
        "      <td>                             Target</td>\n",
        "      <td> Retail and consumer merchandise</td>\n",
        "    </tr>\n",
        "    <tr>\n",
        "      <th>48</th>\n",
        "      <td> 48</td>\n",
        "      <td>     30382852317</td>\n",
        "      <td>  4.269581</td>\n",
        "      <td> 0.001404</td>\n",
        "      <td>                     \u6210\u9f8d Jackie Chan</td>\n",
        "      <td>                  Actor/director</td>\n",
        "    </tr>\n",
        "    <tr>\n",
        "      <th>49</th>\n",
        "      <td> 49</td>\n",
        "      <td> 114219621960016</td>\n",
        "      <td>  4.247002</td>\n",
        "      <td> 0.001397</td>\n",
        "      <td>                     Samsung Mobile</td>\n",
        "      <td>                 Product/service</td>\n",
        "    </tr>\n",
        "  </tbody>\n",
        "</table>\n",
        "</div>"
       ],
       "metadata": {},
       "output_type": "pyout",
       "prompt_number": 33,
       "text": [
        "    rank          like_id  relative_feature_importance  feature_importance  \\\n",
        "0      1  335222406564087                    25.298536            0.008319   \n",
        "1      2      56531631380                    13.217133            0.004346   \n",
        "2      3  244944385603396                    11.071775            0.003641   \n",
        "3      4  331288023558058                    10.471078            0.003443   \n",
        "4      5  128874350565152                     9.122772            0.003000   \n",
        "5      6       7224956785                     7.869295            0.002588   \n",
        "6      7     159616034235                     7.811904            0.002569   \n",
        "7      8       7174672354                     7.048628            0.002318   \n",
        "8      9  190607374290130                     6.792338            0.002234   \n",
        "9     10      45309870078                     6.679546            0.002196   \n",
        "10    11  129079313911235                     6.647314            0.002186   \n",
        "11    12      20531316728                     6.271851            0.002062   \n",
        "12    13       9465008123                     5.753928            0.001892   \n",
        "13    14  208633805894647                     5.587659            0.001837   \n",
        "14    15     314467614927                     5.579639            0.001835   \n",
        "15    16      26748225422                     5.480089            0.001802   \n",
        "16    17  104019549633137                     5.347414            0.001758   \n",
        "17    18      89562268312                     5.331715            0.001753   \n",
        "18    19  362774807070711                     5.275316            0.001735   \n",
        "19    20  225280124217752                     5.258397            0.001729   \n",
        "20    21  220864284666911                     5.254910            0.001728   \n",
        "21    22      71775107787                     5.235250            0.001722   \n",
        "22    23       6815841748                     5.177918            0.001703   \n",
        "23    24     117533210756                     5.170197            0.001700   \n",
        "24    25       7724542745                     5.154253            0.001695   \n",
        "25    26       7270241753                     5.136908            0.001689   \n",
        "26    27  424908557519491                     5.136279            0.001689   \n",
        "27    28      13065625020                     5.116020            0.001682   \n",
        "28    29      24609282673                     4.991014            0.001641   \n",
        "29    30  200425390001211                     4.962914            0.001632   \n",
        "30    31      40796308305                     4.926819            0.001620   \n",
        "31    32  132279126867549                     4.800052            0.001578   \n",
        "32    33  107586089295409                     4.770560            0.001569   \n",
        "33    33  107586089295409                     4.770560            0.001569   \n",
        "34    34      19691681472                     4.769778            0.001568   \n",
        "35    35  170901143077174                     4.621960            0.001520   \n",
        "36    36      14226545351                     4.598250            0.001512   \n",
        "37    37       9098498615                     4.541324            0.001493   \n",
        "38    38      24098842630                     4.536824            0.001492   \n",
        "39    39  215459165171017                     4.529329            0.001489   \n",
        "40    40       6885814958                     4.525934            0.001488   \n",
        "41    41  361406703886881                     4.494652            0.001478   \n",
        "42    42  205254879607280                     4.418782            0.001453   \n",
        "43    43      81221197163                     4.380556            0.001440   \n",
        "44    44  168232079864416                     4.369094            0.001437   \n",
        "45    45       8210451787                     4.350774            0.001431   \n",
        "46    46      29534858696                     4.343916            0.001428   \n",
        "47    47       8103318119                     4.333035            0.001425   \n",
        "48    48      30382852317                     4.269581            0.001404   \n",
        "49    49  114219621960016                     4.247002            0.001397   \n",
        "\n",
        "                             like_name                    like_category  \n",
        "0                     Fresh Deck Poker                         App page  \n",
        "1                   Texas HoldEm Poker                         App page  \n",
        "2                     Candy Crush Saga                         App page  \n",
        "3             Facebook for Every Phone                         App page  \n",
        "4           Slotomania - Slot Machines                         App page  \n",
        "5                   Samsung Mobile USA                  Product/service  \n",
        "6                              Walmart  Retail and consumer merchandise  \n",
        "7                             Heineken                   Food/beverages  \n",
        "8                 Grand Poker Fan Page                  Product/service  \n",
        "9                               Eminem                    Musician/band  \n",
        "10                       Criminal Case                         App page  \n",
        "11                            Facebook                  Product/service  \n",
        "12                          Amazon.com  Retail and consumer merchandise  \n",
        "13                           FarmVille                         App page  \n",
        "14                         Angry Birds                         App page  \n",
        "15                           Megan Fox                   Actor/director  \n",
        "16                            Football                            Sport  \n",
        "17                          Vin Diesel                   Actor/director  \n",
        "18     DoubleDown Casino Slots & Poker                         App page  \n",
        "19                      Caesars Casino                         App page  \n",
        "20    Lucky Slots - Free Slot Machines                         App page  \n",
        "21                          Mafia Wars                         App page  \n",
        "22                        Barack Obama                       Politician  \n",
        "23                          Bob Marley                    Musician/band  \n",
        "24                   Manchester United         Professional sports team  \n",
        "25                             YouTube                  Product/service  \n",
        "26     CSR Racing - Official Community                       Games/toys  \n",
        "27                               Zoosk                         App page  \n",
        "28                          Family Guy                          Tv show  \n",
        "29                              Tapjoy                       Games/toys  \n",
        "30                           Coca-Cola                   Food/beverages  \n",
        "31  Top Eleven - Be a Football Manager                         App page  \n",
        "32              Live Hold'em Poker Pro                         App page  \n",
        "33                    Dragonplay Poker                         App page  \n",
        "34                     Michael Jackson                    Musician/band  \n",
        "35                          Best Vines                        Community  \n",
        "36                            Red Bull                   Food/beverages  \n",
        "37                        Adam Sandler                      Entertainer  \n",
        "38                      Fast & Furious                            Movie  \n",
        "39                          Temple Run                       Games/toys  \n",
        "40                           Lil Wayne                    Musician/band  \n",
        "41                         Grand Poker                         App page  \n",
        "42                     Pet Rescue Saga                         App page  \n",
        "43                   Cristiano Ronaldo                          Athlete  \n",
        "44                           CityVille                         App page  \n",
        "45                         Linkin Park                    Musician/band  \n",
        "46                        The Simpsons                          Tv show  \n",
        "47                              Target  Retail and consumer merchandise  \n",
        "48                      \u6210\u9f8d Jackie Chan                   Actor/director  \n",
        "49                      Samsung Mobile                  Product/service  "
       ]
      }
     ],
     "prompt_number": 33
    },
    {
     "cell_type": "heading",
     "level": 4,
     "metadata": {},
     "source": [
      "Conversion"
     ]
    },
    {
     "cell_type": "markdown",
     "metadata": {},
     "source": [
      "Conversion means a player monetized in the game with an in-app purchase.  This is a rare event in free-to-play games.  Can we do better than random guessing, or max likelihood guessing?  Let's see."
     ]
    },
    {
     "cell_type": "code",
     "collapsed": false,
     "input": [
      "X, y = facebook_likes.convert_to_dense_matrix_and_target(likes_df, converted_df,\n",
      "                                                         n_players_threshold=300,\n",
      "                                                         n_likes_threshold=10)"
     ],
     "language": "python",
     "metadata": {},
     "outputs": [],
     "prompt_number": 34
    },
    {
     "cell_type": "code",
     "collapsed": false,
     "input": [
      "X.shape, y.shape, X.shape[0]*X.shape[1]"
     ],
     "language": "python",
     "metadata": {},
     "outputs": [
      {
       "metadata": {},
       "output_type": "pyout",
       "prompt_number": 35,
       "text": [
        "((74108, 3042), (74108,), 225436536)"
       ]
      }
     ],
     "prompt_number": 35
    },
    {
     "cell_type": "markdown",
     "metadata": {},
     "source": [
      "Again, let's look at what a random model might predict."
     ]
    },
    {
     "cell_type": "code",
     "collapsed": false,
     "input": [
      "facebook_likes.get_confusion_matrix_random_guessing(y.mean(), len(y))"
     ],
     "language": "python",
     "metadata": {},
     "outputs": [
      {
       "output_type": "stream",
       "stream": "stdout",
       "text": [
        "precision: 0.0497787013548\n",
        "recall:    0.0497787013548\n"
       ]
      },
      {
       "html": [
        "<div style=\"max-height:1000px;max-width:1500px;overflow:auto;\">\n",
        "<table border=\"1\" class=\"dataframe\">\n",
        "  <thead>\n",
        "    <tr style=\"text-align: right;\">\n",
        "      <th></th>\n",
        "      <th>predicted negative</th>\n",
        "      <th>predicted positive</th>\n",
        "    </tr>\n",
        "  </thead>\n",
        "  <tbody>\n",
        "    <tr>\n",
        "      <th>negative</th>\n",
        "      <td> 66913.633629</td>\n",
        "      <td> 3505.366371</td>\n",
        "    </tr>\n",
        "    <tr>\n",
        "      <th>positive</th>\n",
        "      <td>  3505.366371</td>\n",
        "      <td>  183.633629</td>\n",
        "    </tr>\n",
        "  </tbody>\n",
        "</table>\n",
        "</div>"
       ],
       "metadata": {},
       "output_type": "pyout",
       "prompt_number": 36,
       "text": [
        "          predicted negative  predicted positive\n",
        "negative        66913.633629         3505.366371\n",
        "positive         3505.366371          183.633629"
       ]
      }
     ],
     "prompt_number": 36
    },
    {
     "cell_type": "code",
     "collapsed": false,
     "input": [
      "facebook_likes.get_confusion_matrix_max_guessing(y.mean(), len(y))"
     ],
     "language": "python",
     "metadata": {},
     "outputs": [
      {
       "output_type": "stream",
       "stream": "stdout",
       "text": [
        "precision: nan\n",
        "recall:    0.0\n"
       ]
      },
      {
       "html": [
        "<div style=\"max-height:1000px;max-width:1500px;overflow:auto;\">\n",
        "<table border=\"1\" class=\"dataframe\">\n",
        "  <thead>\n",
        "    <tr style=\"text-align: right;\">\n",
        "      <th></th>\n",
        "      <th>predicted negative</th>\n",
        "      <th>predicted positive</th>\n",
        "    </tr>\n",
        "  </thead>\n",
        "  <tbody>\n",
        "    <tr>\n",
        "      <th>negative</th>\n",
        "      <td> 70419</td>\n",
        "      <td> 0</td>\n",
        "    </tr>\n",
        "    <tr>\n",
        "      <th>positive</th>\n",
        "      <td>  3689</td>\n",
        "      <td> 0</td>\n",
        "    </tr>\n",
        "  </tbody>\n",
        "</table>\n",
        "</div>"
       ],
       "metadata": {},
       "output_type": "pyout",
       "prompt_number": 37,
       "text": [
        "          predicted negative  predicted positive\n",
        "negative               70419                   0\n",
        "positive                3689                   0"
       ]
      }
     ],
     "prompt_number": 37
    },
    {
     "cell_type": "code",
     "collapsed": false,
     "input": [
      "feature_importances, cm_df = facebook_likes.train_test_extratrees(X, y, n_estimators=100, verbose=True)\n",
      "cm_df"
     ],
     "language": "python",
     "metadata": {},
     "outputs": [
      {
       "output_type": "stream",
       "stream": "stdout",
       "text": [
        "run 1 of 10\n",
        "train precision: 0.999433427762"
       ]
      },
      {
       "output_type": "stream",
       "stream": "stdout",
       "text": [
        "\n",
        "train recall:    0.985474860335\n",
        "test precision: 0.0679012345679\n",
        "test recall:    0.0057925223802\n",
        "  feature importances: [  6.94702315e-04   1.10623439e-04   2.01251073e-04 ...,   5.45254828e-04\n",
        "   7.53326159e-05   4.02298070e-04]\n",
        "run 2 of 10"
       ]
      },
      {
       "output_type": "stream",
       "stream": "stdout",
       "text": [
        "\n",
        "train precision: 0.999455634186"
       ]
      },
      {
       "output_type": "stream",
       "stream": "stdout",
       "text": [
        "\n",
        "train recall:    0.987096774194\n",
        "test precision: 0.0461538461538\n",
        "test recall:    0.00492072170585\n",
        "  feature importances: [  6.77741088e-04   7.10644869e-05   3.15127430e-04 ...,   4.47515026e-04\n",
        "   5.63620785e-05   3.35890613e-04]\n",
        "run 3 of 10"
       ]
      },
      {
       "output_type": "stream",
       "stream": "stdout",
       "text": [
        "\n",
        "train precision: 1.0"
       ]
      },
      {
       "output_type": "stream",
       "stream": "stdout",
       "text": [
        "\n",
        "train recall:    0.98343132015\n",
        "test precision: 0.0617283950617\n",
        "test recall:    0.00550055005501\n",
        "  feature importances: [  5.57960329e-04   1.13973714e-04   2.02883755e-04 ...,   7.50025192e-04\n",
        "   6.72695878e-05   2.04756064e-04]\n",
        "run 4 of 10"
       ]
      },
      {
       "output_type": "stream",
       "stream": "stdout",
       "text": [
        "\n",
        "train precision: 0.999458581483"
       ]
      },
      {
       "output_type": "stream",
       "stream": "stdout",
       "text": [
        "\n",
        "train recall:    0.986111111111\n",
        "test precision: 0.0521739130435\n",
        "test recall:    0.00330214639516\n",
        "  feature importances: [ 0.00059589  0.00012489  0.00021577 ...,  0.00021413  0.00010478\n",
        "  0.00039955]\n",
        "run 5 of 10"
       ]
      },
      {
       "output_type": "stream",
       "stream": "stdout",
       "text": [
        "\n",
        "train precision: 1.0"
       ]
      },
      {
       "output_type": "stream",
       "stream": "stdout",
       "text": [
        "\n",
        "train recall:    0.98291510945\n",
        "test precision: 0.0819672131148\n",
        "test recall:    0.00825991189427\n",
        "  feature importances: [  7.00917565e-04   7.06622750e-05   1.39190848e-04 ...,   1.98662691e-04\n",
        "   1.52801037e-04   2.08740573e-04]\n",
        "run 6 of 10"
       ]
      },
      {
       "output_type": "stream",
       "stream": "stdout",
       "text": [
        "\n",
        "train precision: 0.999449339207"
       ]
      },
      {
       "output_type": "stream",
       "stream": "stdout",
       "text": [
        "\n",
        "train recall:    0.983739837398\n",
        "test precision: 0.0753424657534\n",
        "test recall:    0.00596529284165\n",
        "  feature importances: [  5.45049910e-04   6.28049331e-05   1.92845336e-04 ...,   3.90361119e-04\n",
        "   1.07496890e-04   1.99630540e-04]\n",
        "run 7 of 10"
       ]
      },
      {
       "output_type": "stream",
       "stream": "stdout",
       "text": [
        "\n",
        "train precision: 0.999443826474"
       ]
      },
      {
       "output_type": "stream",
       "stream": "stdout",
       "text": [
        "\n",
        "train recall:    0.984657534247\n",
        "test precision: 0.0510948905109\n",
        "test recall:    0.00375536480687\n",
        "  feature importances: [  4.86979994e-04   1.42577486e-04   2.63009427e-04 ...,   2.15311045e-04\n",
        "   4.82141773e-05   2.78508341e-04]\n",
        "run 8 of 10"
       ]
      },
      {
       "output_type": "stream",
       "stream": "stdout",
       "text": [
        "\n",
        "train precision: 1.0"
       ]
      },
      {
       "output_type": "stream",
       "stream": "stdout",
       "text": [
        "\n",
        "train recall:    0.983924611973\n",
        "test precision: 0.0457516339869\n",
        "test recall:    0.00371352785146\n",
        "  feature importances: [  5.47593912e-04   1.88643388e-04   5.10086156e-05 ...,   5.26022899e-04\n",
        "   1.32515208e-04   2.13118193e-04]\n",
        "run 9 of 10"
       ]
      },
      {
       "output_type": "stream",
       "stream": "stdout",
       "text": [
        "\n",
        "train precision: 1.0"
       ]
      },
      {
       "output_type": "stream",
       "stream": "stdout",
       "text": [
        "\n",
        "train recall:    0.980176211454\n",
        "test precision: 0.0451612903226\n",
        "test recall:    0.00373731980779\n",
        "  feature importances: [  5.86170706e-04   1.13977999e-04   1.79257964e-04 ...,   6.11694809e-04\n",
        "   3.52895588e-05   2.65561400e-04]\n",
        "run 10 of 10"
       ]
      },
      {
       "output_type": "stream",
       "stream": "stdout",
       "text": [
        "\n",
        "train precision: 1.0"
       ]
      },
      {
       "output_type": "stream",
       "stream": "stdout",
       "text": [
        "\n",
        "train recall:    0.982251802551\n",
        "test precision: 0.0774647887324\n",
        "test recall:    0.00583244962884\n",
        "  feature importances: [  8.45370998e-04   9.62453513e-05   1.74375900e-04 ...,   3.01767666e-04\n",
        "   2.92362887e-05   2.24154979e-04]\n",
        "precision: 0.0606451612903"
       ]
      },
      {
       "output_type": "stream",
       "stream": "stdout",
       "text": [
        "\n",
        "recall:    0.00507258108035\n"
       ]
      },
      {
       "html": [
        "<div style=\"max-height:1000px;max-width:1500px;overflow:auto;\">\n",
        "<table border=\"1\" class=\"dataframe\">\n",
        "  <thead>\n",
        "    <tr style=\"text-align: right;\">\n",
        "      <th></th>\n",
        "      <th>predicted negative</th>\n",
        "      <th>predicted positive</th>\n",
        "    </tr>\n",
        "  </thead>\n",
        "  <tbody>\n",
        "    <tr>\n",
        "      <th>negative</th>\n",
        "      <td> 350553</td>\n",
        "      <td> 1456</td>\n",
        "    </tr>\n",
        "    <tr>\n",
        "      <th>positive</th>\n",
        "      <td>  18437</td>\n",
        "      <td>   94</td>\n",
        "    </tr>\n",
        "  </tbody>\n",
        "</table>\n",
        "</div>"
       ],
       "metadata": {},
       "output_type": "pyout",
       "prompt_number": 38,
       "text": [
        "          predicted negative  predicted positive\n",
        "negative              350553                1456\n",
        "positive               18437                  94"
       ]
      }
     ],
     "prompt_number": 38
    },
    {
     "cell_type": "markdown",
     "metadata": {},
     "source": [
      "This is worse than random guessing.  But let's see what the model determined the most important features to be."
     ]
    },
    {
     "cell_type": "code",
     "collapsed": false,
     "input": [
      "top_df = facebook_likes.get_like_names_from_indices(X.columns, feature_importances, 100)\n",
      "top_df"
     ],
     "language": "python",
     "metadata": {},
     "outputs": [
      {
       "html": [
        "<pre>\n",
        "&lt;class 'pandas.core.frame.DataFrame'&gt;\n",
        "Int64Index: 101 entries, 0 to 100\n",
        "Data columns (total 6 columns):\n",
        "rank                           101  non-null values\n",
        "like_id                        101  non-null values\n",
        "relative_feature_importance    101  non-null values\n",
        "feature_importance             101  non-null values\n",
        "like_name                      101  non-null values\n",
        "like_category                  101  non-null values\n",
        "dtypes: float64(2), int64(2), object(2)\n",
        "</pre>"
       ],
       "metadata": {},
       "output_type": "pyout",
       "prompt_number": 39,
       "text": [
        "<class 'pandas.core.frame.DataFrame'>\n",
        "Int64Index: 101 entries, 0 to 100\n",
        "Data columns (total 6 columns):\n",
        "rank                           101  non-null values\n",
        "like_id                        101  non-null values\n",
        "relative_feature_importance    101  non-null values\n",
        "feature_importance             101  non-null values\n",
        "like_name                      101  non-null values\n",
        "like_category                  101  non-null values\n",
        "dtypes: float64(2), int64(2), object(2)"
       ]
      }
     ],
     "prompt_number": 39
    },
    {
     "cell_type": "code",
     "collapsed": false,
     "input": [
      "top_df.head(50)"
     ],
     "language": "python",
     "metadata": {},
     "outputs": [
      {
       "html": [
        "<div style=\"max-height:1000px;max-width:1500px;overflow:auto;\">\n",
        "<table border=\"1\" class=\"dataframe\">\n",
        "  <thead>\n",
        "    <tr style=\"text-align: right;\">\n",
        "      <th></th>\n",
        "      <th>rank</th>\n",
        "      <th>like_id</th>\n",
        "      <th>relative_feature_importance</th>\n",
        "      <th>feature_importance</th>\n",
        "      <th>like_name</th>\n",
        "      <th>like_category</th>\n",
        "    </tr>\n",
        "  </thead>\n",
        "  <tbody>\n",
        "    <tr>\n",
        "      <th>0 </th>\n",
        "      <td>  1</td>\n",
        "      <td>     56531631380</td>\n",
        "      <td> 19.289171</td>\n",
        "      <td> 0.006343</td>\n",
        "      <td>                  Texas HoldEm Poker</td>\n",
        "      <td>                        App page</td>\n",
        "    </tr>\n",
        "    <tr>\n",
        "      <th>1 </th>\n",
        "      <td>  2</td>\n",
        "      <td> 128874350565152</td>\n",
        "      <td> 11.333371</td>\n",
        "      <td> 0.003727</td>\n",
        "      <td>          Slotomania - Slot Machines</td>\n",
        "      <td>                        App page</td>\n",
        "    </tr>\n",
        "    <tr>\n",
        "      <th>2 </th>\n",
        "      <td>  3</td>\n",
        "      <td>      7224956785</td>\n",
        "      <td>  9.128793</td>\n",
        "      <td> 0.003002</td>\n",
        "      <td>                  Samsung Mobile USA</td>\n",
        "      <td>                 Product/service</td>\n",
        "    </tr>\n",
        "    <tr>\n",
        "      <th>3 </th>\n",
        "      <td>  4</td>\n",
        "      <td> 244944385603396</td>\n",
        "      <td>  9.101623</td>\n",
        "      <td> 0.002993</td>\n",
        "      <td>                    Candy Crush Saga</td>\n",
        "      <td>                        App page</td>\n",
        "    </tr>\n",
        "    <tr>\n",
        "      <th>4 </th>\n",
        "      <td>  5</td>\n",
        "      <td>    159616034235</td>\n",
        "      <td>  9.028953</td>\n",
        "      <td> 0.002969</td>\n",
        "      <td>                             Walmart</td>\n",
        "      <td> Retail and consumer merchandise</td>\n",
        "    </tr>\n",
        "    <tr>\n",
        "      <th>5 </th>\n",
        "      <td>  6</td>\n",
        "      <td> 335222406564087</td>\n",
        "      <td>  8.511755</td>\n",
        "      <td> 0.002799</td>\n",
        "      <td>                    Fresh Deck Poker</td>\n",
        "      <td>                        App page</td>\n",
        "    </tr>\n",
        "    <tr>\n",
        "      <th>6 </th>\n",
        "      <td>  7</td>\n",
        "      <td>     71775107787</td>\n",
        "      <td>  6.557350</td>\n",
        "      <td> 0.002156</td>\n",
        "      <td>                          Mafia Wars</td>\n",
        "      <td>                        App page</td>\n",
        "    </tr>\n",
        "    <tr>\n",
        "      <th>7 </th>\n",
        "      <td>  8</td>\n",
        "      <td>     26748225422</td>\n",
        "      <td>  6.409208</td>\n",
        "      <td> 0.002108</td>\n",
        "      <td>                           Megan Fox</td>\n",
        "      <td>                  Actor/director</td>\n",
        "    </tr>\n",
        "    <tr>\n",
        "      <th>8 </th>\n",
        "      <td>  9</td>\n",
        "      <td>     45309870078</td>\n",
        "      <td>  6.348209</td>\n",
        "      <td> 0.002088</td>\n",
        "      <td>                              Eminem</td>\n",
        "      <td>                   Musician/band</td>\n",
        "    </tr>\n",
        "    <tr>\n",
        "      <th>9 </th>\n",
        "      <td> 10</td>\n",
        "      <td>      9465008123</td>\n",
        "      <td>  6.292738</td>\n",
        "      <td> 0.002069</td>\n",
        "      <td>                          Amazon.com</td>\n",
        "      <td> Retail and consumer merchandise</td>\n",
        "    </tr>\n",
        "    <tr>\n",
        "      <th>10</th>\n",
        "      <td> 11</td>\n",
        "      <td> 107586089295409</td>\n",
        "      <td>  6.278376</td>\n",
        "      <td> 0.002065</td>\n",
        "      <td>              Live Hold'em Poker Pro</td>\n",
        "      <td>                        App page</td>\n",
        "    </tr>\n",
        "    <tr>\n",
        "      <th>11</th>\n",
        "      <td> 11</td>\n",
        "      <td> 107586089295409</td>\n",
        "      <td>  6.278376</td>\n",
        "      <td> 0.002065</td>\n",
        "      <td>                    Dragonplay Poker</td>\n",
        "      <td>                        App page</td>\n",
        "    </tr>\n",
        "    <tr>\n",
        "      <th>12</th>\n",
        "      <td> 12</td>\n",
        "      <td>     24609282673</td>\n",
        "      <td>  6.274871</td>\n",
        "      <td> 0.002063</td>\n",
        "      <td>                          Family Guy</td>\n",
        "      <td>                         Tv show</td>\n",
        "    </tr>\n",
        "    <tr>\n",
        "      <th>13</th>\n",
        "      <td> 13</td>\n",
        "      <td>     13065625020</td>\n",
        "      <td>  5.944348</td>\n",
        "      <td> 0.001955</td>\n",
        "      <td>                               Zoosk</td>\n",
        "      <td>                        App page</td>\n",
        "    </tr>\n",
        "    <tr>\n",
        "      <th>14</th>\n",
        "      <td> 14</td>\n",
        "      <td> 200425390001211</td>\n",
        "      <td>  5.913705</td>\n",
        "      <td> 0.001945</td>\n",
        "      <td>                              Tapjoy</td>\n",
        "      <td>                      Games/toys</td>\n",
        "    </tr>\n",
        "    <tr>\n",
        "      <th>15</th>\n",
        "      <td> 15</td>\n",
        "      <td>     89562268312</td>\n",
        "      <td>  5.876216</td>\n",
        "      <td> 0.001932</td>\n",
        "      <td>                          Vin Diesel</td>\n",
        "      <td>                  Actor/director</td>\n",
        "    </tr>\n",
        "    <tr>\n",
        "      <th>16</th>\n",
        "      <td> 16</td>\n",
        "      <td> 208633805894647</td>\n",
        "      <td>  5.851087</td>\n",
        "      <td> 0.001924</td>\n",
        "      <td>                           FarmVille</td>\n",
        "      <td>                        App page</td>\n",
        "    </tr>\n",
        "    <tr>\n",
        "      <th>17</th>\n",
        "      <td> 17</td>\n",
        "      <td>     20531316728</td>\n",
        "      <td>  5.552948</td>\n",
        "      <td> 0.001826</td>\n",
        "      <td>                            Facebook</td>\n",
        "      <td>                 Product/service</td>\n",
        "    </tr>\n",
        "    <tr>\n",
        "      <th>18</th>\n",
        "      <td> 18</td>\n",
        "      <td>      9098498615</td>\n",
        "      <td>  5.444419</td>\n",
        "      <td> 0.001790</td>\n",
        "      <td>                        Adam Sandler</td>\n",
        "      <td>                     Entertainer</td>\n",
        "    </tr>\n",
        "    <tr>\n",
        "      <th>19</th>\n",
        "      <td> 19</td>\n",
        "      <td>    314467614927</td>\n",
        "      <td>  5.326090</td>\n",
        "      <td> 0.001751</td>\n",
        "      <td>                         Angry Birds</td>\n",
        "      <td>                        App page</td>\n",
        "    </tr>\n",
        "    <tr>\n",
        "      <th>20</th>\n",
        "      <td> 20</td>\n",
        "      <td> 362774807070711</td>\n",
        "      <td>  5.320711</td>\n",
        "      <td> 0.001750</td>\n",
        "      <td>     DoubleDown Casino Slots &amp; Poker</td>\n",
        "      <td>                        App page</td>\n",
        "    </tr>\n",
        "    <tr>\n",
        "      <th>21</th>\n",
        "      <td> 21</td>\n",
        "      <td>     21392801120</td>\n",
        "      <td>  5.197015</td>\n",
        "      <td> 0.001709</td>\n",
        "      <td>                         Mitt Romney</td>\n",
        "      <td>                      Politician</td>\n",
        "    </tr>\n",
        "    <tr>\n",
        "      <th>22</th>\n",
        "      <td> 22</td>\n",
        "      <td>      7174672354</td>\n",
        "      <td>  5.080695</td>\n",
        "      <td> 0.001671</td>\n",
        "      <td>                            Heineken</td>\n",
        "      <td>                  Food/beverages</td>\n",
        "    </tr>\n",
        "    <tr>\n",
        "      <th>23</th>\n",
        "      <td> 23</td>\n",
        "      <td>      6815841748</td>\n",
        "      <td>  5.020219</td>\n",
        "      <td> 0.001651</td>\n",
        "      <td>                        Barack Obama</td>\n",
        "      <td>                      Politician</td>\n",
        "    </tr>\n",
        "    <tr>\n",
        "      <th>24</th>\n",
        "      <td> 24</td>\n",
        "      <td>     46299886275</td>\n",
        "      <td>  5.017038</td>\n",
        "      <td> 0.001650</td>\n",
        "      <td> UFC: Ultimate Fighting Championship</td>\n",
        "      <td>                   Sports league</td>\n",
        "    </tr>\n",
        "    <tr>\n",
        "      <th>25</th>\n",
        "      <td> 25</td>\n",
        "      <td> 424908557519491</td>\n",
        "      <td>  4.966280</td>\n",
        "      <td> 0.001633</td>\n",
        "      <td>     CSR Racing - Official Community</td>\n",
        "      <td>                      Games/toys</td>\n",
        "    </tr>\n",
        "    <tr>\n",
        "      <th>26</th>\n",
        "      <td> 26</td>\n",
        "      <td> 331288023558058</td>\n",
        "      <td>  4.730453</td>\n",
        "      <td> 0.001556</td>\n",
        "      <td>            Facebook for Every Phone</td>\n",
        "      <td>                        App page</td>\n",
        "    </tr>\n",
        "    <tr>\n",
        "      <th>27</th>\n",
        "      <td> 27</td>\n",
        "      <td> 197562933729078</td>\n",
        "      <td>  4.698361</td>\n",
        "      <td> 0.001545</td>\n",
        "      <td>                              iTunes</td>\n",
        "      <td>                 Product/service</td>\n",
        "    </tr>\n",
        "    <tr>\n",
        "      <th>28</th>\n",
        "      <td> 28</td>\n",
        "      <td> 215459165171017</td>\n",
        "      <td>  4.687472</td>\n",
        "      <td> 0.001541</td>\n",
        "      <td>                          Temple Run</td>\n",
        "      <td>                      Games/toys</td>\n",
        "    </tr>\n",
        "    <tr>\n",
        "      <th>29</th>\n",
        "      <td> 29</td>\n",
        "      <td>     19691681472</td>\n",
        "      <td>  4.658166</td>\n",
        "      <td> 0.001532</td>\n",
        "      <td>                     Michael Jackson</td>\n",
        "      <td>                   Musician/band</td>\n",
        "    </tr>\n",
        "    <tr>\n",
        "      <th>30</th>\n",
        "      <td> 30</td>\n",
        "      <td>      8103318119</td>\n",
        "      <td>  4.645917</td>\n",
        "      <td> 0.001528</td>\n",
        "      <td>                              Target</td>\n",
        "      <td> Retail and consumer merchandise</td>\n",
        "    </tr>\n",
        "    <tr>\n",
        "      <th>31</th>\n",
        "      <td> 31</td>\n",
        "      <td>     54876245094</td>\n",
        "      <td>  4.609151</td>\n",
        "      <td> 0.001516</td>\n",
        "      <td>                           Bud Light</td>\n",
        "      <td>                  Food/beverages</td>\n",
        "    </tr>\n",
        "    <tr>\n",
        "      <th>32</th>\n",
        "      <td> 32</td>\n",
        "      <td> 170901143077174</td>\n",
        "      <td>  4.560522</td>\n",
        "      <td> 0.001500</td>\n",
        "      <td>                          Best Vines</td>\n",
        "      <td>                       Community</td>\n",
        "    </tr>\n",
        "    <tr>\n",
        "      <th>33</th>\n",
        "      <td> 33</td>\n",
        "      <td>     49759574603</td>\n",
        "      <td>  4.477520</td>\n",
        "      <td> 0.001472</td>\n",
        "      <td>                          Glu Mobile</td>\n",
        "      <td>                      Games/toys</td>\n",
        "    </tr>\n",
        "    <tr>\n",
        "      <th>34</th>\n",
        "      <td> 34</td>\n",
        "      <td> 225280124217752</td>\n",
        "      <td>  4.474012</td>\n",
        "      <td> 0.001471</td>\n",
        "      <td>                      Caesars Casino</td>\n",
        "      <td>                        App page</td>\n",
        "    </tr>\n",
        "    <tr>\n",
        "      <th>35</th>\n",
        "      <td> 35</td>\n",
        "      <td>      7270241753</td>\n",
        "      <td>  4.450039</td>\n",
        "      <td> 0.001463</td>\n",
        "      <td>                             YouTube</td>\n",
        "      <td>                 Product/service</td>\n",
        "    </tr>\n",
        "    <tr>\n",
        "      <th>36</th>\n",
        "      <td> 36</td>\n",
        "      <td>      6885814958</td>\n",
        "      <td>  4.398875</td>\n",
        "      <td> 0.001447</td>\n",
        "      <td>                           Lil Wayne</td>\n",
        "      <td>                   Musician/band</td>\n",
        "    </tr>\n",
        "    <tr>\n",
        "      <th>37</th>\n",
        "      <td> 37</td>\n",
        "      <td>     36211311648</td>\n",
        "      <td>  4.367778</td>\n",
        "      <td> 0.001436</td>\n",
        "      <td>                  Two and a Half Men</td>\n",
        "      <td>                         Tv show</td>\n",
        "    </tr>\n",
        "    <tr>\n",
        "      <th>38</th>\n",
        "      <td> 38</td>\n",
        "      <td>      9418270899</td>\n",
        "      <td>  4.366183</td>\n",
        "      <td> 0.001436</td>\n",
        "      <td>                  Buffalo Wild Wings</td>\n",
        "      <td>                  Food/beverages</td>\n",
        "    </tr>\n",
        "    <tr>\n",
        "      <th>39</th>\n",
        "      <td> 39</td>\n",
        "      <td> 190607374290130</td>\n",
        "      <td>  4.363188</td>\n",
        "      <td> 0.001435</td>\n",
        "      <td>                Grand Poker Fan Page</td>\n",
        "      <td>                 Product/service</td>\n",
        "    </tr>\n",
        "    <tr>\n",
        "      <th>40</th>\n",
        "      <td> 40</td>\n",
        "      <td>     29534858696</td>\n",
        "      <td>  4.316856</td>\n",
        "      <td> 0.001420</td>\n",
        "      <td>                        The Simpsons</td>\n",
        "      <td>                         Tv show</td>\n",
        "    </tr>\n",
        "    <tr>\n",
        "      <th>41</th>\n",
        "      <td> 41</td>\n",
        "      <td> 138936166274099</td>\n",
        "      <td>  4.302871</td>\n",
        "      <td> 0.001415</td>\n",
        "      <td>                           Budweiser</td>\n",
        "      <td>                  Food/beverages</td>\n",
        "    </tr>\n",
        "    <tr>\n",
        "      <th>42</th>\n",
        "      <td> 42</td>\n",
        "      <td> 302304026514933</td>\n",
        "      <td>  4.297155</td>\n",
        "      <td> 0.001413</td>\n",
        "      <td>         World Series of Poker by EA</td>\n",
        "      <td>                        App page</td>\n",
        "    </tr>\n",
        "    <tr>\n",
        "      <th>43</th>\n",
        "      <td> 43</td>\n",
        "      <td> 381169825327561</td>\n",
        "      <td>  4.167817</td>\n",
        "      <td> 0.001371</td>\n",
        "      <td> Embarrassing party photos and Fails</td>\n",
        "      <td>                       Community</td>\n",
        "    </tr>\n",
        "    <tr>\n",
        "      <th>44</th>\n",
        "      <td> 44</td>\n",
        "      <td> 223766074374957</td>\n",
        "      <td>  4.147660</td>\n",
        "      <td> 0.001364</td>\n",
        "      <td>                     Bejeweled Blitz</td>\n",
        "      <td>                        App page</td>\n",
        "    </tr>\n",
        "    <tr>\n",
        "      <th>45</th>\n",
        "      <td> 45</td>\n",
        "      <td>      7608631709</td>\n",
        "      <td>  4.130208</td>\n",
        "      <td> 0.001358</td>\n",
        "      <td>                               House</td>\n",
        "      <td>                         Tv show</td>\n",
        "    </tr>\n",
        "    <tr>\n",
        "      <th>46</th>\n",
        "      <td> 46</td>\n",
        "      <td>    224383614973</td>\n",
        "      <td>  4.106725</td>\n",
        "      <td> 0.001350</td>\n",
        "      <td>                              Subway</td>\n",
        "      <td>                 Restaurant/cafe</td>\n",
        "    </tr>\n",
        "    <tr>\n",
        "      <th>47</th>\n",
        "      <td> 47</td>\n",
        "      <td> 220864284666911</td>\n",
        "      <td>  4.040427</td>\n",
        "      <td> 0.001329</td>\n",
        "      <td>    Lucky Slots - Free Slot Machines</td>\n",
        "      <td>                        App page</td>\n",
        "    </tr>\n",
        "    <tr>\n",
        "      <th>48</th>\n",
        "      <td> 48</td>\n",
        "      <td> 361406703886881</td>\n",
        "      <td>  4.018887</td>\n",
        "      <td> 0.001322</td>\n",
        "      <td>                         Grand Poker</td>\n",
        "      <td>                        App page</td>\n",
        "    </tr>\n",
        "    <tr>\n",
        "      <th>49</th>\n",
        "      <td> 49</td>\n",
        "      <td>     17432988290</td>\n",
        "      <td>  3.920770</td>\n",
        "      <td> 0.001289</td>\n",
        "      <td>                     Sons of Anarchy</td>\n",
        "      <td>                         Tv show</td>\n",
        "    </tr>\n",
        "  </tbody>\n",
        "</table>\n",
        "</div>"
       ],
       "metadata": {},
       "output_type": "pyout",
       "prompt_number": 40,
       "text": [
        "    rank          like_id  relative_feature_importance  feature_importance  \\\n",
        "0      1      56531631380                    19.289171            0.006343   \n",
        "1      2  128874350565152                    11.333371            0.003727   \n",
        "2      3       7224956785                     9.128793            0.003002   \n",
        "3      4  244944385603396                     9.101623            0.002993   \n",
        "4      5     159616034235                     9.028953            0.002969   \n",
        "5      6  335222406564087                     8.511755            0.002799   \n",
        "6      7      71775107787                     6.557350            0.002156   \n",
        "7      8      26748225422                     6.409208            0.002108   \n",
        "8      9      45309870078                     6.348209            0.002088   \n",
        "9     10       9465008123                     6.292738            0.002069   \n",
        "10    11  107586089295409                     6.278376            0.002065   \n",
        "11    11  107586089295409                     6.278376            0.002065   \n",
        "12    12      24609282673                     6.274871            0.002063   \n",
        "13    13      13065625020                     5.944348            0.001955   \n",
        "14    14  200425390001211                     5.913705            0.001945   \n",
        "15    15      89562268312                     5.876216            0.001932   \n",
        "16    16  208633805894647                     5.851087            0.001924   \n",
        "17    17      20531316728                     5.552948            0.001826   \n",
        "18    18       9098498615                     5.444419            0.001790   \n",
        "19    19     314467614927                     5.326090            0.001751   \n",
        "20    20  362774807070711                     5.320711            0.001750   \n",
        "21    21      21392801120                     5.197015            0.001709   \n",
        "22    22       7174672354                     5.080695            0.001671   \n",
        "23    23       6815841748                     5.020219            0.001651   \n",
        "24    24      46299886275                     5.017038            0.001650   \n",
        "25    25  424908557519491                     4.966280            0.001633   \n",
        "26    26  331288023558058                     4.730453            0.001556   \n",
        "27    27  197562933729078                     4.698361            0.001545   \n",
        "28    28  215459165171017                     4.687472            0.001541   \n",
        "29    29      19691681472                     4.658166            0.001532   \n",
        "30    30       8103318119                     4.645917            0.001528   \n",
        "31    31      54876245094                     4.609151            0.001516   \n",
        "32    32  170901143077174                     4.560522            0.001500   \n",
        "33    33      49759574603                     4.477520            0.001472   \n",
        "34    34  225280124217752                     4.474012            0.001471   \n",
        "35    35       7270241753                     4.450039            0.001463   \n",
        "36    36       6885814958                     4.398875            0.001447   \n",
        "37    37      36211311648                     4.367778            0.001436   \n",
        "38    38       9418270899                     4.366183            0.001436   \n",
        "39    39  190607374290130                     4.363188            0.001435   \n",
        "40    40      29534858696                     4.316856            0.001420   \n",
        "41    41  138936166274099                     4.302871            0.001415   \n",
        "42    42  302304026514933                     4.297155            0.001413   \n",
        "43    43  381169825327561                     4.167817            0.001371   \n",
        "44    44  223766074374957                     4.147660            0.001364   \n",
        "45    45       7608631709                     4.130208            0.001358   \n",
        "46    46     224383614973                     4.106725            0.001350   \n",
        "47    47  220864284666911                     4.040427            0.001329   \n",
        "48    48  361406703886881                     4.018887            0.001322   \n",
        "49    49      17432988290                     3.920770            0.001289   \n",
        "\n",
        "                              like_name                    like_category  \n",
        "0                    Texas HoldEm Poker                         App page  \n",
        "1            Slotomania - Slot Machines                         App page  \n",
        "2                    Samsung Mobile USA                  Product/service  \n",
        "3                      Candy Crush Saga                         App page  \n",
        "4                               Walmart  Retail and consumer merchandise  \n",
        "5                      Fresh Deck Poker                         App page  \n",
        "6                            Mafia Wars                         App page  \n",
        "7                             Megan Fox                   Actor/director  \n",
        "8                                Eminem                    Musician/band  \n",
        "9                            Amazon.com  Retail and consumer merchandise  \n",
        "10               Live Hold'em Poker Pro                         App page  \n",
        "11                     Dragonplay Poker                         App page  \n",
        "12                           Family Guy                          Tv show  \n",
        "13                                Zoosk                         App page  \n",
        "14                               Tapjoy                       Games/toys  \n",
        "15                           Vin Diesel                   Actor/director  \n",
        "16                            FarmVille                         App page  \n",
        "17                             Facebook                  Product/service  \n",
        "18                         Adam Sandler                      Entertainer  \n",
        "19                          Angry Birds                         App page  \n",
        "20      DoubleDown Casino Slots & Poker                         App page  \n",
        "21                          Mitt Romney                       Politician  \n",
        "22                             Heineken                   Food/beverages  \n",
        "23                         Barack Obama                       Politician  \n",
        "24  UFC: Ultimate Fighting Championship                    Sports league  \n",
        "25      CSR Racing - Official Community                       Games/toys  \n",
        "26             Facebook for Every Phone                         App page  \n",
        "27                               iTunes                  Product/service  \n",
        "28                           Temple Run                       Games/toys  \n",
        "29                      Michael Jackson                    Musician/band  \n",
        "30                               Target  Retail and consumer merchandise  \n",
        "31                            Bud Light                   Food/beverages  \n",
        "32                           Best Vines                        Community  \n",
        "33                           Glu Mobile                       Games/toys  \n",
        "34                       Caesars Casino                         App page  \n",
        "35                              YouTube                  Product/service  \n",
        "36                            Lil Wayne                    Musician/band  \n",
        "37                   Two and a Half Men                          Tv show  \n",
        "38                   Buffalo Wild Wings                   Food/beverages  \n",
        "39                 Grand Poker Fan Page                  Product/service  \n",
        "40                         The Simpsons                          Tv show  \n",
        "41                            Budweiser                   Food/beverages  \n",
        "42          World Series of Poker by EA                         App page  \n",
        "43  Embarrassing party photos and Fails                        Community  \n",
        "44                      Bejeweled Blitz                         App page  \n",
        "45                                House                          Tv show  \n",
        "46                               Subway                  Restaurant/cafe  \n",
        "47     Lucky Slots - Free Slot Machines                         App page  \n",
        "48                          Grand Poker                         App page  \n",
        "49                      Sons of Anarchy                          Tv show  "
       ]
      }
     ],
     "prompt_number": 40
    },
    {
     "cell_type": "heading",
     "level": 2,
     "metadata": {},
     "source": [
      "Dimensionality Reduction"
     ]
    },
    {
     "cell_type": "markdown",
     "metadata": {},
     "source": [
      "Let's try to reduct the dimensions of this data to see if we can improve the prediction performance.\n",
      "\n",
      "First we will use TruncatedSVD."
     ]
    },
    {
     "cell_type": "code",
     "collapsed": false,
     "input": [
      "X, y = facebook_likes.convert_to_dense_matrix_and_target(likes_df, hands_played_gte_median_df,\n",
      "                                                                             n_players_threshold=300,\n",
      "                                                                             n_likes_threshold=10)"
     ],
     "language": "python",
     "metadata": {},
     "outputs": [],
     "prompt_number": 41
    },
    {
     "cell_type": "code",
     "collapsed": false,
     "input": [
      "facebook_likes.train_test_svd_extratrees(X, y, n_components=100, n_estimators=10, verbose=True)"
     ],
     "language": "python",
     "metadata": {},
     "outputs": [
      {
       "output_type": "stream",
       "stream": "stdout",
       "text": [
        "run 1 of 10\n",
        "train precision: 0.994064171123"
       ]
      },
      {
       "output_type": "stream",
       "stream": "stdout",
       "text": [
        "\n",
        "train recall:    0.991730687153\n",
        "test precision: 0.575671442659\n",
        "test recall:    0.526863452962\n",
        "  feature importances: [ 0.00989307  0.01033418  0.01053708  0.01047264  0.01031747  0.00948782\n",
        "  0.00968193  0.00922712  0.01025492  0.0094674   0.0094352   0.01032181\n",
        "  0.01026798  0.00938385  0.01021582  0.01074656  0.01089196  0.00966217\n",
        "  0.00925302  0.01009701  0.01130109  0.00959955  0.00994446  0.01074429\n",
        "  0.01100081  0.00990846  0.00959643  0.00963837  0.00943744  0.00977001\n",
        "  0.01007397  0.00961461  0.01019874  0.00994972  0.00993341  0.00971086\n",
        "  0.0100759   0.00945611  0.00958469  0.00976982  0.00957792  0.01004218\n",
        "  0.01024011  0.0095839   0.01044924  0.00930083  0.00972548  0.00995428\n",
        "  0.01007614  0.01019776  0.00982722  0.0105244   0.01001218  0.00964392\n",
        "  0.0091706   0.01034703  0.00946318  0.0097148   0.01006977  0.00963803\n",
        "  0.00969729  0.00980481  0.00995057  0.01047831  0.00985633  0.01009604\n",
        "  0.01039687  0.00962411  0.01032422  0.01045432  0.00975176  0.00986308\n",
        "  0.01008708  0.00947594  0.01010633  0.00967978  0.01031955  0.00998707\n",
        "  0.0105402   0.01002685  0.00923233  0.01007459  0.01014747  0.01062058\n",
        "  0.01007932  0.00996202  0.00947653  0.00974806  0.00981516  0.01045475\n",
        "  0.01041981  0.01013013  0.01048044  0.01065647  0.0097403   0.01047412\n",
        "  0.01006991  0.01072132  0.01056995  0.00978949]\n",
        "run 2 of 10"
       ]
      },
      {
       "output_type": "stream",
       "stream": "stdout",
       "text": [
        "\n",
        "train precision: 0.994685419798"
       ]
      },
      {
       "output_type": "stream",
       "stream": "stdout",
       "text": [
        "\n",
        "train recall:    0.989955655287\n",
        "test precision: 0.579457934035\n",
        "test recall:    0.522504373642\n",
        "  feature importances: [ 0.00986483  0.00992015  0.00985703  0.0109423   0.01064506  0.00983307\n",
        "  0.00908121  0.01015726  0.00962497  0.01002988  0.00985841  0.00978995\n",
        "  0.00966415  0.00913517  0.00975431  0.01065057  0.01068431  0.00978562\n",
        "  0.00940857  0.00974305  0.01068877  0.01007158  0.00969568  0.00990423\n",
        "  0.01065644  0.01028935  0.01019069  0.01034002  0.00979803  0.00976438\n",
        "  0.01001213  0.01059634  0.00953081  0.00969981  0.00973427  0.00983786\n",
        "  0.01009416  0.00937902  0.00994146  0.00946705  0.0103096   0.00948897\n",
        "  0.00957461  0.0097454   0.01036057  0.00945745  0.00967476  0.00953982\n",
        "  0.0096965   0.00989403  0.01012136  0.00933627  0.01004103  0.01031661\n",
        "  0.0097547   0.00975903  0.01001415  0.01007302  0.00998393  0.00982493\n",
        "  0.00998333  0.00980232  0.01010872  0.01011441  0.0096222   0.00971283\n",
        "  0.01012712  0.01021268  0.00907132  0.01034626  0.00973328  0.01024089\n",
        "  0.00987487  0.01014852  0.01070225  0.01017103  0.01020618  0.01009353\n",
        "  0.00996128  0.01080136  0.01043571  0.01006504  0.01028036  0.00969144\n",
        "  0.01009884  0.00985509  0.01048234  0.01075954  0.00999356  0.01063794\n",
        "  0.01020063  0.00949363  0.01013192  0.01008763  0.01039853  0.01072815\n",
        "  0.01012865  0.00980413  0.01017678  0.01042701]\n",
        "run 3 of 10"
       ]
      },
      {
       "output_type": "stream",
       "stream": "stdout",
       "text": [
        "\n",
        "train precision: 0.993870262779"
       ]
      },
      {
       "output_type": "stream",
       "stream": "stdout",
       "text": [
        "\n",
        "train recall:    0.990965136054\n",
        "test precision: 0.57297516355\n",
        "test recall:    0.527446173524\n",
        "  feature importances: [ 0.00941354  0.01021327  0.00951711  0.01010818  0.01077155  0.00942248\n",
        "  0.00856373  0.01027467  0.0096407   0.00928403  0.00998701  0.01017175\n",
        "  0.00970083  0.00984149  0.01044031  0.01009708  0.01108194  0.00962253\n",
        "  0.00962873  0.0094274   0.00965327  0.00965446  0.00979083  0.01035937\n",
        "  0.01053885  0.01046427  0.00966308  0.01007953  0.00933076  0.01008485\n",
        "  0.00999587  0.01020208  0.01011085  0.01021138  0.00929993  0.01010048\n",
        "  0.01013129  0.00998809  0.00936659  0.00973153  0.00941069  0.01001568\n",
        "  0.00983716  0.01024895  0.00968334  0.00990609  0.01010033  0.01017202\n",
        "  0.01081987  0.00986482  0.01017634  0.0097103   0.010239    0.01085753\n",
        "  0.0104471   0.01069511  0.01033785  0.00993174  0.00972453  0.01012919\n",
        "  0.01026186  0.01004688  0.00977593  0.01036775  0.00962474  0.00984375\n",
        "  0.00948796  0.00961864  0.01012608  0.00918406  0.01079111  0.01002011\n",
        "  0.01015436  0.01021764  0.01025929  0.00977836  0.00980386  0.01037243\n",
        "  0.0101786   0.01009919  0.01075593  0.0100431   0.01048166  0.00993642\n",
        "  0.00951171  0.00986612  0.00993009  0.01011674  0.01024357  0.01072104\n",
        "  0.00975206  0.01004734  0.00985747  0.01032998  0.00990448  0.01019528\n",
        "  0.00994595  0.01014871  0.01014855  0.00977782]\n",
        "run 4 of 10"
       ]
      },
      {
       "output_type": "stream",
       "stream": "stdout",
       "text": [
        "\n",
        "train precision: 0.995049238551"
       ]
      },
      {
       "output_type": "stream",
       "stream": "stdout",
       "text": [
        "\n",
        "train recall:    0.988876410503\n",
        "test precision: 0.575058823529\n",
        "test recall:    0.517769185954\n",
        "  feature importances: [ 0.00851736  0.00980756  0.00931858  0.01180596  0.01042052  0.00993158\n",
        "  0.00903674  0.01064501  0.00950883  0.00954715  0.0098416   0.00950944\n",
        "  0.00998666  0.01017641  0.01069055  0.01025044  0.01006505  0.00992765\n",
        "  0.00990967  0.00987517  0.01028126  0.00958467  0.01001867  0.00963169\n",
        "  0.01091805  0.00999487  0.01021687  0.01017943  0.00992884  0.01009811\n",
        "  0.00970091  0.00960506  0.01011364  0.01014185  0.0095993   0.01055659\n",
        "  0.00969881  0.00982537  0.00951916  0.00988568  0.0099754   0.01002989\n",
        "  0.01001977  0.00919042  0.00950121  0.0101345   0.00997634  0.01041128\n",
        "  0.01005735  0.0102634   0.00993294  0.01032669  0.00975059  0.01021425\n",
        "  0.0097963   0.00924946  0.01003893  0.01005058  0.00959283  0.00950933\n",
        "  0.00992135  0.00991703  0.01000978  0.00947323  0.01014775  0.01060983\n",
        "  0.00993842  0.01019041  0.01056375  0.01023655  0.0093911   0.01011935\n",
        "  0.01031105  0.00974588  0.01034132  0.01027617  0.00999723  0.00935825\n",
        "  0.01000309  0.01014323  0.00988841  0.01074778  0.00995769  0.01050859\n",
        "  0.00980279  0.01036674  0.01032452  0.00966267  0.01005356  0.01058255\n",
        "  0.00976513  0.00954102  0.01006442  0.01044917  0.01045623  0.01002013\n",
        "  0.01035912  0.01001851  0.01052146  0.0099225 ]\n",
        "run 5 of 10"
       ]
      },
      {
       "output_type": "stream",
       "stream": "stdout",
       "text": [
        "\n",
        "train precision: 0.993706666667"
       ]
      },
      {
       "output_type": "stream",
       "stream": "stdout",
       "text": [
        "\n",
        "train recall:    0.991063829787\n",
        "test precision: 0.573020361991\n",
        "test recall:    0.53945686901\n",
        "  feature importances: [ 0.0097015   0.0102403   0.01046873  0.01039901  0.01076254  0.00967526\n",
        "  0.00930768  0.01024466  0.00979326  0.0097204   0.00970576  0.01021612\n",
        "  0.00902012  0.00919352  0.00963653  0.0109909   0.01080353  0.01011895\n",
        "  0.0099421   0.00996714  0.01030887  0.01011653  0.00964536  0.0104732\n",
        "  0.01040424  0.01006532  0.01015829  0.01005323  0.01035087  0.00955887\n",
        "  0.009263    0.00982726  0.00993835  0.01004506  0.0096485   0.00999289\n",
        "  0.00967024  0.00995982  0.00980323  0.00925093  0.00978588  0.00946076\n",
        "  0.01007282  0.0098879   0.01039918  0.00924108  0.010039    0.01010249\n",
        "  0.01018009  0.0098923   0.01067605  0.01048588  0.01005606  0.01062725\n",
        "  0.0100823   0.00946345  0.00985718  0.00905481  0.01000021  0.00973537\n",
        "  0.00971366  0.00986666  0.0096211   0.00990741  0.00977602  0.00955728\n",
        "  0.0104778   0.01042638  0.01018517  0.00962383  0.01026798  0.0096388\n",
        "  0.01062039  0.00972023  0.00992519  0.01005592  0.0106208   0.0098822\n",
        "  0.01039933  0.01052409  0.00975282  0.00958017  0.01041883  0.01089818\n",
        "  0.00991368  0.01021431  0.01005117  0.01031047  0.01001503  0.01067896\n",
        "  0.00959295  0.00956836  0.00972459  0.01031456  0.01075409  0.01056456\n",
        "  0.00981849  0.00970499  0.01027697  0.00949442]\n",
        "run 6 of 10"
       ]
      },
      {
       "output_type": "stream",
       "stream": "stdout",
       "text": [
        "\n",
        "train precision: 0.996614541351"
       ]
      },
      {
       "output_type": "stream",
       "stream": "stdout",
       "text": [
        "\n",
        "train recall:    0.988645450184\n",
        "test precision: 0.574970760234\n",
        "test recall:    0.522395196855\n",
        "  feature importances: [ 0.00883543  0.01015578  0.0092012   0.01023175  0.01110916  0.0095733\n",
        "  0.00906803  0.01032936  0.00998619  0.00998748  0.00983176  0.00975636\n",
        "  0.00975425  0.00963008  0.0101067   0.01076611  0.01081788  0.00983844\n",
        "  0.00957502  0.01012209  0.01077019  0.00988153  0.00941461  0.01005278\n",
        "  0.01013428  0.01081658  0.00992913  0.00960001  0.00975545  0.0099194\n",
        "  0.00945685  0.0092055   0.01010677  0.01006886  0.01009408  0.00935874\n",
        "  0.00984028  0.00997992  0.01000891  0.00979885  0.01060264  0.00895244\n",
        "  0.00965079  0.00941793  0.00997582  0.00929587  0.01004139  0.00938066\n",
        "  0.00953625  0.00995927  0.00987279  0.01054772  0.01084258  0.00995815\n",
        "  0.00999586  0.00933226  0.00958877  0.01132073  0.0105564   0.00983298\n",
        "  0.00945309  0.0105227   0.00962303  0.00991006  0.01008559  0.01048176\n",
        "  0.00959084  0.00954347  0.00978063  0.01010987  0.00987728  0.0099183\n",
        "  0.01019474  0.00987489  0.0103151   0.00978836  0.01011244  0.00981198\n",
        "  0.0101843   0.0100515   0.01000932  0.01039146  0.0102421   0.00982315\n",
        "  0.00994186  0.01032233  0.01046996  0.0100299   0.01048443  0.01014258\n",
        "  0.0103191   0.01032922  0.01075375  0.01063698  0.01015516  0.01013392\n",
        "  0.01098203  0.00990786  0.01026742  0.00989716]\n",
        "run 7 of 10"
       ]
      },
      {
       "output_type": "stream",
       "stream": "stdout",
       "text": [
        "\n",
        "train precision: 0.993840715548"
       ]
      },
      {
       "output_type": "stream",
       "stream": "stdout",
       "text": [
        "\n",
        "train recall:    0.990710090763\n",
        "test precision: 0.5782839963\n",
        "test recall:    0.530610079576\n",
        "  feature importances: [ 0.00903655  0.01013022  0.00983237  0.01084771  0.01065669  0.00944332\n",
        "  0.00917092  0.00986972  0.01048653  0.00958541  0.01013108  0.01042063\n",
        "  0.00997705  0.0094681   0.01081439  0.01037281  0.01147629  0.01019072\n",
        "  0.00911632  0.00990269  0.01064718  0.00971049  0.01083735  0.00968251\n",
        "  0.01100513  0.01011775  0.00972738  0.01051716  0.0089181   0.0097644\n",
        "  0.01012169  0.00977671  0.00983027  0.00990921  0.01023318  0.00945909\n",
        "  0.0097422   0.00939307  0.01009365  0.00932408  0.010254    0.01028629\n",
        "  0.00961792  0.01063197  0.01002293  0.01001294  0.00962181  0.00975429\n",
        "  0.00958085  0.0095858   0.00988051  0.01058567  0.01018674  0.0098901\n",
        "  0.00883311  0.00967179  0.01020102  0.009578    0.0095452   0.00978728\n",
        "  0.01007013  0.00950776  0.01026437  0.00944342  0.0099017   0.01000928\n",
        "  0.01017242  0.00975944  0.00980622  0.0095545   0.01086226  0.00972334\n",
        "  0.01059412  0.00981282  0.00992772  0.01013505  0.00969952  0.01023794\n",
        "  0.00920727  0.01040554  0.01047258  0.00995761  0.01040231  0.00980602\n",
        "  0.00997354  0.01012977  0.01015392  0.01035453  0.0101018   0.0098658\n",
        "  0.01030262  0.00981241  0.01084922  0.00971182  0.01103327  0.01003367\n",
        "  0.00979451  0.01045142  0.01015494  0.0102751 ]\n",
        "run 8 of 10"
       ]
      },
      {
       "output_type": "stream",
       "stream": "stdout",
       "text": [
        "\n",
        "train precision: 0.995073891626"
       ]
      },
      {
       "output_type": "stream",
       "stream": "stdout",
       "text": [
        "\n",
        "train recall:    0.989616060493\n",
        "test precision: 0.573887758069\n",
        "test recall:    0.524865698633\n",
        "  feature importances: [ 0.0084972   0.00951683  0.00965605  0.0103113   0.01075245  0.00966202\n",
        "  0.00933814  0.00970959  0.01022517  0.00904928  0.00973355  0.0099074\n",
        "  0.00927867  0.00961579  0.01060813  0.01061714  0.01096884  0.01054606\n",
        "  0.00944573  0.01026605  0.01069709  0.00978342  0.01015394  0.01003744\n",
        "  0.01071386  0.01053363  0.00987633  0.01013628  0.01034673  0.01042505\n",
        "  0.00960174  0.00968101  0.00961202  0.00953153  0.00978462  0.00924437\n",
        "  0.0098342   0.01063799  0.00944648  0.00967749  0.00947862  0.0096706\n",
        "  0.01001535  0.01000215  0.00985556  0.0093614   0.00991531  0.01024457\n",
        "  0.01012677  0.0102702   0.01012036  0.0096532   0.0101034   0.00985619\n",
        "  0.00984535  0.01029154  0.00915531  0.01012289  0.01041196  0.01036966\n",
        "  0.00937344  0.00979487  0.01029922  0.01047883  0.01035161  0.01022972\n",
        "  0.01029658  0.0094831   0.01033498  0.009816    0.01009208  0.01002914\n",
        "  0.01027809  0.01025713  0.00973767  0.00973779  0.00950675  0.01009557\n",
        "  0.01022368  0.00987362  0.00994684  0.01039722  0.01027487  0.00945748\n",
        "  0.01024824  0.00948274  0.0107713   0.00968592  0.00978253  0.01100127\n",
        "  0.01060421  0.01087075  0.01065876  0.01022193  0.0101338   0.00963053\n",
        "  0.01005502  0.01001276  0.01048152  0.00966145]\n",
        "run 9 of 10"
       ]
      },
      {
       "output_type": "stream",
       "stream": "stdout",
       "text": [
        "\n",
        "train precision: 0.994864937149"
       ]
      },
      {
       "output_type": "stream",
       "stream": "stdout",
       "text": [
        "\n",
        "train recall:    0.990784146601\n",
        "test precision: 0.571034641236\n",
        "test recall:    0.528498511272\n",
        "  feature importances: [ 0.00947954  0.00965281  0.00956424  0.0108265   0.01107383  0.00940441\n",
        "  0.00904765  0.01040971  0.01017045  0.0098255   0.01007655  0.00965891\n",
        "  0.00979336  0.0094347   0.01034153  0.00999814  0.01023861  0.01056277\n",
        "  0.01000712  0.01016061  0.01031631  0.01027598  0.0100418   0.00973056\n",
        "  0.01076696  0.01064296  0.00910166  0.01037464  0.00981463  0.00976045\n",
        "  0.01014825  0.00994122  0.00999198  0.01019224  0.00941872  0.00998337\n",
        "  0.00963773  0.00984963  0.00989275  0.00933808  0.00979069  0.00933388\n",
        "  0.00980075  0.00980878  0.00963804  0.00921749  0.00958909  0.00983561\n",
        "  0.01013328  0.00987606  0.01009918  0.00968137  0.00948908  0.00976376\n",
        "  0.0092164   0.01002459  0.00980673  0.0098695   0.01018047  0.00973914\n",
        "  0.00963615  0.01012818  0.01027079  0.01027734  0.00932255  0.00999257\n",
        "  0.01016557  0.00981326  0.0098274   0.01026786  0.0100122   0.00990099\n",
        "  0.01000945  0.00964064  0.01055532  0.01023941  0.00940227  0.01016434\n",
        "  0.01004934  0.0094117   0.0099267   0.00980069  0.01016585  0.01109657\n",
        "  0.01037148  0.01023579  0.01011802  0.01022744  0.01048678  0.01056537\n",
        "  0.01066004  0.01009986  0.01078864  0.00994552  0.01068814  0.01080783\n",
        "  0.01055229  0.01053144  0.00986361  0.01013984]\n",
        "run 10 of 10"
       ]
      },
      {
       "output_type": "stream",
       "stream": "stdout",
       "text": [
        "\n",
        "train precision: 0.997746055597"
       ]
      },
      {
       "output_type": "stream",
       "stream": "stdout",
       "text": [
        "\n",
        "train recall:    0.987937722514\n",
        "test precision: 0.575386193924\n",
        "test recall:    0.538031021801\n",
        "  feature importances: [ 0.0087825   0.01025657  0.00971937  0.01041577  0.0105368   0.01007662\n",
        "  0.00929819  0.00984467  0.00957693  0.00967988  0.01085625  0.01031172\n",
        "  0.01012699  0.00997614  0.01038802  0.01023206  0.01084079  0.00975588\n",
        "  0.00990534  0.0096649   0.01080656  0.01039072  0.00992633  0.00995273\n",
        "  0.01062246  0.00978958  0.0093248   0.00973838  0.01017905  0.00999628\n",
        "  0.00959786  0.00996099  0.0098002   0.01025197  0.0094423   0.00986781\n",
        "  0.00975385  0.00979128  0.01040489  0.00975743  0.00951079  0.0095153\n",
        "  0.0100696   0.00899073  0.00993148  0.00967504  0.00993716  0.01034224\n",
        "  0.00952383  0.00950536  0.00950079  0.01016605  0.00978567  0.01015348\n",
        "  0.01007056  0.01008767  0.00956441  0.01001914  0.00963531  0.01015357\n",
        "  0.01015431  0.00967485  0.00977108  0.01007886  0.01016322  0.00998321\n",
        "  0.00991317  0.00964882  0.0101361   0.01058601  0.01023221  0.01027652\n",
        "  0.00983563  0.00992971  0.01023344  0.01007484  0.00971178  0.01062403\n",
        "  0.00992797  0.01017183  0.01041053  0.01066893  0.00968053  0.00979589\n",
        "  0.0103844   0.00991291  0.01070437  0.00951209  0.01045224  0.01061184\n",
        "  0.01050734  0.00946164  0.00952221  0.01053831  0.00991832  0.01007453\n",
        "  0.00976685  0.01047751  0.01027863  0.01045428]\n",
        "precision: 0.574961503282"
       ]
      },
      {
       "output_type": "stream",
       "stream": "stdout",
       "text": [
        "\n",
        "recall:    0.527834613238\n"
       ]
      },
      {
       "html": [
        "<div style=\"max-height:1000px;max-width:1500px;overflow:auto;\">\n",
        "<table border=\"1\" class=\"dataframe\">\n",
        "  <thead>\n",
        "    <tr style=\"text-align: right;\">\n",
        "      <th></th>\n",
        "      <th>predicted negative</th>\n",
        "      <th>predicted positive</th>\n",
        "    </tr>\n",
        "  </thead>\n",
        "  <tbody>\n",
        "    <tr>\n",
        "      <th>negative</th>\n",
        "      <td> 79983</td>\n",
        "      <td> 73422</td>\n",
        "    </tr>\n",
        "    <tr>\n",
        "      <th>positive</th>\n",
        "      <td> 88845</td>\n",
        "      <td> 99320</td>\n",
        "    </tr>\n",
        "  </tbody>\n",
        "</table>\n",
        "</div>"
       ],
       "metadata": {},
       "output_type": "pyout",
       "prompt_number": 42,
       "text": [
        "          predicted negative  predicted positive\n",
        "negative               79983               73422\n",
        "positive               88845               99320"
       ]
      },
      {
       "metadata": {},
       "output_type": "display_data",
       "png": "[encoded data removed]",
       "text": [
        "<matplotlib.figure.Figure at 0x162eaeb90>"
       ]
      }
     ],
     "prompt_number": 42
    },
    {
     "cell_type": "code",
     "collapsed": false,
     "input": [
      "facebook_likes.train_test_pca_extratrees(X, y, n_components=100, n_estimators=10, verbose=True)"
     ],
     "language": "python",
     "metadata": {},
     "outputs": [
      {
       "output_type": "stream",
       "stream": "stdout",
       "text": [
        "[ 0.07089662  0.02108294  0.01386088  0.01295184  0.00972256  0.00853797\n",
        "  0.00777586  0.00667884  0.00579099  0.00558537  0.00526674  0.00473937\n",
        "  0.00468848  0.00413013  0.00379296  0.00363799  0.00343872  0.00330742\n",
        "  0.00325977  0.00312904  0.00300429  0.00288525  0.00281899  0.00279003\n",
        "  0.00261724  0.0025934   0.00238704  0.00237508  0.00233071  0.00229539\n",
        "  0.00221203  0.00219667  0.00214951  0.00213281  0.00206587  0.00204686\n",
        "  0.00200147  0.00198693  0.00195064  0.00187382  0.00181938  0.00179421\n",
        "  0.00178949  0.00175514  0.00173577  0.00171707  0.00170283  0.00167775\n",
        "  0.00166778  0.00164035  0.00162103  0.00159949  0.00159062  0.00155705\n",
        "  0.00155499  0.00153026  0.00151395  0.00151025  0.00150078  0.00149598\n",
        "  0.00148891  0.00148476  0.00146321  0.00145808  0.00144656  0.001436\n",
        "  0.00141642  0.00140447  0.00139779  0.00138709  0.00137749  0.00136458\n",
        "  0.00135525  0.00135265  0.00134556  0.00133593  0.00132301  0.0013176\n",
        "  0.00131103  0.00129513  0.00128773  0.00128137  0.00126645  0.00126116\n",
        "  0.00125069  0.00124194  0.00123224  0.00122345  0.0012208   0.00121089\n",
        "  0.00120271  0.00119512  0.00119251  0.00118196  0.00116006  0.00115483\n",
        "  0.00115389  0.0011427   0.00113612  0.00112905]\n",
        "Axes(0.125,0.125;0.775x0.775)"
       ]
      },
      {
       "output_type": "stream",
       "stream": "stdout",
       "text": [
        "\n",
        "run 1 of 10"
       ]
      },
      {
       "output_type": "stream",
       "stream": "stdout",
       "text": [
        "\n",
        "train precision: 0.994644960908"
       ]
      },
      {
       "output_type": "stream",
       "stream": "stdout",
       "text": [
        "\n",
        "train recall:    0.990507679181\n",
        "test precision: 0.584730957372\n",
        "test recall:    0.533301465902\n",
        "  feature importances: [ 0.00938797  0.01058386  0.0098389   0.01141414  0.00984785  0.00987824\n",
        "  0.0094855   0.00950609  0.00974457  0.00923712  0.01035078  0.01015833\n",
        "  0.00999265  0.00948971  0.01032372  0.01155402  0.00941147  0.0097863\n",
        "  0.01042999  0.00901666  0.00968523  0.00926197  0.00988418  0.00949671\n",
        "  0.01026882  0.00985547  0.009286    0.01006755  0.01006601  0.01000571\n",
        "  0.00999658  0.00964517  0.01059429  0.00964815  0.01087549  0.00987684\n",
        "  0.00933269  0.00961715  0.00942299  0.01007384  0.01012122  0.00982837\n",
        "  0.00917858  0.01001784  0.01040534  0.01029372  0.01028627  0.01065522\n",
        "  0.01009434  0.01034001  0.00998945  0.00968898  0.01055097  0.01027734\n",
        "  0.00975585  0.00978145  0.01047526  0.00945971  0.01016041  0.01013812\n",
        "  0.01039636  0.00997378  0.01038776  0.01008034  0.01006348  0.01001896\n",
        "  0.01013515  0.01001184  0.00954168  0.00942641  0.00936246  0.01066889\n",
        "  0.01018534  0.01048606  0.01001083  0.01011384  0.01009256  0.01011207\n",
        "  0.01003918  0.00990351  0.01044132  0.00994608  0.00998778  0.01011737\n",
        "  0.0105702   0.0099439   0.01002313  0.01056874  0.00960645  0.01014489\n",
        "  0.00987612  0.0096345   0.01002744  0.01008106  0.00986583  0.01074778\n",
        "  0.00985452  0.01000217  0.0100207   0.00963235]\n",
        "run 2 of 10"
       ]
      },
      {
       "output_type": "stream",
       "stream": "stdout",
       "text": [
        "\n",
        "train precision: 0.994662111669"
       ]
      },
      {
       "output_type": "stream",
       "stream": "stdout",
       "text": [
        "\n",
        "train recall:    0.99122293739\n",
        "test precision: 0.575351213282\n",
        "test recall:    0.527714179224\n",
        "  feature importances: [ 0.00979479  0.01053289  0.00944077  0.01058672  0.01053472  0.00944213\n",
        "  0.00978694  0.0101348   0.00982225  0.00934666  0.00939683  0.01016688\n",
        "  0.00975242  0.00966097  0.01049363  0.01097993  0.0090971   0.00980583\n",
        "  0.00963495  0.00979946  0.00986853  0.010217    0.0105099   0.01034963\n",
        "  0.00995599  0.01025094  0.00965174  0.00972775  0.01066506  0.00991752\n",
        "  0.01071505  0.00988122  0.00905787  0.01022967  0.01005953  0.00912621\n",
        "  0.00989471  0.00983372  0.00970331  0.00973173  0.01046518  0.00980605\n",
        "  0.01011156  0.00913252  0.01023479  0.00996644  0.00974359  0.01039707\n",
        "  0.00984095  0.0104125   0.01045152  0.0101876   0.0098056   0.01024155\n",
        "  0.00956634  0.01004525  0.00981871  0.01036817  0.01019376  0.00988757\n",
        "  0.01000942  0.00978794  0.00964662  0.00962895  0.00990577  0.00968022\n",
        "  0.01017693  0.00985473  0.01000659  0.00944681  0.0103072   0.01041048\n",
        "  0.00927428  0.01022502  0.00956747  0.01036384  0.00979742  0.00962449\n",
        "  0.01057534  0.0104522   0.010413    0.00952978  0.01131445  0.00997469\n",
        "  0.00989443  0.01009483  0.01071409  0.01004887  0.00996608  0.00990275\n",
        "  0.01007818  0.00998526  0.01036753  0.01008374  0.00976513  0.01017967\n",
        "  0.0099225   0.01025971  0.01074182  0.00978733]\n",
        "run 3 of 10"
       ]
      },
      {
       "output_type": "stream",
       "stream": "stdout",
       "text": [
        "\n",
        "train precision: 0.995105601958"
       ]
      },
      {
       "output_type": "stream",
       "stream": "stdout",
       "text": [
        "\n",
        "train recall:    0.990363742257\n",
        "test precision: 0.572299551363\n",
        "test recall:    0.532284812497\n",
        "  feature importances: [ 0.00931231  0.00981536  0.0096155   0.01053681  0.00975514  0.00922013\n",
        "  0.00910476  0.01049343  0.01027397  0.00974732  0.00930862  0.00987195\n",
        "  0.01001216  0.01023945  0.01002509  0.0110785   0.010194    0.00943499\n",
        "  0.00993444  0.0094007   0.00993993  0.0096831   0.01045947  0.01029656\n",
        "  0.00986372  0.01036137  0.00953955  0.00979221  0.01054083  0.00941831\n",
        "  0.00970454  0.00972907  0.00994507  0.00888251  0.01003001  0.00919084\n",
        "  0.00955203  0.01004174  0.00915335  0.00983507  0.00982579  0.00999895\n",
        "  0.01018094  0.00977288  0.0102024   0.00926255  0.00983091  0.01021455\n",
        "  0.0103142   0.00996505  0.00964211  0.00992827  0.01048586  0.00999134\n",
        "  0.00947297  0.01001376  0.01086918  0.01017479  0.01123917  0.00907806\n",
        "  0.01010409  0.00955499  0.00999978  0.01027     0.01013852  0.01022248\n",
        "  0.01057779  0.01030434  0.00972378  0.01053858  0.01006959  0.01099205\n",
        "  0.00977808  0.01005979  0.00965946  0.01067915  0.00956209  0.00991301\n",
        "  0.00983334  0.0104408   0.01050587  0.01059477  0.01072243  0.00984524\n",
        "  0.01014603  0.0100658   0.00982465  0.01008518  0.00972015  0.01049149\n",
        "  0.01023633  0.01042288  0.00978948  0.01102676  0.01059001  0.01047443\n",
        "  0.00979055  0.00968506  0.00980318  0.00996036]\n",
        "run 4 of 10"
       ]
      },
      {
       "output_type": "stream",
       "stream": "stdout",
       "text": [
        "\n",
        "train precision: 0.996554508748"
       ]
      },
      {
       "output_type": "stream",
       "stream": "stdout",
       "text": [
        "\n",
        "train recall:    0.987305989653\n",
        "test precision: 0.584178617232\n",
        "test recall:    0.532154426212\n",
        "  feature importances: [ 0.00881526  0.00970099  0.00980296  0.01107292  0.00980558  0.009947\n",
        "  0.00994543  0.01058519  0.0104538   0.00963314  0.009489    0.01022042\n",
        "  0.01053723  0.01018002  0.01002599  0.0107518   0.00933776  0.00943457\n",
        "  0.009381    0.01037993  0.00964286  0.00930941  0.01009952  0.0095581\n",
        "  0.01036499  0.01063502  0.00944201  0.01038042  0.0107789   0.00950097\n",
        "  0.00967511  0.00984662  0.00940165  0.01064753  0.00945467  0.00943201\n",
        "  0.01007589  0.01053992  0.01007213  0.00955859  0.01044108  0.00945524\n",
        "  0.0091253   0.01035574  0.00944905  0.00994938  0.00993498  0.01017605\n",
        "  0.0098545   0.01106479  0.00996655  0.01013565  0.00989821  0.0096258\n",
        "  0.00985428  0.01004603  0.01033388  0.01022034  0.01015052  0.00980765\n",
        "  0.01001498  0.01031814  0.00994282  0.00945468  0.01012565  0.01001412\n",
        "  0.00956793  0.01059687  0.01002298  0.00963943  0.00966489  0.01082135\n",
        "  0.00947984  0.01033793  0.01004932  0.01070232  0.01000445  0.01004708\n",
        "  0.01041746  0.00993277  0.01021086  0.00954325  0.01090048  0.01003861\n",
        "  0.01008126  0.00961727  0.00946554  0.00967196  0.01000002  0.01051928\n",
        "  0.00967888  0.00987188  0.0101444   0.01022386  0.01000693  0.01013494\n",
        "  0.01011715  0.01001925  0.01040266  0.01043512]\n",
        "run 5 of 10"
       ]
      },
      {
       "output_type": "stream",
       "stream": "stdout",
       "text": [
        "\n",
        "train precision: 0.994225525317"
       ]
      },
      {
       "output_type": "stream",
       "stream": "stdout",
       "text": [
        "\n",
        "train recall:    0.990940580869\n",
        "test precision: 0.57853891936\n",
        "test recall:    0.526973159713\n",
        "  feature importances: [ 0.00873871  0.00999767  0.00910947  0.00982218  0.0101641   0.0097558\n",
        "  0.00960791  0.0094741   0.01027841  0.00957271  0.00999324  0.01053649\n",
        "  0.00993485  0.00997901  0.00946499  0.01198797  0.0096718   0.00961054\n",
        "  0.00965639  0.0098867   0.00950423  0.00951762  0.00927787  0.00957667\n",
        "  0.01009033  0.01025586  0.00993046  0.01014499  0.01047382  0.00915851\n",
        "  0.01009699  0.01026728  0.00979682  0.01044174  0.01017986  0.01022095\n",
        "  0.00990189  0.00936603  0.00961752  0.00991932  0.00997125  0.0098807\n",
        "  0.01010058  0.0094527   0.00986444  0.01029963  0.01031341  0.01019526\n",
        "  0.00970642  0.01130451  0.00998274  0.01087341  0.01058358  0.00981216\n",
        "  0.00970443  0.01015807  0.01039491  0.00985287  0.01051998  0.01007186\n",
        "  0.01052727  0.00986274  0.00985353  0.01002124  0.00995619  0.01018819\n",
        "  0.010181    0.01033204  0.01011686  0.00998997  0.00957934  0.01007869\n",
        "  0.00963675  0.01021081  0.01016882  0.01032536  0.01020406  0.00997299\n",
        "  0.01029497  0.00968923  0.01049499  0.00979521  0.0106903   0.01043527\n",
        "  0.00964287  0.0099888   0.00934711  0.01046786  0.00969482  0.01001\n",
        "  0.01033226  0.01045964  0.01009947  0.00996377  0.00926476  0.01003733\n",
        "  0.00956605  0.01047771  0.01015933  0.00985767]\n",
        "run 6 of 10"
       ]
      },
      {
       "output_type": "stream",
       "stream": "stdout",
       "text": [
        "\n",
        "train precision: 0.99725378278"
       ]
      },
      {
       "output_type": "stream",
       "stream": "stdout",
       "text": [
        "\n",
        "train recall:    0.98815494611\n",
        "test precision: 0.579346420595\n",
        "test recall:    0.523250875889\n",
        "  feature importances: [ 0.00897252  0.00960894  0.00971109  0.00997282  0.01001071  0.00913246\n",
        "  0.0086482   0.00957376  0.00997374  0.01007169  0.01016219  0.01000671\n",
        "  0.01003649  0.0096299   0.00972696  0.01084878  0.01037775  0.00956569\n",
        "  0.00936314  0.00951695  0.00925346  0.01040956  0.01002546  0.01005439\n",
        "  0.00961515  0.01062691  0.00999876  0.00958104  0.01055102  0.00984297\n",
        "  0.01014546  0.01004291  0.01039866  0.00950949  0.01031573  0.00997661\n",
        "  0.00938621  0.00956925  0.00926822  0.01035176  0.01082493  0.01025729\n",
        "  0.0096255   0.00925227  0.0098244   0.00978172  0.01036221  0.00948907\n",
        "  0.0098927   0.01107375  0.00999986  0.01057471  0.01007879  0.00967864\n",
        "  0.00944706  0.00970898  0.00959142  0.00966648  0.0106643   0.0099997\n",
        "  0.0112738   0.00994704  0.01031604  0.01081619  0.01016399  0.00961832\n",
        "  0.0103811   0.00955864  0.01066715  0.01011243  0.00966536  0.01060103\n",
        "  0.01023985  0.01040905  0.0105619   0.01053944  0.00960193  0.01022424\n",
        "  0.00992019  0.0102084   0.01018036  0.01029286  0.01042049  0.01001712\n",
        "  0.0097427   0.00966894  0.00992223  0.01036388  0.01011473  0.00948216\n",
        "  0.01048638  0.00959637  0.00977162  0.01007402  0.01030473  0.01075981\n",
        "  0.00964302  0.01004998  0.00988549  0.01076969]\n",
        "run 7 of 10"
       ]
      },
      {
       "output_type": "stream",
       "stream": "stdout",
       "text": [
        "\n",
        "train precision: 0.995348837209"
       ]
      },
      {
       "output_type": "stream",
       "stream": "stdout",
       "text": [
        "\n",
        "train recall:    0.990161144498\n",
        "test precision: 0.578398423919\n",
        "test recall:    0.531607818075\n",
        "  feature importances: [ 0.00955875  0.00987364  0.00953734  0.01162084  0.01009431  0.00923932\n",
        "  0.00960359  0.0110105   0.0099899   0.00898316  0.01027252  0.00990144\n",
        "  0.00983416  0.00941525  0.01072584  0.01087103  0.0095869   0.01000208\n",
        "  0.00948654  0.00949808  0.00995976  0.00973898  0.0097565   0.0100322\n",
        "  0.00980975  0.01096573  0.01019745  0.00958567  0.01040626  0.01013244\n",
        "  0.01051363  0.01004078  0.0100645   0.00965212  0.01004717  0.00983913\n",
        "  0.00993417  0.00994826  0.0101412   0.00986377  0.01032251  0.00990375\n",
        "  0.00966486  0.00991367  0.01007601  0.01016265  0.00943721  0.01023838\n",
        "  0.00946757  0.01066409  0.00993893  0.01041123  0.00974444  0.00956787\n",
        "  0.00966887  0.0106654   0.010146    0.0099806   0.0103718   0.01019375\n",
        "  0.01044028  0.00956623  0.00930785  0.01001943  0.01023574  0.01027819\n",
        "  0.0102501   0.00925304  0.00990887  0.00992143  0.01015775  0.01003453\n",
        "  0.01014894  0.01017057  0.00947494  0.01008709  0.01044277  0.01022186\n",
        "  0.01003097  0.01066803  0.01036629  0.00954387  0.01033761  0.00911176\n",
        "  0.01019985  0.00927514  0.01011423  0.00969402  0.01063032  0.01016086\n",
        "  0.00980887  0.00989879  0.01046171  0.01010715  0.01016658  0.01045857\n",
        "  0.00956977  0.0096055   0.00948578  0.01011048]\n",
        "run 8 of 10"
       ]
      },
      {
       "output_type": "stream",
       "stream": "stdout",
       "text": [
        "\n",
        "train precision: 0.996994740796"
       ]
      },
      {
       "output_type": "stream",
       "stream": "stdout",
       "text": [
        "\n",
        "train recall:    0.988401787614\n",
        "test precision: 0.574708624709\n",
        "test recall:    0.525021294719\n",
        "  feature importances: [ 0.00893995  0.01049731  0.00920784  0.01138218  0.00972943  0.00882012\n",
        "  0.00890499  0.01029168  0.00989708  0.009417    0.01013328  0.0103501\n",
        "  0.01042829  0.00994155  0.00994465  0.01163515  0.00928145  0.00994514\n",
        "  0.00976917  0.00936023  0.00973955  0.01034686  0.01034891  0.0098182\n",
        "  0.00939045  0.01019058  0.00939176  0.01019449  0.01078     0.0097889\n",
        "  0.00996658  0.01021615  0.00936232  0.00969059  0.01063046  0.0091556\n",
        "  0.00958946  0.00992036  0.01010892  0.00954839  0.01015566  0.00999684\n",
        "  0.00995537  0.01006586  0.00979821  0.01043765  0.01015283  0.01059458\n",
        "  0.00981674  0.01009305  0.01000105  0.01087132  0.01028552  0.00949783\n",
        "  0.00936205  0.01037782  0.01044237  0.01046406  0.01029225  0.00976631\n",
        "  0.00983384  0.00927672  0.00981639  0.01012631  0.00993345  0.00968071\n",
        "  0.0100213   0.01034798  0.01037487  0.01028529  0.01021163  0.01094116\n",
        "  0.0099334   0.01057019  0.00995561  0.01010508  0.00948407  0.00947506\n",
        "  0.01042062  0.0100978   0.01033455  0.01010745  0.01044968  0.01010986\n",
        "  0.01007085  0.01026307  0.01021397  0.00926596  0.00940095  0.00937937\n",
        "  0.00986841  0.01038552  0.01007767  0.00975425  0.01033737  0.01022275\n",
        "  0.00946102  0.01046017  0.00976273  0.01070048]\n",
        "run 9 of 10"
       ]
      },
      {
       "output_type": "stream",
       "stream": "stdout",
       "text": [
        "\n",
        "train precision: 0.998164444205"
       ]
      },
      {
       "output_type": "stream",
       "stream": "stdout",
       "text": [
        "\n",
        "train recall:    0.986711495357\n",
        "test precision: 0.583547407753\n",
        "test recall:    0.53046385734\n",
        "  feature importances: [ 0.00995475  0.01040112  0.00949215  0.01133589  0.01075252  0.00929113\n",
        "  0.00957543  0.00946227  0.01039016  0.00968739  0.00964173  0.00992307\n",
        "  0.00936402  0.00993806  0.010017    0.01137906  0.00936843  0.01016015\n",
        "  0.00919249  0.01019606  0.00928055  0.00982485  0.01032944  0.00962666\n",
        "  0.01004963  0.01025407  0.00977032  0.00995204  0.00996938  0.0098575\n",
        "  0.01013533  0.00999069  0.00951088  0.0104122   0.00992165  0.0094723\n",
        "  0.00999604  0.01001183  0.00980296  0.01017568  0.01007104  0.01014878\n",
        "  0.009307    0.00984645  0.01005487  0.00952934  0.00993638  0.01121162\n",
        "  0.00989064  0.01088501  0.00955222  0.00984287  0.01034838  0.01005051\n",
        "  0.00928722  0.01030763  0.01019278  0.00961773  0.01000109  0.01005039\n",
        "  0.00990248  0.01035697  0.00965814  0.00960755  0.00982873  0.01060741\n",
        "  0.00951643  0.00999054  0.01037478  0.01008002  0.00932451  0.01029854\n",
        "  0.00963302  0.01103137  0.01002374  0.01013369  0.01049334  0.00930026\n",
        "  0.01008078  0.01022573  0.01027272  0.00981179  0.01058055  0.00985893\n",
        "  0.01017256  0.0097997   0.01054037  0.00986664  0.00978942  0.0100851\n",
        "  0.01010478  0.01003363  0.00968763  0.01013684  0.010407    0.00986971\n",
        "  0.00987603  0.01041067  0.01062354  0.00960553]\n",
        "run 10 of 10"
       ]
      },
      {
       "output_type": "stream",
       "stream": "stdout",
       "text": [
        "\n",
        "train precision: 0.9942310774"
       ]
      },
      {
       "output_type": "stream",
       "stream": "stdout",
       "text": [
        "\n",
        "train recall:    0.990580095796\n",
        "test precision: 0.578579676674\n",
        "test recall:    0.533315593401\n",
        "  feature importances: [ 0.00926418  0.01005596  0.00936338  0.01106478  0.00954372  0.00929793\n",
        "  0.00965287  0.00967445  0.01033045  0.00917362  0.00999672  0.0099934\n",
        "  0.01014896  0.00996396  0.01001671  0.01114835  0.00957692  0.00991473\n",
        "  0.00958819  0.00974886  0.00994258  0.00976195  0.00982002  0.00921733\n",
        "  0.01040293  0.01112905  0.00897108  0.01031742  0.00963238  0.00957384\n",
        "  0.01002687  0.00981023  0.01059968  0.00936546  0.00990812  0.00963462\n",
        "  0.00935361  0.00970287  0.0096078   0.01018336  0.01053385  0.00999315\n",
        "  0.00989991  0.01050106  0.01008062  0.0100936   0.01077406  0.01084319\n",
        "  0.01008979  0.01037854  0.0097741   0.01028487  0.01140163  0.00989663\n",
        "  0.00972543  0.01015381  0.00960268  0.00940797  0.01012508  0.00947599\n",
        "  0.00986732  0.00989968  0.00934608  0.00969739  0.01042178  0.01007718\n",
        "  0.01022222  0.00989444  0.0098436   0.01000045  0.00961782  0.01062178\n",
        "  0.01013375  0.01075403  0.01054325  0.01022599  0.00998421  0.00977616\n",
        "  0.00958541  0.01055681  0.01012777  0.01018167  0.01016712  0.0101957\n",
        "  0.01012665  0.01008178  0.01068637  0.01040582  0.01004469  0.00960281\n",
        "  0.00985903  0.01034371  0.00940654  0.00980464  0.01004604  0.00993923\n",
        "  0.00968986  0.01031484  0.00979982  0.01059129]\n",
        "precision: 0.578956244621"
       ]
      },
      {
       "output_type": "stream",
       "stream": "stdout",
       "text": [
        "\n",
        "recall:    0.529607030573\n"
       ]
      },
      {
       "html": [
        "<div style=\"max-height:1000px;max-width:1500px;overflow:auto;\">\n",
        "<table border=\"1\" class=\"dataframe\">\n",
        "  <thead>\n",
        "    <tr style=\"text-align: right;\">\n",
        "      <th></th>\n",
        "      <th>predicted negative</th>\n",
        "      <th>predicted positive</th>\n",
        "    </tr>\n",
        "  </thead>\n",
        "  <tbody>\n",
        "    <tr>\n",
        "      <th>negative</th>\n",
        "      <td> 81190</td>\n",
        "      <td> 72401</td>\n",
        "    </tr>\n",
        "    <tr>\n",
        "      <th>positive</th>\n",
        "      <td> 88424</td>\n",
        "      <td> 99555</td>\n",
        "    </tr>\n",
        "  </tbody>\n",
        "</table>\n",
        "</div>"
       ],
       "metadata": {},
       "output_type": "pyout",
       "prompt_number": 43,
       "text": [
        "          predicted negative  predicted positive\n",
        "negative               81190               72401\n",
        "positive               88424               99555"
       ]
      },
      {
       "metadata": {},
       "output_type": "display_data",
       "png": "[encoded data removed]",
       "text": [
        "<matplotlib.figure.Figure at 0x18c91e750>"
       ]
      },
      {
       "metadata": {},
       "output_type": "display_data",
       "png": "[encoded data removed]",
       "text": [
        "<matplotlib.figure.Figure at 0x15e4f2f50>"
       ]
      }
     ],
     "prompt_number": 43
    },
    {
     "cell_type": "code",
     "collapsed": false,
     "input": [
      "facebook_likes.train_test_pca_logicsticregression(X, y, n_components=10, verbose=True)"
     ],
     "language": "python",
     "metadata": {},
     "outputs": [
      {
       "output_type": "stream",
       "stream": "stdout",
       "text": [
        "run 1 of 4\n",
        "train precision: 0.558097962102\n",
        "train recall:    0.943001314808\n",
        "test precision: 0.561697552337\n",
        "test recall:    0.940883568175\n",
        "confusion matrix:\n",
        "          predicted negative  predicted positive\n",
        "negative                 710                6930\n",
        "positive                 558                8881\n",
        "\n",
        "run 2 of 4"
       ]
      },
      {
       "output_type": "stream",
       "stream": "stdout",
       "text": [
        "\n",
        "train precision: 0.558310781043\n",
        "train recall:    0.94452725724\n",
        "test precision: 0.55977443609\n",
        "test recall:    0.950021267546\n",
        "confusion matrix:\n",
        "          predicted negative  predicted positive\n",
        "negative                1359               13956\n",
        "positive                1028               17815\n",
        "\n",
        "run 3 of 4"
       ]
      },
      {
       "output_type": "stream",
       "stream": "stdout",
       "text": [
        "\n",
        "train precision: 0.558803164145\n",
        "train recall:    0.945000354836\n",
        "test precision: 0.558488188976\n",
        "test recall:    0.943392211109\n",
        "confusion matrix:\n",
        "          predicted negative  predicted positive\n",
        "negative                2031               20965\n",
        "positive                1560               26681\n",
        "\n",
        "run 4 of 4"
       ]
      },
      {
       "output_type": "stream",
       "stream": "stdout",
       "text": [
        "\n",
        "train precision: 0.558062752355\n",
        "train recall:    0.943336532651\n",
        "test precision: 0.562057186235\n",
        "test recall:    0.940311144036\n",
        "confusion matrix:\n",
        "          predicted negative  predicted positive\n",
        "negative                2738               27888\n",
        "positive                2124               35566\n",
        "\n"
       ]
      },
      {
       "html": [
        "<div style=\"max-height:1000px;max-width:1500px;overflow:auto;\">\n",
        "<table border=\"1\" class=\"dataframe\">\n",
        "  <thead>\n",
        "    <tr style=\"text-align: right;\">\n",
        "      <th></th>\n",
        "      <th>predicted negative</th>\n",
        "      <th>predicted positive</th>\n",
        "    </tr>\n",
        "  </thead>\n",
        "  <tbody>\n",
        "    <tr>\n",
        "      <th>negative</th>\n",
        "      <td> 2738</td>\n",
        "      <td> 27888</td>\n",
        "    </tr>\n",
        "    <tr>\n",
        "      <th>positive</th>\n",
        "      <td> 2124</td>\n",
        "      <td> 35566</td>\n",
        "    </tr>\n",
        "  </tbody>\n",
        "</table>\n",
        "</div>"
       ],
       "metadata": {},
       "output_type": "pyout",
       "prompt_number": 44,
       "text": [
        "          predicted negative  predicted positive\n",
        "negative                2738               27888\n",
        "positive                2124               35566"
       ]
      }
     ],
     "prompt_number": 44
    },
    {
     "cell_type": "heading",
     "level": 4,
     "metadata": {},
     "source": [
      "Conversion"
     ]
    },
    {
     "cell_type": "code",
     "collapsed": false,
     "input": [
      "X, y = facebook_likes.convert_to_dense_matrix_and_target(likes_df, converted_df,\n",
      "                                                         n_players_threshold=300,\n",
      "                                                         n_likes_threshold=10)"
     ],
     "language": "python",
     "metadata": {},
     "outputs": [],
     "prompt_number": 45
    },
    {
     "cell_type": "code",
     "collapsed": false,
     "input": [
      "facebook_likes.train_test_svd_extratrees(X, y, n_components=100, n_estimators=10, verbose=True)"
     ],
     "language": "python",
     "metadata": {},
     "outputs": [
      {
       "output_type": "stream",
       "stream": "stdout",
       "text": [
        "run 1 of 10\n",
        "train precision: 1.0"
       ]
      },
      {
       "output_type": "stream",
       "stream": "stdout",
       "text": [
        "\n",
        "train recall:    0.986614612381\n",
        "test precision: 0.037037037037\n",
        "test recall:    0.000527426160338\n",
        "  feature importances: [ 0.00820743  0.00949154  0.00889977  0.00910686  0.01015544  0.00807085\n",
        "  0.00933604  0.01062571  0.00903498  0.00842079  0.01061431  0.0103626\n",
        "  0.01075211  0.00967215  0.01031407  0.01068181  0.01006382  0.00881522\n",
        "  0.00995653  0.00909188  0.01095198  0.01067489  0.00902337  0.0108963\n",
        "  0.00972718  0.00895191  0.00872501  0.0094152   0.01026371  0.00983292\n",
        "  0.00961696  0.00924251  0.01070737  0.01061926  0.00972793  0.01123208\n",
        "  0.00920699  0.00923889  0.01140153  0.00984715  0.00925558  0.00928333\n",
        "  0.01047833  0.01072359  0.00984273  0.00905286  0.01010252  0.01077085\n",
        "  0.00999685  0.00948862  0.00962113  0.00965649  0.00956121  0.00996621\n",
        "  0.00974056  0.00958994  0.00982692  0.00996147  0.00940254  0.0106609\n",
        "  0.01043836  0.01094825  0.0083917   0.00933554  0.01084098  0.00871288\n",
        "  0.01067782  0.00943817  0.00961578  0.01019638  0.01009273  0.00980368\n",
        "  0.01069756  0.01077808  0.00941722  0.01060036  0.00967554  0.00980668\n",
        "  0.01084016  0.01048093  0.00983386  0.01033405  0.01037526  0.01053062\n",
        "  0.01181258  0.00940284  0.01170095  0.00914253  0.01075942  0.01088446\n",
        "  0.01102842  0.00989146  0.01097475  0.01043242  0.01036437  0.01092294\n",
        "  0.01027121  0.01101702  0.0108669   0.0107055 ]\n",
        "run 2 of 10"
       ]
      },
      {
       "output_type": "stream",
       "stream": "stdout",
       "text": [
        "\n",
        "train precision: 1.0"
       ]
      },
      {
       "output_type": "stream",
       "stream": "stdout",
       "text": [
        "\n",
        "train recall:    0.985278080698\n",
        "test precision: 0.0833333333333\n",
        "test recall:    0.0010781671159\n",
        "  feature importances: [ 0.00816525  0.00951192  0.00906744  0.00981531  0.0104555   0.00883574\n",
        "  0.01034874  0.00947671  0.00940873  0.01045589  0.01079342  0.00997895\n",
        "  0.00965573  0.0100459   0.01036724  0.01083188  0.00889852  0.01035117\n",
        "  0.01015484  0.00903611  0.01096261  0.00969056  0.01093454  0.01011171\n",
        "  0.00910437  0.01014512  0.00934224  0.00956061  0.00999409  0.00932127\n",
        "  0.01111558  0.01071134  0.00963043  0.0106064   0.01014557  0.00971978\n",
        "  0.01040809  0.0096641   0.00913215  0.0112721   0.00964682  0.00976924\n",
        "  0.00925225  0.0113539   0.01009117  0.01042941  0.0097526   0.01007535\n",
        "  0.01142669  0.00962889  0.00978229  0.00995115  0.01041226  0.00944777\n",
        "  0.00929194  0.00854037  0.00946284  0.00983413  0.0089074   0.00838835\n",
        "  0.01058287  0.01167718  0.01069228  0.00968087  0.00782376  0.00980303\n",
        "  0.00848711  0.00985243  0.00986444  0.00976504  0.00989338  0.0098672\n",
        "  0.01090269  0.01016243  0.01195905  0.01002719  0.00887389  0.01092978\n",
        "  0.0104978   0.00981185  0.00912342  0.00923113  0.01108631  0.0101251\n",
        "  0.00929918  0.01034573  0.01137105  0.0101974   0.01026946  0.01092645\n",
        "  0.01078524  0.0111514   0.01050849  0.0105139   0.01076043  0.01129626\n",
        "  0.00848073  0.01031594  0.00975708  0.01062851]\n",
        "run 3 of 10"
       ]
      },
      {
       "output_type": "stream",
       "stream": "stdout",
       "text": [
        "\n",
        "train precision: 1.0"
       ]
      },
      {
       "output_type": "stream",
       "stream": "stdout",
       "text": [
        "\n",
        "train recall:    0.985804416404\n",
        "test precision: 0.0588235294118\n",
        "test recall:    0.000559597090095\n",
        "  feature importances: [ 0.0098779   0.00967093  0.00814887  0.00896507  0.00934134  0.00894306\n",
        "  0.00957373  0.00958396  0.00868022  0.01002201  0.00917233  0.00878916\n",
        "  0.01106306  0.00916367  0.0091405   0.01174289  0.01116875  0.01009896\n",
        "  0.00957475  0.01110809  0.01177029  0.01167756  0.0097751   0.01042511\n",
        "  0.01056001  0.00929182  0.00939797  0.00874754  0.00994064  0.01028585\n",
        "  0.00936747  0.00950996  0.0093103   0.00951738  0.01012921  0.00895802\n",
        "  0.00916132  0.0095541   0.01099359  0.00987299  0.01018325  0.00949057\n",
        "  0.00977863  0.0095102   0.01143388  0.00950431  0.00975405  0.0092345\n",
        "  0.01056273  0.0095542   0.00895414  0.01040523  0.01029965  0.00966349\n",
        "  0.00950827  0.0101626   0.00941298  0.0098056   0.01042474  0.01021671\n",
        "  0.01060367  0.01016986  0.00971014  0.00968678  0.00973143  0.010175\n",
        "  0.01121085  0.01064969  0.00971192  0.01053434  0.01070273  0.01075034\n",
        "  0.00957626  0.0109058   0.01050061  0.00920236  0.01048882  0.00999671\n",
        "  0.01015656  0.01192309  0.01048533  0.00905831  0.01053067  0.00898824\n",
        "  0.00927976  0.01159033  0.0102297   0.0110154   0.00986334  0.01117774\n",
        "  0.01058088  0.00971756  0.01106253  0.01079434  0.01010038  0.00960348\n",
        "  0.00945949  0.01052617  0.01004304  0.00957112]\n",
        "run 4 of 10"
       ]
      },
      {
       "output_type": "stream",
       "stream": "stdout",
       "text": [
        "\n",
        "train precision: 1.0"
       ]
      },
      {
       "output_type": "stream",
       "stream": "stdout",
       "text": [
        "\n",
        "train recall:    0.982095839916\n",
        "test precision: 0.0526315789474\n",
        "test recall:    0.000558659217877\n",
        "  feature importances: [ 0.0091063   0.00943515  0.00936119  0.00827335  0.00949016  0.0087701\n",
        "  0.00854532  0.00879235  0.00884489  0.00947502  0.01014134  0.00968396\n",
        "  0.00999102  0.00887141  0.01106247  0.01058184  0.01106448  0.00962338\n",
        "  0.00824994  0.01019936  0.00989108  0.01088639  0.00935575  0.01132499\n",
        "  0.00894243  0.00954644  0.00942687  0.01033852  0.01012876  0.00842854\n",
        "  0.00939925  0.00915683  0.01032812  0.01067914  0.01164823  0.01104979\n",
        "  0.00923507  0.00935781  0.00984321  0.00986637  0.01050583  0.00927166\n",
        "  0.01059733  0.00978354  0.00932757  0.00956225  0.01004202  0.01104663\n",
        "  0.01012511  0.00977265  0.0113502   0.01164976  0.00998059  0.00996844\n",
        "  0.00996559  0.00957528  0.0102947   0.00844457  0.01045099  0.01009625\n",
        "  0.01135024  0.00958637  0.0095914   0.00918136  0.01018776  0.01029347\n",
        "  0.0089909   0.01018645  0.00934693  0.00998566  0.00863558  0.01079207\n",
        "  0.01039216  0.01023767  0.01065999  0.01021273  0.00973884  0.0094169\n",
        "  0.01028155  0.01163152  0.00941188  0.00970043  0.01049192  0.01078053\n",
        "  0.01091768  0.01115404  0.00986052  0.01163346  0.01057824  0.01118492\n",
        "  0.01075713  0.00991669  0.01055306  0.01032736  0.01083061  0.01010708\n",
        "  0.0091105   0.01005393  0.01058146  0.01114143]\n",
        "run 5 of 10"
       ]
      },
      {
       "output_type": "stream",
       "stream": "stdout",
       "text": [
        "\n",
        "train precision: 0.999454446263"
       ]
      },
      {
       "output_type": "stream",
       "stream": "stdout",
       "text": [
        "\n",
        "train recall:    0.981253347616\n",
        "test precision: 0.133333333333\n",
        "test recall:    0.00109769484083\n",
        "  feature importances: [ 0.0087844   0.00773946  0.01008552  0.01080249  0.01050599  0.00911927\n",
        "  0.01031206  0.01089982  0.00908068  0.00925108  0.00963809  0.00933085\n",
        "  0.01028061  0.01019423  0.01052469  0.01128319  0.01034207  0.01010952\n",
        "  0.0118289   0.01028554  0.00924587  0.01089508  0.01012404  0.01061738\n",
        "  0.00979277  0.00943447  0.00970596  0.00858571  0.01006495  0.00946248\n",
        "  0.01050169  0.00964551  0.01016835  0.00936553  0.01015435  0.0092811\n",
        "  0.00973921  0.00999612  0.01111235  0.01005417  0.00955024  0.00970237\n",
        "  0.0096167   0.01055293  0.01061467  0.01018313  0.00844739  0.00973907\n",
        "  0.01006309  0.01070561  0.00895534  0.00986723  0.00994146  0.01157562\n",
        "  0.01017016  0.01001239  0.00941561  0.00984536  0.00974378  0.01087416\n",
        "  0.01042061  0.00937526  0.00914297  0.01033193  0.00932231  0.00862004\n",
        "  0.0092488   0.01031421  0.00989226  0.0107074   0.01064311  0.00985021\n",
        "  0.0101815   0.00996287  0.0100502   0.00981448  0.00957211  0.00848019\n",
        "  0.00930161  0.01049327  0.00952129  0.01135886  0.01122233  0.0096772\n",
        "  0.01094639  0.01059167  0.01086149  0.00988244  0.00978929  0.01051257\n",
        "  0.00975035  0.01023958  0.01002853  0.01052277  0.00954845  0.0104626\n",
        "  0.00985981  0.01149852  0.01066611  0.00941255]\n",
        "run 6 of 10"
       ]
      },
      {
       "output_type": "stream",
       "stream": "stdout",
       "text": [
        "\n",
        "train precision: 1.0"
       ]
      },
      {
       "output_type": "stream",
       "stream": "stdout",
       "text": [
        "\n",
        "train recall:    0.98038147139\n",
        "test precision: 0.0714285714286\n",
        "test recall:    0.000539374325782\n",
        "  feature importances: [ 0.00847218  0.00873655  0.00940521  0.01123226  0.00904505  0.00905209\n",
        "  0.00853098  0.00880799  0.00913486  0.00993994  0.00943691  0.00955103\n",
        "  0.01110531  0.00905813  0.01133062  0.00998787  0.01133139  0.00946683\n",
        "  0.01020414  0.01063945  0.01052567  0.01181516  0.00955907  0.00940683\n",
        "  0.01012302  0.00918634  0.00962435  0.00979269  0.01031212  0.01020171\n",
        "  0.00934516  0.00868221  0.01107551  0.00957929  0.00965293  0.00941896\n",
        "  0.00978936  0.01000069  0.01025922  0.01069311  0.00967366  0.00925018\n",
        "  0.00938429  0.00994896  0.00941669  0.00926976  0.01054826  0.00941886\n",
        "  0.00986231  0.01052365  0.00948439  0.01047402  0.01024811  0.0100358\n",
        "  0.00945429  0.01101407  0.00880194  0.0105507   0.010529    0.00898964\n",
        "  0.0103071   0.01046767  0.01032781  0.00978526  0.00919256  0.00911036\n",
        "  0.00973513  0.0108914   0.00870448  0.01052959  0.00938577  0.01082351\n",
        "  0.01174141  0.00959956  0.0101549   0.01058254  0.01079494  0.00956004\n",
        "  0.01124628  0.01024078  0.01021789  0.00951098  0.01049765  0.00997058\n",
        "  0.01095677  0.01042048  0.01073232  0.00948328  0.01019855  0.01130948\n",
        "  0.0102711   0.00954412  0.01096165  0.01053414  0.01224777  0.00989523\n",
        "  0.01030451  0.00988688  0.00937308  0.0101117 ]\n",
        "run 7 of 10"
       ]
      },
      {
       "output_type": "stream",
       "stream": "stdout",
       "text": [
        "\n",
        "train precision: 0.999436302142"
       ]
      },
      {
       "output_type": "stream",
       "stream": "stdout",
       "text": [
        "\n",
        "train recall:    0.984453081621\n",
        "test precision: 0.0"
       ]
      },
      {
       "output_type": "stream",
       "stream": "stdout",
       "text": [
        "\n",
        "test recall:    0.0\n",
        "  feature importances: [ 0.00905415  0.00978079  0.00950952  0.00971385  0.00984319  0.00801049\n",
        "  0.00904543  0.00950031  0.00927385  0.00976933  0.00818854  0.00918902\n",
        "  0.01028054  0.01013033  0.01029884  0.01211675  0.01034137  0.0093662\n",
        "  0.00884468  0.01016915  0.00935965  0.01115969  0.00975018  0.01047527\n",
        "  0.01090077  0.00846951  0.00872475  0.01018425  0.00947596  0.00983812\n",
        "  0.00922495  0.00927292  0.01085735  0.00903026  0.01038216  0.00924584\n",
        "  0.0106865   0.00933918  0.00976608  0.01050961  0.01018339  0.0085651\n",
        "  0.01014548  0.01037384  0.01133008  0.00956936  0.01023114  0.01023454\n",
        "  0.00878983  0.01071393  0.00951278  0.00971112  0.01054052  0.01085686\n",
        "  0.01030957  0.00983065  0.0105649   0.00940201  0.0100621   0.01063113\n",
        "  0.01097794  0.0097907   0.00981214  0.00919123  0.00959404  0.0109908\n",
        "  0.00954858  0.00905795  0.00967572  0.01060834  0.009181    0.01108412\n",
        "  0.0098361   0.01092153  0.0104334   0.0104177   0.0094634   0.01067545\n",
        "  0.01036134  0.01015422  0.00944086  0.00972845  0.01163006  0.00996177\n",
        "  0.01112165  0.01112998  0.01126039  0.01100347  0.01116928  0.00986496\n",
        "  0.00997667  0.00983761  0.01003551  0.00927704  0.01073976  0.00945922\n",
        "  0.01006739  0.00966366  0.01131191  0.01090701]\n",
        "run 8 of 10"
       ]
      },
      {
       "output_type": "stream",
       "stream": "stdout",
       "text": [
        "\n",
        "train precision: 1.0"
       ]
      },
      {
       "output_type": "stream",
       "stream": "stdout",
       "text": [
        "\n",
        "train recall:    0.986420423683\n",
        "test precision: 0.0\n",
        "test recall:    0.0\n",
        "  feature importances: [ 0.00924394  0.00903815  0.00899548  0.00965942  0.00924991  0.00938752\n",
        "  0.00948049  0.00899517  0.00873303  0.01041809  0.00903407  0.00961843\n",
        "  0.01055938  0.00985015  0.00926644  0.01026437  0.01107523  0.0104209\n",
        "  0.01080943  0.00957088  0.00974494  0.01095773  0.00987893  0.01002173\n",
        "  0.00967885  0.00982153  0.00957871  0.00958149  0.00947939  0.01140668\n",
        "  0.01075171  0.01027741  0.00791925  0.00993021  0.01043366  0.00938564\n",
        "  0.00975877  0.00819474  0.01017296  0.00905561  0.00921299  0.00928506\n",
        "  0.01040732  0.01154327  0.00903869  0.01085796  0.0108887   0.01025006\n",
        "  0.00935157  0.00968875  0.0104259   0.00978051  0.01067223  0.01096095\n",
        "  0.0095504   0.00905464  0.0097031   0.01019735  0.0112534   0.009597\n",
        "  0.00996501  0.00948282  0.00925579  0.0100368   0.00913455  0.00967086\n",
        "  0.00768603  0.00972697  0.01077381  0.00920555  0.00910672  0.01097282\n",
        "  0.0102279   0.01026177  0.0113399   0.01015536  0.00916091  0.01059378\n",
        "  0.00996965  0.01101885  0.01036128  0.01070123  0.01026789  0.01036558\n",
        "  0.00994368  0.01096383  0.0103872   0.01057127  0.01062666  0.01085251\n",
        "  0.01076949  0.01074371  0.00908396  0.01029644  0.01129906  0.0104935\n",
        "  0.01044597  0.01093865  0.01015764  0.0115643 ]\n",
        "run 9 of 10"
       ]
      },
      {
       "output_type": "stream",
       "stream": "stdout",
       "text": [
        "\n",
        "train precision: 0.999459751486"
       ]
      },
      {
       "output_type": "stream",
       "stream": "stdout",
       "text": [
        "\n",
        "train recall:    0.984042553191\n",
        "test precision: 0.0571428571429\n",
        "test recall:    0.00110558319514\n",
        "  feature importances: [ 0.00912345  0.00923117  0.00966192  0.00934489  0.00942476  0.00972904\n",
        "  0.01017501  0.01063631  0.00946628  0.01033298  0.01015988  0.00958586\n",
        "  0.01064508  0.00970501  0.00945204  0.0097932   0.01007532  0.01059352\n",
        "  0.01053602  0.01003264  0.01077543  0.01101164  0.00916796  0.00981313\n",
        "  0.00932663  0.00954783  0.00894376  0.00928462  0.00891134  0.01087654\n",
        "  0.00869734  0.00993276  0.00907382  0.01000116  0.00902522  0.00987898\n",
        "  0.00943872  0.0093602   0.01037376  0.00987792  0.00992532  0.0091791\n",
        "  0.00928514  0.00991129  0.01042533  0.0101081   0.01015824  0.00971598\n",
        "  0.00999598  0.01028367  0.00892052  0.00888669  0.0103773   0.01009297\n",
        "  0.00927446  0.00897562  0.01014962  0.0099688   0.01046158  0.0095847\n",
        "  0.00937047  0.00918445  0.01089033  0.01026007  0.00892884  0.01043852\n",
        "  0.00898448  0.01083208  0.00979621  0.00963761  0.00946181  0.01158471\n",
        "  0.0106941   0.01085921  0.01079013  0.01131269  0.00985005  0.01077138\n",
        "  0.00985552  0.0108818   0.01021122  0.00999516  0.01047044  0.0108279\n",
        "  0.01103648  0.01072288  0.00937471  0.0099172   0.00941242  0.01022777\n",
        "  0.00927125  0.01086314  0.01107199  0.01147317  0.00994052  0.01103489\n",
        "  0.01036333  0.01263434  0.00949374  0.01056945]\n",
        "run 10 of 10"
       ]
      },
      {
       "output_type": "stream",
       "stream": "stdout",
       "text": [
        "\n",
        "train precision: 0.999460625674"
       ]
      },
      {
       "output_type": "stream",
       "stream": "stdout",
       "text": [
        "\n",
        "train recall:    0.984590860786\n",
        "test precision: 0.0666666666667\n",
        "test recall:    0.000553403431101\n",
        "  feature importances: [ 0.00863828  0.01030367  0.00999528  0.00906749  0.00881602  0.00898525\n",
        "  0.00876265  0.00947171  0.00964569  0.00985062  0.00861451  0.00938583\n",
        "  0.0090439   0.01010402  0.01046362  0.01023319  0.01161638  0.00958868\n",
        "  0.00997821  0.00986929  0.00997992  0.0105608   0.01042458  0.01085021\n",
        "  0.00987701  0.00905751  0.00952332  0.00952514  0.00964047  0.01046788\n",
        "  0.00950829  0.009491    0.01105437  0.01010609  0.0105404   0.01038447\n",
        "  0.00904845  0.00990562  0.01020107  0.01028244  0.01128833  0.0093837\n",
        "  0.00969231  0.00892309  0.00946623  0.01046316  0.00943715  0.01046428\n",
        "  0.01063668  0.01110539  0.00987465  0.01023709  0.00876545  0.0109229\n",
        "  0.00873811  0.00953222  0.00927551  0.00886175  0.01049992  0.00970823\n",
        "  0.01034783  0.00891682  0.00919976  0.00970819  0.00929708  0.00996344\n",
        "  0.01011973  0.00999973  0.01102749  0.01094084  0.00929402  0.0106101\n",
        "  0.01022332  0.01101372  0.00935961  0.00979809  0.01058773  0.0095723\n",
        "  0.01086643  0.01002893  0.01038389  0.01130788  0.00932441  0.01066272\n",
        "  0.00990321  0.01110243  0.00980709  0.01072211  0.01050956  0.0105714\n",
        "  0.01058796  0.01125308  0.01211916  0.01009554  0.0097972   0.01035091\n",
        "  0.00903505  0.01097523  0.00959934  0.0108772 ]\n",
        "precision: 0.0536585365854"
       ]
      },
      {
       "output_type": "stream",
       "stream": "stdout",
       "text": [
        "\n",
        "recall:    0.000599259097843\n"
       ]
      },
      {
       "output_type": "stream",
       "stream": "stderr",
       "text": [
        "/Library/Frameworks/Python.framework/Versions/2.7/lib/python2.7/site-packages/sklearn/metrics/metrics.py:1734: UserWarning: The precision and recall are equal to zero for some labels. fbeta_score is ill defined for those labels [1]. \n",
        "  average=average)\n",
        "/Library/Frameworks/Python.framework/Versions/2.7/lib/python2.7/site-packages/sklearn/metrics/metrics.py:1809: UserWarning: The precision and recall are equal to zero for some labels. fbeta_score is ill defined for those labels [1]. \n",
        "  average=average)\n"
       ]
      },
      {
       "html": [
        "<div style=\"max-height:1000px;max-width:1500px;overflow:auto;\">\n",
        "<table border=\"1\" class=\"dataframe\">\n",
        "  <thead>\n",
        "    <tr style=\"text-align: right;\">\n",
        "      <th></th>\n",
        "      <th>predicted negative</th>\n",
        "      <th>predicted positive</th>\n",
        "    </tr>\n",
        "  </thead>\n",
        "  <tbody>\n",
        "    <tr>\n",
        "      <th>negative</th>\n",
        "      <td> 351990</td>\n",
        "      <td> 194</td>\n",
        "    </tr>\n",
        "    <tr>\n",
        "      <th>positive</th>\n",
        "      <td>  18345</td>\n",
        "      <td>  11</td>\n",
        "    </tr>\n",
        "  </tbody>\n",
        "</table>\n",
        "</div>"
       ],
       "metadata": {},
       "output_type": "pyout",
       "prompt_number": 46,
       "text": [
        "          predicted negative  predicted positive\n",
        "negative              351990                 194\n",
        "positive               18345                  11"
       ]
      },
      {
       "metadata": {},
       "output_type": "display_data",
       "png": "[encoded data removed]",
       "text": [
        "<matplotlib.figure.Figure at 0x141f89d50>"
       ]
      }
     ],
     "prompt_number": 46
    },
    {
     "cell_type": "code",
     "collapsed": false,
     "input": [
      "facebook_likes.train_test_pca_extratrees(X, y, n_components=100, n_estimators=10, verbose=True)"
     ],
     "language": "python",
     "metadata": {},
     "outputs": [
      {
       "output_type": "stream",
       "stream": "stdout",
       "text": [
        "[ 0.07220199  0.02130979  0.01383973  0.01300973  0.00972471  0.00853135\n",
        "  0.00779842  0.00677056  0.00581536  0.00559989  0.00529323  0.00474105\n",
        "  0.00468471  0.00410573  0.00377272  0.00362122  0.00342446  0.00331547\n",
        "  0.00324474  0.00310314  0.00300429  0.00288042  0.00280838  0.00279532\n",
        "  0.00261119  0.00259666  0.00238544  0.00235686  0.002324    0.00229622\n",
        "  0.00220725  0.00217706  0.00215783  0.0021294   0.00206269  0.00203418\n",
        "  0.00198941  0.00197997  0.00193377  0.0018721   0.00181488  0.00179536\n",
        "  0.00178146  0.00173896  0.0017316   0.00170793  0.00169803  0.00166409\n",
        "  0.00165753  0.00162396  0.0016098   0.0015958   0.00158087  0.00155355\n",
        "  0.0015479   0.00152066  0.00150095  0.00149788  0.00149473  0.0014859\n",
        "  0.00147731  0.00146958  0.00145561  0.0014492   0.00143819  0.00142186\n",
        "  0.00141133  0.00139563  0.00138962  0.00137593  0.0013632   0.0013502\n",
        "  0.0013461   0.00134339  0.00133421  0.00132918  0.00131472  0.001311\n",
        "  0.00130275  0.00128984  0.00128223  0.0012735   0.00126127  0.00125418\n",
        "  0.00124678  0.00123478  0.0012338   0.001221    0.00121027  0.00120322\n",
        "  0.00119584  0.0011921   0.00118398  0.00117322  0.00116267  0.00115107\n",
        "  0.00114704  0.00113807  0.00112956  0.00112189]\n",
        "Axes(0.125,0.125;0.775x0.775)"
       ]
      },
      {
       "output_type": "stream",
       "stream": "stdout",
       "text": [
        "\n",
        "run 1 of 10"
       ]
      },
      {
       "output_type": "stream",
       "stream": "stdout",
       "text": [
        "\n",
        "train precision: 1.0"
       ]
      },
      {
       "output_type": "stream",
       "stream": "stdout",
       "text": [
        "\n",
        "train recall:    0.986652429258\n",
        "test precision: 0.0\n",
        "test recall:    0.0\n",
        "  feature importances: [ 0.00841313  0.00967971  0.00951951  0.00911648  0.00958245  0.00960956\n",
        "  0.0096922   0.00865532  0.00986693  0.01134071  0.00939344  0.00987738\n",
        "  0.0104893   0.01134384  0.01109156  0.00937504  0.00875484  0.00871376\n",
        "  0.01030446  0.0095816   0.01087607  0.01001657  0.01035671  0.00983742\n",
        "  0.00912187  0.00954252  0.01100056  0.00877967  0.00980994  0.00926884\n",
        "  0.01043411  0.01084452  0.00955474  0.00978152  0.00940724  0.00966174\n",
        "  0.00927852  0.00964108  0.01025724  0.00981754  0.01018704  0.00955933\n",
        "  0.01021457  0.0091385   0.00976606  0.00936305  0.01172643  0.00970004\n",
        "  0.00923915  0.01044498  0.01114153  0.00980137  0.00914632  0.0107923\n",
        "  0.00964156  0.01142814  0.010442    0.00917787  0.00976171  0.00969689\n",
        "  0.00903247  0.01064623  0.01066845  0.01009293  0.00988068  0.01092996\n",
        "  0.01051602  0.00916122  0.01024098  0.00947587  0.01142183  0.00952146\n",
        "  0.01021545  0.0104819   0.01033019  0.01026574  0.00896741  0.00998373\n",
        "  0.01014185  0.0104722   0.01018424  0.01066074  0.00985062  0.01025241\n",
        "  0.00998481  0.00987033  0.01026884  0.00997211  0.01001735  0.01010507\n",
        "  0.01145927  0.01015674  0.00986842  0.01044176  0.0106781   0.01161133\n",
        "  0.00884317  0.01021739  0.01037077  0.01068148]\n",
        "run 2 of 10"
       ]
      },
      {
       "output_type": "stream",
       "stream": "stdout",
       "text": [
        "\n",
        "train precision: 0.998888888889"
       ]
      },
      {
       "output_type": "stream",
       "stream": "stdout",
       "text": [
        "\n",
        "train recall:    0.984126984127\n",
        "test precision: 0.0384615384615\n",
        "test recall:    0.000537056928034\n",
        "  feature importances: [ 0.0086985   0.01031839  0.00908806  0.00969767  0.01026236  0.00904373\n",
        "  0.01028142  0.0091472   0.00874891  0.01072122  0.00990073  0.0092536\n",
        "  0.01037056  0.01001042  0.01013466  0.00985427  0.01023298  0.00953108\n",
        "  0.00919773  0.01025389  0.01144454  0.01062923  0.01039099  0.01144277\n",
        "  0.00964921  0.00986211  0.01104037  0.00881779  0.00976229  0.01101125\n",
        "  0.00979099  0.01009739  0.00954286  0.00953173  0.00937636  0.00796611\n",
        "  0.01103031  0.00956589  0.01010754  0.00947336  0.00972405  0.00896155\n",
        "  0.00990992  0.00991058  0.0107245   0.00921353  0.01156028  0.00994176\n",
        "  0.01035146  0.00898502  0.01032698  0.01021705  0.00941286  0.00864498\n",
        "  0.0100352   0.01079484  0.00906477  0.01040927  0.00922881  0.01034985\n",
        "  0.00946322  0.00884039  0.00959799  0.00978964  0.0105856   0.01148985\n",
        "  0.01072596  0.01037531  0.01026837  0.00980163  0.01029568  0.01061235\n",
        "  0.01031468  0.00943312  0.01085472  0.0112867   0.01009256  0.01015069\n",
        "  0.01021825  0.0096738   0.01057957  0.01047905  0.00934708  0.01067163\n",
        "  0.00994176  0.00928885  0.01032146  0.00987966  0.01006086  0.0096449\n",
        "  0.01008951  0.01025252  0.01085726  0.0089486   0.01065562  0.01044136\n",
        "  0.00919051  0.01125155  0.00988091  0.01129915]\n",
        "run 3 of 10"
       ]
      },
      {
       "output_type": "stream",
       "stream": "stdout",
       "text": [
        "\n",
        "train precision: 1.0"
       ]
      },
      {
       "output_type": "stream",
       "stream": "stdout",
       "text": [
        "\n",
        "train recall:    0.986192246415\n",
        "test precision: 0.0434782608696\n",
        "test recall:    0.000553709856035\n",
        "  feature importances: [ 0.00890433  0.01085534  0.00807679  0.00951938  0.01004144  0.00833497\n",
        "  0.00989378  0.00917476  0.01020606  0.0098183   0.00966563  0.01118948\n",
        "  0.01080011  0.00984409  0.010703    0.01060968  0.00900001  0.00911213\n",
        "  0.01034     0.01098009  0.01201557  0.00864151  0.00971481  0.0100314\n",
        "  0.00936656  0.00942045  0.00969494  0.00990418  0.01093599  0.00999572\n",
        "  0.01001129  0.00927445  0.00891767  0.01109158  0.00967541  0.00982855\n",
        "  0.00910245  0.00949044  0.00874189  0.0091161   0.01091866  0.00963352\n",
        "  0.00911039  0.01042268  0.00981925  0.00897915  0.01105367  0.00974574\n",
        "  0.01061459  0.01030365  0.00990821  0.00988816  0.01072154  0.00965394\n",
        "  0.00949341  0.00898192  0.00976262  0.00974326  0.01018662  0.01052534\n",
        "  0.00983516  0.01075444  0.01041572  0.01091997  0.00939831  0.01191184\n",
        "  0.01017135  0.00984047  0.0100424   0.00939971  0.01015405  0.00948114\n",
        "  0.00955378  0.00929946  0.01027735  0.01081429  0.01085111  0.01095935\n",
        "  0.00997208  0.01048242  0.00976236  0.0102066   0.01008571  0.01014686\n",
        "  0.01081635  0.01035544  0.00977288  0.01147352  0.00998167  0.01035912\n",
        "  0.00992548  0.01020177  0.00935232  0.01036205  0.00985351  0.010202\n",
        "  0.0098558   0.01098917  0.00959208  0.01066424]\n",
        "run 4 of 10"
       ]
      },
      {
       "output_type": "stream",
       "stream": "stdout",
       "text": [
        "\n",
        "train precision: 1.0"
       ]
      },
      {
       "output_type": "stream",
       "stream": "stdout",
       "text": [
        "\n",
        "train recall:    0.983896940419\n",
        "test precision: 0.0769230769231\n",
        "test recall:    0.000547645125958\n",
        "  feature importances: [ 0.00808156  0.00837473  0.00897533  0.00929314  0.00861115  0.00862183\n",
        "  0.00942176  0.01013225  0.00954225  0.01117981  0.0098542   0.01027373\n",
        "  0.01078674  0.01011795  0.01004267  0.0111045   0.01068965  0.00897443\n",
        "  0.0096175   0.01137039  0.01215145  0.00891817  0.01060343  0.01082502\n",
        "  0.00991573  0.0091329   0.01023613  0.00932676  0.00922985  0.00968624\n",
        "  0.0095398   0.00966321  0.00978263  0.00967837  0.01052377  0.0096074\n",
        "  0.00928654  0.00961463  0.00938674  0.01018588  0.00984375  0.01068676\n",
        "  0.00962425  0.01034376  0.00968085  0.01081987  0.01030888  0.01001342\n",
        "  0.01079631  0.01073954  0.0100767   0.01014728  0.01005161  0.00919198\n",
        "  0.00928658  0.00991592  0.01084495  0.0093829   0.00946967  0.0097336\n",
        "  0.00991711  0.00926758  0.00980552  0.01064508  0.01032943  0.01010591\n",
        "  0.00972277  0.00972114  0.01004358  0.00934895  0.01051489  0.00989976\n",
        "  0.0099131   0.01089835  0.01201586  0.00928156  0.01067363  0.01071872\n",
        "  0.00993927  0.00930524  0.00992319  0.01142615  0.00963514  0.01081793\n",
        "  0.00958734  0.00986283  0.00926526  0.00993113  0.01014688  0.01057995\n",
        "  0.0109413   0.01017476  0.00887504  0.00986698  0.0099747   0.01182189\n",
        "  0.00990456  0.01131977  0.01060826  0.00995071]\n",
        "run 5 of 10"
       ]
      },
      {
       "output_type": "stream",
       "stream": "stdout",
       "text": [
        "\n",
        "train precision: 1.0"
       ]
      },
      {
       "output_type": "stream",
       "stream": "stdout",
       "text": [
        "\n",
        "train recall:    0.985563575791\n",
        "test precision: 0.0952380952381\n",
        "test recall:    0.0010593220339\n",
        "  feature importances: [ 0.00877028  0.00950617  0.00965987  0.00949802  0.00766017  0.00840572\n",
        "  0.00977432  0.00954538  0.00899185  0.00997726  0.0100228   0.00907025\n",
        "  0.01014479  0.01109941  0.0106043   0.01110185  0.01032651  0.00916099\n",
        "  0.01049892  0.01091934  0.01138955  0.01053599  0.00931793  0.01055782\n",
        "  0.01060309  0.00937609  0.00930464  0.01012869  0.01136235  0.00951741\n",
        "  0.00911529  0.01043043  0.00889387  0.0107717   0.01123721  0.00963691\n",
        "  0.01108276  0.01007599  0.00929225  0.01068419  0.01045131  0.00883885\n",
        "  0.00996775  0.00895672  0.00982877  0.01000072  0.00980632  0.01029594\n",
        "  0.01052621  0.01021007  0.00909029  0.01004018  0.01119152  0.00811761\n",
        "  0.01050295  0.01117851  0.00968975  0.00976048  0.01056156  0.01019784\n",
        "  0.01035767  0.00995263  0.00958133  0.0105711   0.01162523  0.00977717\n",
        "  0.00964943  0.01150581  0.00966867  0.00946048  0.01034918  0.01023205\n",
        "  0.01042994  0.00991838  0.01013228  0.00914504  0.01012127  0.00980321\n",
        "  0.00999463  0.01026532  0.01068375  0.01020179  0.00847129  0.01010025\n",
        "  0.01033596  0.01012808  0.01071296  0.00963837  0.00948552  0.01201794\n",
        "  0.00951872  0.00965506  0.00876538  0.00991351  0.01056526  0.01086965\n",
        "  0.00998236  0.00935216  0.00990795  0.0098875 ]\n",
        "run 6 of 10"
       ]
      },
      {
       "output_type": "stream",
       "stream": "stdout",
       "text": [
        "\n",
        "train precision: 0.999451453648"
       ]
      },
      {
       "output_type": "stream",
       "stream": "stdout",
       "text": [
        "\n",
        "train recall:    0.981681034483\n",
        "test precision: 0.0740740740741\n",
        "test recall:    0.00109110747409\n",
        "  feature importances: [ 0.00872886  0.01011814  0.00836531  0.01038281  0.00917848  0.00847061\n",
        "  0.00884621  0.00870366  0.01035282  0.00993716  0.00849349  0.00881675\n",
        "  0.00984861  0.00986256  0.01041466  0.01125447  0.00952068  0.01033955\n",
        "  0.01022088  0.00970312  0.01018178  0.00905265  0.01109486  0.00955101\n",
        "  0.00918227  0.00917904  0.01009238  0.00952096  0.00970622  0.00976832\n",
        "  0.01070755  0.01072683  0.00966752  0.01019732  0.0091419   0.01032475\n",
        "  0.01003825  0.00903668  0.01035614  0.01061491  0.00989797  0.00979604\n",
        "  0.01001766  0.00935215  0.01020848  0.01039477  0.01048354  0.01104452\n",
        "  0.01018027  0.01016178  0.00971362  0.00869158  0.01082957  0.00885999\n",
        "  0.01086994  0.01068327  0.01118047  0.01016333  0.011408    0.01040837\n",
        "  0.01014533  0.00979534  0.01003955  0.00928085  0.01007574  0.00990626\n",
        "  0.00897663  0.00987103  0.01069559  0.0102386   0.01112861  0.01158631\n",
        "  0.0100497   0.01082261  0.01097941  0.00958324  0.00968668  0.0096147\n",
        "  0.01009614  0.01059481  0.01200066  0.01067325  0.00989914  0.01076316\n",
        "  0.01135501  0.00981887  0.00935093  0.00819665  0.01095696  0.01060151\n",
        "  0.01051356  0.00927809  0.01040178  0.01023245  0.00936507  0.00965722\n",
        "  0.00885493  0.01126702  0.00949008  0.01011106]\n",
        "run 7 of 10"
       ]
      },
      {
       "output_type": "stream",
       "stream": "stdout",
       "text": [
        "\n",
        "train precision: 1.0"
       ]
      },
      {
       "output_type": "stream",
       "stream": "stdout",
       "text": [
        "\n",
        "train recall:    0.987227248536\n",
        "test precision: 0.08\n",
        "test recall:    0.00110497237569\n",
        "  feature importances: [ 0.00866607  0.01123986  0.00913482  0.00928341  0.00980352  0.00890332\n",
        "  0.00998372  0.00851411  0.00919373  0.01001632  0.01008677  0.01011341\n",
        "  0.01028453  0.00932103  0.01173894  0.01119037  0.00963306  0.00933992\n",
        "  0.01032986  0.01019865  0.00922269  0.00894021  0.00982215  0.01023397\n",
        "  0.00999912  0.00944187  0.01008605  0.01074395  0.00901353  0.01018005\n",
        "  0.01042668  0.01119552  0.00892169  0.01035554  0.01132033  0.00977655\n",
        "  0.01006326  0.00973795  0.01043606  0.00997019  0.00915806  0.01002894\n",
        "  0.01025873  0.0105092   0.00955816  0.00987197  0.00971904  0.01021454\n",
        "  0.01016452  0.00951742  0.00956965  0.00901228  0.00928305  0.00966154\n",
        "  0.01035883  0.00965259  0.01008134  0.01033268  0.00985777  0.00987445\n",
        "  0.00960658  0.00963579  0.01189871  0.01000911  0.00966385  0.00939223\n",
        "  0.00927801  0.01049499  0.01015513  0.00988812  0.01111476  0.01161816\n",
        "  0.00984858  0.00891919  0.01102527  0.01067542  0.0109113   0.00998895\n",
        "  0.01140676  0.01005064  0.00989523  0.00991515  0.00962169  0.01069039\n",
        "  0.00989902  0.01110522  0.00891429  0.01090857  0.01021827  0.01011147\n",
        "  0.00906751  0.01077158  0.01002888  0.01072691  0.00965562  0.00946775\n",
        "  0.00928027  0.01095284  0.00885444  0.01078579]\n",
        "run 8 of 10"
       ]
      },
      {
       "output_type": "stream",
       "stream": "stdout",
       "text": [
        "\n",
        "train precision: 1.0"
       ]
      },
      {
       "output_type": "stream",
       "stream": "stdout",
       "text": [
        "\n",
        "train recall:    0.982191041554\n",
        "test precision: 0.0384615384615\n",
        "test recall:    0.000544662309368\n",
        "  feature importances: [ 0.0089989   0.0096034   0.01010483  0.00998719  0.00978144  0.00839669\n",
        "  0.00951246  0.00884798  0.00910485  0.01011241  0.0094956   0.01043972\n",
        "  0.00975534  0.00924916  0.01020553  0.01084082  0.00974476  0.00971601\n",
        "  0.01085662  0.01034985  0.01251657  0.00929258  0.00946809  0.00866282\n",
        "  0.01068691  0.01007037  0.00971704  0.00985632  0.01061917  0.00954506\n",
        "  0.00935789  0.00974528  0.00874345  0.01058729  0.00921028  0.00934465\n",
        "  0.01065742  0.0100607   0.01003715  0.00919567  0.01117339  0.00930994\n",
        "  0.00986642  0.0096011   0.00950033  0.00950038  0.01039356  0.0095144\n",
        "  0.01127421  0.0101835   0.00957728  0.00960417  0.0107761   0.01065864\n",
        "  0.01076593  0.00948097  0.01106371  0.00919021  0.0093477   0.01053418\n",
        "  0.01012298  0.00979688  0.01012452  0.0102685   0.01008752  0.01097015\n",
        "  0.00942897  0.01029479  0.01033756  0.00950472  0.01092659  0.00981723\n",
        "  0.00984409  0.00985251  0.00941959  0.0100088   0.01019368  0.01020378\n",
        "  0.01083641  0.00922845  0.00982598  0.01095234  0.01059153  0.01044406\n",
        "  0.01053432  0.0102489   0.00989133  0.00941045  0.01111358  0.01053726\n",
        "  0.01003948  0.00932414  0.01035713  0.0104309   0.01034587  0.00928098\n",
        "  0.00980693  0.01157782  0.01005267  0.01017221]\n",
        "run 9 of 10"
       ]
      },
      {
       "output_type": "stream",
       "stream": "stdout",
       "text": [
        "\n",
        "train precision: 1.0"
       ]
      },
      {
       "output_type": "stream",
       "stream": "stdout",
       "text": [
        "\n",
        "train recall:    0.982957669049\n",
        "test precision: 0.2\n",
        "test recall:    0.00267379679144\n",
        "  feature importances: [ 0.00951139  0.0091903   0.00872376  0.01013896  0.00983282  0.00895298\n",
        "  0.00941682  0.00943123  0.00938792  0.00955629  0.01041744  0.00965041\n",
        "  0.0101704   0.01080573  0.0099856   0.0110146   0.00983114  0.00930903\n",
        "  0.00921298  0.00958006  0.01117058  0.00931824  0.00930027  0.01062045\n",
        "  0.00913247  0.00965567  0.01005721  0.01082923  0.00985195  0.00906473\n",
        "  0.01025127  0.01083405  0.00912788  0.01094459  0.00848853  0.00935375\n",
        "  0.00963329  0.00934605  0.01033855  0.00971639  0.01003302  0.01002854\n",
        "  0.01089395  0.01005789  0.01112256  0.00960908  0.01165964  0.0097139\n",
        "  0.01012782  0.01017587  0.01055612  0.00959685  0.01005491  0.00957575\n",
        "  0.01046898  0.01027986  0.01071695  0.00993434  0.00907592  0.00999748\n",
        "  0.01068659  0.01004952  0.01029528  0.01000926  0.00921259  0.01162587\n",
        "  0.00972904  0.00988637  0.00997543  0.0094943   0.01101975  0.01028348\n",
        "  0.01025143  0.01046508  0.00993008  0.01002518  0.01064096  0.00915326\n",
        "  0.00978028  0.01009089  0.01029551  0.01179032  0.00927317  0.00977953\n",
        "  0.0097266   0.00986832  0.01006686  0.01052998  0.01062105  0.01033997\n",
        "  0.01028904  0.00944114  0.00988032  0.01047955  0.00950514  0.00979761\n",
        "  0.01058672  0.0106441   0.01005587  0.00959009]\n",
        "run 10 of 10"
       ]
      },
      {
       "output_type": "stream",
       "stream": "stdout",
       "text": [
        "\n",
        "train precision: 1.0"
       ]
      },
      {
       "output_type": "stream",
       "stream": "stdout",
       "text": [
        "\n",
        "train recall:    0.984287317621\n",
        "test precision: 0.0769230769231\n",
        "test recall:    0.00104876769795\n",
        "  feature importances: [ 0.00843029  0.00944574  0.00881819  0.00919313  0.00915254  0.00948943\n",
        "  0.00966052  0.00925422  0.00969645  0.00918278  0.00923352  0.00905962\n",
        "  0.01052338  0.00988499  0.00965168  0.01134189  0.00990723  0.00912705\n",
        "  0.01108211  0.01188196  0.01120624  0.00996112  0.00946037  0.01105134\n",
        "  0.00987877  0.01034734  0.00965092  0.0096007   0.01072482  0.00996\n",
        "  0.01058817  0.01065769  0.01066878  0.00926173  0.0093934   0.01045546\n",
        "  0.01038899  0.00937109  0.01046491  0.01001567  0.01040412  0.00935747\n",
        "  0.01073098  0.01125215  0.00949429  0.0098285   0.00966601  0.00917694\n",
        "  0.01143928  0.00988667  0.00936941  0.01017699  0.01026458  0.00935887\n",
        "  0.00907088  0.009902    0.0096153   0.00903913  0.00991308  0.00954656\n",
        "  0.00940616  0.01037262  0.00950997  0.01007046  0.00963493  0.00996969\n",
        "  0.00953561  0.01014898  0.00907995  0.01123354  0.01207635  0.01126145\n",
        "  0.01036979  0.0109328   0.01051836  0.009887    0.01065462  0.00976833\n",
        "  0.01043513  0.00871291  0.01103505  0.01025622  0.01074964  0.01016545\n",
        "  0.01101647  0.00836113  0.01027148  0.0103185   0.01058857  0.01071517\n",
        "  0.01014118  0.01011416  0.00972602  0.00973845  0.00911272  0.01017277\n",
        "  0.01059951  0.00864996  0.00990855  0.01016293]\n",
        "precision: 0.073275862069"
       ]
      },
      {
       "output_type": "stream",
       "stream": "stdout",
       "text": [
        "\n",
        "recall:    0.000921209493877\n"
       ]
      },
      {
       "html": [
        "<div style=\"max-height:1000px;max-width:1500px;overflow:auto;\">\n",
        "<table border=\"1\" class=\"dataframe\">\n",
        "  <thead>\n",
        "    <tr style=\"text-align: right;\">\n",
        "      <th></th>\n",
        "      <th>predicted negative</th>\n",
        "      <th>predicted positive</th>\n",
        "    </tr>\n",
        "  </thead>\n",
        "  <tbody>\n",
        "    <tr>\n",
        "      <th>negative</th>\n",
        "      <td> 351871</td>\n",
        "      <td> 215</td>\n",
        "    </tr>\n",
        "    <tr>\n",
        "      <th>positive</th>\n",
        "      <td>  18437</td>\n",
        "      <td>  17</td>\n",
        "    </tr>\n",
        "  </tbody>\n",
        "</table>\n",
        "</div>"
       ],
       "metadata": {},
       "output_type": "pyout",
       "prompt_number": 47,
       "text": [
        "          predicted negative  predicted positive\n",
        "negative              351871                 215\n",
        "positive               18437                  17"
       ]
      },
      {
       "metadata": {},
       "output_type": "display_data",
       "png": "[encoded data removed]",
       "text": [
        "<matplotlib.figure.Figure at 0x15e4eee90>"
       ]
      },
      {
       "metadata": {},
       "output_type": "display_data",
       "png": "[encoded data removed]",
       "text": [
        "<matplotlib.figure.Figure at 0x1635a7bd0>"
       ]
      }
     ],
     "prompt_number": 47
    }
   ],
   "metadata": {}
  }
 ]
}
